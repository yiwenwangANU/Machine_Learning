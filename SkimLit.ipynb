{
  "nbformat": 4,
  "nbformat_minor": 0,
  "metadata": {
    "colab": {
      "name": "SkimLit.ipynb",
      "provenance": [],
      "authorship_tag": "ABX9TyOdk+xtCaH5vvaQF75d5lQT",
      "include_colab_link": true
    },
    "kernelspec": {
      "name": "python3",
      "display_name": "Python 3"
    },
    "language_info": {
      "name": "python"
    }
  },
  "cells": [
    {
      "cell_type": "markdown",
      "metadata": {
        "id": "view-in-github",
        "colab_type": "text"
      },
      "source": [
        "<a href=\"https://colab.research.google.com/github/yiwenwangANU/Machine_Learning/blob/main/SkimLit.ipynb\" target=\"_parent\"><img src=\"https://colab.research.google.com/assets/colab-badge.svg\" alt=\"Open In Colab\"/></a>"
      ]
    },
    {
      "cell_type": "markdown",
      "source": [
        "#Download Data"
      ],
      "metadata": {
        "id": "F2dgaQ8tL2FN"
      }
    },
    {
      "cell_type": "code",
      "execution_count": 8,
      "metadata": {
        "colab": {
          "base_uri": "https://localhost:8080/"
        },
        "id": "kevkVl5MvHuQ",
        "outputId": "9b6a80e7-943c-4687-f960-2caecebe74bf"
      },
      "outputs": [
        {
          "output_type": "stream",
          "name": "stdout",
          "text": [
            "Cloning into 'pubmed-rct'...\n",
            "remote: Enumerating objects: 33, done.\u001b[K\n",
            "remote: Counting objects: 100% (8/8), done.\u001b[K\n",
            "remote: Compressing objects: 100% (3/3), done.\u001b[K\n",
            "remote: Total 33 (delta 5), reused 5 (delta 5), pack-reused 25\u001b[K\n",
            "Unpacking objects: 100% (33/33), done.\n",
            "Checking out files: 100% (13/13), done.\n"
          ]
        }
      ],
      "source": [
        "!git clone https://github.com/Franck-Dernoncourt/pubmed-rct.git"
      ]
    },
    {
      "cell_type": "markdown",
      "source": [
        "#Explore and preprocess the data"
      ],
      "metadata": {
        "id": "dYXNlbrjL87_"
      }
    },
    {
      "cell_type": "code",
      "source": [
        "!ls pubmed-rct"
      ],
      "metadata": {
        "colab": {
          "base_uri": "https://localhost:8080/"
        },
        "id": "SEnX3tiuvky8",
        "outputId": "cfa0973e-bdc0-47a2-ae62-9984388f506b"
      },
      "execution_count": 9,
      "outputs": [
        {
          "output_type": "stream",
          "name": "stdout",
          "text": [
            "PubMed_200k_RCT\n",
            "PubMed_200k_RCT_numbers_replaced_with_at_sign\n",
            "PubMed_20k_RCT\n",
            "PubMed_20k_RCT_numbers_replaced_with_at_sign\n",
            "README.md\n"
          ]
        }
      ]
    },
    {
      "cell_type": "code",
      "source": [
        "!ls pubmed-rct/PubMed_20k_RCT_numbers_replaced_with_at_sign"
      ],
      "metadata": {
        "colab": {
          "base_uri": "https://localhost:8080/"
        },
        "id": "ivLJnENdvnfy",
        "outputId": "ee61ac0d-7144-4bd5-8eeb-3e376ca7f730"
      },
      "execution_count": 10,
      "outputs": [
        {
          "output_type": "stream",
          "name": "stdout",
          "text": [
            "dev.txt  test.txt  train.txt\n"
          ]
        }
      ]
    },
    {
      "cell_type": "code",
      "source": [
        "def read_txt(dir):\n",
        "  with open(dir, 'r') as f:\n",
        "    return f.readlines()"
      ],
      "metadata": {
        "id": "cw4mLCt8Go16"
      },
      "execution_count": 11,
      "outputs": []
    },
    {
      "cell_type": "markdown",
      "source": [
        "###Setup train_dir, test_dir"
      ],
      "metadata": {
        "id": "niXQArd1MKCw"
      }
    },
    {
      "cell_type": "code",
      "source": [
        "train_dir = 'pubmed-rct/PubMed_20k_RCT_numbers_replaced_with_at_sign/train.txt'\n",
        "val_dir = 'pubmed-rct/PubMed_20k_RCT_numbers_replaced_with_at_sign/dev.txt'\n",
        "test_dir = 'pubmed-rct/PubMed_20k_RCT_numbers_replaced_with_at_sign/test.txt'"
      ],
      "metadata": {
        "id": "cLT5BJ1LSdbH"
      },
      "execution_count": 12,
      "outputs": []
    },
    {
      "cell_type": "code",
      "source": [
        "data_train = read_txt('pubmed-rct/PubMed_20k_RCT_numbers_replaced_with_at_sign/train.txt')"
      ],
      "metadata": {
        "id": "WhPOhaY5wFW8"
      },
      "execution_count": 13,
      "outputs": []
    },
    {
      "cell_type": "code",
      "source": [
        "data_train[:14]"
      ],
      "metadata": {
        "colab": {
          "base_uri": "https://localhost:8080/"
        },
        "id": "XeYxahw_w7L3",
        "outputId": "33998a60-824a-4851-877f-ef802217126f"
      },
      "execution_count": 14,
      "outputs": [
        {
          "output_type": "execute_result",
          "data": {
            "text/plain": [
              "['###24293578\\n',\n",
              " 'OBJECTIVE\\tTo investigate the efficacy of @ weeks of daily low-dose oral prednisolone in improving pain , mobility , and systemic low-grade inflammation in the short term and whether the effect would be sustained at @ weeks in older adults with moderate to severe knee osteoarthritis ( OA ) .\\n',\n",
              " 'METHODS\\tA total of @ patients with primary knee OA were randomized @:@ ; @ received @ mg/day of prednisolone and @ received placebo for @ weeks .\\n',\n",
              " 'METHODS\\tOutcome measures included pain reduction and improvement in function scores and systemic inflammation markers .\\n',\n",
              " 'METHODS\\tPain was assessed using the visual analog pain scale ( @-@ mm ) .\\n',\n",
              " 'METHODS\\tSecondary outcome measures included the Western Ontario and McMaster Universities Osteoarthritis Index scores , patient global assessment ( PGA ) of the severity of knee OA , and @-min walk distance ( @MWD ) .\\n',\n",
              " 'METHODS\\tSerum levels of interleukin @ ( IL-@ ) , IL-@ , tumor necrosis factor ( TNF ) - , and high-sensitivity C-reactive protein ( hsCRP ) were measured .\\n',\n",
              " 'RESULTS\\tThere was a clinically relevant reduction in the intervention group compared to the placebo group for knee pain , physical function , PGA , and @MWD at @ weeks .\\n',\n",
              " 'RESULTS\\tThe mean difference between treatment arms ( @ % CI ) was @ ( @-@ @ ) , p < @ ; @ ( @-@ @ ) , p < @ ; @ ( @-@ @ ) , p < @ ; and @ ( @-@ @ ) , p < @ , respectively .\\n',\n",
              " 'RESULTS\\tFurther , there was a clinically relevant reduction in the serum levels of IL-@ , IL-@ , TNF - , and hsCRP at @ weeks in the intervention group when compared to the placebo group .\\n',\n",
              " 'RESULTS\\tThese differences remained significant at @ weeks .\\n',\n",
              " 'RESULTS\\tThe Outcome Measures in Rheumatology Clinical Trials-Osteoarthritis Research Society International responder rate was @ % in the intervention group and @ % in the placebo group ( p < @ ) .\\n',\n",
              " 'CONCLUSIONS\\tLow-dose oral prednisolone had both a short-term and a longer sustained effect resulting in less knee pain , better physical function , and attenuation of systemic inflammation in older patients with knee OA ( ClinicalTrials.gov identifier NCT@ ) .\\n',\n",
              " '\\n']"
            ]
          },
          "metadata": {},
          "execution_count": 14
        }
      ]
    },
    {
      "cell_type": "code",
      "source": [
        "data_train[-10:]"
      ],
      "metadata": {
        "colab": {
          "base_uri": "https://localhost:8080/"
        },
        "id": "Ogx_T7FZwvU9",
        "outputId": "0d2b7030-4af9-4c69-fc09-3a82fedab223"
      },
      "execution_count": 15,
      "outputs": [
        {
          "output_type": "execute_result",
          "data": {
            "text/plain": [
              "['METHODS\\tEligible patients who underwent PCI were randomly assigned to atorvastatin alone or atorvastatin plus ezetimibe ( @ mg ) daily .\\n',\n",
              " 'METHODS\\tAtorvastatin was uptitrated with a treatment goal of low-density lipoprotein cholesterol ( LDL-C ) < @ mg/dl .\\n',\n",
              " 'METHODS\\tSerial volumetric intravascular ultrasound was performed at baseline and again at @ to @ months to quantify the coronary plaque response in @ patients .\\n',\n",
              " 'RESULTS\\tThe combination of atorvastatin/ezetimibe resulted in lower levels of LDL-C than atorvastatin monotherapy ( @ @ mg/dl vs. @ @ mg/dl ; p < @ ) .\\n',\n",
              " 'RESULTS\\tFor the absolute change in percent atheroma volume ( PAV ) , themean difference between the @ groups ( -@ % ; @ % confidence interval -LSB- CI -RSB- : -@ % to @ % ) did not exceedthe pre-defined noninferiority margin of @ % , but the absolute change in PAV did show superiority for the dual lipid-lowering strategy ( -@ % ; @ % CI : -@ % to -@ % vs. -@ % ; @ % CI : -@ % to @ % with atorvastatin alone ; p = @ ) .\\n',\n",
              " 'RESULTS\\tFor PAV , a significantly greater percentage of patients who received atorvastatin/ezetimibe showed coronary plaque regression ( @ % vs. @ % ; p = @ ) .\\n',\n",
              " 'RESULTS\\tBoth strategies had acceptable side effect profiles , with a low incidence oflaboratory abnormalities and cardiovascular events .\\n',\n",
              " 'CONCLUSIONS\\tCompared with standard statin monotherapy , the combination of statin plus ezetimibe showed greater coronary plaque regression , which might be attributed to cholesterol absorption inhibition-induced aggressive lipid lowering .\\n',\n",
              " 'CONCLUSIONS\\t( Plaque Regression With Cholesterol Absorption Inhibitor or Synthesis Inhibitor Evaluated by Intravascular Ultrasound -LSB- PRECISE-IVUS -RSB- ; NCT@ ) .\\n',\n",
              " '\\n']"
            ]
          },
          "metadata": {},
          "execution_count": 15
        }
      ]
    },
    {
      "cell_type": "markdown",
      "source": [
        "###Put data in a more readable form(Pandas DataFrame)"
      ],
      "metadata": {
        "id": "RbxU3a31MQp4"
      }
    },
    {
      "cell_type": "code",
      "source": [
        "def sort_article(data):\n",
        "  data_list = []\n",
        "  article = []\n",
        "  for line in data:\n",
        "    article.append(line)\n",
        "    if line.isspace():\n",
        "      data_list.append(article)\n",
        "      article = []\n",
        "  return data_list"
      ],
      "metadata": {
        "id": "4ac_MAQrHInD"
      },
      "execution_count": 16,
      "outputs": []
    },
    {
      "cell_type": "code",
      "source": [
        "def preprocess_to_dic_list(data_dir):\n",
        "  data = read_txt(data_dir)\n",
        "  data_list = sort_article(data)\n",
        "\n",
        "  data_dir_list = []\n",
        "  for article in data_list:\n",
        "    for i, line in enumerate(article[1:len(article)-1]):\n",
        "      ele = {}\n",
        "      line_split = line.split('\\t')\n",
        "      ele['target'] = line_split[0]\n",
        "      ele['text'] = line_split[1].strip()\n",
        "      ele['total_lines'] = len(article)-3\n",
        "      ele['line_number'] = i\n",
        "      data_dir_list.append(ele)\n",
        "  return data_dir_list"
      ],
      "metadata": {
        "id": "h-QqwwoRCZUd"
      },
      "execution_count": 17,
      "outputs": []
    },
    {
      "cell_type": "code",
      "source": [
        "%%time\n",
        "train_list = preprocess_to_dic_list(train_dir)\n",
        "val_list = preprocess_to_dic_list(val_dir)\n",
        "test_list = preprocess_to_dic_list(test_dir)"
      ],
      "metadata": {
        "colab": {
          "base_uri": "https://localhost:8080/"
        },
        "id": "_s1aH-ttC0u0",
        "outputId": "56d3c9ef-643b-47be-851c-942903c2b10a"
      },
      "execution_count": 18,
      "outputs": [
        {
          "output_type": "stream",
          "name": "stdout",
          "text": [
            "CPU times: user 586 ms, sys: 150 ms, total: 735 ms\n",
            "Wall time: 776 ms\n"
          ]
        }
      ]
    },
    {
      "cell_type": "code",
      "source": [
        "train_list[:15]"
      ],
      "metadata": {
        "id": "S1QyP4gV7d8i",
        "colab": {
          "base_uri": "https://localhost:8080/"
        },
        "outputId": "25c999f3-a83b-497c-f4af-12cd18d7df15"
      },
      "execution_count": 19,
      "outputs": [
        {
          "output_type": "execute_result",
          "data": {
            "text/plain": [
              "[{'line_number': 0,\n",
              "  'target': 'OBJECTIVE',\n",
              "  'text': 'To investigate the efficacy of @ weeks of daily low-dose oral prednisolone in improving pain , mobility , and systemic low-grade inflammation in the short term and whether the effect would be sustained at @ weeks in older adults with moderate to severe knee osteoarthritis ( OA ) .',\n",
              "  'total_lines': 11},\n",
              " {'line_number': 1,\n",
              "  'target': 'METHODS',\n",
              "  'text': 'A total of @ patients with primary knee OA were randomized @:@ ; @ received @ mg/day of prednisolone and @ received placebo for @ weeks .',\n",
              "  'total_lines': 11},\n",
              " {'line_number': 2,\n",
              "  'target': 'METHODS',\n",
              "  'text': 'Outcome measures included pain reduction and improvement in function scores and systemic inflammation markers .',\n",
              "  'total_lines': 11},\n",
              " {'line_number': 3,\n",
              "  'target': 'METHODS',\n",
              "  'text': 'Pain was assessed using the visual analog pain scale ( @-@ mm ) .',\n",
              "  'total_lines': 11},\n",
              " {'line_number': 4,\n",
              "  'target': 'METHODS',\n",
              "  'text': 'Secondary outcome measures included the Western Ontario and McMaster Universities Osteoarthritis Index scores , patient global assessment ( PGA ) of the severity of knee OA , and @-min walk distance ( @MWD ) .',\n",
              "  'total_lines': 11},\n",
              " {'line_number': 5,\n",
              "  'target': 'METHODS',\n",
              "  'text': 'Serum levels of interleukin @ ( IL-@ ) , IL-@ , tumor necrosis factor ( TNF ) - , and high-sensitivity C-reactive protein ( hsCRP ) were measured .',\n",
              "  'total_lines': 11},\n",
              " {'line_number': 6,\n",
              "  'target': 'RESULTS',\n",
              "  'text': 'There was a clinically relevant reduction in the intervention group compared to the placebo group for knee pain , physical function , PGA , and @MWD at @ weeks .',\n",
              "  'total_lines': 11},\n",
              " {'line_number': 7,\n",
              "  'target': 'RESULTS',\n",
              "  'text': 'The mean difference between treatment arms ( @ % CI ) was @ ( @-@ @ ) , p < @ ; @ ( @-@ @ ) , p < @ ; @ ( @-@ @ ) , p < @ ; and @ ( @-@ @ ) , p < @ , respectively .',\n",
              "  'total_lines': 11},\n",
              " {'line_number': 8,\n",
              "  'target': 'RESULTS',\n",
              "  'text': 'Further , there was a clinically relevant reduction in the serum levels of IL-@ , IL-@ , TNF - , and hsCRP at @ weeks in the intervention group when compared to the placebo group .',\n",
              "  'total_lines': 11},\n",
              " {'line_number': 9,\n",
              "  'target': 'RESULTS',\n",
              "  'text': 'These differences remained significant at @ weeks .',\n",
              "  'total_lines': 11},\n",
              " {'line_number': 10,\n",
              "  'target': 'RESULTS',\n",
              "  'text': 'The Outcome Measures in Rheumatology Clinical Trials-Osteoarthritis Research Society International responder rate was @ % in the intervention group and @ % in the placebo group ( p < @ ) .',\n",
              "  'total_lines': 11},\n",
              " {'line_number': 11,\n",
              "  'target': 'CONCLUSIONS',\n",
              "  'text': 'Low-dose oral prednisolone had both a short-term and a longer sustained effect resulting in less knee pain , better physical function , and attenuation of systemic inflammation in older patients with knee OA ( ClinicalTrials.gov identifier NCT@ ) .',\n",
              "  'total_lines': 11},\n",
              " {'line_number': 0,\n",
              "  'target': 'BACKGROUND',\n",
              "  'text': 'Emotional eating is associated with overeating and the development of obesity .',\n",
              "  'total_lines': 10},\n",
              " {'line_number': 1,\n",
              "  'target': 'BACKGROUND',\n",
              "  'text': 'Yet , empirical evidence for individual ( trait ) differences in emotional eating and cognitive mechanisms that contribute to eating during sad mood remain equivocal .',\n",
              "  'total_lines': 10},\n",
              " {'line_number': 2,\n",
              "  'target': 'OBJECTIVE',\n",
              "  'text': 'The aim of this study was to test if attention bias for food moderates the effect of self-reported emotional eating during sad mood ( vs neutral mood ) on actual food intake .',\n",
              "  'total_lines': 10}]"
            ]
          },
          "metadata": {},
          "execution_count": 19
        }
      ]
    },
    {
      "cell_type": "code",
      "source": [
        "import pandas as pd\n",
        "\n",
        "train_df = pd.DataFrame(train_list)\n",
        "val_df = pd.DataFrame(val_list)\n",
        "test_df = pd.DataFrame(test_list)\n",
        "train_df"
      ],
      "metadata": {
        "colab": {
          "base_uri": "https://localhost:8080/",
          "height": 424
        },
        "id": "AaH7HrzoSpfU",
        "outputId": "d8b76da3-f08c-4afb-fa35-0eeaa4e67325"
      },
      "execution_count": 20,
      "outputs": [
        {
          "output_type": "execute_result",
          "data": {
            "text/plain": [
              "             target                                               text  \\\n",
              "0         OBJECTIVE  To investigate the efficacy of @ weeks of dail...   \n",
              "1           METHODS  A total of @ patients with primary knee OA wer...   \n",
              "2           METHODS  Outcome measures included pain reduction and i...   \n",
              "3           METHODS  Pain was assessed using the visual analog pain...   \n",
              "4           METHODS  Secondary outcome measures included the Wester...   \n",
              "...             ...                                                ...   \n",
              "180035      RESULTS  For the absolute change in percent atheroma vo...   \n",
              "180036      RESULTS  For PAV , a significantly greater percentage o...   \n",
              "180037      RESULTS  Both strategies had acceptable side effect pro...   \n",
              "180038  CONCLUSIONS  Compared with standard statin monotherapy , th...   \n",
              "180039  CONCLUSIONS  ( Plaque Regression With Cholesterol Absorptio...   \n",
              "\n",
              "        total_lines  line_number  \n",
              "0                11            0  \n",
              "1                11            1  \n",
              "2                11            2  \n",
              "3                11            3  \n",
              "4                11            4  \n",
              "...             ...          ...  \n",
              "180035           11            7  \n",
              "180036           11            8  \n",
              "180037           11            9  \n",
              "180038           11           10  \n",
              "180039           11           11  \n",
              "\n",
              "[180040 rows x 4 columns]"
            ],
            "text/html": [
              "\n",
              "  <div id=\"df-54571ba3-e053-4319-ab5b-54d4382408eb\">\n",
              "    <div class=\"colab-df-container\">\n",
              "      <div>\n",
              "<style scoped>\n",
              "    .dataframe tbody tr th:only-of-type {\n",
              "        vertical-align: middle;\n",
              "    }\n",
              "\n",
              "    .dataframe tbody tr th {\n",
              "        vertical-align: top;\n",
              "    }\n",
              "\n",
              "    .dataframe thead th {\n",
              "        text-align: right;\n",
              "    }\n",
              "</style>\n",
              "<table border=\"1\" class=\"dataframe\">\n",
              "  <thead>\n",
              "    <tr style=\"text-align: right;\">\n",
              "      <th></th>\n",
              "      <th>target</th>\n",
              "      <th>text</th>\n",
              "      <th>total_lines</th>\n",
              "      <th>line_number</th>\n",
              "    </tr>\n",
              "  </thead>\n",
              "  <tbody>\n",
              "    <tr>\n",
              "      <th>0</th>\n",
              "      <td>OBJECTIVE</td>\n",
              "      <td>To investigate the efficacy of @ weeks of dail...</td>\n",
              "      <td>11</td>\n",
              "      <td>0</td>\n",
              "    </tr>\n",
              "    <tr>\n",
              "      <th>1</th>\n",
              "      <td>METHODS</td>\n",
              "      <td>A total of @ patients with primary knee OA wer...</td>\n",
              "      <td>11</td>\n",
              "      <td>1</td>\n",
              "    </tr>\n",
              "    <tr>\n",
              "      <th>2</th>\n",
              "      <td>METHODS</td>\n",
              "      <td>Outcome measures included pain reduction and i...</td>\n",
              "      <td>11</td>\n",
              "      <td>2</td>\n",
              "    </tr>\n",
              "    <tr>\n",
              "      <th>3</th>\n",
              "      <td>METHODS</td>\n",
              "      <td>Pain was assessed using the visual analog pain...</td>\n",
              "      <td>11</td>\n",
              "      <td>3</td>\n",
              "    </tr>\n",
              "    <tr>\n",
              "      <th>4</th>\n",
              "      <td>METHODS</td>\n",
              "      <td>Secondary outcome measures included the Wester...</td>\n",
              "      <td>11</td>\n",
              "      <td>4</td>\n",
              "    </tr>\n",
              "    <tr>\n",
              "      <th>...</th>\n",
              "      <td>...</td>\n",
              "      <td>...</td>\n",
              "      <td>...</td>\n",
              "      <td>...</td>\n",
              "    </tr>\n",
              "    <tr>\n",
              "      <th>180035</th>\n",
              "      <td>RESULTS</td>\n",
              "      <td>For the absolute change in percent atheroma vo...</td>\n",
              "      <td>11</td>\n",
              "      <td>7</td>\n",
              "    </tr>\n",
              "    <tr>\n",
              "      <th>180036</th>\n",
              "      <td>RESULTS</td>\n",
              "      <td>For PAV , a significantly greater percentage o...</td>\n",
              "      <td>11</td>\n",
              "      <td>8</td>\n",
              "    </tr>\n",
              "    <tr>\n",
              "      <th>180037</th>\n",
              "      <td>RESULTS</td>\n",
              "      <td>Both strategies had acceptable side effect pro...</td>\n",
              "      <td>11</td>\n",
              "      <td>9</td>\n",
              "    </tr>\n",
              "    <tr>\n",
              "      <th>180038</th>\n",
              "      <td>CONCLUSIONS</td>\n",
              "      <td>Compared with standard statin monotherapy , th...</td>\n",
              "      <td>11</td>\n",
              "      <td>10</td>\n",
              "    </tr>\n",
              "    <tr>\n",
              "      <th>180039</th>\n",
              "      <td>CONCLUSIONS</td>\n",
              "      <td>( Plaque Regression With Cholesterol Absorptio...</td>\n",
              "      <td>11</td>\n",
              "      <td>11</td>\n",
              "    </tr>\n",
              "  </tbody>\n",
              "</table>\n",
              "<p>180040 rows × 4 columns</p>\n",
              "</div>\n",
              "      <button class=\"colab-df-convert\" onclick=\"convertToInteractive('df-54571ba3-e053-4319-ab5b-54d4382408eb')\"\n",
              "              title=\"Convert this dataframe to an interactive table.\"\n",
              "              style=\"display:none;\">\n",
              "        \n",
              "  <svg xmlns=\"http://www.w3.org/2000/svg\" height=\"24px\"viewBox=\"0 0 24 24\"\n",
              "       width=\"24px\">\n",
              "    <path d=\"M0 0h24v24H0V0z\" fill=\"none\"/>\n",
              "    <path d=\"M18.56 5.44l.94 2.06.94-2.06 2.06-.94-2.06-.94-.94-2.06-.94 2.06-2.06.94zm-11 1L8.5 8.5l.94-2.06 2.06-.94-2.06-.94L8.5 2.5l-.94 2.06-2.06.94zm10 10l.94 2.06.94-2.06 2.06-.94-2.06-.94-.94-2.06-.94 2.06-2.06.94z\"/><path d=\"M17.41 7.96l-1.37-1.37c-.4-.4-.92-.59-1.43-.59-.52 0-1.04.2-1.43.59L10.3 9.45l-7.72 7.72c-.78.78-.78 2.05 0 2.83L4 21.41c.39.39.9.59 1.41.59.51 0 1.02-.2 1.41-.59l7.78-7.78 2.81-2.81c.8-.78.8-2.07 0-2.86zM5.41 20L4 18.59l7.72-7.72 1.47 1.35L5.41 20z\"/>\n",
              "  </svg>\n",
              "      </button>\n",
              "      \n",
              "  <style>\n",
              "    .colab-df-container {\n",
              "      display:flex;\n",
              "      flex-wrap:wrap;\n",
              "      gap: 12px;\n",
              "    }\n",
              "\n",
              "    .colab-df-convert {\n",
              "      background-color: #E8F0FE;\n",
              "      border: none;\n",
              "      border-radius: 50%;\n",
              "      cursor: pointer;\n",
              "      display: none;\n",
              "      fill: #1967D2;\n",
              "      height: 32px;\n",
              "      padding: 0 0 0 0;\n",
              "      width: 32px;\n",
              "    }\n",
              "\n",
              "    .colab-df-convert:hover {\n",
              "      background-color: #E2EBFA;\n",
              "      box-shadow: 0px 1px 2px rgba(60, 64, 67, 0.3), 0px 1px 3px 1px rgba(60, 64, 67, 0.15);\n",
              "      fill: #174EA6;\n",
              "    }\n",
              "\n",
              "    [theme=dark] .colab-df-convert {\n",
              "      background-color: #3B4455;\n",
              "      fill: #D2E3FC;\n",
              "    }\n",
              "\n",
              "    [theme=dark] .colab-df-convert:hover {\n",
              "      background-color: #434B5C;\n",
              "      box-shadow: 0px 1px 3px 1px rgba(0, 0, 0, 0.15);\n",
              "      filter: drop-shadow(0px 1px 2px rgba(0, 0, 0, 0.3));\n",
              "      fill: #FFFFFF;\n",
              "    }\n",
              "  </style>\n",
              "\n",
              "      <script>\n",
              "        const buttonEl =\n",
              "          document.querySelector('#df-54571ba3-e053-4319-ab5b-54d4382408eb button.colab-df-convert');\n",
              "        buttonEl.style.display =\n",
              "          google.colab.kernel.accessAllowed ? 'block' : 'none';\n",
              "\n",
              "        async function convertToInteractive(key) {\n",
              "          const element = document.querySelector('#df-54571ba3-e053-4319-ab5b-54d4382408eb');\n",
              "          const dataTable =\n",
              "            await google.colab.kernel.invokeFunction('convertToInteractive',\n",
              "                                                     [key], {});\n",
              "          if (!dataTable) return;\n",
              "\n",
              "          const docLinkHtml = 'Like what you see? Visit the ' +\n",
              "            '<a target=\"_blank\" href=https://colab.research.google.com/notebooks/data_table.ipynb>data table notebook</a>'\n",
              "            + ' to learn more about interactive tables.';\n",
              "          element.innerHTML = '';\n",
              "          dataTable['output_type'] = 'display_data';\n",
              "          await google.colab.output.renderOutput(dataTable, element);\n",
              "          const docLink = document.createElement('div');\n",
              "          docLink.innerHTML = docLinkHtml;\n",
              "          element.appendChild(docLink);\n",
              "        }\n",
              "      </script>\n",
              "    </div>\n",
              "  </div>\n",
              "  "
            ]
          },
          "metadata": {},
          "execution_count": 20
        }
      ]
    },
    {
      "cell_type": "code",
      "source": [
        "import matplotlib.pyplot as plt\n",
        "\n",
        "plt.hist(train_df['target'])"
      ],
      "metadata": {
        "colab": {
          "base_uri": "https://localhost:8080/",
          "height": 336
        },
        "id": "WyTt3KOrVfFc",
        "outputId": "a735d673-37c1-4ba9-aad9-c1b0f909b036"
      },
      "execution_count": 21,
      "outputs": [
        {
          "output_type": "execute_result",
          "data": {
            "text/plain": [
              "(array([13839.,     0., 59353.,     0.,     0., 57953.,     0., 27168.,\n",
              "            0., 21727.]),\n",
              " array([0. , 0.4, 0.8, 1.2, 1.6, 2. , 2.4, 2.8, 3.2, 3.6, 4. ]),\n",
              " <a list of 10 Patch objects>)"
            ]
          },
          "metadata": {},
          "execution_count": 21
        },
        {
          "output_type": "display_data",
          "data": {
            "text/plain": [
              "<Figure size 432x288 with 1 Axes>"
            ],
            "image/png": "[encoded data removed]"
          },
          "metadata": {
            "needs_background": "light"
          }
        }
      ]
    },
    {
      "cell_type": "code",
      "source": [
        "plt.hist(train_df['total_lines'])"
      ],
      "metadata": {
        "colab": {
          "base_uri": "https://localhost:8080/",
          "height": 338
        },
        "id": "XMtKUh1yWRFu",
        "outputId": "0bf79ca0-2054-4c36-bcae-db1e35e6f5ff"
      },
      "execution_count": 22,
      "outputs": [
        {
          "output_type": "execute_result",
          "data": {
            "text/plain": [
              "(array([ 1393., 23102., 67507., 40551., 32807., 11026.,  2051.,  1223.,\n",
              "          291.,    89.]),\n",
              " array([ 3. ,  5.7,  8.4, 11.1, 13.8, 16.5, 19.2, 21.9, 24.6, 27.3, 30. ]),\n",
              " <a list of 10 Patch objects>)"
            ]
          },
          "metadata": {},
          "execution_count": 22
        },
        {
          "output_type": "display_data",
          "data": {
            "text/plain": [
              "<Figure size 432x288 with 1 Axes>"
            ],
            "image/png": "[encoded data removed]"
          },
          "metadata": {
            "needs_background": "light"
          }
        }
      ]
    },
    {
      "cell_type": "markdown",
      "source": [
        "###Setup training set and testing set"
      ],
      "metadata": {
        "id": "58cOgIvRMZ17"
      }
    },
    {
      "cell_type": "code",
      "source": [
        "X_train = train_df['text'].to_list()\n",
        "X_val = val_df['text'].to_list()\n",
        "X_test = test_df['text'].to_list()"
      ],
      "metadata": {
        "id": "Pvaoy8-vWpJ-"
      },
      "execution_count": 23,
      "outputs": []
    },
    {
      "cell_type": "markdown",
      "source": [
        "###Label encode the target"
      ],
      "metadata": {
        "id": "5rzZtf2uTA5C"
      }
    },
    {
      "cell_type": "code",
      "source": [
        "from sklearn import preprocessing\n",
        "\n",
        "le = preprocessing.LabelEncoder()\n",
        "train_label_encoded = le.fit_transform(train_df['target'].to_list())\n",
        "val_label_encoded = le.fit_transform(val_df['target'].to_list())\n",
        "test_label_encoded = le.fit_transform(test_df['target'].to_list())"
      ],
      "metadata": {
        "id": "4NMVkj-SLdu3"
      },
      "execution_count": 24,
      "outputs": []
    },
    {
      "cell_type": "code",
      "source": [
        "plt.hist(train_label_encoded)"
      ],
      "metadata": {
        "colab": {
          "base_uri": "https://localhost:8080/",
          "height": 336
        },
        "id": "wDjrXazqOouQ",
        "outputId": "995193f2-5784-402d-9d2e-ce52cf07ac07"
      },
      "execution_count": 25,
      "outputs": [
        {
          "output_type": "execute_result",
          "data": {
            "text/plain": [
              "(array([21727.,     0., 27168.,     0.,     0., 59353.,     0., 13839.,\n",
              "            0., 57953.]),\n",
              " array([0. , 0.4, 0.8, 1.2, 1.6, 2. , 2.4, 2.8, 3.2, 3.6, 4. ]),\n",
              " <a list of 10 Patch objects>)"
            ]
          },
          "metadata": {},
          "execution_count": 25
        },
        {
          "output_type": "display_data",
          "data": {
            "text/plain": [
              "<Figure size 432x288 with 1 Axes>"
            ],
            "image/png": "[encoded data removed]"
          },
          "metadata": {
            "needs_background": "light"
          }
        }
      ]
    },
    {
      "cell_type": "markdown",
      "source": [
        "###One hot encode the target"
      ],
      "metadata": {
        "id": "JzNrB8nfOtfL"
      }
    },
    {
      "cell_type": "code",
      "source": [
        "one_hot_encoder = preprocessing.OneHotEncoder(sparse=False)\n",
        "train_labels_one_hot = one_hot_encoder.fit_transform(train_df[\"target\"].to_numpy().reshape(-1, 1))\n",
        "val_labels_one_hot = one_hot_encoder.transform(val_df[\"target\"].to_numpy().reshape(-1, 1))\n",
        "test_labels_one_hot = one_hot_encoder.transform(test_df[\"target\"].to_numpy().reshape(-1, 1))"
      ],
      "metadata": {
        "id": "zwwD9okcTLSe"
      },
      "execution_count": 26,
      "outputs": []
    },
    {
      "cell_type": "code",
      "source": [
        "train_labels_one_hot"
      ],
      "metadata": {
        "colab": {
          "base_uri": "https://localhost:8080/"
        },
        "id": "5Of3tTJbTunS",
        "outputId": "5b583dc8-c8e4-4f4f-cf03-09a8900521f2"
      },
      "execution_count": 27,
      "outputs": [
        {
          "output_type": "execute_result",
          "data": {
            "text/plain": [
              "array([[0., 0., 0., 1., 0.],\n",
              "       [0., 0., 1., 0., 0.],\n",
              "       [0., 0., 1., 0., 0.],\n",
              "       ...,\n",
              "       [0., 0., 0., 0., 1.],\n",
              "       [0., 1., 0., 0., 0.],\n",
              "       [0., 1., 0., 0., 0.]])"
            ]
          },
          "metadata": {},
          "execution_count": 27
        }
      ]
    },
    {
      "cell_type": "markdown",
      "source": [
        "#Setup evaluation method"
      ],
      "metadata": {
        "id": "HrGSTf9UVapQ"
      }
    },
    {
      "cell_type": "code",
      "source": [
        "from sklearn.metrics import precision_recall_fscore_support\n",
        "from sklearn.metrics import accuracy_score\n",
        "\n",
        "def evaluate_results(y_true, y_pred):\n",
        "  model_accuracy = accuracy_score(y_true, y_pred)\n",
        "  model_precision, model_recall, model_fscore, _ = precision_recall_fscore_support(y_true, y_pred, average='weighted')\n",
        "  model_result = {'model_accuracy': model_accuracy,\n",
        "                  'model_precision': model_precision,\n",
        "                  'model_recall': model_recall,\n",
        "                  'model_fscore': model_fscore}\n",
        "  return model_result"
      ],
      "metadata": {
        "id": "OHud14WQVYoO"
      },
      "execution_count": 28,
      "outputs": []
    },
    {
      "cell_type": "markdown",
      "source": [
        "#Model 0: TFIDF"
      ],
      "metadata": {
        "id": "dtO0AJd2V6NK"
      }
    },
    {
      "cell_type": "code",
      "source": [
        "from sklearn.feature_extraction.text import TfidfVectorizer\n",
        "from sklearn.naive_bayes import MultinomialNB\n",
        "from sklearn.pipeline import Pipeline\n",
        "\n",
        "# Create tokenization and modelling pipeline\n",
        "model_0 = Pipeline([\n",
        "                    (\"tfidf\", TfidfVectorizer()), # convert words to numbers using tfidf\n",
        "                    (\"clf\", MultinomialNB()) # model the text\n",
        "])\n",
        "\n",
        "# Fit the pipeline to the training data\n",
        "model_0.fit(X_train, train_label_encoded)"
      ],
      "metadata": {
        "colab": {
          "base_uri": "https://localhost:8080/"
        },
        "id": "xLXq3Je4UqXX",
        "outputId": "62765660-a346-4177-8905-91c211f93155"
      },
      "execution_count": 29,
      "outputs": [
        {
          "output_type": "execute_result",
          "data": {
            "text/plain": [
              "Pipeline(steps=[('tfidf', TfidfVectorizer()), ('clf', MultinomialNB())])"
            ]
          },
          "metadata": {},
          "execution_count": 29
        }
      ]
    },
    {
      "cell_type": "code",
      "source": [
        "y_pred = model_0.predict(X_val)"
      ],
      "metadata": {
        "id": "z386W916VByU"
      },
      "execution_count": 30,
      "outputs": []
    },
    {
      "cell_type": "code",
      "source": [
        "evaluate_results(val_label_encoded, y_pred)"
      ],
      "metadata": {
        "colab": {
          "base_uri": "https://localhost:8080/"
        },
        "id": "8hypW7ihVLrI",
        "outputId": "30f83169-bc5d-443e-d158-9de6dfb3d54e"
      },
      "execution_count": 31,
      "outputs": [
        {
          "output_type": "execute_result",
          "data": {
            "text/plain": [
              "{'model_accuracy': 0.7218323844829869,\n",
              " 'model_fscore': 0.6989250353450294,\n",
              " 'model_precision': 0.7186466952323352,\n",
              " 'model_recall': 0.7218323844829869}"
            ]
          },
          "metadata": {},
          "execution_count": 31
        }
      ]
    },
    {
      "cell_type": "markdown",
      "source": [
        "#Set up text vectorization and Embedding for deep model"
      ],
      "metadata": {
        "id": "TWDgiPfrVNxP"
      }
    },
    {
      "cell_type": "code",
      "source": [
        "# Hist the length of sentences in training set\n",
        "import numpy as np\n",
        "\n",
        "sentences_length = [len(sentences.split()) for sentences in train_df['text'].to_list()]\n",
        "plt.hist(sentences_length)\n",
        "output_sen_len = int(np.percentile(sentences_length, 95))"
      ],
      "metadata": {
        "colab": {
          "base_uri": "https://localhost:8080/",
          "height": 265
        },
        "id": "Ew30YPllXLjv",
        "outputId": "e6db5607-b88b-45a9-bf65-4e88bcc2a509"
      },
      "execution_count": 32,
      "outputs": [
        {
          "output_type": "display_data",
          "data": {
            "text/plain": [
              "<Figure size 432x288 with 1 Axes>"
            ],
            "image/png": "[encoded data removed]"
          },
          "metadata": {
            "needs_background": "light"
          }
        }
      ]
    },
    {
      "cell_type": "code",
      "source": [
        "import tensorflow as tf\n",
        "from tensorflow.keras import layers\n",
        "\n",
        "max_tokens = 68000\n",
        "text_vectorizer = layers.TextVectorization(max_tokens=max_tokens,\n",
        "                                           output_sequence_length=output_sen_len)\n",
        "text_vectorizer.adapt(X_train)"
      ],
      "metadata": {
        "id": "7Ta01025WODr"
      },
      "execution_count": 33,
      "outputs": []
    },
    {
      "cell_type": "code",
      "source": [
        "text_vectorizer(X_train[0])"
      ],
      "metadata": {
        "colab": {
          "base_uri": "https://localhost:8080/"
        },
        "id": "IiikkdHGYyHK",
        "outputId": "4ff30ccf-aa5d-4acc-afdb-b369873c8101"
      },
      "execution_count": 34,
      "outputs": [
        {
          "output_type": "execute_result",
          "data": {
            "text/plain": [
              "<tf.Tensor: shape=(55,), dtype=int64, numpy=\n",
              "array([   6,  331,    2,   79,    4,   53,    4,  161, 1127,  217, 2535,\n",
              "          5,  557,   65, 1584,    3,  670, 5559,  636,    5,    2,  654,\n",
              "       1137,    3,  180,    2,   70,  495,   36,  781,   15,   53,    5,\n",
              "        350,  266,    7,  362,    6,  289,  517, 1430, 1743,    0,    0,\n",
              "          0,    0,    0,    0,    0,    0,    0,    0,    0,    0,    0])>"
            ]
          },
          "metadata": {},
          "execution_count": 34
        }
      ]
    },
    {
      "cell_type": "code",
      "source": [
        "X_train[0]"
      ],
      "metadata": {
        "colab": {
          "base_uri": "https://localhost:8080/",
          "height": 53
        },
        "id": "PXXIVt0YY4B0",
        "outputId": "c8e5a0c9-2643-4d6c-8d9a-59430d83de2f"
      },
      "execution_count": 35,
      "outputs": [
        {
          "output_type": "execute_result",
          "data": {
            "text/plain": [
              "'To investigate the efficacy of @ weeks of daily low-dose oral prednisolone in improving pain , mobility , and systemic low-grade inflammation in the short term and whether the effect would be sustained at @ weeks in older adults with moderate to severe knee osteoarthritis ( OA ) .'"
            ],
            "application/vnd.google.colaboratory.intrinsic+json": {
              "type": "string"
            }
          },
          "metadata": {},
          "execution_count": 35
        }
      ]
    },
    {
      "cell_type": "code",
      "source": [
        "text_vectorizer.get_vocabulary()[:5]"
      ],
      "metadata": {
        "colab": {
          "base_uri": "https://localhost:8080/"
        },
        "id": "uKWFQyE3Y8fY",
        "outputId": "e6aef062-3649-4cb3-97ae-7908c4878862"
      },
      "execution_count": 36,
      "outputs": [
        {
          "output_type": "execute_result",
          "data": {
            "text/plain": [
              "['', '[UNK]', 'the', 'and', 'of']"
            ]
          },
          "metadata": {},
          "execution_count": 36
        }
      ]
    },
    {
      "cell_type": "code",
      "source": [
        "text_vectorizer.get_vocabulary()[-5:]"
      ],
      "metadata": {
        "colab": {
          "base_uri": "https://localhost:8080/"
        },
        "id": "V3PpWpYiZFUX",
        "outputId": "1d2a7488-ded5-4ddc-f699-5bd652457330"
      },
      "execution_count": 37,
      "outputs": [
        {
          "output_type": "execute_result",
          "data": {
            "text/plain": [
              "['aainduced', 'aaigroup', 'aachener', 'aachen', 'aaacp']"
            ]
          },
          "metadata": {},
          "execution_count": 37
        }
      ]
    },
    {
      "cell_type": "code",
      "source": [
        "text_embedding = layers.Embedding(input_dim=len(text_vectorizer.get_vocabulary()),\n",
        "                                  output_dim=128,\n",
        "                                  mask_zero=True)"
      ],
      "metadata": {
        "id": "fAuexZ_YZUvR"
      },
      "execution_count": 38,
      "outputs": []
    },
    {
      "cell_type": "code",
      "source": [
        "text_embedding(text_vectorizer(X_train[0]))"
      ],
      "metadata": {
        "colab": {
          "base_uri": "https://localhost:8080/"
        },
        "id": "c0W94TucaslV",
        "outputId": "96656c69-f2c2-4a1a-e79f-ba518283241c"
      },
      "execution_count": 39,
      "outputs": [
        {
          "output_type": "execute_result",
          "data": {
            "text/plain": [
              "<tf.Tensor: shape=(55, 128), dtype=float32, numpy=\n",
              "array([[-0.01383573,  0.04672576, -0.04636563, ...,  0.027422  ,\n",
              "         0.00624744,  0.04546518],\n",
              "       [ 0.01047369,  0.02618051, -0.04702785, ..., -0.045937  ,\n",
              "        -0.0259673 , -0.00536559],\n",
              "       [ 0.03354095, -0.01235038, -0.00679634, ..., -0.01203375,\n",
              "        -0.03823432, -0.01016034],\n",
              "       ...,\n",
              "       [ 0.02708877, -0.03547185, -0.00090152, ..., -0.01801368,\n",
              "        -0.00677327,  0.01421756],\n",
              "       [ 0.02708877, -0.03547185, -0.00090152, ..., -0.01801368,\n",
              "        -0.00677327,  0.01421756],\n",
              "       [ 0.02708877, -0.03547185, -0.00090152, ..., -0.01801368,\n",
              "        -0.00677327,  0.01421756]], dtype=float32)>"
            ]
          },
          "metadata": {},
          "execution_count": 39
        }
      ]
    },
    {
      "cell_type": "markdown",
      "source": [
        "#Create dataset pipline"
      ],
      "metadata": {
        "id": "ZWXoeb4mazFt"
      }
    },
    {
      "cell_type": "code",
      "source": [
        "train_dataset = tf.data.Dataset.from_tensor_slices((X_train, train_labels_one_hot))\n",
        "val_dataset = tf.data.Dataset.from_tensor_slices((X_val, val_labels_one_hot))\n",
        "test_dataset = tf.data.Dataset.from_tensor_slices((X_test, test_labels_one_hot))"
      ],
      "metadata": {
        "id": "Sl7rumQYbXgK"
      },
      "execution_count": 40,
      "outputs": []
    },
    {
      "cell_type": "code",
      "source": [
        "train_dataset = train_dataset.batch(32).prefetch(tf.data.AUTOTUNE)\n",
        "val_dataset = val_dataset.batch(32).prefetch(tf.data.AUTOTUNE)\n",
        "test_dataset = test_dataset.batch(32).prefetch(tf.data.AUTOTUNE)"
      ],
      "metadata": {
        "id": "Rl9qc0wwcJbI"
      },
      "execution_count": 41,
      "outputs": []
    },
    {
      "cell_type": "code",
      "source": [
        "len(train_dataset)"
      ],
      "metadata": {
        "colab": {
          "base_uri": "https://localhost:8080/"
        },
        "id": "9uryWmRecP-_",
        "outputId": "11b7a866-4ab7-419a-9123-0cb9a1263f3a"
      },
      "execution_count": 42,
      "outputs": [
        {
          "output_type": "execute_result",
          "data": {
            "text/plain": [
              "5627"
            ]
          },
          "metadata": {},
          "execution_count": 42
        }
      ]
    },
    {
      "cell_type": "markdown",
      "source": [
        "#Model 1 Conv1D"
      ],
      "metadata": {
        "id": "ZHcCkyZSdEl6"
      }
    },
    {
      "cell_type": "code",
      "source": [
        "from tensorflow.keras import layers\n",
        "\n",
        "inputs = layers.Input(shape=(1,), dtype='string')\n",
        "x = text_vectorizer(inputs)\n",
        "x = text_embedding(x)\n",
        "x = layers.Conv1D(filters=64, kernel_size=5, padding='same', activation='relu')(x)\n",
        "x = layers.GlobalAveragePooling1D()(x)\n",
        "outputs = layers.Dense(len(one_hot_encoder.get_feature_names()), activation='softmax')(x)\n",
        "\n",
        "model_1 = tf.keras.Model(inputs, outputs)"
      ],
      "metadata": {
        "colab": {
          "base_uri": "https://localhost:8080/"
        },
        "id": "NbUE3iNtdJZa",
        "outputId": "f3810617-887c-4af3-d3f4-69f8402c8a97"
      },
      "execution_count": 43,
      "outputs": [
        {
          "output_type": "stream",
          "name": "stderr",
          "text": [
            "/usr/local/lib/python3.7/dist-packages/sklearn/utils/deprecation.py:87: FutureWarning: Function get_feature_names is deprecated; get_feature_names is deprecated in 1.0 and will be removed in 1.2. Please use get_feature_names_out instead.\n",
            "  warnings.warn(msg, category=FutureWarning)\n"
          ]
        }
      ]
    },
    {
      "cell_type": "code",
      "source": [
        "model_1.compile(loss=tf.keras.losses.CategoricalCrossentropy(),\n",
        "                optimizer=tf.keras.optimizers.Adam(),\n",
        "                metrics=['accuracy'])"
      ],
      "metadata": {
        "id": "Qc4Gltc5e1SG"
      },
      "execution_count": 44,
      "outputs": []
    },
    {
      "cell_type": "code",
      "source": [
        "model_1.summary()"
      ],
      "metadata": {
        "colab": {
          "base_uri": "https://localhost:8080/"
        },
        "id": "9OPs2zsngmRJ",
        "outputId": "ecaa5379-0398-4f10-f842-397837b41537"
      },
      "execution_count": 45,
      "outputs": [
        {
          "output_type": "stream",
          "name": "stdout",
          "text": [
            "Model: \"model\"\n",
            "_________________________________________________________________\n",
            " Layer (type)                Output Shape              Param #   \n",
            "=================================================================\n",
            " input_1 (InputLayer)        [(None, 1)]               0         \n",
            "                                                                 \n",
            " text_vectorization (TextVec  (None, 55)               0         \n",
            " torization)                                                     \n",
            "                                                                 \n",
            " embedding (Embedding)       (None, 55, 128)           8299648   \n",
            "                                                                 \n",
            " conv1d (Conv1D)             (None, 55, 64)            41024     \n",
            "                                                                 \n",
            " global_average_pooling1d (G  (None, 64)               0         \n",
            " lobalAveragePooling1D)                                          \n",
            "                                                                 \n",
            " dense (Dense)               (None, 5)                 325       \n",
            "                                                                 \n",
            "=================================================================\n",
            "Total params: 8,340,997\n",
            "Trainable params: 8,340,997\n",
            "Non-trainable params: 0\n",
            "_________________________________________________________________\n"
          ]
        }
      ]
    },
    {
      "cell_type": "code",
      "source": [
        "history_1 = model_1.fit(train_dataset,\n",
        "                        epochs=3,\n",
        "                        steps_per_epoch=int(0.1*len(train_dataset)),\n",
        "                        validation_data=val_dataset,\n",
        "                        validation_steps=int(0.1*len(val_dataset)))"
      ],
      "metadata": {
        "colab": {
          "base_uri": "https://localhost:8080/"
        },
        "id": "4W5r9IJyfOdt",
        "outputId": "c70875da-842a-42fb-f1dd-cd75754f4964"
      },
      "execution_count": 46,
      "outputs": [
        {
          "output_type": "stream",
          "name": "stdout",
          "text": [
            "Epoch 1/3\n",
            "562/562 [==============================] - 92s 162ms/step - loss: 0.9157 - accuracy: 0.6401 - val_loss: 0.6897 - val_accuracy: 0.7397\n",
            "Epoch 2/3\n",
            "562/562 [==============================] - 103s 183ms/step - loss: 0.6608 - accuracy: 0.7549 - val_loss: 0.6343 - val_accuracy: 0.7693\n",
            "Epoch 3/3\n",
            "562/562 [==============================] - 93s 165ms/step - loss: 0.6195 - accuracy: 0.7736 - val_loss: 0.5966 - val_accuracy: 0.7859\n"
          ]
        }
      ]
    },
    {
      "cell_type": "code",
      "source": [
        "model_1.evaluate(val_dataset)"
      ],
      "metadata": {
        "colab": {
          "base_uri": "https://localhost:8080/"
        },
        "id": "LYTCTflWjapQ",
        "outputId": "511a7962-79ea-459c-ebfc-257337fd62ba"
      },
      "execution_count": 47,
      "outputs": [
        {
          "output_type": "stream",
          "name": "stdout",
          "text": [
            "945/945 [==============================] - 8s 9ms/step - loss: 0.5980 - accuracy: 0.7872\n"
          ]
        },
        {
          "output_type": "execute_result",
          "data": {
            "text/plain": [
              "[0.5979688763618469, 0.7872368693351746]"
            ]
          },
          "metadata": {},
          "execution_count": 47
        }
      ]
    },
    {
      "cell_type": "code",
      "source": [
        "model_1_pred_pro = model_1.predict(X_val)\n",
        "model_1_preds = tf.argmax(model_1_pred_pro, axis=1)"
      ],
      "metadata": {
        "id": "9JRDkzWfgaSQ"
      },
      "execution_count": 48,
      "outputs": []
    },
    {
      "cell_type": "code",
      "source": [
        "model_1_preds"
      ],
      "metadata": {
        "colab": {
          "base_uri": "https://localhost:8080/"
        },
        "id": "uxT32jtvh5zg",
        "outputId": "ccc3ba58-a7a1-4d4c-c5f3-2599d0d60fd4"
      },
      "execution_count": 49,
      "outputs": [
        {
          "output_type": "execute_result",
          "data": {
            "text/plain": [
              "<tf.Tensor: shape=(30212,), dtype=int64, numpy=array([0, 0, 3, ..., 4, 1, 1])>"
            ]
          },
          "metadata": {},
          "execution_count": 49
        }
      ]
    },
    {
      "cell_type": "code",
      "source": [
        "evaluate_results(val_label_encoded, model_1_preds)"
      ],
      "metadata": {
        "colab": {
          "base_uri": "https://localhost:8080/"
        },
        "id": "8LlxQ3T4hn-3",
        "outputId": "ad80698c-2b6c-4e71-e1c1-66d6f0ee4487"
      },
      "execution_count": 50,
      "outputs": [
        {
          "output_type": "execute_result",
          "data": {
            "text/plain": [
              "{'model_accuracy': 0.7872368595260162,\n",
              " 'model_fscore': 0.7847924822029362,\n",
              " 'model_precision': 0.7838112161337385,\n",
              " 'model_recall': 0.7872368595260162}"
            ]
          },
          "metadata": {},
          "execution_count": 50
        }
      ]
    },
    {
      "cell_type": "markdown",
      "source": [
        "#Model 2 Feature extraction with pretrained embeddings"
      ],
      "metadata": {
        "id": "95TESrA7h1-Y"
      }
    },
    {
      "cell_type": "code",
      "source": [
        "import tensorflow_hub as hub\n",
        "\n",
        "embedding_layer = hub.KerasLayer(\"https://tfhub.dev/google/universal-sentence-encoder/4\",\n",
        "                                        trainable=False,\n",
        "                                        name=\"universal_sentence_encoder\")"
      ],
      "metadata": {
        "id": "zTYqHOCuOVj9"
      },
      "execution_count": 55,
      "outputs": []
    },
    {
      "cell_type": "code",
      "source": [
        "inputs = layers.Input(shape=[], dtype='string')\n",
        "x = embedding_layer(inputs)\n",
        "x = layers.Dense(128, activation='relu')(x)\n",
        "outputs = layers.Dense(5, activation='softmax')(x)\n",
        "\n",
        "model_2 = tf.keras.Model(inputs, outputs)"
      ],
      "metadata": {
        "id": "6UyFDrz5PZrM"
      },
      "execution_count": 58,
      "outputs": []
    },
    {
      "cell_type": "code",
      "source": [
        "model_2.compile(loss=tf.keras.losses.CategoricalCrossentropy(),\n",
        "                optimizer=tf.keras.optimizers.Adam(),\n",
        "                metrics=['accuracy'])"
      ],
      "metadata": {
        "id": "ygkpQEb5Qg9n"
      },
      "execution_count": 59,
      "outputs": []
    },
    {
      "cell_type": "code",
      "source": [
        "model_2.summary()"
      ],
      "metadata": {
        "colab": {
          "base_uri": "https://localhost:8080/"
        },
        "id": "rN1mJ3YlRc5w",
        "outputId": "50d37f44-6b20-4b16-9556-d1225cf47f56"
      },
      "execution_count": 61,
      "outputs": [
        {
          "output_type": "stream",
          "name": "stdout",
          "text": [
            "Model: \"model_1\"\n",
            "_________________________________________________________________\n",
            " Layer (type)                Output Shape              Param #   \n",
            "=================================================================\n",
            " input_5 (InputLayer)        [(None,)]                 0         \n",
            "                                                                 \n",
            " universal_sentence_encoder   (None, 512)              256797824 \n",
            " (KerasLayer)                                                    \n",
            "                                                                 \n",
            " dense_2 (Dense)             (None, 128)               65664     \n",
            "                                                                 \n",
            " dense_3 (Dense)             (None, 5)                 645       \n",
            "                                                                 \n",
            "=================================================================\n",
            "Total params: 256,864,133\n",
            "Trainable params: 66,309\n",
            "Non-trainable params: 256,797,824\n",
            "_________________________________________________________________\n"
          ]
        }
      ]
    },
    {
      "cell_type": "code",
      "source": [
        "history_2 = model_2.fit(train_dataset,\n",
        "                        epochs=3,\n",
        "                        steps_per_epoch=int(0.1*len(train_dataset)),\n",
        "                        validation_data=val_dataset,\n",
        "                        validation_steps=int(0.1*len(val_dataset)))"
      ],
      "metadata": {
        "colab": {
          "base_uri": "https://localhost:8080/"
        },
        "id": "nCWeEEdSRe89",
        "outputId": "be9b6c01-4d30-44b0-c1be-f967cf377747"
      },
      "execution_count": 62,
      "outputs": [
        {
          "output_type": "stream",
          "name": "stdout",
          "text": [
            "Epoch 1/3\n",
            "562/562 [==============================] - 19s 20ms/step - loss: 0.9162 - accuracy: 0.6542 - val_loss: 0.7939 - val_accuracy: 0.6915\n",
            "Epoch 2/3\n",
            "562/562 [==============================] - 11s 20ms/step - loss: 0.7665 - accuracy: 0.7032 - val_loss: 0.7528 - val_accuracy: 0.7068\n",
            "Epoch 3/3\n",
            "562/562 [==============================] - 13s 22ms/step - loss: 0.7497 - accuracy: 0.7139 - val_loss: 0.7359 - val_accuracy: 0.7154\n"
          ]
        }
      ]
    },
    {
      "cell_type": "code",
      "source": [
        "model_2.evaluate(val_dataset)"
      ],
      "metadata": {
        "colab": {
          "base_uri": "https://localhost:8080/"
        },
        "id": "jaRlAkeeRnkl",
        "outputId": "37e5dd6c-cfd0-4244-a712-8dd6ddd962b4"
      },
      "execution_count": 63,
      "outputs": [
        {
          "output_type": "stream",
          "name": "stdout",
          "text": [
            "945/945 [==============================] - 18s 19ms/step - loss: 0.7389 - accuracy: 0.7151\n"
          ]
        },
        {
          "output_type": "execute_result",
          "data": {
            "text/plain": [
              "[0.7388923168182373, 0.7150800824165344]"
            ]
          },
          "metadata": {},
          "execution_count": 63
        }
      ]
    },
    {
      "cell_type": "code",
      "source": [
        "model_2_pred_pros = model_2.predict(X_val)"
      ],
      "metadata": {
        "id": "4l45zV6KRvYm"
      },
      "execution_count": 64,
      "outputs": []
    },
    {
      "cell_type": "code",
      "source": [
        "model_2_pred = tf.argmax(model_2_pred_pros, axis=1)"
      ],
      "metadata": {
        "id": "PFFTtXn6R-Cb"
      },
      "execution_count": 67,
      "outputs": []
    },
    {
      "cell_type": "code",
      "source": [
        "evaluate_results(val_label_encoded, model_2_pred)"
      ],
      "metadata": {
        "colab": {
          "base_uri": "https://localhost:8080/"
        },
        "id": "pkhU85CaSGtc",
        "outputId": "e6f29514-1b09-4ec4-addc-7cf72712b090"
      },
      "execution_count": 69,
      "outputs": [
        {
          "output_type": "execute_result",
          "data": {
            "text/plain": [
              "{'model_accuracy': 0.7150801006222693,\n",
              " 'model_fscore': 0.7122831854447569,\n",
              " 'model_precision': 0.7156191593953446,\n",
              " 'model_recall': 0.7150801006222693}"
            ]
          },
          "metadata": {},
          "execution_count": 69
        }
      ]
    },
    {
      "cell_type": "markdown",
      "source": [
        "#Model 3 Character based Embedding"
      ],
      "metadata": {
        "id": "E2Boj1GFSeUw"
      }
    },
    {
      "cell_type": "code",
      "source": [
        "X_train[0]"
      ],
      "metadata": {
        "colab": {
          "base_uri": "https://localhost:8080/",
          "height": 53
        },
        "id": "pHEbUEpNS3TB",
        "outputId": "27616e37-3e61-489d-b0c7-1f2aec901a29"
      },
      "execution_count": 71,
      "outputs": [
        {
          "output_type": "execute_result",
          "data": {
            "text/plain": [
              "'To investigate the efficacy of @ weeks of daily low-dose oral prednisolone in improving pain , mobility , and systemic low-grade inflammation in the short term and whether the effect would be sustained at @ weeks in older adults with moderate to severe knee osteoarthritis ( OA ) .'"
            ],
            "application/vnd.google.colaboratory.intrinsic+json": {
              "type": "string"
            }
          },
          "metadata": {},
          "execution_count": 71
        }
      ]
    },
    {
      "cell_type": "code",
      "source": [
        "def split_char(text):\n",
        "  return ' '.join([char for word in text.split() for char in word])"
      ],
      "metadata": {
        "id": "smjj6fDAS_Pr"
      },
      "execution_count": 80,
      "outputs": []
    },
    {
      "cell_type": "code",
      "source": [
        "X_train_char = [split_char(row) for row in X_train]\n",
        "X_val_char = [split_char(row) for row in X_val]"
      ],
      "metadata": {
        "id": "Q8alDILUTpX1"
      },
      "execution_count": 83,
      "outputs": []
    },
    {
      "cell_type": "code",
      "source": [
        "X_train_char[:5]"
      ],
      "metadata": {
        "colab": {
          "base_uri": "https://localhost:8080/"
        },
        "id": "rKT0vBWVWgaz",
        "outputId": "572a4785-7da2-485d-86c8-932f98f089d8"
      },
      "execution_count": 82,
      "outputs": [
        {
          "output_type": "execute_result",
          "data": {
            "text/plain": [
              "['T o i n v e s t i g a t e t h e e f f i c a c y o f @ w e e k s o f d a i l y l o w - d o s e o r a l p r e d n i s o l o n e i n i m p r o v i n g p a i n , m o b i l i t y , a n d s y s t e m i c l o w - g r a d e i n f l a m m a t i o n i n t h e s h o r t t e r m a n d w h e t h e r t h e e f f e c t w o u l d b e s u s t a i n e d a t @ w e e k s i n o l d e r a d u l t s w i t h m o d e r a t e t o s e v e r e k n e e o s t e o a r t h r i t i s ( O A ) .',\n",
              " 'A t o t a l o f @ p a t i e n t s w i t h p r i m a r y k n e e O A w e r e r a n d o m i z e d @ : @ ; @ r e c e i v e d @ m g / d a y o f p r e d n i s o l o n e a n d @ r e c e i v e d p l a c e b o f o r @ w e e k s .',\n",
              " 'O u t c o m e m e a s u r e s i n c l u d e d p a i n r e d u c t i o n a n d i m p r o v e m e n t i n f u n c t i o n s c o r e s a n d s y s t e m i c i n f l a m m a t i o n m a r k e r s .',\n",
              " 'P a i n w a s a s s e s s e d u s i n g t h e v i s u a l a n a l o g p a i n s c a l e ( @ - @ m m ) .',\n",
              " 'S e c o n d a r y o u t c o m e m e a s u r e s i n c l u d e d t h e W e s t e r n O n t a r i o a n d M c M a s t e r U n i v e r s i t i e s O s t e o a r t h r i t i s I n d e x s c o r e s , p a t i e n t g l o b a l a s s e s s m e n t ( P G A ) o f t h e s e v e r i t y o f k n e e O A , a n d @ - m i n w a l k d i s t a n c e ( @ M W D ) .']"
            ]
          },
          "metadata": {},
          "execution_count": 82
        }
      ]
    },
    {
      "cell_type": "code",
      "source": [
        "train_dataset_char = tf.data.Dataset.from_tensor_slices((X_train_char, train_labels_one_hot)).batch(32).prefetch(tf.data.AUTOTUNE)\n",
        "val_dataset_char = tf.data.Dataset.from_tensor_slices((X_val_char, val_labels_one_hot)).batch(32).prefetch(tf.data.AUTOTUNE)"
      ],
      "metadata": {
        "id": "9CoKn8sgWi1L"
      },
      "execution_count": 86,
      "outputs": []
    },
    {
      "cell_type": "code",
      "source": [
        "plt.hist([len(text) for text in X_train_char], bins=20)"
      ],
      "metadata": {
        "colab": {
          "base_uri": "https://localhost:8080/",
          "height": 425
        },
        "id": "8cWb9qfkYcGh",
        "outputId": "0b8eeaf5-1c38-4e27-bc0a-4246561a6269"
      },
      "execution_count": 90,
      "outputs": [
        {
          "output_type": "execute_result",
          "data": {
            "text/plain": [
              "(array([1.9017e+04, 6.5217e+04, 5.6595e+04, 2.5532e+04, 9.2030e+03,\n",
              "        2.8660e+03, 9.9700e+02, 3.3800e+02, 1.5000e+02, 5.6000e+01,\n",
              "        3.1000e+01, 1.8000e+01, 9.0000e+00, 5.0000e+00, 0.0000e+00,\n",
              "        1.0000e+00, 4.0000e+00, 0.0000e+00, 0.0000e+00, 1.0000e+00]),\n",
              " array([1.000e+00, 1.100e+02, 2.190e+02, 3.280e+02, 4.370e+02, 5.460e+02,\n",
              "        6.550e+02, 7.640e+02, 8.730e+02, 9.820e+02, 1.091e+03, 1.200e+03,\n",
              "        1.309e+03, 1.418e+03, 1.527e+03, 1.636e+03, 1.745e+03, 1.854e+03,\n",
              "        1.963e+03, 2.072e+03, 2.181e+03]),\n",
              " <a list of 20 Patch objects>)"
            ]
          },
          "metadata": {},
          "execution_count": 90
        },
        {
          "output_type": "display_data",
          "data": {
            "text/plain": [
              "<Figure size 432x288 with 1 Axes>"
            ],
            "image/png": "[encoded data removed]"
          },
          "metadata": {
            "needs_background": "light"
          }
        }
      ]
    },
    {
      "cell_type": "code",
      "source": [
        "np.mean([len(text) for text in X_train_char])"
      ],
      "metadata": {
        "colab": {
          "base_uri": "https://localhost:8080/"
        },
        "id": "3Rz2YhM8aUVw",
        "outputId": "e36859c5-cbe9-4fd9-bb5f-1f242f751cba"
      },
      "execution_count": 100,
      "outputs": [
        {
          "output_type": "execute_result",
          "data": {
            "text/plain": [
              "247.05597644967784"
            ]
          },
          "metadata": {},
          "execution_count": 100
        }
      ]
    },
    {
      "cell_type": "code",
      "source": [
        "output_sen_len_char = int(np.percentile([len(text) for text in X_train_char], 95))\n",
        "output_sen_len_char"
      ],
      "metadata": {
        "colab": {
          "base_uri": "https://localhost:8080/"
        },
        "id": "KWrXgTipY7NF",
        "outputId": "49890bde-bf7d-4127-c1f3-39aee0623ad7"
      },
      "execution_count": 95,
      "outputs": [
        {
          "output_type": "execute_result",
          "data": {
            "text/plain": [
              "477"
            ]
          },
          "metadata": {},
          "execution_count": 95
        }
      ]
    },
    {
      "cell_type": "code",
      "source": [
        "text_vectorizer_char = layers.TextVectorization(max_tokens=50,\n",
        "                                                output_sequence_length=output_sen_len_char)\n",
        "text_vectorizer_char.adapt(X_train_char)"
      ],
      "metadata": {
        "id": "hEU56dJtXquq"
      },
      "execution_count": 96,
      "outputs": []
    },
    {
      "cell_type": "code",
      "source": [
        "text_vectorizer_char.get_vocabulary()[:5]"
      ],
      "metadata": {
        "colab": {
          "base_uri": "https://localhost:8080/"
        },
        "id": "LKjAvKYiZz7G",
        "outputId": "80f2dc85-7115-4637-c115-bcdd481aeb3d"
      },
      "execution_count": 97,
      "outputs": [
        {
          "output_type": "execute_result",
          "data": {
            "text/plain": [
              "['', '[UNK]', 'e', 't', 'i']"
            ]
          },
          "metadata": {},
          "execution_count": 97
        }
      ]
    },
    {
      "cell_type": "code",
      "source": [
        "text_vectorizer_char.get_vocabulary()[-5:]"
      ],
      "metadata": {
        "colab": {
          "base_uri": "https://localhost:8080/"
        },
        "id": "b4BtptOVaB88",
        "outputId": "79739870-e3a1-496f-c619-4ae6444f7826"
      },
      "execution_count": 98,
      "outputs": [
        {
          "output_type": "execute_result",
          "data": {
            "text/plain": [
              "['k', 'x', 'z', 'q', 'j']"
            ]
          },
          "metadata": {},
          "execution_count": 98
        }
      ]
    },
    {
      "cell_type": "code",
      "source": [
        "text_embedding_char = layers.Embedding(input_dim=len(text_vectorizer_char.get_vocabulary()),\n",
        "                                       output_dim=25,\n",
        "                                       mask_zero=False)"
      ],
      "metadata": {
        "id": "Q1gYWsTPaExJ"
      },
      "execution_count": 101,
      "outputs": []
    },
    {
      "cell_type": "code",
      "source": [
        "NUM_CLASSES = len(le.classes_)\n",
        "NUM_CLASSES"
      ],
      "metadata": {
        "colab": {
          "base_uri": "https://localhost:8080/"
        },
        "id": "Ic13-KT-cPkW",
        "outputId": "8e7336bc-1515-48b2-ea89-1d768c7cfb32"
      },
      "execution_count": 103,
      "outputs": [
        {
          "output_type": "execute_result",
          "data": {
            "text/plain": [
              "5"
            ]
          },
          "metadata": {},
          "execution_count": 103
        }
      ]
    },
    {
      "cell_type": "code",
      "source": [
        "inputs = layers.Input(shape=(1,), dtype='string')\n",
        "x = text_vectorizer_char(inputs)\n",
        "x = text_embedding_char(x)\n",
        "x = layers.Conv1D(filters=64, kernel_size=5, padding='same', activation='relu')(x)\n",
        "x = layers.GlobalMaxPooling1D()(x)\n",
        "outputs = layers.Dense(NUM_CLASSES, activation='softmax')(x)\n",
        "\n",
        "model_3 = tf.keras.Model(inputs, outputs)"
      ],
      "metadata": {
        "id": "f1gT5mOrbkOM"
      },
      "execution_count": 104,
      "outputs": []
    },
    {
      "cell_type": "code",
      "source": [
        "model_3.compile(loss=tf.keras.losses.CategoricalCrossentropy(),\n",
        "                optimizer=tf.keras.optimizers.Adam(),\n",
        "                metrics=['accuracy'])"
      ],
      "metadata": {
        "id": "wyscocfCdKTL"
      },
      "execution_count": 105,
      "outputs": []
    },
    {
      "cell_type": "code",
      "source": [
        "model_3.summary()"
      ],
      "metadata": {
        "colab": {
          "base_uri": "https://localhost:8080/"
        },
        "id": "PVGQCxbadOyc",
        "outputId": "0cebd911-8089-41de-c36c-38e2dc4abdab"
      },
      "execution_count": 106,
      "outputs": [
        {
          "output_type": "stream",
          "name": "stdout",
          "text": [
            "Model: \"model_2\"\n",
            "_________________________________________________________________\n",
            " Layer (type)                Output Shape              Param #   \n",
            "=================================================================\n",
            " input_6 (InputLayer)        [(None, 1)]               0         \n",
            "                                                                 \n",
            " text_vectorization_1 (TextV  (None, 477)              0         \n",
            " ectorization)                                                   \n",
            "                                                                 \n",
            " embedding_1 (Embedding)     (None, 477, 25)           700       \n",
            "                                                                 \n",
            " conv1d_1 (Conv1D)           (None, 477, 64)           8064      \n",
            "                                                                 \n",
            " global_max_pooling1d (Globa  (None, 64)               0         \n",
            " lMaxPooling1D)                                                  \n",
            "                                                                 \n",
            " dense_4 (Dense)             (None, 5)                 325       \n",
            "                                                                 \n",
            "=================================================================\n",
            "Total params: 9,089\n",
            "Trainable params: 9,089\n",
            "Non-trainable params: 0\n",
            "_________________________________________________________________\n"
          ]
        }
      ]
    },
    {
      "cell_type": "code",
      "source": [
        "history_3 = model_3.fit(train_dataset_char,\n",
        "                        epochs=3,\n",
        "                        steps_per_epoch=int(0.1*len(train_dataset_char)),\n",
        "                        validation_data=val_dataset_char,\n",
        "                        validation_steps=int(0.1*len(val_dataset_char)))"
      ],
      "metadata": {
        "colab": {
          "base_uri": "https://localhost:8080/"
        },
        "id": "xE5XOTJrdQhQ",
        "outputId": "a2a53880-7bdf-43e8-acfb-38f225fca52c"
      },
      "execution_count": 107,
      "outputs": [
        {
          "output_type": "stream",
          "name": "stdout",
          "text": [
            "Epoch 1/3\n",
            "562/562 [==============================] - 50s 86ms/step - loss: 1.2749 - accuracy: 0.4726 - val_loss: 1.0627 - val_accuracy: 0.5725\n",
            "Epoch 2/3\n",
            "562/562 [==============================] - 61s 109ms/step - loss: 1.0214 - accuracy: 0.5895 - val_loss: 0.9590 - val_accuracy: 0.6217\n",
            "Epoch 3/3\n",
            "562/562 [==============================] - 67s 120ms/step - loss: 0.9429 - accuracy: 0.6272 - val_loss: 0.8845 - val_accuracy: 0.6586\n"
          ]
        }
      ]
    },
    {
      "cell_type": "code",
      "source": [
        "model_3.evaluate(val_dataset_char)"
      ],
      "metadata": {
        "colab": {
          "base_uri": "https://localhost:8080/"
        },
        "id": "fe3oanWUddIa",
        "outputId": "2eb9df4d-7245-4d84-c2a4-2f616d757681"
      },
      "execution_count": 108,
      "outputs": [
        {
          "output_type": "stream",
          "name": "stdout",
          "text": [
            "945/945 [==============================] - 30s 32ms/step - loss: 0.9061 - accuracy: 0.6486\n"
          ]
        },
        {
          "output_type": "execute_result",
          "data": {
            "text/plain": [
              "[0.9060572981834412, 0.6485833525657654]"
            ]
          },
          "metadata": {},
          "execution_count": 108
        }
      ]
    },
    {
      "cell_type": "code",
      "source": [
        "model_3_pred_pros = model_3.predict(X_val_char)\n",
        "model_3_pred = tf.argmax(model_3_pred_pros, axis=1)\n",
        "evaluate_results(val_label_encoded, model_3_pred)"
      ],
      "metadata": {
        "colab": {
          "base_uri": "https://localhost:8080/"
        },
        "id": "BgdoK4zQdxE7",
        "outputId": "09a1998f-8769-402d-a30f-2affdc587f4b"
      },
      "execution_count": 109,
      "outputs": [
        {
          "output_type": "execute_result",
          "data": {
            "text/plain": [
              "{'model_accuracy': 0.6485833443664769,\n",
              " 'model_fscore': 0.6348769753425683,\n",
              " 'model_precision': 0.638729911376812,\n",
              " 'model_recall': 0.6485833443664769}"
            ]
          },
          "metadata": {},
          "execution_count": 109
        }
      ]
    },
    {
      "cell_type": "markdown",
      "source": [
        "#Model 4 Combine pretrained token embedding and character embedding "
      ],
      "metadata": {
        "id": "YzNxAMbeeHvC"
      }
    },
    {
      "cell_type": "code",
      "source": [
        "train_data_combined = tf.data.Dataset.from_tensor_slices((X_train, X_train_char))\n",
        "train_label_combined = tf.data.Dataset.from_tensor_slices(train_labels_one_hot)\n",
        "train_dataset_combined = tf.data.Dataset.zip((train_data_combined, train_label_combined)).batch(32).prefetch(tf.data.AUTOTUNE)\n",
        "\n",
        "val_data_combined = tf.data.Dataset.from_tensor_slices((X_val, X_val_char))\n",
        "val_label_combined = tf.data.Dataset.from_tensor_slices(val_labels_one_hot)\n",
        "val_dataset_combined = tf.data.Dataset.zip((val_data_combined, val_label_combined)).batch(32).prefetch(tf.data.AUTOTUNE)"
      ],
      "metadata": {
        "id": "3OYP7OBAihfB"
      },
      "execution_count": 111,
      "outputs": []
    },
    {
      "cell_type": "code",
      "source": [
        "token_inputs = layers.Input(shape=[], dtype='string', name='token_inputs')\n",
        "token_embedding = embedding_layer(token_inputs)\n",
        "token_outputs = layers.Dense(128, activation='relu')(token_embedding)\n",
        "token_model = tf.keras.Model(token_inputs, token_outputs)\n",
        "\n",
        "char_inputs = layers.Input(shape=(1,), dtype='string', name='char_inputs')\n",
        "char_vector = text_vectorizer_char(char_inputs)\n",
        "char_embed = text_embedding_char(char_vector)\n",
        "char_bi_LSTM = layers.Bidirectional(layers.LSTM(25))(char_embed)\n",
        "char_model = tf.keras.Model(char_inputs, char_bi_LSTM)\n",
        "\n",
        "token_char_concat = layers.Concatenate(name='token_char_concat')([token_model.output, char_model.output])\n",
        "\n",
        "combined_dropout = layers.Dropout(0.5)(token_char_concat)\n",
        "combined_dense = layers.Dense(200, activation='relu')(combined_dropout)\n",
        "final_dropout = layers.Dropout(0.5)(combined_dense)\n",
        "output_layer = layers.Dense(NUM_CLASSES, activation='softmax')(final_dropout)\n",
        "\n",
        "model_4 = tf.keras.Model(inputs=[token_model.input, char_model.input],\n",
        "                         outputs=output_layer,\n",
        "                         name='model_4_token_char_embedding')"
      ],
      "metadata": {
        "id": "SqTD9osQlxmB"
      },
      "execution_count": 114,
      "outputs": []
    },
    {
      "cell_type": "code",
      "source": [
        "from tensorflow.keras.utils import plot_model\n",
        "plot_model(model_4, show_shapes=True)"
      ],
      "metadata": {
        "colab": {
          "base_uri": "https://localhost:8080/",
          "height": 976
        },
        "id": "hD9Q7SQGpvMQ",
        "outputId": "6f66a92f-3f1e-48f5-d9ba-e02788dcb3dc"
      },
      "execution_count": 116,
      "outputs": [
        {
          "output_type": "execute_result",
          "data": {
            "text/plain": [
              "<IPython.core.display.Image object>"
            ],
            "image/png": "[encoded data removed]"
          },
          "metadata": {},
          "execution_count": 116
        }
      ]
    },
    {
      "cell_type": "code",
      "source": [
        "model_4.compile(loss=tf.keras.losses.CategoricalCrossentropy(),\n",
        "                optimizer=tf.keras.optimizers.Adam(),\n",
        "                metrics=['accuracy'])"
      ],
      "metadata": {
        "id": "VDuXK0twp7al"
      },
      "execution_count": 117,
      "outputs": []
    },
    {
      "cell_type": "code",
      "source": [
        "history_4 = model_4.fit(train_dataset_combined,\n",
        "                        epochs=3,\n",
        "                        steps_per_epoch=int(0.1*len(train_dataset_combined)),\n",
        "                        validation_data=val_dataset_combined,\n",
        "                        validation_steps=int(0.1*len(val_dataset_combined)))"
      ],
      "metadata": {
        "colab": {
          "base_uri": "https://localhost:8080/"
        },
        "id": "tom4r0z_qf8-",
        "outputId": "a16471cc-732f-4988-9011-f21225729bc9"
      },
      "execution_count": 118,
      "outputs": [
        {
          "output_type": "stream",
          "name": "stdout",
          "text": [
            "Epoch 1/3\n",
            "562/562 [==============================] - 366s 634ms/step - loss: 0.9712 - accuracy: 0.6114 - val_loss: 0.7840 - val_accuracy: 0.6985\n",
            "Epoch 2/3\n",
            "562/562 [==============================] - 358s 636ms/step - loss: 0.7949 - accuracy: 0.6908 - val_loss: 0.7138 - val_accuracy: 0.7277\n",
            "Epoch 3/3\n",
            "562/562 [==============================] - 221s 394ms/step - loss: 0.7670 - accuracy: 0.7077 - val_loss: 0.6938 - val_accuracy: 0.7357\n"
          ]
        }
      ]
    },
    {
      "cell_type": "code",
      "source": [
        "model_4.evaluate(val_dataset_combined)"
      ],
      "metadata": {
        "colab": {
          "base_uri": "https://localhost:8080/"
        },
        "id": "CMuc8-nmq6MV",
        "outputId": "a8b8fb7e-e046-405c-fa03-a48e7d4ee6d6"
      },
      "execution_count": 119,
      "outputs": [
        {
          "output_type": "stream",
          "name": "stdout",
          "text": [
            "945/945 [==============================] - 75s 80ms/step - loss: 0.6960 - accuracy: 0.7347\n"
          ]
        },
        {
          "output_type": "execute_result",
          "data": {
            "text/plain": [
              "[0.6960012316703796, 0.7347411513328552]"
            ]
          },
          "metadata": {},
          "execution_count": 119
        }
      ]
    },
    {
      "cell_type": "code",
      "source": [
        "model_4_pred_pros = model_4.predict(val_dataset_combined)\n",
        "model_4_pred = tf.argmax(model_4_pred_pros, axis=1)\n",
        "evaluate_results(val_label_encoded, model_4_pred)"
      ],
      "metadata": {
        "colab": {
          "base_uri": "https://localhost:8080/"
        },
        "id": "55FH0_bcrMLX",
        "outputId": "9f549c45-245d-4a37-982c-bbcea8fd6a5a"
      },
      "execution_count": 120,
      "outputs": [
        {
          "output_type": "execute_result",
          "data": {
            "text/plain": [
              "{'model_accuracy': 0.7347411624520058,\n",
              " 'model_fscore': 0.7323241962983584,\n",
              " 'model_precision': 0.7351504201342056,\n",
              " 'model_recall': 0.7347411624520058}"
            ]
          },
          "metadata": {},
          "execution_count": 120
        }
      ]
    },
    {
      "cell_type": "code",
      "source": [
        ""
      ],
      "metadata": {
        "id": "yhJLuoYYr-BU"
      },
      "execution_count": null,
      "outputs": []
    }
  ]
}