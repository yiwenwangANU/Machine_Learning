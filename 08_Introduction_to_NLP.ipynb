{
  "nbformat": 4,
  "nbformat_minor": 0,
  "metadata": {
    "colab": {
      "name": "08 Introduction to NLP.ipynb",
      "provenance": [],
      "collapsed_sections": [
        "2M5O43aHVtI_",
        "lj7Fn3K6fBwP"
      ],
      "mount_file_id": "1FpebbUXn_ZU9bIdWAtvNmpqAp0eHVn9W",
      "authorship_tag": "ABX9TyMw9fcJYW/JreroYo66SiwU",
      "include_colab_link": true
    },
    "kernelspec": {
      "name": "python3",
      "display_name": "Python 3"
    },
    "language_info": {
      "name": "python"
    },
    "accelerator": "GPU"
  },
  "cells": [
    {
      "cell_type": "markdown",
      "metadata": {
        "id": "view-in-github",
        "colab_type": "text"
      },
      "source": [
        "<a href=\"https://colab.research.google.com/github/yiwenwangANU/Machine_Learning/blob/main/08_Introduction_to_NLP.ipynb\" target=\"_parent\"><img src=\"https://colab.research.google.com/assets/colab-badge.svg\" alt=\"Open In Colab\"/></a>"
      ]
    },
    {
      "cell_type": "markdown",
      "source": [
        "##Download and unzip"
      ],
      "metadata": {
        "id": "k73rHerSZUtf"
      }
    },
    {
      "cell_type": "code",
      "execution_count": 2,
      "metadata": {
        "colab": {
          "base_uri": "https://localhost:8080/"
        },
        "id": "i5arE6ahN8m_",
        "outputId": "dd1bebd2-e481-4b82-8933-4c65bb42ed10"
      },
      "outputs": [
        {
          "output_type": "stream",
          "name": "stdout",
          "text": [
            "--2022-06-06 03:51:49--  https://storage.googleapis.com/ztm_tf_course/nlp_getting_started.zip\n",
            "Resolving storage.googleapis.com (storage.googleapis.com)... 74.125.20.128, 108.177.98.128, 74.125.197.128, ...\n",
            "Connecting to storage.googleapis.com (storage.googleapis.com)|74.125.20.128|:443... connected.\n",
            "HTTP request sent, awaiting response... 200 OK\n",
            "Length: 607343 (593K) [application/zip]\n",
            "Saving to: ‘nlp_getting_started.zip’\n",
            "\n",
            "\rnlp_getting_started   0%[                    ]       0  --.-KB/s               \rnlp_getting_started 100%[===================>] 593.11K  --.-KB/s    in 0.004s  \n",
            "\n",
            "2022-06-06 03:51:49 (150 MB/s) - ‘nlp_getting_started.zip’ saved [607343/607343]\n",
            "\n"
          ]
        }
      ],
      "source": [
        "!wget https://storage.googleapis.com/ztm_tf_course/nlp_getting_started.zip"
      ]
    },
    {
      "cell_type": "code",
      "source": [
        "import zipfile\n",
        "\n",
        "file_ref = zipfile.ZipFile('nlp_getting_started.zip')\n",
        "file_ref.extractall()\n",
        "file_ref.close()"
      ],
      "metadata": {
        "id": "uNOP93SaOElJ"
      },
      "execution_count": 3,
      "outputs": []
    },
    {
      "cell_type": "markdown",
      "source": [
        "##Explore the data"
      ],
      "metadata": {
        "id": "gZj_YWP3ZYU1"
      }
    },
    {
      "cell_type": "code",
      "source": [
        "import pandas as pd\n",
        "\n",
        "train_df = pd.read_csv('train.csv')\n",
        "test_df = pd.read_csv('test.csv')\n",
        "train_df"
      ],
      "metadata": {
        "colab": {
          "base_uri": "https://localhost:8080/",
          "height": 424
        },
        "id": "blzIlNb3OXNT",
        "outputId": "53d60df2-b562-405f-b4fd-4efcfd6e69ae"
      },
      "execution_count": 4,
      "outputs": [
        {
          "output_type": "execute_result",
          "data": {
            "text/plain": [
              "         id keyword location  \\\n",
              "0         1     NaN      NaN   \n",
              "1         4     NaN      NaN   \n",
              "2         5     NaN      NaN   \n",
              "3         6     NaN      NaN   \n",
              "4         7     NaN      NaN   \n",
              "...     ...     ...      ...   \n",
              "7608  10869     NaN      NaN   \n",
              "7609  10870     NaN      NaN   \n",
              "7610  10871     NaN      NaN   \n",
              "7611  10872     NaN      NaN   \n",
              "7612  10873     NaN      NaN   \n",
              "\n",
              "                                                   text  target  \n",
              "0     Our Deeds are the Reason of this #earthquake M...       1  \n",
              "1                Forest fire near La Ronge Sask. Canada       1  \n",
              "2     All residents asked to 'shelter in place' are ...       1  \n",
              "3     13,000 people receive #wildfires evacuation or...       1  \n",
              "4     Just got sent this photo from Ruby #Alaska as ...       1  \n",
              "...                                                 ...     ...  \n",
              "7608  Two giant cranes holding a bridge collapse int...       1  \n",
              "7609  @aria_ahrary @TheTawniest The out of control w...       1  \n",
              "7610  M1.94 [01:04 UTC]?5km S of Volcano Hawaii. htt...       1  \n",
              "7611  Police investigating after an e-bike collided ...       1  \n",
              "7612  The Latest: More Homes Razed by Northern Calif...       1  \n",
              "\n",
              "[7613 rows x 5 columns]"
            ],
            "text/html": [
              "\n",
              "  <div id=\"df-cc315f89-01b3-492a-abf9-806145809810\">\n",
              "    <div class=\"colab-df-container\">\n",
              "      <div>\n",
              "<style scoped>\n",
              "    .dataframe tbody tr th:only-of-type {\n",
              "        vertical-align: middle;\n",
              "    }\n",
              "\n",
              "    .dataframe tbody tr th {\n",
              "        vertical-align: top;\n",
              "    }\n",
              "\n",
              "    .dataframe thead th {\n",
              "        text-align: right;\n",
              "    }\n",
              "</style>\n",
              "<table border=\"1\" class=\"dataframe\">\n",
              "  <thead>\n",
              "    <tr style=\"text-align: right;\">\n",
              "      <th></th>\n",
              "      <th>id</th>\n",
              "      <th>keyword</th>\n",
              "      <th>location</th>\n",
              "      <th>text</th>\n",
              "      <th>target</th>\n",
              "    </tr>\n",
              "  </thead>\n",
              "  <tbody>\n",
              "    <tr>\n",
              "      <th>0</th>\n",
              "      <td>1</td>\n",
              "      <td>NaN</td>\n",
              "      <td>NaN</td>\n",
              "      <td>Our Deeds are the Reason of this #earthquake M...</td>\n",
              "      <td>1</td>\n",
              "    </tr>\n",
              "    <tr>\n",
              "      <th>1</th>\n",
              "      <td>4</td>\n",
              "      <td>NaN</td>\n",
              "      <td>NaN</td>\n",
              "      <td>Forest fire near La Ronge Sask. Canada</td>\n",
              "      <td>1</td>\n",
              "    </tr>\n",
              "    <tr>\n",
              "      <th>2</th>\n",
              "      <td>5</td>\n",
              "      <td>NaN</td>\n",
              "      <td>NaN</td>\n",
              "      <td>All residents asked to 'shelter in place' are ...</td>\n",
              "      <td>1</td>\n",
              "    </tr>\n",
              "    <tr>\n",
              "      <th>3</th>\n",
              "      <td>6</td>\n",
              "      <td>NaN</td>\n",
              "      <td>NaN</td>\n",
              "      <td>13,000 people receive #wildfires evacuation or...</td>\n",
              "      <td>1</td>\n",
              "    </tr>\n",
              "    <tr>\n",
              "      <th>4</th>\n",
              "      <td>7</td>\n",
              "      <td>NaN</td>\n",
              "      <td>NaN</td>\n",
              "      <td>Just got sent this photo from Ruby #Alaska as ...</td>\n",
              "      <td>1</td>\n",
              "    </tr>\n",
              "    <tr>\n",
              "      <th>...</th>\n",
              "      <td>...</td>\n",
              "      <td>...</td>\n",
              "      <td>...</td>\n",
              "      <td>...</td>\n",
              "      <td>...</td>\n",
              "    </tr>\n",
              "    <tr>\n",
              "      <th>7608</th>\n",
              "      <td>10869</td>\n",
              "      <td>NaN</td>\n",
              "      <td>NaN</td>\n",
              "      <td>Two giant cranes holding a bridge collapse int...</td>\n",
              "      <td>1</td>\n",
              "    </tr>\n",
              "    <tr>\n",
              "      <th>7609</th>\n",
              "      <td>10870</td>\n",
              "      <td>NaN</td>\n",
              "      <td>NaN</td>\n",
              "      <td>@aria_ahrary @TheTawniest The out of control w...</td>\n",
              "      <td>1</td>\n",
              "    </tr>\n",
              "    <tr>\n",
              "      <th>7610</th>\n",
              "      <td>10871</td>\n",
              "      <td>NaN</td>\n",
              "      <td>NaN</td>\n",
              "      <td>M1.94 [01:04 UTC]?5km S of Volcano Hawaii. htt...</td>\n",
              "      <td>1</td>\n",
              "    </tr>\n",
              "    <tr>\n",
              "      <th>7611</th>\n",
              "      <td>10872</td>\n",
              "      <td>NaN</td>\n",
              "      <td>NaN</td>\n",
              "      <td>Police investigating after an e-bike collided ...</td>\n",
              "      <td>1</td>\n",
              "    </tr>\n",
              "    <tr>\n",
              "      <th>7612</th>\n",
              "      <td>10873</td>\n",
              "      <td>NaN</td>\n",
              "      <td>NaN</td>\n",
              "      <td>The Latest: More Homes Razed by Northern Calif...</td>\n",
              "      <td>1</td>\n",
              "    </tr>\n",
              "  </tbody>\n",
              "</table>\n",
              "<p>7613 rows × 5 columns</p>\n",
              "</div>\n",
              "      <button class=\"colab-df-convert\" onclick=\"convertToInteractive('df-cc315f89-01b3-492a-abf9-806145809810')\"\n",
              "              title=\"Convert this dataframe to an interactive table.\"\n",
              "              style=\"display:none;\">\n",
              "        \n",
              "  <svg xmlns=\"http://www.w3.org/2000/svg\" height=\"24px\"viewBox=\"0 0 24 24\"\n",
              "       width=\"24px\">\n",
              "    <path d=\"M0 0h24v24H0V0z\" fill=\"none\"/>\n",
              "    <path d=\"M18.56 5.44l.94 2.06.94-2.06 2.06-.94-2.06-.94-.94-2.06-.94 2.06-2.06.94zm-11 1L8.5 8.5l.94-2.06 2.06-.94-2.06-.94L8.5 2.5l-.94 2.06-2.06.94zm10 10l.94 2.06.94-2.06 2.06-.94-2.06-.94-.94-2.06-.94 2.06-2.06.94z\"/><path d=\"M17.41 7.96l-1.37-1.37c-.4-.4-.92-.59-1.43-.59-.52 0-1.04.2-1.43.59L10.3 9.45l-7.72 7.72c-.78.78-.78 2.05 0 2.83L4 21.41c.39.39.9.59 1.41.59.51 0 1.02-.2 1.41-.59l7.78-7.78 2.81-2.81c.8-.78.8-2.07 0-2.86zM5.41 20L4 18.59l7.72-7.72 1.47 1.35L5.41 20z\"/>\n",
              "  </svg>\n",
              "      </button>\n",
              "      \n",
              "  <style>\n",
              "    .colab-df-container {\n",
              "      display:flex;\n",
              "      flex-wrap:wrap;\n",
              "      gap: 12px;\n",
              "    }\n",
              "\n",
              "    .colab-df-convert {\n",
              "      background-color: #E8F0FE;\n",
              "      border: none;\n",
              "      border-radius: 50%;\n",
              "      cursor: pointer;\n",
              "      display: none;\n",
              "      fill: #1967D2;\n",
              "      height: 32px;\n",
              "      padding: 0 0 0 0;\n",
              "      width: 32px;\n",
              "    }\n",
              "\n",
              "    .colab-df-convert:hover {\n",
              "      background-color: #E2EBFA;\n",
              "      box-shadow: 0px 1px 2px rgba(60, 64, 67, 0.3), 0px 1px 3px 1px rgba(60, 64, 67, 0.15);\n",
              "      fill: #174EA6;\n",
              "    }\n",
              "\n",
              "    [theme=dark] .colab-df-convert {\n",
              "      background-color: #3B4455;\n",
              "      fill: #D2E3FC;\n",
              "    }\n",
              "\n",
              "    [theme=dark] .colab-df-convert:hover {\n",
              "      background-color: #434B5C;\n",
              "      box-shadow: 0px 1px 3px 1px rgba(0, 0, 0, 0.15);\n",
              "      filter: drop-shadow(0px 1px 2px rgba(0, 0, 0, 0.3));\n",
              "      fill: #FFFFFF;\n",
              "    }\n",
              "  </style>\n",
              "\n",
              "      <script>\n",
              "        const buttonEl =\n",
              "          document.querySelector('#df-cc315f89-01b3-492a-abf9-806145809810 button.colab-df-convert');\n",
              "        buttonEl.style.display =\n",
              "          google.colab.kernel.accessAllowed ? 'block' : 'none';\n",
              "\n",
              "        async function convertToInteractive(key) {\n",
              "          const element = document.querySelector('#df-cc315f89-01b3-492a-abf9-806145809810');\n",
              "          const dataTable =\n",
              "            await google.colab.kernel.invokeFunction('convertToInteractive',\n",
              "                                                     [key], {});\n",
              "          if (!dataTable) return;\n",
              "\n",
              "          const docLinkHtml = 'Like what you see? Visit the ' +\n",
              "            '<a target=\"_blank\" href=https://colab.research.google.com/notebooks/data_table.ipynb>data table notebook</a>'\n",
              "            + ' to learn more about interactive tables.';\n",
              "          element.innerHTML = '';\n",
              "          dataTable['output_type'] = 'display_data';\n",
              "          await google.colab.output.renderOutput(dataTable, element);\n",
              "          const docLink = document.createElement('div');\n",
              "          docLink.innerHTML = docLinkHtml;\n",
              "          element.appendChild(docLink);\n",
              "        }\n",
              "      </script>\n",
              "    </div>\n",
              "  </div>\n",
              "  "
            ]
          },
          "metadata": {},
          "execution_count": 4
        }
      ]
    },
    {
      "cell_type": "code",
      "source": [
        "train_df.info()"
      ],
      "metadata": {
        "colab": {
          "base_uri": "https://localhost:8080/"
        },
        "id": "Kv6yktWGObiG",
        "outputId": "fb19df03-c567-4088-b06f-71a69f4ebbcc"
      },
      "execution_count": 5,
      "outputs": [
        {
          "output_type": "stream",
          "name": "stdout",
          "text": [
            "<class 'pandas.core.frame.DataFrame'>\n",
            "RangeIndex: 7613 entries, 0 to 7612\n",
            "Data columns (total 5 columns):\n",
            " #   Column    Non-Null Count  Dtype \n",
            "---  ------    --------------  ----- \n",
            " 0   id        7613 non-null   int64 \n",
            " 1   keyword   7552 non-null   object\n",
            " 2   location  5080 non-null   object\n",
            " 3   text      7613 non-null   object\n",
            " 4   target    7613 non-null   int64 \n",
            "dtypes: int64(2), object(3)\n",
            "memory usage: 297.5+ KB\n"
          ]
        }
      ]
    },
    {
      "cell_type": "code",
      "source": [
        "train_df.describe()"
      ],
      "metadata": {
        "colab": {
          "base_uri": "https://localhost:8080/",
          "height": 300
        },
        "id": "BMGumNLBOylX",
        "outputId": "b3b968e2-401d-4ab0-cd54-0dd441cd44d6"
      },
      "execution_count": 6,
      "outputs": [
        {
          "output_type": "execute_result",
          "data": {
            "text/plain": [
              "                 id      target\n",
              "count   7613.000000  7613.00000\n",
              "mean    5441.934848     0.42966\n",
              "std     3137.116090     0.49506\n",
              "min        1.000000     0.00000\n",
              "25%     2734.000000     0.00000\n",
              "50%     5408.000000     0.00000\n",
              "75%     8146.000000     1.00000\n",
              "max    10873.000000     1.00000"
            ],
            "text/html": [
              "\n",
              "  <div id=\"df-ca92a67b-4e48-47df-867a-e527d090e6c6\">\n",
              "    <div class=\"colab-df-container\">\n",
              "      <div>\n",
              "<style scoped>\n",
              "    .dataframe tbody tr th:only-of-type {\n",
              "        vertical-align: middle;\n",
              "    }\n",
              "\n",
              "    .dataframe tbody tr th {\n",
              "        vertical-align: top;\n",
              "    }\n",
              "\n",
              "    .dataframe thead th {\n",
              "        text-align: right;\n",
              "    }\n",
              "</style>\n",
              "<table border=\"1\" class=\"dataframe\">\n",
              "  <thead>\n",
              "    <tr style=\"text-align: right;\">\n",
              "      <th></th>\n",
              "      <th>id</th>\n",
              "      <th>target</th>\n",
              "    </tr>\n",
              "  </thead>\n",
              "  <tbody>\n",
              "    <tr>\n",
              "      <th>count</th>\n",
              "      <td>7613.000000</td>\n",
              "      <td>7613.00000</td>\n",
              "    </tr>\n",
              "    <tr>\n",
              "      <th>mean</th>\n",
              "      <td>5441.934848</td>\n",
              "      <td>0.42966</td>\n",
              "    </tr>\n",
              "    <tr>\n",
              "      <th>std</th>\n",
              "      <td>3137.116090</td>\n",
              "      <td>0.49506</td>\n",
              "    </tr>\n",
              "    <tr>\n",
              "      <th>min</th>\n",
              "      <td>1.000000</td>\n",
              "      <td>0.00000</td>\n",
              "    </tr>\n",
              "    <tr>\n",
              "      <th>25%</th>\n",
              "      <td>2734.000000</td>\n",
              "      <td>0.00000</td>\n",
              "    </tr>\n",
              "    <tr>\n",
              "      <th>50%</th>\n",
              "      <td>5408.000000</td>\n",
              "      <td>0.00000</td>\n",
              "    </tr>\n",
              "    <tr>\n",
              "      <th>75%</th>\n",
              "      <td>8146.000000</td>\n",
              "      <td>1.00000</td>\n",
              "    </tr>\n",
              "    <tr>\n",
              "      <th>max</th>\n",
              "      <td>10873.000000</td>\n",
              "      <td>1.00000</td>\n",
              "    </tr>\n",
              "  </tbody>\n",
              "</table>\n",
              "</div>\n",
              "      <button class=\"colab-df-convert\" onclick=\"convertToInteractive('df-ca92a67b-4e48-47df-867a-e527d090e6c6')\"\n",
              "              title=\"Convert this dataframe to an interactive table.\"\n",
              "              style=\"display:none;\">\n",
              "        \n",
              "  <svg xmlns=\"http://www.w3.org/2000/svg\" height=\"24px\"viewBox=\"0 0 24 24\"\n",
              "       width=\"24px\">\n",
              "    <path d=\"M0 0h24v24H0V0z\" fill=\"none\"/>\n",
              "    <path d=\"M18.56 5.44l.94 2.06.94-2.06 2.06-.94-2.06-.94-.94-2.06-.94 2.06-2.06.94zm-11 1L8.5 8.5l.94-2.06 2.06-.94-2.06-.94L8.5 2.5l-.94 2.06-2.06.94zm10 10l.94 2.06.94-2.06 2.06-.94-2.06-.94-.94-2.06-.94 2.06-2.06.94z\"/><path d=\"M17.41 7.96l-1.37-1.37c-.4-.4-.92-.59-1.43-.59-.52 0-1.04.2-1.43.59L10.3 9.45l-7.72 7.72c-.78.78-.78 2.05 0 2.83L4 21.41c.39.39.9.59 1.41.59.51 0 1.02-.2 1.41-.59l7.78-7.78 2.81-2.81c.8-.78.8-2.07 0-2.86zM5.41 20L4 18.59l7.72-7.72 1.47 1.35L5.41 20z\"/>\n",
              "  </svg>\n",
              "      </button>\n",
              "      \n",
              "  <style>\n",
              "    .colab-df-container {\n",
              "      display:flex;\n",
              "      flex-wrap:wrap;\n",
              "      gap: 12px;\n",
              "    }\n",
              "\n",
              "    .colab-df-convert {\n",
              "      background-color: #E8F0FE;\n",
              "      border: none;\n",
              "      border-radius: 50%;\n",
              "      cursor: pointer;\n",
              "      display: none;\n",
              "      fill: #1967D2;\n",
              "      height: 32px;\n",
              "      padding: 0 0 0 0;\n",
              "      width: 32px;\n",
              "    }\n",
              "\n",
              "    .colab-df-convert:hover {\n",
              "      background-color: #E2EBFA;\n",
              "      box-shadow: 0px 1px 2px rgba(60, 64, 67, 0.3), 0px 1px 3px 1px rgba(60, 64, 67, 0.15);\n",
              "      fill: #174EA6;\n",
              "    }\n",
              "\n",
              "    [theme=dark] .colab-df-convert {\n",
              "      background-color: #3B4455;\n",
              "      fill: #D2E3FC;\n",
              "    }\n",
              "\n",
              "    [theme=dark] .colab-df-convert:hover {\n",
              "      background-color: #434B5C;\n",
              "      box-shadow: 0px 1px 3px 1px rgba(0, 0, 0, 0.15);\n",
              "      filter: drop-shadow(0px 1px 2px rgba(0, 0, 0, 0.3));\n",
              "      fill: #FFFFFF;\n",
              "    }\n",
              "  </style>\n",
              "\n",
              "      <script>\n",
              "        const buttonEl =\n",
              "          document.querySelector('#df-ca92a67b-4e48-47df-867a-e527d090e6c6 button.colab-df-convert');\n",
              "        buttonEl.style.display =\n",
              "          google.colab.kernel.accessAllowed ? 'block' : 'none';\n",
              "\n",
              "        async function convertToInteractive(key) {\n",
              "          const element = document.querySelector('#df-ca92a67b-4e48-47df-867a-e527d090e6c6');\n",
              "          const dataTable =\n",
              "            await google.colab.kernel.invokeFunction('convertToInteractive',\n",
              "                                                     [key], {});\n",
              "          if (!dataTable) return;\n",
              "\n",
              "          const docLinkHtml = 'Like what you see? Visit the ' +\n",
              "            '<a target=\"_blank\" href=https://colab.research.google.com/notebooks/data_table.ipynb>data table notebook</a>'\n",
              "            + ' to learn more about interactive tables.';\n",
              "          element.innerHTML = '';\n",
              "          dataTable['output_type'] = 'display_data';\n",
              "          await google.colab.output.renderOutput(dataTable, element);\n",
              "          const docLink = document.createElement('div');\n",
              "          docLink.innerHTML = docLinkHtml;\n",
              "          element.appendChild(docLink);\n",
              "        }\n",
              "      </script>\n",
              "    </div>\n",
              "  </div>\n",
              "  "
            ]
          },
          "metadata": {},
          "execution_count": 6
        }
      ]
    },
    {
      "cell_type": "code",
      "source": [
        "train_df.describe(include=['O'])"
      ],
      "metadata": {
        "colab": {
          "base_uri": "https://localhost:8080/",
          "height": 175
        },
        "id": "-E8CiRRlXm0p",
        "outputId": "c2c25311-e335-4714-ba45-173a0b9ecc13"
      },
      "execution_count": 7,
      "outputs": [
        {
          "output_type": "execute_result",
          "data": {
            "text/plain": [
              "           keyword location                                               text\n",
              "count         7552     5080                                               7613\n",
              "unique         221     3341                                               7503\n",
              "top     fatalities      USA  11-Year-Old Boy Charged With Manslaughter of T...\n",
              "freq            45      104                                                 10"
            ],
            "text/html": [
              "\n",
              "  <div id=\"df-157062c5-2d50-4e0c-a383-6411fcf169f2\">\n",
              "    <div class=\"colab-df-container\">\n",
              "      <div>\n",
              "<style scoped>\n",
              "    .dataframe tbody tr th:only-of-type {\n",
              "        vertical-align: middle;\n",
              "    }\n",
              "\n",
              "    .dataframe tbody tr th {\n",
              "        vertical-align: top;\n",
              "    }\n",
              "\n",
              "    .dataframe thead th {\n",
              "        text-align: right;\n",
              "    }\n",
              "</style>\n",
              "<table border=\"1\" class=\"dataframe\">\n",
              "  <thead>\n",
              "    <tr style=\"text-align: right;\">\n",
              "      <th></th>\n",
              "      <th>keyword</th>\n",
              "      <th>location</th>\n",
              "      <th>text</th>\n",
              "    </tr>\n",
              "  </thead>\n",
              "  <tbody>\n",
              "    <tr>\n",
              "      <th>count</th>\n",
              "      <td>7552</td>\n",
              "      <td>5080</td>\n",
              "      <td>7613</td>\n",
              "    </tr>\n",
              "    <tr>\n",
              "      <th>unique</th>\n",
              "      <td>221</td>\n",
              "      <td>3341</td>\n",
              "      <td>7503</td>\n",
              "    </tr>\n",
              "    <tr>\n",
              "      <th>top</th>\n",
              "      <td>fatalities</td>\n",
              "      <td>USA</td>\n",
              "      <td>11-Year-Old Boy Charged With Manslaughter of T...</td>\n",
              "    </tr>\n",
              "    <tr>\n",
              "      <th>freq</th>\n",
              "      <td>45</td>\n",
              "      <td>104</td>\n",
              "      <td>10</td>\n",
              "    </tr>\n",
              "  </tbody>\n",
              "</table>\n",
              "</div>\n",
              "      <button class=\"colab-df-convert\" onclick=\"convertToInteractive('df-157062c5-2d50-4e0c-a383-6411fcf169f2')\"\n",
              "              title=\"Convert this dataframe to an interactive table.\"\n",
              "              style=\"display:none;\">\n",
              "        \n",
              "  <svg xmlns=\"http://www.w3.org/2000/svg\" height=\"24px\"viewBox=\"0 0 24 24\"\n",
              "       width=\"24px\">\n",
              "    <path d=\"M0 0h24v24H0V0z\" fill=\"none\"/>\n",
              "    <path d=\"M18.56 5.44l.94 2.06.94-2.06 2.06-.94-2.06-.94-.94-2.06-.94 2.06-2.06.94zm-11 1L8.5 8.5l.94-2.06 2.06-.94-2.06-.94L8.5 2.5l-.94 2.06-2.06.94zm10 10l.94 2.06.94-2.06 2.06-.94-2.06-.94-.94-2.06-.94 2.06-2.06.94z\"/><path d=\"M17.41 7.96l-1.37-1.37c-.4-.4-.92-.59-1.43-.59-.52 0-1.04.2-1.43.59L10.3 9.45l-7.72 7.72c-.78.78-.78 2.05 0 2.83L4 21.41c.39.39.9.59 1.41.59.51 0 1.02-.2 1.41-.59l7.78-7.78 2.81-2.81c.8-.78.8-2.07 0-2.86zM5.41 20L4 18.59l7.72-7.72 1.47 1.35L5.41 20z\"/>\n",
              "  </svg>\n",
              "      </button>\n",
              "      \n",
              "  <style>\n",
              "    .colab-df-container {\n",
              "      display:flex;\n",
              "      flex-wrap:wrap;\n",
              "      gap: 12px;\n",
              "    }\n",
              "\n",
              "    .colab-df-convert {\n",
              "      background-color: #E8F0FE;\n",
              "      border: none;\n",
              "      border-radius: 50%;\n",
              "      cursor: pointer;\n",
              "      display: none;\n",
              "      fill: #1967D2;\n",
              "      height: 32px;\n",
              "      padding: 0 0 0 0;\n",
              "      width: 32px;\n",
              "    }\n",
              "\n",
              "    .colab-df-convert:hover {\n",
              "      background-color: #E2EBFA;\n",
              "      box-shadow: 0px 1px 2px rgba(60, 64, 67, 0.3), 0px 1px 3px 1px rgba(60, 64, 67, 0.15);\n",
              "      fill: #174EA6;\n",
              "    }\n",
              "\n",
              "    [theme=dark] .colab-df-convert {\n",
              "      background-color: #3B4455;\n",
              "      fill: #D2E3FC;\n",
              "    }\n",
              "\n",
              "    [theme=dark] .colab-df-convert:hover {\n",
              "      background-color: #434B5C;\n",
              "      box-shadow: 0px 1px 3px 1px rgba(0, 0, 0, 0.15);\n",
              "      filter: drop-shadow(0px 1px 2px rgba(0, 0, 0, 0.3));\n",
              "      fill: #FFFFFF;\n",
              "    }\n",
              "  </style>\n",
              "\n",
              "      <script>\n",
              "        const buttonEl =\n",
              "          document.querySelector('#df-157062c5-2d50-4e0c-a383-6411fcf169f2 button.colab-df-convert');\n",
              "        buttonEl.style.display =\n",
              "          google.colab.kernel.accessAllowed ? 'block' : 'none';\n",
              "\n",
              "        async function convertToInteractive(key) {\n",
              "          const element = document.querySelector('#df-157062c5-2d50-4e0c-a383-6411fcf169f2');\n",
              "          const dataTable =\n",
              "            await google.colab.kernel.invokeFunction('convertToInteractive',\n",
              "                                                     [key], {});\n",
              "          if (!dataTable) return;\n",
              "\n",
              "          const docLinkHtml = 'Like what you see? Visit the ' +\n",
              "            '<a target=\"_blank\" href=https://colab.research.google.com/notebooks/data_table.ipynb>data table notebook</a>'\n",
              "            + ' to learn more about interactive tables.';\n",
              "          element.innerHTML = '';\n",
              "          dataTable['output_type'] = 'display_data';\n",
              "          await google.colab.output.renderOutput(dataTable, element);\n",
              "          const docLink = document.createElement('div');\n",
              "          docLink.innerHTML = docLinkHtml;\n",
              "          element.appendChild(docLink);\n",
              "        }\n",
              "      </script>\n",
              "    </div>\n",
              "  </div>\n",
              "  "
            ]
          },
          "metadata": {},
          "execution_count": 7
        }
      ]
    },
    {
      "cell_type": "code",
      "source": [
        "import matplotlib.pyplot as plt\n",
        "\n",
        "plt.hist(train_df['target'])\n",
        "plt.show()"
      ],
      "metadata": {
        "colab": {
          "base_uri": "https://localhost:8080/",
          "height": 265
        },
        "id": "QAxuX5UvYTIg",
        "outputId": "8d269f38-316b-4816-9b66-d01ec72a321f"
      },
      "execution_count": 8,
      "outputs": [
        {
          "output_type": "display_data",
          "data": {
            "text/plain": [
              "<Figure size 432x288 with 1 Axes>"
            ],
            "image/png": "[encoded data removed]"
          },
          "metadata": {
            "needs_background": "light"
          }
        }
      ]
    },
    {
      "cell_type": "code",
      "source": [
        "import random\n",
        "\n",
        "train_df_shuffled = train_df.sample(frac=1)\n",
        "i = random.randint(0, len(train_df)-5)\n",
        "df_5_sample = train_df_shuffled[i:i+5]\n",
        "df_5_sample"
      ],
      "metadata": {
        "colab": {
          "base_uri": "https://localhost:8080/",
          "height": 206
        },
        "id": "E-R3as4lPDrw",
        "outputId": "0e22a6d4-63ea-4ebc-a674-b5605e9fa429"
      },
      "execution_count": 9,
      "outputs": [
        {
          "output_type": "execute_result",
          "data": {
            "text/plain": [
              "         id       keyword               location  \\\n",
              "4373   6213      hijacker         Sacramento, CA   \n",
              "6958   9983       tsunami  Winter Park, Colorado   \n",
              "2998   4306  dust%20storm                    NaN   \n",
              "1451   2094      casualty       Washington, D.C.   \n",
              "7488  10710         wreck               new york   \n",
              "\n",
              "                                                   text  target  \n",
              "4373  California School Bus Hijacker Parole Stands h...       1  \n",
              "6958  'Anyway' the old lady went on 'I have somethin...       0  \n",
              "2998  Kids Disappear in Dust Storm in Atmospheric Au...       1  \n",
              "1451  Canceling Deal for 2 Warships #France Agrees t...       0  \n",
              "7488  act my age was a MESS everyone was so wild it ...       0  "
            ],
            "text/html": [
              "\n",
              "  <div id=\"df-58435add-548f-41d5-9870-95d6ee0ba2eb\">\n",
              "    <div class=\"colab-df-container\">\n",
              "      <div>\n",
              "<style scoped>\n",
              "    .dataframe tbody tr th:only-of-type {\n",
              "        vertical-align: middle;\n",
              "    }\n",
              "\n",
              "    .dataframe tbody tr th {\n",
              "        vertical-align: top;\n",
              "    }\n",
              "\n",
              "    .dataframe thead th {\n",
              "        text-align: right;\n",
              "    }\n",
              "</style>\n",
              "<table border=\"1\" class=\"dataframe\">\n",
              "  <thead>\n",
              "    <tr style=\"text-align: right;\">\n",
              "      <th></th>\n",
              "      <th>id</th>\n",
              "      <th>keyword</th>\n",
              "      <th>location</th>\n",
              "      <th>text</th>\n",
              "      <th>target</th>\n",
              "    </tr>\n",
              "  </thead>\n",
              "  <tbody>\n",
              "    <tr>\n",
              "      <th>4373</th>\n",
              "      <td>6213</td>\n",
              "      <td>hijacker</td>\n",
              "      <td>Sacramento, CA</td>\n",
              "      <td>California School Bus Hijacker Parole Stands h...</td>\n",
              "      <td>1</td>\n",
              "    </tr>\n",
              "    <tr>\n",
              "      <th>6958</th>\n",
              "      <td>9983</td>\n",
              "      <td>tsunami</td>\n",
              "      <td>Winter Park, Colorado</td>\n",
              "      <td>'Anyway' the old lady went on 'I have somethin...</td>\n",
              "      <td>0</td>\n",
              "    </tr>\n",
              "    <tr>\n",
              "      <th>2998</th>\n",
              "      <td>4306</td>\n",
              "      <td>dust%20storm</td>\n",
              "      <td>NaN</td>\n",
              "      <td>Kids Disappear in Dust Storm in Atmospheric Au...</td>\n",
              "      <td>1</td>\n",
              "    </tr>\n",
              "    <tr>\n",
              "      <th>1451</th>\n",
              "      <td>2094</td>\n",
              "      <td>casualty</td>\n",
              "      <td>Washington, D.C.</td>\n",
              "      <td>Canceling Deal for 2 Warships #France Agrees t...</td>\n",
              "      <td>0</td>\n",
              "    </tr>\n",
              "    <tr>\n",
              "      <th>7488</th>\n",
              "      <td>10710</td>\n",
              "      <td>wreck</td>\n",
              "      <td>new york</td>\n",
              "      <td>act my age was a MESS everyone was so wild it ...</td>\n",
              "      <td>0</td>\n",
              "    </tr>\n",
              "  </tbody>\n",
              "</table>\n",
              "</div>\n",
              "      <button class=\"colab-df-convert\" onclick=\"convertToInteractive('df-58435add-548f-41d5-9870-95d6ee0ba2eb')\"\n",
              "              title=\"Convert this dataframe to an interactive table.\"\n",
              "              style=\"display:none;\">\n",
              "        \n",
              "  <svg xmlns=\"http://www.w3.org/2000/svg\" height=\"24px\"viewBox=\"0 0 24 24\"\n",
              "       width=\"24px\">\n",
              "    <path d=\"M0 0h24v24H0V0z\" fill=\"none\"/>\n",
              "    <path d=\"M18.56 5.44l.94 2.06.94-2.06 2.06-.94-2.06-.94-.94-2.06-.94 2.06-2.06.94zm-11 1L8.5 8.5l.94-2.06 2.06-.94-2.06-.94L8.5 2.5l-.94 2.06-2.06.94zm10 10l.94 2.06.94-2.06 2.06-.94-2.06-.94-.94-2.06-.94 2.06-2.06.94z\"/><path d=\"M17.41 7.96l-1.37-1.37c-.4-.4-.92-.59-1.43-.59-.52 0-1.04.2-1.43.59L10.3 9.45l-7.72 7.72c-.78.78-.78 2.05 0 2.83L4 21.41c.39.39.9.59 1.41.59.51 0 1.02-.2 1.41-.59l7.78-7.78 2.81-2.81c.8-.78.8-2.07 0-2.86zM5.41 20L4 18.59l7.72-7.72 1.47 1.35L5.41 20z\"/>\n",
              "  </svg>\n",
              "      </button>\n",
              "      \n",
              "  <style>\n",
              "    .colab-df-container {\n",
              "      display:flex;\n",
              "      flex-wrap:wrap;\n",
              "      gap: 12px;\n",
              "    }\n",
              "\n",
              "    .colab-df-convert {\n",
              "      background-color: #E8F0FE;\n",
              "      border: none;\n",
              "      border-radius: 50%;\n",
              "      cursor: pointer;\n",
              "      display: none;\n",
              "      fill: #1967D2;\n",
              "      height: 32px;\n",
              "      padding: 0 0 0 0;\n",
              "      width: 32px;\n",
              "    }\n",
              "\n",
              "    .colab-df-convert:hover {\n",
              "      background-color: #E2EBFA;\n",
              "      box-shadow: 0px 1px 2px rgba(60, 64, 67, 0.3), 0px 1px 3px 1px rgba(60, 64, 67, 0.15);\n",
              "      fill: #174EA6;\n",
              "    }\n",
              "\n",
              "    [theme=dark] .colab-df-convert {\n",
              "      background-color: #3B4455;\n",
              "      fill: #D2E3FC;\n",
              "    }\n",
              "\n",
              "    [theme=dark] .colab-df-convert:hover {\n",
              "      background-color: #434B5C;\n",
              "      box-shadow: 0px 1px 3px 1px rgba(0, 0, 0, 0.15);\n",
              "      filter: drop-shadow(0px 1px 2px rgba(0, 0, 0, 0.3));\n",
              "      fill: #FFFFFF;\n",
              "    }\n",
              "  </style>\n",
              "\n",
              "      <script>\n",
              "        const buttonEl =\n",
              "          document.querySelector('#df-58435add-548f-41d5-9870-95d6ee0ba2eb button.colab-df-convert');\n",
              "        buttonEl.style.display =\n",
              "          google.colab.kernel.accessAllowed ? 'block' : 'none';\n",
              "\n",
              "        async function convertToInteractive(key) {\n",
              "          const element = document.querySelector('#df-58435add-548f-41d5-9870-95d6ee0ba2eb');\n",
              "          const dataTable =\n",
              "            await google.colab.kernel.invokeFunction('convertToInteractive',\n",
              "                                                     [key], {});\n",
              "          if (!dataTable) return;\n",
              "\n",
              "          const docLinkHtml = 'Like what you see? Visit the ' +\n",
              "            '<a target=\"_blank\" href=https://colab.research.google.com/notebooks/data_table.ipynb>data table notebook</a>'\n",
              "            + ' to learn more about interactive tables.';\n",
              "          element.innerHTML = '';\n",
              "          dataTable['output_type'] = 'display_data';\n",
              "          await google.colab.output.renderOutput(dataTable, element);\n",
              "          const docLink = document.createElement('div');\n",
              "          docLink.innerHTML = docLinkHtml;\n",
              "          element.appendChild(docLink);\n",
              "        }\n",
              "      </script>\n",
              "    </div>\n",
              "  </div>\n",
              "  "
            ]
          },
          "metadata": {},
          "execution_count": 9
        }
      ]
    },
    {
      "cell_type": "code",
      "source": [
        "train_df_shuffled[['text']]"
      ],
      "metadata": {
        "colab": {
          "base_uri": "https://localhost:8080/",
          "height": 424
        },
        "id": "Mf1Gymm5TiRx",
        "outputId": "1a4bfa77-728e-474b-e068-1c177dca00da"
      },
      "execution_count": 10,
      "outputs": [
        {
          "output_type": "execute_result",
          "data": {
            "text/plain": [
              "                                                   text\n",
              "3714  @CowgirlLawyer We must refuse to become a nati...\n",
              "7128  Japan Aogashima Volcano. By Unknown - Check It...\n",
              "6813            @almusafirah_ you feel trapped innit ??\n",
              "2664  @channelstv:That's why terrorism is not d war ...\n",
              "1391                  The Bush fires in CA are so crazy\n",
              "...                                                 ...\n",
              "7098  #Amsterdam POV video captures violent landing ...\n",
              "1763  @MissJadeBrown tells of the tragic mid-morning...\n",
              "5078  This is the natural and unavoidable consequenc...\n",
              "6677  Okay maybe not as extreme as thunder and light...\n",
              "7603  Officials say a quarantine is in place at an A...\n",
              "\n",
              "[7613 rows x 1 columns]"
            ],
            "text/html": [
              "\n",
              "  <div id=\"df-cc02d863-f06b-4e8b-9795-e00b73fb8368\">\n",
              "    <div class=\"colab-df-container\">\n",
              "      <div>\n",
              "<style scoped>\n",
              "    .dataframe tbody tr th:only-of-type {\n",
              "        vertical-align: middle;\n",
              "    }\n",
              "\n",
              "    .dataframe tbody tr th {\n",
              "        vertical-align: top;\n",
              "    }\n",
              "\n",
              "    .dataframe thead th {\n",
              "        text-align: right;\n",
              "    }\n",
              "</style>\n",
              "<table border=\"1\" class=\"dataframe\">\n",
              "  <thead>\n",
              "    <tr style=\"text-align: right;\">\n",
              "      <th></th>\n",
              "      <th>text</th>\n",
              "    </tr>\n",
              "  </thead>\n",
              "  <tbody>\n",
              "    <tr>\n",
              "      <th>3714</th>\n",
              "      <td>@CowgirlLawyer We must refuse to become a nati...</td>\n",
              "    </tr>\n",
              "    <tr>\n",
              "      <th>7128</th>\n",
              "      <td>Japan Aogashima Volcano. By Unknown - Check It...</td>\n",
              "    </tr>\n",
              "    <tr>\n",
              "      <th>6813</th>\n",
              "      <td>@almusafirah_ you feel trapped innit ??</td>\n",
              "    </tr>\n",
              "    <tr>\n",
              "      <th>2664</th>\n",
              "      <td>@channelstv:That's why terrorism is not d war ...</td>\n",
              "    </tr>\n",
              "    <tr>\n",
              "      <th>1391</th>\n",
              "      <td>The Bush fires in CA are so crazy</td>\n",
              "    </tr>\n",
              "    <tr>\n",
              "      <th>...</th>\n",
              "      <td>...</td>\n",
              "    </tr>\n",
              "    <tr>\n",
              "      <th>7098</th>\n",
              "      <td>#Amsterdam POV video captures violent landing ...</td>\n",
              "    </tr>\n",
              "    <tr>\n",
              "      <th>1763</th>\n",
              "      <td>@MissJadeBrown tells of the tragic mid-morning...</td>\n",
              "    </tr>\n",
              "    <tr>\n",
              "      <th>5078</th>\n",
              "      <td>This is the natural and unavoidable consequenc...</td>\n",
              "    </tr>\n",
              "    <tr>\n",
              "      <th>6677</th>\n",
              "      <td>Okay maybe not as extreme as thunder and light...</td>\n",
              "    </tr>\n",
              "    <tr>\n",
              "      <th>7603</th>\n",
              "      <td>Officials say a quarantine is in place at an A...</td>\n",
              "    </tr>\n",
              "  </tbody>\n",
              "</table>\n",
              "<p>7613 rows × 1 columns</p>\n",
              "</div>\n",
              "      <button class=\"colab-df-convert\" onclick=\"convertToInteractive('df-cc02d863-f06b-4e8b-9795-e00b73fb8368')\"\n",
              "              title=\"Convert this dataframe to an interactive table.\"\n",
              "              style=\"display:none;\">\n",
              "        \n",
              "  <svg xmlns=\"http://www.w3.org/2000/svg\" height=\"24px\"viewBox=\"0 0 24 24\"\n",
              "       width=\"24px\">\n",
              "    <path d=\"M0 0h24v24H0V0z\" fill=\"none\"/>\n",
              "    <path d=\"M18.56 5.44l.94 2.06.94-2.06 2.06-.94-2.06-.94-.94-2.06-.94 2.06-2.06.94zm-11 1L8.5 8.5l.94-2.06 2.06-.94-2.06-.94L8.5 2.5l-.94 2.06-2.06.94zm10 10l.94 2.06.94-2.06 2.06-.94-2.06-.94-.94-2.06-.94 2.06-2.06.94z\"/><path d=\"M17.41 7.96l-1.37-1.37c-.4-.4-.92-.59-1.43-.59-.52 0-1.04.2-1.43.59L10.3 9.45l-7.72 7.72c-.78.78-.78 2.05 0 2.83L4 21.41c.39.39.9.59 1.41.59.51 0 1.02-.2 1.41-.59l7.78-7.78 2.81-2.81c.8-.78.8-2.07 0-2.86zM5.41 20L4 18.59l7.72-7.72 1.47 1.35L5.41 20z\"/>\n",
              "  </svg>\n",
              "      </button>\n",
              "      \n",
              "  <style>\n",
              "    .colab-df-container {\n",
              "      display:flex;\n",
              "      flex-wrap:wrap;\n",
              "      gap: 12px;\n",
              "    }\n",
              "\n",
              "    .colab-df-convert {\n",
              "      background-color: #E8F0FE;\n",
              "      border: none;\n",
              "      border-radius: 50%;\n",
              "      cursor: pointer;\n",
              "      display: none;\n",
              "      fill: #1967D2;\n",
              "      height: 32px;\n",
              "      padding: 0 0 0 0;\n",
              "      width: 32px;\n",
              "    }\n",
              "\n",
              "    .colab-df-convert:hover {\n",
              "      background-color: #E2EBFA;\n",
              "      box-shadow: 0px 1px 2px rgba(60, 64, 67, 0.3), 0px 1px 3px 1px rgba(60, 64, 67, 0.15);\n",
              "      fill: #174EA6;\n",
              "    }\n",
              "\n",
              "    [theme=dark] .colab-df-convert {\n",
              "      background-color: #3B4455;\n",
              "      fill: #D2E3FC;\n",
              "    }\n",
              "\n",
              "    [theme=dark] .colab-df-convert:hover {\n",
              "      background-color: #434B5C;\n",
              "      box-shadow: 0px 1px 3px 1px rgba(0, 0, 0, 0.15);\n",
              "      filter: drop-shadow(0px 1px 2px rgba(0, 0, 0, 0.3));\n",
              "      fill: #FFFFFF;\n",
              "    }\n",
              "  </style>\n",
              "\n",
              "      <script>\n",
              "        const buttonEl =\n",
              "          document.querySelector('#df-cc02d863-f06b-4e8b-9795-e00b73fb8368 button.colab-df-convert');\n",
              "        buttonEl.style.display =\n",
              "          google.colab.kernel.accessAllowed ? 'block' : 'none';\n",
              "\n",
              "        async function convertToInteractive(key) {\n",
              "          const element = document.querySelector('#df-cc02d863-f06b-4e8b-9795-e00b73fb8368');\n",
              "          const dataTable =\n",
              "            await google.colab.kernel.invokeFunction('convertToInteractive',\n",
              "                                                     [key], {});\n",
              "          if (!dataTable) return;\n",
              "\n",
              "          const docLinkHtml = 'Like what you see? Visit the ' +\n",
              "            '<a target=\"_blank\" href=https://colab.research.google.com/notebooks/data_table.ipynb>data table notebook</a>'\n",
              "            + ' to learn more about interactive tables.';\n",
              "          element.innerHTML = '';\n",
              "          dataTable['output_type'] = 'display_data';\n",
              "          await google.colab.output.renderOutput(dataTable, element);\n",
              "          const docLink = document.createElement('div');\n",
              "          docLink.innerHTML = docLinkHtml;\n",
              "          element.appendChild(docLink);\n",
              "        }\n",
              "      </script>\n",
              "    </div>\n",
              "  </div>\n",
              "  "
            ]
          },
          "metadata": {},
          "execution_count": 10
        }
      ]
    },
    {
      "cell_type": "code",
      "source": [
        "train_df_shuffled[['text', 'target']]"
      ],
      "metadata": {
        "colab": {
          "base_uri": "https://localhost:8080/",
          "height": 424
        },
        "id": "97fejnGeTpsL",
        "outputId": "1a6f4360-56aa-4116-ad51-764798eb7eb4"
      },
      "execution_count": 11,
      "outputs": [
        {
          "output_type": "execute_result",
          "data": {
            "text/plain": [
              "                                                   text  target\n",
              "3714  @CowgirlLawyer We must refuse to become a nati...       1\n",
              "7128  Japan Aogashima Volcano. By Unknown - Check It...       1\n",
              "6813            @almusafirah_ you feel trapped innit ??       0\n",
              "2664  @channelstv:That's why terrorism is not d war ...       1\n",
              "1391                  The Bush fires in CA are so crazy       1\n",
              "...                                                 ...     ...\n",
              "7098  #Amsterdam POV video captures violent landing ...       1\n",
              "1763  @MissJadeBrown tells of the tragic mid-morning...       1\n",
              "5078  This is the natural and unavoidable consequenc...       0\n",
              "6677  Okay maybe not as extreme as thunder and light...       0\n",
              "7603  Officials say a quarantine is in place at an A...       1\n",
              "\n",
              "[7613 rows x 2 columns]"
            ],
            "text/html": [
              "\n",
              "  <div id=\"df-e806f13c-194c-42d2-86aa-25ee6b2e1af4\">\n",
              "    <div class=\"colab-df-container\">\n",
              "      <div>\n",
              "<style scoped>\n",
              "    .dataframe tbody tr th:only-of-type {\n",
              "        vertical-align: middle;\n",
              "    }\n",
              "\n",
              "    .dataframe tbody tr th {\n",
              "        vertical-align: top;\n",
              "    }\n",
              "\n",
              "    .dataframe thead th {\n",
              "        text-align: right;\n",
              "    }\n",
              "</style>\n",
              "<table border=\"1\" class=\"dataframe\">\n",
              "  <thead>\n",
              "    <tr style=\"text-align: right;\">\n",
              "      <th></th>\n",
              "      <th>text</th>\n",
              "      <th>target</th>\n",
              "    </tr>\n",
              "  </thead>\n",
              "  <tbody>\n",
              "    <tr>\n",
              "      <th>3714</th>\n",
              "      <td>@CowgirlLawyer We must refuse to become a nati...</td>\n",
              "      <td>1</td>\n",
              "    </tr>\n",
              "    <tr>\n",
              "      <th>7128</th>\n",
              "      <td>Japan Aogashima Volcano. By Unknown - Check It...</td>\n",
              "      <td>1</td>\n",
              "    </tr>\n",
              "    <tr>\n",
              "      <th>6813</th>\n",
              "      <td>@almusafirah_ you feel trapped innit ??</td>\n",
              "      <td>0</td>\n",
              "    </tr>\n",
              "    <tr>\n",
              "      <th>2664</th>\n",
              "      <td>@channelstv:That's why terrorism is not d war ...</td>\n",
              "      <td>1</td>\n",
              "    </tr>\n",
              "    <tr>\n",
              "      <th>1391</th>\n",
              "      <td>The Bush fires in CA are so crazy</td>\n",
              "      <td>1</td>\n",
              "    </tr>\n",
              "    <tr>\n",
              "      <th>...</th>\n",
              "      <td>...</td>\n",
              "      <td>...</td>\n",
              "    </tr>\n",
              "    <tr>\n",
              "      <th>7098</th>\n",
              "      <td>#Amsterdam POV video captures violent landing ...</td>\n",
              "      <td>1</td>\n",
              "    </tr>\n",
              "    <tr>\n",
              "      <th>1763</th>\n",
              "      <td>@MissJadeBrown tells of the tragic mid-morning...</td>\n",
              "      <td>1</td>\n",
              "    </tr>\n",
              "    <tr>\n",
              "      <th>5078</th>\n",
              "      <td>This is the natural and unavoidable consequenc...</td>\n",
              "      <td>0</td>\n",
              "    </tr>\n",
              "    <tr>\n",
              "      <th>6677</th>\n",
              "      <td>Okay maybe not as extreme as thunder and light...</td>\n",
              "      <td>0</td>\n",
              "    </tr>\n",
              "    <tr>\n",
              "      <th>7603</th>\n",
              "      <td>Officials say a quarantine is in place at an A...</td>\n",
              "      <td>1</td>\n",
              "    </tr>\n",
              "  </tbody>\n",
              "</table>\n",
              "<p>7613 rows × 2 columns</p>\n",
              "</div>\n",
              "      <button class=\"colab-df-convert\" onclick=\"convertToInteractive('df-e806f13c-194c-42d2-86aa-25ee6b2e1af4')\"\n",
              "              title=\"Convert this dataframe to an interactive table.\"\n",
              "              style=\"display:none;\">\n",
              "        \n",
              "  <svg xmlns=\"http://www.w3.org/2000/svg\" height=\"24px\"viewBox=\"0 0 24 24\"\n",
              "       width=\"24px\">\n",
              "    <path d=\"M0 0h24v24H0V0z\" fill=\"none\"/>\n",
              "    <path d=\"M18.56 5.44l.94 2.06.94-2.06 2.06-.94-2.06-.94-.94-2.06-.94 2.06-2.06.94zm-11 1L8.5 8.5l.94-2.06 2.06-.94-2.06-.94L8.5 2.5l-.94 2.06-2.06.94zm10 10l.94 2.06.94-2.06 2.06-.94-2.06-.94-.94-2.06-.94 2.06-2.06.94z\"/><path d=\"M17.41 7.96l-1.37-1.37c-.4-.4-.92-.59-1.43-.59-.52 0-1.04.2-1.43.59L10.3 9.45l-7.72 7.72c-.78.78-.78 2.05 0 2.83L4 21.41c.39.39.9.59 1.41.59.51 0 1.02-.2 1.41-.59l7.78-7.78 2.81-2.81c.8-.78.8-2.07 0-2.86zM5.41 20L4 18.59l7.72-7.72 1.47 1.35L5.41 20z\"/>\n",
              "  </svg>\n",
              "      </button>\n",
              "      \n",
              "  <style>\n",
              "    .colab-df-container {\n",
              "      display:flex;\n",
              "      flex-wrap:wrap;\n",
              "      gap: 12px;\n",
              "    }\n",
              "\n",
              "    .colab-df-convert {\n",
              "      background-color: #E8F0FE;\n",
              "      border: none;\n",
              "      border-radius: 50%;\n",
              "      cursor: pointer;\n",
              "      display: none;\n",
              "      fill: #1967D2;\n",
              "      height: 32px;\n",
              "      padding: 0 0 0 0;\n",
              "      width: 32px;\n",
              "    }\n",
              "\n",
              "    .colab-df-convert:hover {\n",
              "      background-color: #E2EBFA;\n",
              "      box-shadow: 0px 1px 2px rgba(60, 64, 67, 0.3), 0px 1px 3px 1px rgba(60, 64, 67, 0.15);\n",
              "      fill: #174EA6;\n",
              "    }\n",
              "\n",
              "    [theme=dark] .colab-df-convert {\n",
              "      background-color: #3B4455;\n",
              "      fill: #D2E3FC;\n",
              "    }\n",
              "\n",
              "    [theme=dark] .colab-df-convert:hover {\n",
              "      background-color: #434B5C;\n",
              "      box-shadow: 0px 1px 3px 1px rgba(0, 0, 0, 0.15);\n",
              "      filter: drop-shadow(0px 1px 2px rgba(0, 0, 0, 0.3));\n",
              "      fill: #FFFFFF;\n",
              "    }\n",
              "  </style>\n",
              "\n",
              "      <script>\n",
              "        const buttonEl =\n",
              "          document.querySelector('#df-e806f13c-194c-42d2-86aa-25ee6b2e1af4 button.colab-df-convert');\n",
              "        buttonEl.style.display =\n",
              "          google.colab.kernel.accessAllowed ? 'block' : 'none';\n",
              "\n",
              "        async function convertToInteractive(key) {\n",
              "          const element = document.querySelector('#df-e806f13c-194c-42d2-86aa-25ee6b2e1af4');\n",
              "          const dataTable =\n",
              "            await google.colab.kernel.invokeFunction('convertToInteractive',\n",
              "                                                     [key], {});\n",
              "          if (!dataTable) return;\n",
              "\n",
              "          const docLinkHtml = 'Like what you see? Visit the ' +\n",
              "            '<a target=\"_blank\" href=https://colab.research.google.com/notebooks/data_table.ipynb>data table notebook</a>'\n",
              "            + ' to learn more about interactive tables.';\n",
              "          element.innerHTML = '';\n",
              "          dataTable['output_type'] = 'display_data';\n",
              "          await google.colab.output.renderOutput(dataTable, element);\n",
              "          const docLink = document.createElement('div');\n",
              "          docLink.innerHTML = docLinkHtml;\n",
              "          element.appendChild(docLink);\n",
              "        }\n",
              "      </script>\n",
              "    </div>\n",
              "  </div>\n",
              "  "
            ]
          },
          "metadata": {},
          "execution_count": 11
        }
      ]
    },
    {
      "cell_type": "code",
      "source": [
        "i = random.randint(0, len(train_df)-5)\n",
        "for row in train_df_shuffled[['text', 'target']][i:i+5].itertuples():\n",
        "  _, text, target = row\n",
        "  print(f\"Text: {text}\")\n",
        "  print(f\"Is real disaster\" if target == 1 else \"Not a disaster\")"
      ],
      "metadata": {
        "colab": {
          "base_uri": "https://localhost:8080/"
        },
        "id": "4d8199BaTxYV",
        "outputId": "261b176e-2a62-44aa-e403-41955d85c9cb"
      },
      "execution_count": 12,
      "outputs": [
        {
          "output_type": "stream",
          "name": "stdout",
          "text": [
            "Text: Rly tragedy in MP: Some live to recount horror: ÛÏWhen I saw coaches of my train plunging into water I called myÛ_ http://t.co/gDjTzkpCHK\n",
            "Is real disaster\n",
            "Text: Family mourns drowning of 'superhero' toddler with rare epilepsy: Bradley Diebold suffered hundreds of epilepticÛ_ http://t.co/unsayJDTu7\n",
            "Not a disaster\n",
            "Text: I'm mentally preparing myself for a bomb ass school year if it's not I'm burning buildings ??\n",
            "Not a disaster\n",
            "Text: @Lightning_OOC I AM BEING SUBJECTED TO UNWARRANTED SEXUAL CONVERSATION.\n",
            "Not a disaster\n",
            "Text: Stuck in a rainstorm? Stay toward the middle of the road. Most streets are crowned so water tends to pool on the sides.\n",
            "Not a disaster\n"
          ]
        }
      ]
    },
    {
      "cell_type": "code",
      "source": [
        "train_df_shuffled[\"text\"].to_numpy()"
      ],
      "metadata": {
        "colab": {
          "base_uri": "https://localhost:8080/"
        },
        "id": "URzrhnX5PpFa",
        "outputId": "f29c1d6f-5d3a-4ddb-9290-b29d8e2ef365"
      },
      "execution_count": 13,
      "outputs": [
        {
          "output_type": "execute_result",
          "data": {
            "text/plain": [
              "array(['@CowgirlLawyer We must refuse to become a nation with everyone living in fear of being shot unawares by intoxicated &amp;/or crazy people.',\n",
              "       'Japan Aogashima Volcano. By Unknown - Check It Out! http://t.co/OegFQBIqIq\\n #Aogashima #Japan #photography #Volcano',\n",
              "       '@almusafirah_ you feel trapped innit ??', ...,\n",
              "       'This is the natural and unavoidable consequence of socialism everywhere it has been tried.\\nhttp://t.co/BbDpnj8XSx F',\n",
              "       'Okay maybe not as extreme as thunder and lightning but pretty much all other types! #FIFA16  https://t.co/ETuuYISLHw',\n",
              "       'Officials say a quarantine is in place at an Alabama home over a possible Ebola case after developing symptoms... http://t.co/rqKK15uhEY'],\n",
              "      dtype=object)"
            ]
          },
          "metadata": {},
          "execution_count": 13
        }
      ]
    },
    {
      "cell_type": "markdown",
      "source": [
        "##Data preprocessing"
      ],
      "metadata": {
        "id": "13qw17KtZeMk"
      }
    },
    {
      "cell_type": "code",
      "source": [
        "from sklearn.model_selection import train_test_split\n",
        "\n",
        "X_train, X_test, y_train, y_test = train_test_split(\n",
        "    train_df_shuffled[\"text\"].to_numpy(),\n",
        "    train_df_shuffled[\"target\"].to_numpy(),\n",
        "    test_size=0.1, random_state=42)"
      ],
      "metadata": {
        "id": "hhSwP0PNSPGO"
      },
      "execution_count": 14,
      "outputs": []
    },
    {
      "cell_type": "code",
      "source": [
        "X_train[:10], y_train[:10]"
      ],
      "metadata": {
        "colab": {
          "base_uri": "https://localhost:8080/"
        },
        "id": "JnsP_UfzVjdH",
        "outputId": "60828ffa-71b7-4482-acef-1aa1085a193e"
      },
      "execution_count": 15,
      "outputs": [
        {
          "output_type": "execute_result",
          "data": {
            "text/plain": [
              "(array(['Pandemonium In Aba As Woman Delivers Baby Without Face (Photos) - http://t.co/c5u9qsySeJ',\n",
              "        '24 killed in two simultaneous rail crash as acute floods derail the two trains #India #mumbai... http://t.co/4KBWPCmMbM',\n",
              "        'Ogun smugglers engage Customs in shootoutåÊ: Several persons were allegedly injured on Wednesday when men o... http://t.co/pUXBC2LoYK #RT',\n",
              "        'But if you build an army of 100 dogs and their leader is a lion all dogs will fight like a lion.',\n",
              "        \"@TheHammers_ @tonycottee1986 alsowhat if some of the 1st team players got injured?Then Bilic would get slated for playing themhe can't win\",\n",
              "        'Incase of accident the first responders would know that there is a baby present https://t.co/sNaYMLDIUN',\n",
              "        'Spot Flood Combo 53inch 300W Curved Cree LED Work Light Bar 4X4 Offroad Fog Lamp - Full re\\x89Û_ http://t.co/O097vSOtxk http://t.co/I23Xy7iEjj',\n",
              "        'Islamic State group threatens to kill hostage if \\x89Û÷Muslim women\\x89Ûª aren\\x89Ûªt let go - http://t.co/48Zg5ynebn...',\n",
              "        \"@ENews Ben Affleck......I know there's a wife/kids and other girls but I can't help it. I've loved him since Armageddon #eonlinechat\",\n",
              "        \"Already expecting to be inundated w/ articles about trad authors' pay plummeting by early next year but if this is true it'll be far worse\"],\n",
              "       dtype=object), array([0, 1, 1, 1, 1, 0, 0, 1, 0, 0]))"
            ]
          },
          "metadata": {},
          "execution_count": 15
        }
      ]
    },
    {
      "cell_type": "markdown",
      "source": [
        "##TextVectorization"
      ],
      "metadata": {
        "id": "2M5O43aHVtI_"
      }
    },
    {
      "cell_type": "code",
      "source": [
        "import tensorflow as tf"
      ],
      "metadata": {
        "id": "RYu1PCQnZoFH"
      },
      "execution_count": 16,
      "outputs": []
    },
    {
      "cell_type": "code",
      "source": [
        "from tensorflow.keras.layers import TextVectorization\n",
        "\n",
        "text_vectorizer = TextVectorization(max_tokens=None,\n",
        "                                    standardize='lower_and_strip_punctuation',\n",
        "                                    split='whitespace',\n",
        "                                    ngrams=None,\n",
        "                                    output_mode='int',\n",
        "                                    output_sequence_length=None)"
      ],
      "metadata": {
        "id": "nrVL2I8HaXqw"
      },
      "execution_count": 17,
      "outputs": []
    },
    {
      "cell_type": "code",
      "source": [
        "sum([len(element.split()) for element in X_train])/len(X_train)"
      ],
      "metadata": {
        "colab": {
          "base_uri": "https://localhost:8080/"
        },
        "id": "Illlb4ADbPup",
        "outputId": "8c193ab9-86e6-4f28-b722-77276240d710"
      },
      "execution_count": 18,
      "outputs": [
        {
          "output_type": "execute_result",
          "data": {
            "text/plain": [
              "14.936213691431908"
            ]
          },
          "metadata": {},
          "execution_count": 18
        }
      ]
    },
    {
      "cell_type": "code",
      "source": [
        "text_vectorizer = TextVectorization(max_tokens=10000,\n",
        "                                    output_mode=\"int\",\n",
        "                                    output_sequence_length=25)"
      ],
      "metadata": {
        "id": "JmIs3rXzcYIt"
      },
      "execution_count": 19,
      "outputs": []
    },
    {
      "cell_type": "code",
      "source": [
        "text_vectorizer.adapt(X_train)"
      ],
      "metadata": {
        "id": "Wz3GIpTTdi5J"
      },
      "execution_count": 20,
      "outputs": []
    },
    {
      "cell_type": "code",
      "source": [
        "sample_sentence = random.choice(X_train)\n",
        "print(sample_sentence)\n",
        "print(text_vectorizer([sample_sentence]))"
      ],
      "metadata": {
        "colab": {
          "base_uri": "https://localhost:8080/"
        },
        "id": "dKPb1jucdtKo",
        "outputId": "5e0ac524-fa1f-4df6-bc18-a711107aa3b3"
      },
      "execution_count": 21,
      "outputs": [
        {
          "output_type": "stream",
          "name": "stdout",
          "text": [
            "who said this? Yosemite Sam or Drumpf? ÛÏNobody Û÷ill vote for a flattened out rabbit skin a-huh huh Û_ I always sayÛ\n",
            "tf.Tensor(\n",
            "[[  65  198   19 6508 8828   55    1 6404 6376 1340   10    3  469   38\n",
            "  9390 2298    1 2947  205    8  263 8765    0    0    0]], shape=(1, 25), dtype=int64)\n"
          ]
        }
      ]
    },
    {
      "cell_type": "code",
      "source": [
        "words_in_vocab = text_vectorizer.get_vocabulary()\n",
        "print(f\"Top 5 words:{words_in_vocab[:5]}\")\n",
        "print(f\"Last 5 words:{words_in_vocab[-5:]}\")"
      ],
      "metadata": {
        "colab": {
          "base_uri": "https://localhost:8080/"
        },
        "id": "J4z_aoVwd7vW",
        "outputId": "cb612a63-b7cd-4e3f-bc4e-663300e076e1"
      },
      "execution_count": 22,
      "outputs": [
        {
          "output_type": "stream",
          "name": "stdout",
          "text": [
            "Top 5 words:['', '[UNK]', 'the', 'a', 'in']\n",
            "Last 5 words:['panama', 'pan', 'pams', 'pampered', 'pampalmater']\n"
          ]
        }
      ]
    },
    {
      "cell_type": "markdown",
      "source": [
        "##Embedding"
      ],
      "metadata": {
        "id": "lj7Fn3K6fBwP"
      }
    },
    {
      "cell_type": "code",
      "source": [
        "from tensorflow.keras.layers import Embedding\n",
        "\n",
        "embedding = tf.keras.layers.Embedding(input_dim=10000,\n",
        "                                      output_dim=128,\n",
        "                                      embeddings_initializer='uniform',\n",
        "                                      input_length=25)\n",
        "embedding"
      ],
      "metadata": {
        "colab": {
          "base_uri": "https://localhost:8080/"
        },
        "id": "v4vI2XXbfgSd",
        "outputId": "1c0e0d23-cfd0-45a6-e258-f7a903852aaf"
      },
      "execution_count": 23,
      "outputs": [
        {
          "output_type": "execute_result",
          "data": {
            "text/plain": [
              "<keras.layers.embeddings.Embedding at 0x7f36567b7050>"
            ]
          },
          "metadata": {},
          "execution_count": 23
        }
      ]
    },
    {
      "cell_type": "code",
      "source": [
        "sample_sentence = random.choice(X_train)\n",
        "print(sample_sentence)\n",
        "print(text_vectorizer([sample_sentence]))\n",
        "print(embedding(text_vectorizer([sample_sentence])))"
      ],
      "metadata": {
        "colab": {
          "base_uri": "https://localhost:8080/"
        },
        "id": "4_OuN9jilANc",
        "outputId": "4b5f809f-44dd-4586-996e-dead77578e82"
      },
      "execution_count": 24,
      "outputs": [
        {
          "output_type": "stream",
          "name": "stdout",
          "text": [
            "Da Judge Gave Dis Girl 5pm Curfew ??????\n",
            "tf.Tensor(\n",
            "[[1550 2434  905 3928  421 4185  348    0    0    0    0    0    0    0\n",
            "     0    0    0    0    0    0    0    0    0    0    0]], shape=(1, 25), dtype=int64)\n",
            "tf.Tensor(\n",
            "[[[ 0.03863415  0.03560409 -0.01833057 ...  0.02023372 -0.03549648\n",
            "    0.02780655]\n",
            "  [-0.0250881   0.04141178  0.00052143 ... -0.0119815   0.04243788\n",
            "    0.02288929]\n",
            "  [-0.04353203 -0.03439186 -0.04010222 ... -0.03056082  0.03056942\n",
            "   -0.04483699]\n",
            "  ...\n",
            "  [-0.00599284  0.03012855  0.01042619 ...  0.04251481  0.03382142\n",
            "   -0.01594906]\n",
            "  [-0.00599284  0.03012855  0.01042619 ...  0.04251481  0.03382142\n",
            "   -0.01594906]\n",
            "  [-0.00599284  0.03012855  0.01042619 ...  0.04251481  0.03382142\n",
            "   -0.01594906]]], shape=(1, 25, 128), dtype=float32)\n"
          ]
        }
      ]
    },
    {
      "cell_type": "markdown",
      "source": [
        "##Model 0: Naive Bayes Model as a Baseline"
      ],
      "metadata": {
        "id": "J_6vL0tdldQ3"
      }
    },
    {
      "cell_type": "code",
      "source": [
        "from sklearn.feature_extraction.text import TfidfVectorizer\n",
        "from sklearn.naive_bayes import MultinomialNB\n",
        "from sklearn.pipeline import Pipeline\n",
        "\n",
        "# Create tokenization and modelling pipeline\n",
        "model_0 = Pipeline([\n",
        "                    (\"tfidf\", TfidfVectorizer()), # convert words to numbers using tfidf\n",
        "                    (\"clf\", MultinomialNB()) # model the text\n",
        "])\n",
        "\n",
        "# Fit the pipeline to the training data\n",
        "model_0.fit(X_train, y_train)"
      ],
      "metadata": {
        "colab": {
          "base_uri": "https://localhost:8080/"
        },
        "id": "WrEslJrfmCH3",
        "outputId": "7b90222f-4c60-497e-ca51-0328db5ca8f6"
      },
      "execution_count": 25,
      "outputs": [
        {
          "output_type": "execute_result",
          "data": {
            "text/plain": [
              "Pipeline(steps=[('tfidf', TfidfVectorizer()), ('clf', MultinomialNB())])"
            ]
          },
          "metadata": {},
          "execution_count": 25
        }
      ]
    },
    {
      "cell_type": "code",
      "source": [
        "baseline_score = model_0.score(X_test, y_test)\n",
        "baseline_score"
      ],
      "metadata": {
        "colab": {
          "base_uri": "https://localhost:8080/"
        },
        "id": "PDf35LZ0mVaf",
        "outputId": "aa78ae50-d7bc-41a0-8381-82b3cd420096"
      },
      "execution_count": 26,
      "outputs": [
        {
          "output_type": "execute_result",
          "data": {
            "text/plain": [
              "0.8083989501312336"
            ]
          },
          "metadata": {},
          "execution_count": 26
        }
      ]
    },
    {
      "cell_type": "code",
      "source": [
        "model_0.predict(X_test[:10])"
      ],
      "metadata": {
        "colab": {
          "base_uri": "https://localhost:8080/"
        },
        "id": "99oBuDXvmfXY",
        "outputId": "a163571c-bcc1-46e6-93dc-d77cc66fc247"
      },
      "execution_count": 27,
      "outputs": [
        {
          "output_type": "execute_result",
          "data": {
            "text/plain": [
              "array([0, 1, 1, 1, 0, 0, 1, 1, 0, 0])"
            ]
          },
          "metadata": {},
          "execution_count": 27
        }
      ]
    },
    {
      "cell_type": "code",
      "source": [
        "from sklearn.metrics import precision_recall_fscore_support\n",
        "from sklearn.metrics import accuracy_score\n",
        "\n",
        "def evaluate_results(y_true, y_pred):\n",
        "  model_accuracy = accuracy_score(y_true, y_pred)\n",
        "  model_precision, model_recall, model_fscore, _ = precision_recall_fscore_support(y_true, y_pred, average='weighted')\n",
        "  model_result = {'model_accuracy': model_accuracy,\n",
        "                  'model_precision': model_precision,\n",
        "                  'model_recall': model_recall,\n",
        "                  'model_fscore': model_fscore}\n",
        "  return model_result"
      ],
      "metadata": {
        "id": "uPaUBh01mr9d"
      },
      "execution_count": 28,
      "outputs": []
    },
    {
      "cell_type": "code",
      "source": [
        "model_0_result = evaluate_results(y_true = y_test, y_pred = model_0.predict(X_test))\n",
        "model_0_result"
      ],
      "metadata": {
        "colab": {
          "base_uri": "https://localhost:8080/"
        },
        "id": "6C8-VWXz-FnB",
        "outputId": "25a6bdbd-84e3-4907-d73d-d5c411a68cd0"
      },
      "execution_count": 29,
      "outputs": [
        {
          "output_type": "execute_result",
          "data": {
            "text/plain": [
              "{'model_accuracy': 0.8083989501312336,\n",
              " 'model_fscore': 0.8024451290626649,\n",
              " 'model_precision': 0.8183398501301564,\n",
              " 'model_recall': 0.8083989501312336}"
            ]
          },
          "metadata": {},
          "execution_count": 29
        }
      ]
    },
    {
      "cell_type": "markdown",
      "source": [
        "##Create callbacks"
      ],
      "metadata": {
        "id": "_BPCB2FE8H9u"
      }
    },
    {
      "cell_type": "code",
      "source": [
        "from tensorflow.keras.callbacks import ReduceLROnPlateau, TensorBoard, EarlyStopping, ModelCheckpoint\n",
        "import datetime\n",
        "\n",
        "reduce_lr = ReduceLROnPlateau(monitor='val_loss', factor=0.2,\n",
        "                              patience=1, min_lr=1e-7, verbose=1)\n",
        "\n",
        "early_stop = EarlyStopping(monitor='val_loss', patience=3)\n",
        "\n",
        "def create_checkpoint(checkpoint_filepath):\n",
        "  filepath = \"model_checkpoints/\" + checkpoint_filepath + \".ckpt\"\n",
        "  model_checkpoint = ModelCheckpoint(filepath=filepath,\n",
        "                                     save_weights_only=True,\n",
        "                                     monitor='val_loss',\n",
        "                                     save_best_only=True)\n",
        "  return model_checkpoint\n",
        "\n",
        "def create_tensorboard(log_dir):\n",
        "  log_dir = \"tensorboard_log\" + \"/\" + log_dir + \"/\" + datetime.datetime.now().strftime(\"%Y%m%d-%H%M%S\")\n",
        "  tensorboard_callback = tf.keras.callbacks.TensorBoard(\n",
        "      log_dir=log_dir\n",
        "  )\n",
        "  print(f\"Saving TensorBoard log files to: {log_dir}\")\n",
        "  return tensorboard_callback  "
      ],
      "metadata": {
        "id": "PwlLyG3o8LNI"
      },
      "execution_count": 30,
      "outputs": []
    },
    {
      "cell_type": "markdown",
      "source": [
        "##Model 1: Simple Dense Model"
      ],
      "metadata": {
        "id": "z2FIEhUU-eoa"
      }
    },
    {
      "cell_type": "code",
      "source": [
        "from tensorflow.keras.layers import Dense, Input, GlobalAveragePooling1D, Dropout\n",
        "\n",
        "inputs = Input(shape=(1,), dtype='string')\n",
        "x = text_vectorizer(inputs) \n",
        "x = Embedding(input_dim=10000, output_dim=128, input_length=25)(x)\n",
        "x = Dropout(0.2)(x)\n",
        "x = GlobalAveragePooling1D()(x)\n",
        "x = Dropout(0.2)(x)\n",
        "outputs = Dense(1, activation='sigmoid')(x)\n",
        "\n",
        "model_1 = tf.keras.Model(inputs, outputs)\n",
        "model_1.summary()"
      ],
      "metadata": {
        "colab": {
          "base_uri": "https://localhost:8080/"
        },
        "id": "9NTeK62L_syn",
        "outputId": "c92b886b-65ab-40f9-8f77-5cd49e793d42"
      },
      "execution_count": 32,
      "outputs": [
        {
          "output_type": "stream",
          "name": "stdout",
          "text": [
            "Model: \"model\"\n",
            "_________________________________________________________________\n",
            " Layer (type)                Output Shape              Param #   \n",
            "=================================================================\n",
            " input_1 (InputLayer)        [(None, 1)]               0         \n",
            "                                                                 \n",
            " text_vectorization_1 (TextV  (None, 25)               0         \n",
            " ectorization)                                                   \n",
            "                                                                 \n",
            " embedding_1 (Embedding)     (None, 25, 128)           1280000   \n",
            "                                                                 \n",
            " dropout (Dropout)           (None, 25, 128)           0         \n",
            "                                                                 \n",
            " global_average_pooling1d (G  (None, 128)              0         \n",
            " lobalAveragePooling1D)                                          \n",
            "                                                                 \n",
            " dropout_1 (Dropout)         (None, 128)               0         \n",
            "                                                                 \n",
            " dense (Dense)               (None, 1)                 129       \n",
            "                                                                 \n",
            "=================================================================\n",
            "Total params: 1,280,129\n",
            "Trainable params: 1,280,129\n",
            "Non-trainable params: 0\n",
            "_________________________________________________________________\n"
          ]
        }
      ]
    },
    {
      "cell_type": "code",
      "source": [
        "model_1.compile(loss=\"binary_crossentropy\",\n",
        "                optimizer=tf.keras.optimizers.Adam(),\n",
        "                metrics=[\"accuracy\"])"
      ],
      "metadata": {
        "id": "WJzqyXcoM6Wi"
      },
      "execution_count": 33,
      "outputs": []
    },
    {
      "cell_type": "code",
      "source": [
        "#X_train = tf.expand_dims(X_train, 0)\n",
        "#X_test = tf.expand_dims(X_test, 0)"
      ],
      "metadata": {
        "id": "tQ3V2tnXQKRV"
      },
      "execution_count": null,
      "outputs": []
    },
    {
      "cell_type": "code",
      "source": [
        "X_train"
      ],
      "metadata": {
        "colab": {
          "base_uri": "https://localhost:8080/"
        },
        "id": "K3AxuwgBQS_7",
        "outputId": "4b5fa536-de76-4eff-af1f-239f9bf6a586"
      },
      "execution_count": 34,
      "outputs": [
        {
          "output_type": "execute_result",
          "data": {
            "text/plain": [
              "array(['Pandemonium In Aba As Woman Delivers Baby Without Face (Photos) - http://t.co/c5u9qsySeJ',\n",
              "       '24 killed in two simultaneous rail crash as acute floods derail the two trains #India #mumbai... http://t.co/4KBWPCmMbM',\n",
              "       'Ogun smugglers engage Customs in shootoutåÊ: Several persons were allegedly injured on Wednesday when men o... http://t.co/pUXBC2LoYK #RT',\n",
              "       ...,\n",
              "       '@D1ff3r3nt1sG00d @RiceeChrispies What if he committed a mass murder?',\n",
              "       'Richard returns after whirlwind few days http://t.co/L8W30WFW3R #MLB',\n",
              "       'ISIL claims suicide bombing at Saudi mosque that killed at least 15 http://t.co/Y8IcF89H6w http://t.co/t9MSnZV1Kb'],\n",
              "      dtype=object)"
            ]
          },
          "metadata": {},
          "execution_count": 34
        }
      ]
    },
    {
      "cell_type": "code",
      "source": [
        "history_1 = model_1.fit(X_train, y_train,\n",
        "                        epochs=9,\n",
        "                        validation_data=(X_test, y_test),\n",
        "                        callbacks=[create_tensorboard('Dense'),\n",
        "                                   create_checkpoint('Dense'),\n",
        "                                   reduce_lr,\n",
        "                                   early_stop])"
      ],
      "metadata": {
        "colab": {
          "base_uri": "https://localhost:8080/"
        },
        "id": "sdosWsg-NlbR",
        "outputId": "a3f0154c-9989-45a1-c8c0-6d3fc016f532"
      },
      "execution_count": 35,
      "outputs": [
        {
          "output_type": "stream",
          "name": "stdout",
          "text": [
            "Saving TensorBoard log files to: tensorboard_log/Dense/20220606-035315\n",
            "Epoch 1/9\n",
            "215/215 [==============================] - 5s 5ms/step - loss: 0.6495 - accuracy: 0.6225 - val_loss: 0.5837 - val_accuracy: 0.7336 - lr: 0.0010\n",
            "Epoch 2/9\n",
            "215/215 [==============================] - 1s 5ms/step - loss: 0.5162 - accuracy: 0.7898 - val_loss: 0.4841 - val_accuracy: 0.7992 - lr: 0.0010\n",
            "Epoch 3/9\n",
            "215/215 [==============================] - 1s 4ms/step - loss: 0.4166 - accuracy: 0.8349 - val_loss: 0.4511 - val_accuracy: 0.8084 - lr: 0.0010\n",
            "Epoch 4/9\n",
            "215/215 [==============================] - 1s 5ms/step - loss: 0.3543 - accuracy: 0.8619 - val_loss: 0.4254 - val_accuracy: 0.8215 - lr: 0.0010\n",
            "Epoch 5/9\n",
            "215/215 [==============================] - 1s 5ms/step - loss: 0.3071 - accuracy: 0.8812 - val_loss: 0.4215 - val_accuracy: 0.8241 - lr: 0.0010\n",
            "Epoch 6/9\n",
            "212/215 [============================>.] - ETA: 0s - loss: 0.2708 - accuracy: 0.8968\n",
            "Epoch 6: ReduceLROnPlateau reducing learning rate to 0.00020000000949949026.\n",
            "215/215 [==============================] - 1s 5ms/step - loss: 0.2700 - accuracy: 0.8977 - val_loss: 0.4236 - val_accuracy: 0.8307 - lr: 0.0010\n",
            "Epoch 7/9\n",
            "203/215 [===========================>..] - ETA: 0s - loss: 0.2368 - accuracy: 0.9158\n",
            "Epoch 7: ReduceLROnPlateau reducing learning rate to 4.0000001899898055e-05.\n",
            "215/215 [==============================] - 1s 4ms/step - loss: 0.2377 - accuracy: 0.9152 - val_loss: 0.4277 - val_accuracy: 0.8189 - lr: 2.0000e-04\n",
            "Epoch 8/9\n",
            "205/215 [===========================>..] - ETA: 0s - loss: 0.2296 - accuracy: 0.9209\n",
            "Epoch 8: ReduceLROnPlateau reducing learning rate to 8.000000525498762e-06.\n",
            "215/215 [==============================] - 1s 4ms/step - loss: 0.2316 - accuracy: 0.9196 - val_loss: 0.4273 - val_accuracy: 0.8202 - lr: 4.0000e-05\n"
          ]
        }
      ]
    },
    {
      "cell_type": "code",
      "source": [
        "model_1.load_weights('model_checkpoints/Dense.ckpt')"
      ],
      "metadata": {
        "colab": {
          "base_uri": "https://localhost:8080/"
        },
        "id": "d7zrdfDS7WwU",
        "outputId": "29aef0f6-1490-488f-d12e-cc14f937e681"
      },
      "execution_count": 36,
      "outputs": [
        {
          "output_type": "execute_result",
          "data": {
            "text/plain": [
              "<tensorflow.python.training.tracking.util.CheckpointLoadStatus at 0x7f365618b310>"
            ]
          },
          "metadata": {},
          "execution_count": 36
        }
      ]
    },
    {
      "cell_type": "code",
      "source": [
        "model_1_pred_pros = model_1.predict(X_test)\n",
        "y_pred_1 = tf.round(tf.squeeze(model_1_pred_pros)).numpy()"
      ],
      "metadata": {
        "id": "7IYHfYrfNtIE"
      },
      "execution_count": 37,
      "outputs": []
    },
    {
      "cell_type": "code",
      "source": [
        "model_1_result = evaluate_results(y_true = y_test, y_pred = y_pred_1)\n",
        "model_1_result"
      ],
      "metadata": {
        "colab": {
          "base_uri": "https://localhost:8080/"
        },
        "id": "u9Dbkdcnb4eX",
        "outputId": "1ccc0f12-42e9-476d-901f-50585a363c0f"
      },
      "execution_count": 38,
      "outputs": [
        {
          "output_type": "execute_result",
          "data": {
            "text/plain": [
              "{'model_accuracy': 0.8241469816272966,\n",
              " 'model_fscore': 0.8227699073158506,\n",
              " 'model_precision': 0.8240432683421577,\n",
              " 'model_recall': 0.8241469816272966}"
            ]
          },
          "metadata": {},
          "execution_count": 38
        }
      ]
    },
    {
      "cell_type": "code",
      "source": [
        "import numpy as np\n",
        "\n",
        "np.array(list(model_1_result.values())) > np.array(list(model_0_result.values()))"
      ],
      "metadata": {
        "colab": {
          "base_uri": "https://localhost:8080/"
        },
        "id": "nl658ch1cwQI",
        "outputId": "51554da7-56bf-4c12-d2ab-49548c159895"
      },
      "execution_count": 39,
      "outputs": [
        {
          "output_type": "execute_result",
          "data": {
            "text/plain": [
              "array([ True,  True,  True,  True])"
            ]
          },
          "metadata": {},
          "execution_count": 39
        }
      ]
    },
    {
      "cell_type": "markdown",
      "source": [
        "##LSTM model"
      ],
      "metadata": {
        "id": "Yw0OS1ettqYC"
      }
    },
    {
      "cell_type": "code",
      "source": [
        "from tensorflow.keras.layers import Dense, Input, GlobalAveragePooling1D, Dropout, LSTM\n",
        "import tensorflow as tf\n",
        "\n",
        "inputs = Input(shape=(1,), dtype='string')\n",
        "x = text_vectorizer(inputs)\n",
        "x = Embedding(input_dim=10000, output_dim=128, input_length=25)(x)\n",
        "x = Dropout(0.2)(x)\n",
        "x = LSTM(units=64, return_sequences=True)(x)\n",
        "x = Dropout(0.2)(x)\n",
        "x = LSTM(units=64)(x)\n",
        "x = Dropout(0.2)(x)\n",
        "#x = GlobalAveragePooling1D()(x)\n",
        "outputs = Dense(1, activation='sigmoid')(x)\n",
        "\n",
        "model_2 = tf.keras.Model(inputs, outputs)"
      ],
      "metadata": {
        "id": "QBL5nPHGdSmo"
      },
      "execution_count": 40,
      "outputs": []
    },
    {
      "cell_type": "code",
      "source": [
        "model_2.compile(loss=\"binary_crossentropy\",\n",
        "                optimizer=tf.keras.optimizers.Adam(),\n",
        "                metrics=[\"accuracy\"])"
      ],
      "metadata": {
        "id": "fXY8ODm8RgiR"
      },
      "execution_count": 41,
      "outputs": []
    },
    {
      "cell_type": "code",
      "source": [
        "history_2 = model_2.fit(X_train, y_train,\n",
        "                        epochs=9,\n",
        "                        validation_data=(X_test, y_test),\n",
        "                        callbacks=[create_tensorboard('LSTM'),\n",
        "                                   create_checkpoint('LSTM'),\n",
        "                                   reduce_lr,\n",
        "                                   early_stop])"
      ],
      "metadata": {
        "colab": {
          "base_uri": "https://localhost:8080/"
        },
        "id": "5EqHflZ3R5d-",
        "outputId": "55f69718-fba3-4098-fa15-1f159842091f"
      },
      "execution_count": 42,
      "outputs": [
        {
          "output_type": "stream",
          "name": "stdout",
          "text": [
            "Saving TensorBoard log files to: tensorboard_log/LSTM/20220606-035338\n",
            "Epoch 1/9\n",
            "215/215 [==============================] - 8s 13ms/step - loss: 0.5174 - accuracy: 0.7381 - val_loss: 0.4258 - val_accuracy: 0.8123 - lr: 0.0010\n",
            "Epoch 2/9\n",
            "215/215 [==============================] - ETA: 0s - loss: 0.3321 - accuracy: 0.8672\n",
            "Epoch 2: ReduceLROnPlateau reducing learning rate to 0.00020000000949949026.\n",
            "215/215 [==============================] - 2s 9ms/step - loss: 0.3321 - accuracy: 0.8672 - val_loss: 0.4897 - val_accuracy: 0.8084 - lr: 0.0010\n",
            "Epoch 3/9\n",
            "213/215 [============================>.] - ETA: 0s - loss: 0.1932 - accuracy: 0.9321\n",
            "Epoch 3: ReduceLROnPlateau reducing learning rate to 4.0000001899898055e-05.\n",
            "215/215 [==============================] - 2s 9ms/step - loss: 0.1932 - accuracy: 0.9321 - val_loss: 0.5114 - val_accuracy: 0.8031 - lr: 2.0000e-04\n",
            "Epoch 4/9\n",
            "214/215 [============================>.] - ETA: 0s - loss: 0.1559 - accuracy: 0.9509\n",
            "Epoch 4: ReduceLROnPlateau reducing learning rate to 8.000000525498762e-06.\n",
            "215/215 [==============================] - 2s 9ms/step - loss: 0.1558 - accuracy: 0.9510 - val_loss: 0.5466 - val_accuracy: 0.8084 - lr: 4.0000e-05\n"
          ]
        }
      ]
    },
    {
      "cell_type": "code",
      "source": [
        "model_2.load_weights('model_checkpoints/LSTM.ckpt')\n",
        "model_2_pred_pros = model_2.predict(X_test)\n",
        "y_pred_2 = tf.round(tf.squeeze(model_2_pred_pros)).numpy()\n",
        "model_2_result = evaluate_results(y_true = y_test, y_pred = y_pred_2)\n",
        "model_2_result"
      ],
      "metadata": {
        "colab": {
          "base_uri": "https://localhost:8080/"
        },
        "id": "mW99lib_9ERM",
        "outputId": "d9912b2f-bd9c-4a03-d98f-efe52b0dfa7c"
      },
      "execution_count": 43,
      "outputs": [
        {
          "output_type": "execute_result",
          "data": {
            "text/plain": [
              "{'model_accuracy': 0.8123359580052494,\n",
              " 'model_fscore': 0.8100256509536126,\n",
              " 'model_precision': 0.8131471247629316,\n",
              " 'model_recall': 0.8123359580052494}"
            ]
          },
          "metadata": {},
          "execution_count": 43
        }
      ]
    },
    {
      "cell_type": "markdown",
      "source": [
        "##GRU model"
      ],
      "metadata": {
        "id": "PzcexF8ZvBOE"
      }
    },
    {
      "cell_type": "code",
      "source": [
        "from tensorflow.keras.layers import GRU\n",
        "\n",
        "inputs = Input(shape=(1,), dtype='string')\n",
        "x = text_vectorizer(inputs)\n",
        "x = Embedding(input_dim=10000, output_dim=128, input_length=25)(x)\n",
        "x = Dropout(0.2)(x)\n",
        "x = GRU(units=64)(x)\n",
        "x = Dropout(0.2)(x)\n",
        "outputs = Dense(1, activation='sigmoid')(x)\n",
        "\n",
        "model_3 = tf.keras.Model(inputs, outputs)"
      ],
      "metadata": {
        "id": "J_kAH0-1R_OE"
      },
      "execution_count": 44,
      "outputs": []
    },
    {
      "cell_type": "code",
      "source": [
        "model_3.compile(loss=tf.keras.losses.BinaryCrossentropy(),\n",
        "                optimizer=tf.keras.optimizers.Adam(),\n",
        "                metrics=['accuracy'])"
      ],
      "metadata": {
        "id": "qk-cgCmETle3"
      },
      "execution_count": 45,
      "outputs": []
    },
    {
      "cell_type": "code",
      "source": [
        "history_3 = model_3.fit(X_train, y_train,\n",
        "                        epochs=9,\n",
        "                        validation_data=(X_test, y_test),\n",
        "                        callbacks=[create_tensorboard('GRU'),\n",
        "                                   create_checkpoint('GRU'),\n",
        "                                   reduce_lr,\n",
        "                                   early_stop])"
      ],
      "metadata": {
        "colab": {
          "base_uri": "https://localhost:8080/"
        },
        "id": "Ana_QQ8aT0Fw",
        "outputId": "ff772bd8-ef8a-48c3-80e3-f00b10f6a30a"
      },
      "execution_count": 46,
      "outputs": [
        {
          "output_type": "stream",
          "name": "stdout",
          "text": [
            "Saving TensorBoard log files to: tensorboard_log/GRU/20220606-035353\n",
            "Epoch 1/9\n",
            "215/215 [==============================] - 4s 9ms/step - loss: 0.6563 - accuracy: 0.6046 - val_loss: 0.4619 - val_accuracy: 0.8018 - lr: 0.0010\n",
            "Epoch 2/9\n",
            "215/215 [==============================] - 2s 7ms/step - loss: 0.4005 - accuracy: 0.8318 - val_loss: 0.4229 - val_accuracy: 0.8228 - lr: 0.0010\n",
            "Epoch 3/9\n",
            "206/215 [===========================>..] - ETA: 0s - loss: 0.2784 - accuracy: 0.8946\n",
            "Epoch 3: ReduceLROnPlateau reducing learning rate to 0.00020000000949949026.\n",
            "215/215 [==============================] - 1s 6ms/step - loss: 0.2796 - accuracy: 0.8937 - val_loss: 0.5712 - val_accuracy: 0.7730 - lr: 0.0010\n",
            "Epoch 4/9\n",
            "213/215 [============================>.] - ETA: 0s - loss: 0.1721 - accuracy: 0.9440\n",
            "Epoch 4: ReduceLROnPlateau reducing learning rate to 4.0000001899898055e-05.\n",
            "215/215 [==============================] - 1s 7ms/step - loss: 0.1728 - accuracy: 0.9437 - val_loss: 0.5445 - val_accuracy: 0.8110 - lr: 2.0000e-04\n",
            "Epoch 5/9\n",
            "213/215 [============================>.] - ETA: 0s - loss: 0.1435 - accuracy: 0.9548\n",
            "Epoch 5: ReduceLROnPlateau reducing learning rate to 8.000000525498762e-06.\n",
            "215/215 [==============================] - 1s 7ms/step - loss: 0.1442 - accuracy: 0.9546 - val_loss: 0.5707 - val_accuracy: 0.8058 - lr: 4.0000e-05\n"
          ]
        }
      ]
    },
    {
      "cell_type": "code",
      "source": [
        "model_3.load_weights('model_checkpoints/GRU.ckpt')\n",
        "model_3_pred_pros = model_3.predict(X_test)\n",
        "y_pred_3 = tf.round(tf.squeeze(model_3_pred_pros)).numpy()\n",
        "model_3_result = evaluate_results(y_true = y_test, y_pred = y_pred_3)\n",
        "model_3_result"
      ],
      "metadata": {
        "colab": {
          "base_uri": "https://localhost:8080/"
        },
        "id": "ggWuHgbb9jH8",
        "outputId": "15f3db0d-7cc1-4953-bd9d-41ea1b06ffa4"
      },
      "execution_count": 47,
      "outputs": [
        {
          "output_type": "execute_result",
          "data": {
            "text/plain": [
              "{'model_accuracy': 0.8228346456692913,\n",
              " 'model_fscore': 0.821720970419648,\n",
              " 'model_precision': 0.8224360247609642,\n",
              " 'model_recall': 0.8228346456692913}"
            ]
          },
          "metadata": {},
          "execution_count": 47
        }
      ]
    },
    {
      "cell_type": "markdown",
      "source": [
        "##Bidirectional model"
      ],
      "metadata": {
        "id": "RgXqNHfgvPb9"
      }
    },
    {
      "cell_type": "code",
      "source": [
        "from tensorflow.keras.layers import Bidirectional\n",
        "\n",
        "inputs = Input(shape=(1,), dtype='string')\n",
        "x = text_vectorizer(inputs)\n",
        "x = Embedding(input_dim=10000, output_dim=128, input_length=25)(x)\n",
        "x = Dropout(0.2)(x)\n",
        "x = Bidirectional(LSTM(units=64))(x)\n",
        "x = Dropout(0.2)(x)\n",
        "outputs = Dense(1, activation='sigmoid')(x)\n",
        "\n",
        "model_4 = tf.keras.Model(inputs, outputs)"
      ],
      "metadata": {
        "id": "fUbTlW8hUArZ"
      },
      "execution_count": 48,
      "outputs": []
    },
    {
      "cell_type": "code",
      "source": [
        "model_4.compile(loss=tf.keras.losses.BinaryCrossentropy(),\n",
        "                optimizer=tf.keras.optimizers.Adam(),\n",
        "                metrics=['accuracy'])"
      ],
      "metadata": {
        "id": "7dtNxVnaVAVc"
      },
      "execution_count": 49,
      "outputs": []
    },
    {
      "cell_type": "code",
      "source": [
        "history_4 = model_4.fit(X_train, y_train,\n",
        "                        epochs=9,\n",
        "                        validation_data=(X_test, y_test),\n",
        "                        callbacks=[create_tensorboard('Bidir'),\n",
        "                                   create_checkpoint('Bidir'),\n",
        "                                   reduce_lr,\n",
        "                                   early_stop])\n",
        "                        "
      ],
      "metadata": {
        "colab": {
          "base_uri": "https://localhost:8080/"
        },
        "id": "9upvonDpVLzT",
        "outputId": "d602931a-7eac-4acd-d020-d4e256ec8cfa"
      },
      "execution_count": 50,
      "outputs": [
        {
          "output_type": "stream",
          "name": "stdout",
          "text": [
            "Saving TensorBoard log files to: tensorboard_log/Bidir/20220606-035403\n",
            "Epoch 1/9\n",
            "215/215 [==============================] - 6s 13ms/step - loss: 0.5383 - accuracy: 0.7287 - val_loss: 0.4208 - val_accuracy: 0.8202 - lr: 0.0010\n",
            "Epoch 2/9\n",
            "211/215 [============================>.] - ETA: 0s - loss: 0.3323 - accuracy: 0.8657\n",
            "Epoch 2: ReduceLROnPlateau reducing learning rate to 0.00020000000949949026.\n",
            "215/215 [==============================] - 2s 9ms/step - loss: 0.3322 - accuracy: 0.8662 - val_loss: 0.4525 - val_accuracy: 0.8031 - lr: 0.0010\n",
            "Epoch 3/9\n",
            "210/215 [============================>.] - ETA: 0s - loss: 0.1930 - accuracy: 0.9289\n",
            "Epoch 3: ReduceLROnPlateau reducing learning rate to 4.0000001899898055e-05.\n",
            "215/215 [==============================] - 2s 9ms/step - loss: 0.1928 - accuracy: 0.9289 - val_loss: 0.5644 - val_accuracy: 0.7835 - lr: 2.0000e-04\n",
            "Epoch 4/9\n",
            "210/215 [============================>.] - ETA: 0s - loss: 0.1592 - accuracy: 0.9442\n",
            "Epoch 4: ReduceLROnPlateau reducing learning rate to 8.000000525498762e-06.\n",
            "215/215 [==============================] - 2s 9ms/step - loss: 0.1591 - accuracy: 0.9444 - val_loss: 0.5600 - val_accuracy: 0.7966 - lr: 4.0000e-05\n"
          ]
        }
      ]
    },
    {
      "cell_type": "code",
      "source": [
        "model_4.load_weights('model_checkpoints/Bidir.ckpt')\n",
        "model_4_pred_pros = model_4.predict(X_test)\n",
        "y_pred_4 = tf.round(tf.squeeze(model_4_pred_pros)).numpy()\n",
        "model_4_result = evaluate_results(y_true = y_test, y_pred = y_pred_4)\n",
        "model_4_result"
      ],
      "metadata": {
        "colab": {
          "base_uri": "https://localhost:8080/"
        },
        "id": "JS4_yX1n-F1q",
        "outputId": "fb63c498-daac-4ea3-8c45-13d2835d80da"
      },
      "execution_count": 51,
      "outputs": [
        {
          "output_type": "execute_result",
          "data": {
            "text/plain": [
              "{'model_accuracy': 0.8202099737532809,\n",
              " 'model_fscore': 0.81874440692901,\n",
              " 'model_precision': 0.8200967364870706,\n",
              " 'model_recall': 0.8202099737532809}"
            ]
          },
          "metadata": {},
          "execution_count": 51
        }
      ]
    },
    {
      "cell_type": "markdown",
      "source": [
        "##Conv1D model"
      ],
      "metadata": {
        "id": "NG7edCF--X-9"
      }
    },
    {
      "cell_type": "code",
      "source": [
        "from tensorflow.keras.layers import Conv1D\n",
        "\n",
        "inputs = Input(shape=(1,), dtype='string')\n",
        "x = text_vectorizer(inputs)\n",
        "x = Embedding(input_dim=10000, output_dim=128, input_length=25)(x)\n",
        "x = Dropout(0.2)(x)\n",
        "x = Conv1D(filters=32, kernel_size=5, activation='relu')(x)\n",
        "x = Dropout(0.2)(x)\n",
        "x = GlobalAveragePooling1D()(x)\n",
        "outputs = Dense(1, activation='sigmoid')(x)\n",
        "\n",
        "model_5 = tf.keras.Model(inputs, outputs)"
      ],
      "metadata": {
        "id": "RwENmbEiVOnF"
      },
      "execution_count": 52,
      "outputs": []
    },
    {
      "cell_type": "code",
      "source": [
        "model_5.compile(loss=tf.keras.losses.BinaryCrossentropy(),\n",
        "                optimizer=tf.keras.optimizers.Adam(),\n",
        "                metrics=['accuracy'])"
      ],
      "metadata": {
        "id": "loVWEkxgWvQZ"
      },
      "execution_count": 53,
      "outputs": []
    },
    {
      "cell_type": "code",
      "source": [
        "history_5 = model_5.fit(X_train, y_train,\n",
        "                        epochs=9,\n",
        "                        validation_data=(X_test, y_test),\n",
        "                        callbacks=[create_tensorboard('Conv1D'),\n",
        "                                   create_checkpoint('Conv1D'),\n",
        "                                   reduce_lr,\n",
        "                                   early_stop])"
      ],
      "metadata": {
        "colab": {
          "base_uri": "https://localhost:8080/"
        },
        "id": "tiwTyMKsXF4R",
        "outputId": "1d5e461c-8843-4814-8c70-1774a3ef1d43"
      },
      "execution_count": 54,
      "outputs": [
        {
          "output_type": "stream",
          "name": "stdout",
          "text": [
            "Saving TensorBoard log files to: tensorboard_log/Conv1D/20220606-035416\n",
            "Epoch 1/9\n",
            "215/215 [==============================] - 11s 12ms/step - loss: 0.5628 - accuracy: 0.7057 - val_loss: 0.4325 - val_accuracy: 0.8202 - lr: 0.0010\n",
            "Epoch 2/9\n",
            "215/215 [==============================] - 2s 11ms/step - loss: 0.3563 - accuracy: 0.8529 - val_loss: 0.4274 - val_accuracy: 0.8215 - lr: 0.0010\n",
            "Epoch 3/9\n",
            "211/215 [============================>.] - ETA: 0s - loss: 0.2540 - accuracy: 0.8991\n",
            "Epoch 3: ReduceLROnPlateau reducing learning rate to 0.00020000000949949026.\n",
            "215/215 [==============================] - 2s 10ms/step - loss: 0.2551 - accuracy: 0.8988 - val_loss: 0.5154 - val_accuracy: 0.7953 - lr: 0.0010\n",
            "Epoch 4/9\n",
            "210/215 [============================>.] - ETA: 0s - loss: 0.1718 - accuracy: 0.9414\n",
            "Epoch 4: ReduceLROnPlateau reducing learning rate to 4.0000001899898055e-05.\n",
            "215/215 [==============================] - 2s 10ms/step - loss: 0.1723 - accuracy: 0.9410 - val_loss: 0.5070 - val_accuracy: 0.8018 - lr: 2.0000e-04\n",
            "Epoch 5/9\n",
            "214/215 [============================>.] - ETA: 0s - loss: 0.1527 - accuracy: 0.9476\n",
            "Epoch 5: ReduceLROnPlateau reducing learning rate to 8.000000525498762e-06.\n",
            "215/215 [==============================] - 2s 11ms/step - loss: 0.1526 - accuracy: 0.9476 - val_loss: 0.5123 - val_accuracy: 0.8018 - lr: 4.0000e-05\n"
          ]
        }
      ]
    },
    {
      "cell_type": "code",
      "source": [
        "model_5.load_weights('model_checkpoints/Conv1D.ckpt')\n",
        "model_5_pred_pros = model_5.predict(X_test)\n",
        "y_pred_5 = tf.round(tf.squeeze(model_5_pred_pros)).numpy()\n",
        "model_5_result = evaluate_results(y_true = y_test, y_pred = y_pred_5)\n",
        "model_5_result"
      ],
      "metadata": {
        "colab": {
          "base_uri": "https://localhost:8080/"
        },
        "id": "lW2qw2ja-djq",
        "outputId": "1b9a6019-18d8-4181-d4f0-5aa8bf46fd8a"
      },
      "execution_count": 55,
      "outputs": [
        {
          "output_type": "execute_result",
          "data": {
            "text/plain": [
              "{'model_accuracy': 0.821522309711286,\n",
              " 'model_fscore': 0.8202370591929079,\n",
              " 'model_precision': 0.8212481161337067,\n",
              " 'model_recall': 0.821522309711286}"
            ]
          },
          "metadata": {},
          "execution_count": 55
        }
      ]
    },
    {
      "cell_type": "markdown",
      "source": [
        "##Transfer learning using universal-sentence-encoder "
      ],
      "metadata": {
        "id": "7NB140VnXOmG"
      }
    },
    {
      "cell_type": "code",
      "source": [
        "import tensorflow_hub as hub\n",
        "\n",
        "embed = hub.load(\"https://tfhub.dev/google/universal-sentence-encoder/4\")\n",
        "embeddings = embed([\n",
        "    \"The quick brown fox jumps over the lazy dog.\",\n",
        "    \"I am a sentence for which I would like to get its embedding\"])\n",
        "\n",
        "print(embeddings)"
      ],
      "metadata": {
        "colab": {
          "base_uri": "https://localhost:8080/"
        },
        "id": "zWTwppU2wl0c",
        "outputId": "2b089d93-c321-424c-f19e-6041f4512095"
      },
      "execution_count": 56,
      "outputs": [
        {
          "output_type": "stream",
          "name": "stdout",
          "text": [
            "tf.Tensor(\n",
            "[[-0.03133019 -0.06338634 -0.01607501 ... -0.03242778 -0.04575738\n",
            "   0.05370455]\n",
            " [ 0.05080861 -0.01652431  0.01573778 ...  0.00976658  0.0317012\n",
            "   0.01788118]], shape=(2, 512), dtype=float32)\n"
          ]
        }
      ]
    },
    {
      "cell_type": "code",
      "source": [
        "sentence_encoder_layer = hub.KerasLayer(\"https://tfhub.dev/google/universal-sentence-encoder/4\",\n",
        "                                        input_shape=[], # shape of inputs coming to our model \n",
        "                                        dtype=tf.string, # data type of inputs coming to the USE layer\n",
        "                                        trainable=False, # keep the pretrained weights (we'll create a feature extractor)\n",
        "                                        name=\"USE\") "
      ],
      "metadata": {
        "id": "5couEcWUwyJ7"
      },
      "execution_count": 57,
      "outputs": []
    },
    {
      "cell_type": "code",
      "source": [
        "model_6 = tf.keras.Sequential([\n",
        "  sentence_encoder_layer,\n",
        "  Dense(64, activation='relu'),\n",
        "  Dense(1, activation='sigmoid')                               \n",
        "])"
      ],
      "metadata": {
        "id": "2wD-yhKAyK_c"
      },
      "execution_count": 58,
      "outputs": []
    },
    {
      "cell_type": "code",
      "source": [
        "model_6.compile(loss=tf.keras.losses.BinaryCrossentropy(),\n",
        "                optimizer=tf.keras.optimizers.Adam(),\n",
        "                metrics=['accuracy'])"
      ],
      "metadata": {
        "id": "OdbeyKVgyWlI"
      },
      "execution_count": 59,
      "outputs": []
    },
    {
      "cell_type": "code",
      "source": [
        "history_6 = model_6.fit(X_train, y_train,\n",
        "                        epochs=9,\n",
        "                        validation_data=(X_test, y_test),\n",
        "                        callbacks=[create_tensorboard('USE'),\n",
        "                                   create_checkpoint('USE'),\n",
        "                                   reduce_lr,\n",
        "                                   early_stop])"
      ],
      "metadata": {
        "colab": {
          "base_uri": "https://localhost:8080/"
        },
        "id": "gdKN8Vjs0Ria",
        "outputId": "b96946ba-c021-4b98-c22d-b8b0c9a9a397"
      },
      "execution_count": 60,
      "outputs": [
        {
          "output_type": "stream",
          "name": "stdout",
          "text": [
            "Saving TensorBoard log files to: tensorboard_log/USE/20220606-035507\n",
            "Epoch 1/9\n",
            "215/215 [==============================] - 13s 41ms/step - loss: 0.5036 - accuracy: 0.7797 - val_loss: 0.4286 - val_accuracy: 0.8150 - lr: 0.0010\n",
            "Epoch 2/9\n",
            "215/215 [==============================] - 7s 32ms/step - loss: 0.4165 - accuracy: 0.8130 - val_loss: 0.4227 - val_accuracy: 0.8176 - lr: 0.0010\n",
            "Epoch 3/9\n",
            "215/215 [==============================] - 7s 31ms/step - loss: 0.4033 - accuracy: 0.8206 - val_loss: 0.4198 - val_accuracy: 0.8097 - lr: 0.0010\n",
            "Epoch 4/9\n",
            "215/215 [==============================] - 7s 30ms/step - loss: 0.3948 - accuracy: 0.8257 - val_loss: 0.4171 - val_accuracy: 0.8123 - lr: 0.0010\n",
            "Epoch 5/9\n",
            "215/215 [==============================] - 7s 30ms/step - loss: 0.3872 - accuracy: 0.8298 - val_loss: 0.4146 - val_accuracy: 0.8176 - lr: 0.0010\n",
            "Epoch 6/9\n",
            "210/215 [============================>.] - ETA: 0s - loss: 0.3802 - accuracy: 0.8347\n",
            "Epoch 6: ReduceLROnPlateau reducing learning rate to 0.00020000000949949026.\n",
            "215/215 [==============================] - 3s 12ms/step - loss: 0.3811 - accuracy: 0.8345 - val_loss: 0.4164 - val_accuracy: 0.8058 - lr: 0.0010\n",
            "Epoch 7/9\n",
            "215/215 [==============================] - 7s 31ms/step - loss: 0.3676 - accuracy: 0.8421 - val_loss: 0.4128 - val_accuracy: 0.8150 - lr: 2.0000e-04\n",
            "Epoch 8/9\n",
            "213/215 [============================>.] - ETA: 0s - loss: 0.3655 - accuracy: 0.8438\n",
            "Epoch 8: ReduceLROnPlateau reducing learning rate to 4.0000001899898055e-05.\n",
            "215/215 [==============================] - 2s 11ms/step - loss: 0.3658 - accuracy: 0.8437 - val_loss: 0.4134 - val_accuracy: 0.8136 - lr: 2.0000e-04\n",
            "Epoch 9/9\n",
            "213/215 [============================>.] - ETA: 0s - loss: 0.3622 - accuracy: 0.8452\n",
            "Epoch 9: ReduceLROnPlateau reducing learning rate to 8.000000525498762e-06.\n",
            "215/215 [==============================] - 3s 12ms/step - loss: 0.3626 - accuracy: 0.8451 - val_loss: 0.4134 - val_accuracy: 0.8136 - lr: 4.0000e-05\n"
          ]
        }
      ]
    },
    {
      "cell_type": "code",
      "source": [
        "model_6.load_weights('model_checkpoints/USE.ckpt')\n",
        "model_6_pred_pros = model_6.predict(X_test)\n",
        "y_pred_6 = tf.round(tf.squeeze(model_6_pred_pros)).numpy()\n",
        "model_6_result = evaluate_results(y_true = y_test, y_pred = y_pred_6)\n",
        "model_6_result"
      ],
      "metadata": {
        "colab": {
          "base_uri": "https://localhost:8080/"
        },
        "id": "s3rm8Y9d-nfu",
        "outputId": "f25911cd-0427-469b-e0a8-770b343d6d75"
      },
      "execution_count": 61,
      "outputs": [
        {
          "output_type": "execute_result",
          "data": {
            "text/plain": [
              "{'model_accuracy': 0.8149606299212598,\n",
              " 'model_fscore': 0.8141167288719497,\n",
              " 'model_precision': 0.8143126998590242,\n",
              " 'model_recall': 0.8149606299212598}"
            ]
          },
          "metadata": {},
          "execution_count": 61
        }
      ]
    },
    {
      "cell_type": "markdown",
      "source": [
        "##USE with 10% of the data"
      ],
      "metadata": {
        "id": "7pSXRqfE0YtK"
      }
    },
    {
      "cell_type": "code",
      "source": [
        "df_10_percent = pd.DataFrame({'X_train': X_train,\n",
        "                              'y_train':y_train}).sample(frac=0.1)\n",
        "df_10_percent"
      ],
      "metadata": {
        "colab": {
          "base_uri": "https://localhost:8080/",
          "height": 424
        },
        "id": "2XiGX1vf02ML",
        "outputId": "b6ab8bad-03c1-4401-bb35-1a27ddd60bb6"
      },
      "execution_count": 62,
      "outputs": [
        {
          "output_type": "execute_result",
          "data": {
            "text/plain": [
              "                                                X_train  y_train\n",
              "51    Your brain is particularly vulnerable to traum...        0\n",
              "4846  Only been back 10 &amp; a whirlwind has hit ja...        0\n",
              "4930  Who is bringing the tornadoes and floods. Who ...        0\n",
              "1849  I rated Catastrophe (2015) 8/10  #IMDb - hilar...        0\n",
              "1531  @montetjwitter11 @Mets @audreyp77 @teena_797 @...        0\n",
              "...                                                 ...      ...\n",
              "4815  Daniel 12:11  And from the time that the daily...        0\n",
              "1303  Then the stylist who'd been silent says 'there...        0\n",
              "3064  Removing tsunami debris from the West Coast: K...        1\n",
              "6714  .: .: .: .: .: .: .: .: .: .: .: .: .: .: .: ....        0\n",
              "3183  @SapphireScallop Destroy oppa image? Oops! The...        0\n",
              "\n",
              "[685 rows x 2 columns]"
            ],
            "text/html": [
              "\n",
              "  <div id=\"df-00f670be-751b-4f9c-9825-934eed6ecab5\">\n",
              "    <div class=\"colab-df-container\">\n",
              "      <div>\n",
              "<style scoped>\n",
              "    .dataframe tbody tr th:only-of-type {\n",
              "        vertical-align: middle;\n",
              "    }\n",
              "\n",
              "    .dataframe tbody tr th {\n",
              "        vertical-align: top;\n",
              "    }\n",
              "\n",
              "    .dataframe thead th {\n",
              "        text-align: right;\n",
              "    }\n",
              "</style>\n",
              "<table border=\"1\" class=\"dataframe\">\n",
              "  <thead>\n",
              "    <tr style=\"text-align: right;\">\n",
              "      <th></th>\n",
              "      <th>X_train</th>\n",
              "      <th>y_train</th>\n",
              "    </tr>\n",
              "  </thead>\n",
              "  <tbody>\n",
              "    <tr>\n",
              "      <th>51</th>\n",
              "      <td>Your brain is particularly vulnerable to traum...</td>\n",
              "      <td>0</td>\n",
              "    </tr>\n",
              "    <tr>\n",
              "      <th>4846</th>\n",
              "      <td>Only been back 10 &amp;amp; a whirlwind has hit ja...</td>\n",
              "      <td>0</td>\n",
              "    </tr>\n",
              "    <tr>\n",
              "      <th>4930</th>\n",
              "      <td>Who is bringing the tornadoes and floods. Who ...</td>\n",
              "      <td>0</td>\n",
              "    </tr>\n",
              "    <tr>\n",
              "      <th>1849</th>\n",
              "      <td>I rated Catastrophe (2015) 8/10  #IMDb - hilar...</td>\n",
              "      <td>0</td>\n",
              "    </tr>\n",
              "    <tr>\n",
              "      <th>1531</th>\n",
              "      <td>@montetjwitter11 @Mets @audreyp77 @teena_797 @...</td>\n",
              "      <td>0</td>\n",
              "    </tr>\n",
              "    <tr>\n",
              "      <th>...</th>\n",
              "      <td>...</td>\n",
              "      <td>...</td>\n",
              "    </tr>\n",
              "    <tr>\n",
              "      <th>4815</th>\n",
              "      <td>Daniel 12:11  And from the time that the daily...</td>\n",
              "      <td>0</td>\n",
              "    </tr>\n",
              "    <tr>\n",
              "      <th>1303</th>\n",
              "      <td>Then the stylist who'd been silent says 'there...</td>\n",
              "      <td>0</td>\n",
              "    </tr>\n",
              "    <tr>\n",
              "      <th>3064</th>\n",
              "      <td>Removing tsunami debris from the West Coast: K...</td>\n",
              "      <td>1</td>\n",
              "    </tr>\n",
              "    <tr>\n",
              "      <th>6714</th>\n",
              "      <td>.: .: .: .: .: .: .: .: .: .: .: .: .: .: .: ....</td>\n",
              "      <td>0</td>\n",
              "    </tr>\n",
              "    <tr>\n",
              "      <th>3183</th>\n",
              "      <td>@SapphireScallop Destroy oppa image? Oops! The...</td>\n",
              "      <td>0</td>\n",
              "    </tr>\n",
              "  </tbody>\n",
              "</table>\n",
              "<p>685 rows × 2 columns</p>\n",
              "</div>\n",
              "      <button class=\"colab-df-convert\" onclick=\"convertToInteractive('df-00f670be-751b-4f9c-9825-934eed6ecab5')\"\n",
              "              title=\"Convert this dataframe to an interactive table.\"\n",
              "              style=\"display:none;\">\n",
              "        \n",
              "  <svg xmlns=\"http://www.w3.org/2000/svg\" height=\"24px\"viewBox=\"0 0 24 24\"\n",
              "       width=\"24px\">\n",
              "    <path d=\"M0 0h24v24H0V0z\" fill=\"none\"/>\n",
              "    <path d=\"M18.56 5.44l.94 2.06.94-2.06 2.06-.94-2.06-.94-.94-2.06-.94 2.06-2.06.94zm-11 1L8.5 8.5l.94-2.06 2.06-.94-2.06-.94L8.5 2.5l-.94 2.06-2.06.94zm10 10l.94 2.06.94-2.06 2.06-.94-2.06-.94-.94-2.06-.94 2.06-2.06.94z\"/><path d=\"M17.41 7.96l-1.37-1.37c-.4-.4-.92-.59-1.43-.59-.52 0-1.04.2-1.43.59L10.3 9.45l-7.72 7.72c-.78.78-.78 2.05 0 2.83L4 21.41c.39.39.9.59 1.41.59.51 0 1.02-.2 1.41-.59l7.78-7.78 2.81-2.81c.8-.78.8-2.07 0-2.86zM5.41 20L4 18.59l7.72-7.72 1.47 1.35L5.41 20z\"/>\n",
              "  </svg>\n",
              "      </button>\n",
              "      \n",
              "  <style>\n",
              "    .colab-df-container {\n",
              "      display:flex;\n",
              "      flex-wrap:wrap;\n",
              "      gap: 12px;\n",
              "    }\n",
              "\n",
              "    .colab-df-convert {\n",
              "      background-color: #E8F0FE;\n",
              "      border: none;\n",
              "      border-radius: 50%;\n",
              "      cursor: pointer;\n",
              "      display: none;\n",
              "      fill: #1967D2;\n",
              "      height: 32px;\n",
              "      padding: 0 0 0 0;\n",
              "      width: 32px;\n",
              "    }\n",
              "\n",
              "    .colab-df-convert:hover {\n",
              "      background-color: #E2EBFA;\n",
              "      box-shadow: 0px 1px 2px rgba(60, 64, 67, 0.3), 0px 1px 3px 1px rgba(60, 64, 67, 0.15);\n",
              "      fill: #174EA6;\n",
              "    }\n",
              "\n",
              "    [theme=dark] .colab-df-convert {\n",
              "      background-color: #3B4455;\n",
              "      fill: #D2E3FC;\n",
              "    }\n",
              "\n",
              "    [theme=dark] .colab-df-convert:hover {\n",
              "      background-color: #434B5C;\n",
              "      box-shadow: 0px 1px 3px 1px rgba(0, 0, 0, 0.15);\n",
              "      filter: drop-shadow(0px 1px 2px rgba(0, 0, 0, 0.3));\n",
              "      fill: #FFFFFF;\n",
              "    }\n",
              "  </style>\n",
              "\n",
              "      <script>\n",
              "        const buttonEl =\n",
              "          document.querySelector('#df-00f670be-751b-4f9c-9825-934eed6ecab5 button.colab-df-convert');\n",
              "        buttonEl.style.display =\n",
              "          google.colab.kernel.accessAllowed ? 'block' : 'none';\n",
              "\n",
              "        async function convertToInteractive(key) {\n",
              "          const element = document.querySelector('#df-00f670be-751b-4f9c-9825-934eed6ecab5');\n",
              "          const dataTable =\n",
              "            await google.colab.kernel.invokeFunction('convertToInteractive',\n",
              "                                                     [key], {});\n",
              "          if (!dataTable) return;\n",
              "\n",
              "          const docLinkHtml = 'Like what you see? Visit the ' +\n",
              "            '<a target=\"_blank\" href=https://colab.research.google.com/notebooks/data_table.ipynb>data table notebook</a>'\n",
              "            + ' to learn more about interactive tables.';\n",
              "          element.innerHTML = '';\n",
              "          dataTable['output_type'] = 'display_data';\n",
              "          await google.colab.output.renderOutput(dataTable, element);\n",
              "          const docLink = document.createElement('div');\n",
              "          docLink.innerHTML = docLinkHtml;\n",
              "          element.appendChild(docLink);\n",
              "        }\n",
              "      </script>\n",
              "    </div>\n",
              "  </div>\n",
              "  "
            ]
          },
          "metadata": {},
          "execution_count": 62
        }
      ]
    },
    {
      "cell_type": "code",
      "source": [
        "X_train_10_percent = list(df_10_percent['X_train'])\n",
        "y_train_10_percent = list(df_10_percent['y_train'])\n",
        "len(X_train_10_percent)"
      ],
      "metadata": {
        "colab": {
          "base_uri": "https://localhost:8080/"
        },
        "id": "bDa7NW_m1Q63",
        "outputId": "13b3c426-77cf-476d-fbe0-1e5f16d8bcd0"
      },
      "execution_count": 63,
      "outputs": [
        {
          "output_type": "execute_result",
          "data": {
            "text/plain": [
              "685"
            ]
          },
          "metadata": {},
          "execution_count": 63
        }
      ]
    },
    {
      "cell_type": "code",
      "source": [
        "model_7 = tf.keras.models.clone_model(model_6)"
      ],
      "metadata": {
        "id": "kH5byd7E13Gd"
      },
      "execution_count": 64,
      "outputs": []
    },
    {
      "cell_type": "code",
      "source": [
        "model_7.compile(loss=tf.keras.losses.BinaryCrossentropy(),\n",
        "                optimizer=tf.keras.optimizers.Adam(),\n",
        "                metrics=['accuracy'])"
      ],
      "metadata": {
        "id": "eVSNICsg2ZVv"
      },
      "execution_count": 65,
      "outputs": []
    },
    {
      "cell_type": "code",
      "source": [
        "history_7 = model_7.fit(X_train_10_percent, y_train_10_percent,\n",
        "                        epochs=9,\n",
        "                        validation_data=(X_test, y_test),\n",
        "                        callbacks=[create_tensorboard('USE_10_percent'),\n",
        "                                   create_checkpoint('USE_10_percent'),\n",
        "                                   reduce_lr,\n",
        "                                   early_stop])"
      ],
      "metadata": {
        "colab": {
          "base_uri": "https://localhost:8080/"
        },
        "id": "OLD-FU0t2fe-",
        "outputId": "c093b72e-1915-46ce-8c5b-473b9846414e"
      },
      "execution_count": 66,
      "outputs": [
        {
          "output_type": "stream",
          "name": "stdout",
          "text": [
            "Saving TensorBoard log files to: tensorboard_log/USE_10_percent/20220606-035639\n",
            "Epoch 1/9\n",
            "22/22 [==============================] - 7s 237ms/step - loss: 0.6702 - accuracy: 0.6949 - val_loss: 0.6427 - val_accuracy: 0.7625 - lr: 0.0010\n",
            "Epoch 2/9\n",
            "22/22 [==============================] - 5s 216ms/step - loss: 0.5997 - accuracy: 0.8146 - val_loss: 0.5783 - val_accuracy: 0.7743 - lr: 0.0010\n",
            "Epoch 3/9\n",
            "22/22 [==============================] - 5s 223ms/step - loss: 0.5245 - accuracy: 0.8175 - val_loss: 0.5191 - val_accuracy: 0.7795 - lr: 0.0010\n",
            "Epoch 4/9\n",
            "22/22 [==============================] - 5s 219ms/step - loss: 0.4617 - accuracy: 0.8263 - val_loss: 0.4834 - val_accuracy: 0.7874 - lr: 0.0010\n",
            "Epoch 5/9\n",
            "22/22 [==============================] - 5s 223ms/step - loss: 0.4166 - accuracy: 0.8277 - val_loss: 0.4654 - val_accuracy: 0.7900 - lr: 0.0010\n",
            "Epoch 6/9\n",
            "22/22 [==============================] - 5s 215ms/step - loss: 0.3851 - accuracy: 0.8409 - val_loss: 0.4574 - val_accuracy: 0.7822 - lr: 0.0010\n",
            "Epoch 7/9\n",
            "22/22 [==============================] - 5s 237ms/step - loss: 0.3621 - accuracy: 0.8482 - val_loss: 0.4553 - val_accuracy: 0.7887 - lr: 0.0010\n",
            "Epoch 8/9\n",
            "22/22 [==============================] - 5s 221ms/step - loss: 0.3437 - accuracy: 0.8642 - val_loss: 0.4534 - val_accuracy: 0.7887 - lr: 0.0010\n",
            "Epoch 9/9\n",
            "18/22 [=======================>......] - ETA: 0s - loss: 0.3360 - accuracy: 0.8576\n",
            "Epoch 9: ReduceLROnPlateau reducing learning rate to 0.00020000000949949026.\n",
            "22/22 [==============================] - 1s 26ms/step - loss: 0.3274 - accuracy: 0.8672 - val_loss: 0.4564 - val_accuracy: 0.7848 - lr: 0.0010\n"
          ]
        }
      ]
    },
    {
      "cell_type": "code",
      "source": [
        "model_7.load_weights('model_checkpoints/USE_10_percent.ckpt')\n",
        "model_7_pred_pros = model_7.predict(X_test)\n",
        "y_pred_7 = tf.round(tf.squeeze(model_7_pred_pros)).numpy()\n",
        "model_7_result = evaluate_results(y_true = y_test, y_pred = y_pred_7)\n",
        "model_7_result"
      ],
      "metadata": {
        "colab": {
          "base_uri": "https://localhost:8080/"
        },
        "id": "xDw6TdGD2qT3",
        "outputId": "f07a6e4b-e9af-4bd0-d483-907dc0237e63"
      },
      "execution_count": 67,
      "outputs": [
        {
          "output_type": "execute_result",
          "data": {
            "text/plain": [
              "{'model_accuracy': 0.7887139107611548,\n",
              " 'model_fscore': 0.7888400406035532,\n",
              " 'model_precision': 0.7889908441539928,\n",
              " 'model_recall': 0.7887139107611548}"
            ]
          },
          "metadata": {},
          "execution_count": 67
        }
      ]
    },
    {
      "cell_type": "markdown",
      "source": [
        "##Evaluate the models"
      ],
      "metadata": {
        "id": "RYbk7Z9kMKNw"
      }
    },
    {
      "cell_type": "code",
      "source": [
        "df_result = pd.DataFrame({'Base_model': model_0_result,\n",
        "                          'Dense_model': model_1_result,\n",
        "                          'LSTM_model': model_2_result,\n",
        "                          'GRU_model': model_3_result,\n",
        "                          'Bidirectional_model': model_4_result,\n",
        "                          'Conv1D_model': model_5_result,\n",
        "                          'USE_model': model_6_result,\n",
        "                          'USE_model_10_percent': model_7_result})\n",
        "df_result = df_result.transpose()"
      ],
      "metadata": {
        "id": "wHBfEq3h-5el"
      },
      "execution_count": 86,
      "outputs": []
    },
    {
      "cell_type": "code",
      "source": [
        "df_result.plot(kind='bar', figsize=(10, 7)).legend(bbox_to_anchor=(1.0, 1.0))"
      ],
      "metadata": {
        "colab": {
          "base_uri": "https://localhost:8080/",
          "height": 553
        },
        "id": "DdfWuYP5_5P-",
        "outputId": "e3644c09-aa24-416a-be7f-0c65a9bff74d"
      },
      "execution_count": 72,
      "outputs": [
        {
          "output_type": "execute_result",
          "data": {
            "text/plain": [
              "<matplotlib.legend.Legend at 0x7f357a4e28d0>"
            ]
          },
          "metadata": {},
          "execution_count": 72
        },
        {
          "output_type": "display_data",
          "data": {
            "text/plain": [
              "<Figure size 720x504 with 1 Axes>"
            ],
            "image/png": "[encoded data removed]"
          },
          "metadata": {
            "needs_background": "light"
          }
        }
      ]
    },
    {
      "cell_type": "code",
      "source": [
        "df_result['model_fscore'].sort_values(0, ascending=False).plot(kind='bar', figsize=(10, 7))"
      ],
      "metadata": {
        "colab": {
          "base_uri": "https://localhost:8080/",
          "height": 608
        },
        "id": "0R-JgEjyJsew",
        "outputId": "dba866e8-1bd3-4fd4-ac5d-a48b6780c611"
      },
      "execution_count": 85,
      "outputs": [
        {
          "output_type": "stream",
          "name": "stderr",
          "text": [
            "/usr/local/lib/python3.7/dist-packages/ipykernel_launcher.py:1: FutureWarning: In a future version of pandas all arguments of Series.sort_values will be keyword-only\n",
            "  \"\"\"Entry point for launching an IPython kernel.\n"
          ]
        },
        {
          "output_type": "execute_result",
          "data": {
            "text/plain": [
              "<matplotlib.axes._subplots.AxesSubplot at 0x7f357a116410>"
            ]
          },
          "metadata": {},
          "execution_count": 85
        },
        {
          "output_type": "display_data",
          "data": {
            "text/plain": [
              "<Figure size 720x504 with 1 Axes>"
            ],
            "image/png": "[encoded data removed]"
          },
          "metadata": {
            "needs_background": "light"
          }
        }
      ]
    },
    {
      "cell_type": "markdown",
      "source": [
        "##Upload to Tensorboard"
      ],
      "metadata": {
        "id": "hyNx5OupMF4Z"
      }
    },
    {
      "cell_type": "code",
      "source": [
        "!tensorboard dev upload \\\n",
        "    --logdir ./tensorboard_log/ \\\n",
        "    --name \"NLP modelling experiments\" \\\n",
        "    --description \"A series of different NLP modellings experiments with various models\" \\\n",
        "    --one_shot # exits the uploader when upload has finished"
      ],
      "metadata": {
        "colab": {
          "base_uri": "https://localhost:8080/"
        },
        "id": "aqauhRWiK7zB",
        "outputId": "ac538abf-3e0c-4a83-f0f5-030374e863b5"
      },
      "execution_count": 89,
      "outputs": [
        {
          "output_type": "stream",
          "name": "stdout",
          "text": [
            "\n",
            "***** TensorBoard Uploader *****\n",
            "\n",
            "This will upload your TensorBoard logs to https://tensorboard.dev/ from\n",
            "the following directory:\n",
            "\n",
            "./tensorboard_log/\n",
            "\n",
            "This TensorBoard will be visible to everyone. Do not upload sensitive\n",
            "data.\n",
            "\n",
            "Your use of this service is subject to Google's Terms of Service\n",
            "<https://policies.google.com/terms> and Privacy Policy\n",
            "<https://policies.google.com/privacy>, and TensorBoard.dev's Terms of Service\n",
            "<https://tensorboard.dev/policy/terms/>.\n",
            "\n",
            "This notice will not be shown again while you are logged into the uploader.\n",
            "To log out, run `tensorboard dev auth revoke`.\n",
            "\n",
            "Continue? (yes/NO) yes\n",
            "\n",
            "Please visit this URL to authorize this application: https://accounts.google.com/o/oauth2/auth?response_type=code&client_id=373649185512-8v619h5kft38l4456nm2dj4ubeqsrvh6.apps.googleusercontent.com&redirect_uri=urn%3Aietf%3Awg%3Aoauth%3A2.0%3Aoob&scope=openid+https%3A%2F%2Fwww.googleapis.com%2Fauth%2Fuserinfo.email&state=yFOzBctO0HVCb5ZgMNMtQd6eKDQklq&prompt=consent&access_type=offline\n",
            "Enter the authorization code: 4/1AX4XfWivDa8EtI_gBv1idA7jVOQja7P0lTE36wJuILMZ3o159qL7_ljLJRM\n",
            "\n",
            "\n",
            "New experiment created. View your TensorBoard at: https://tensorboard.dev/experiment/eyXtn08GTAibg6ugGJo0ew/\n",
            "\n",
            "\u001b[1m[2022-06-06T04:09:57]\u001b[0m Started scanning logdir.\n",
            "\u001b[1m[2022-06-06T04:10:04]\u001b[0m Total uploaded: 264 scalars, 0 tensors, 7 binary objects (2.9 MB)\n",
            "\u001b[1m[2022-06-06T04:10:04]\u001b[0m Done scanning logdir.\n",
            "\n",
            "\n",
            "Done. View your TensorBoard at https://tensorboard.dev/experiment/eyXtn08GTAibg6ugGJo0ew/\n"
          ]
        }
      ]
    },
    {
      "cell_type": "code",
      "source": [
        "model_6.save('model_6.h5')"
      ],
      "metadata": {
        "id": "xAl9ohTVMbF4"
      },
      "execution_count": 90,
      "outputs": []
    },
    {
      "cell_type": "code",
      "source": [
        "loaded_model_6 = tf.keras.models.load_model('model_6.h5', custom_objects={\"KerasLayer\": hub.KerasLayer})"
      ],
      "metadata": {
        "id": "fK2OTeBGPZ6V"
      },
      "execution_count": 92,
      "outputs": []
    },
    {
      "cell_type": "code",
      "source": [
        "loaded_model_6_pred_pros = loaded_model_6.predict(X_test)\n",
        "y_pred_6_l = tf.round(tf.squeeze(loaded_model_6_pred_pros)).numpy()\n",
        "loaded_model_6_result = evaluate_results(y_true = y_test, y_pred = y_pred_6_l)\n",
        "loaded_model_6_result"
      ],
      "metadata": {
        "colab": {
          "base_uri": "https://localhost:8080/"
        },
        "id": "8HzeB7pZPrWZ",
        "outputId": "d5bec2d9-91c4-44f5-8c8f-893e742ea729"
      },
      "execution_count": 93,
      "outputs": [
        {
          "output_type": "execute_result",
          "data": {
            "text/plain": [
              "{'model_accuracy': 0.8149606299212598,\n",
              " 'model_fscore': 0.8141167288719497,\n",
              " 'model_precision': 0.8143126998590242,\n",
              " 'model_recall': 0.8149606299212598}"
            ]
          },
          "metadata": {},
          "execution_count": 93
        }
      ]
    },
    {
      "cell_type": "code",
      "source": [
        ""
      ],
      "metadata": {
        "id": "MszVWmPnQa1K"
      },
      "execution_count": null,
      "outputs": []
    }
  ]
}