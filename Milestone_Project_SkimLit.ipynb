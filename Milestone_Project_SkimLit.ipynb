{
  "nbformat": 4,
  "nbformat_minor": 0,
  "metadata": {
    "colab": {
      "name": "Milestone Project SkimLit.ipynb",
      "provenance": [],
      "collapsed_sections": [],
      "authorship_tag": "ABX9TyM6aKtyaQPTEh0WCNCJjh3/",
      "include_colab_link": true
    },
    "kernelspec": {
      "name": "python3",
      "display_name": "Python 3"
    },
    "language_info": {
      "name": "python"
    },
    "accelerator": "GPU"
  },
  "cells": [
    {
      "cell_type": "markdown",
      "metadata": {
        "id": "view-in-github",
        "colab_type": "text"
      },
      "source": [
        "<a href=\"https://colab.research.google.com/github/yiwenwangANU/Machine_Learning/blob/main/Milestone_Project_SkimLit.ipynb\" target=\"_parent\"><img src=\"https://colab.research.google.com/assets/colab-badge.svg\" alt=\"Open In Colab\"/></a>"
      ]
    },
    {
      "cell_type": "markdown",
      "source": [
        "#Milestone Project 2: SkimLit 📄🔥\n",
        "\n",
        "In this project, we're going to be replicating the deep learning model behind the 2017 paper PubMed 200k RCT: a Dataset for Sequenctial Sentence Classification in Medical Abstracts.\n",
        "\n",
        "When it was released, the paper presented a new dataset called PubMed 200k RCT which consists of ~200,000 labelled Randomized Controlled Trial (RCT) abstracts.\n",
        "\n",
        "The goal of the dataset was to explore the ability for NLP models to classify sentences which appear in sequential order.\n",
        "\n",
        "In other words, given the abstract of a RCT, what role does each sentence serve in the abstract?\n",
        "\n",
        "![Skimlit example inputs and outputs](https://raw.githubusercontent.com/mrdbourke/tensorflow-deep-learning/main/images/09-skimlit-overview-input-and-output.png)\n",
        "\n",
        "*Example inputs ([harder to read abstract from PubMed](https://pubmed.ncbi.nlm.nih.gov/28942748/)) and outputs ([easier to read abstract](https://pubmed.ncbi.nlm.nih.gov/32537182/)) of the model we're going to build. The model will take an abstract wall of text and predict the section label each sentence should have.*  "
      ],
      "metadata": {
        "id": "MnRPgBToSFvZ"
      }
    },
    {
      "cell_type": "markdown",
      "source": [
        "#Cinform access to GPU"
      ],
      "metadata": {
        "id": "KRSSwO8LSWHb"
      }
    },
    {
      "cell_type": "code",
      "source": [
        "!nvidia-smi"
      ],
      "metadata": {
        "colab": {
          "base_uri": "https://localhost:8080/"
        },
        "id": "cbG4I37fThIY",
        "outputId": "b35f7bfd-d47e-40c6-9a73-efaa54898ef5"
      },
      "execution_count": 1,
      "outputs": [
        {
          "output_type": "stream",
          "name": "stdout",
          "text": [
            "Fri Jun 10 23:19:56 2022       \n",
            "+-----------------------------------------------------------------------------+\n",
            "| NVIDIA-SMI 460.32.03    Driver Version: 460.32.03    CUDA Version: 11.2     |\n",
            "|-------------------------------+----------------------+----------------------+\n",
            "| GPU  Name        Persistence-M| Bus-Id        Disp.A | Volatile Uncorr. ECC |\n",
            "| Fan  Temp  Perf  Pwr:Usage/Cap|         Memory-Usage | GPU-Util  Compute M. |\n",
            "|                               |                      |               MIG M. |\n",
            "|===============================+======================+======================|\n",
            "|   0  Tesla T4            Off  | 00000000:00:04.0 Off |                    0 |\n",
            "| N/A   57C    P8    10W /  70W |      0MiB / 15109MiB |      0%      Default |\n",
            "|                               |                      |                  N/A |\n",
            "+-------------------------------+----------------------+----------------------+\n",
            "                                                                               \n",
            "+-----------------------------------------------------------------------------+\n",
            "| Processes:                                                                  |\n",
            "|  GPU   GI   CI        PID   Type   Process name                  GPU Memory |\n",
            "|        ID   ID                                                   Usage      |\n",
            "|=============================================================================|\n",
            "|  No running processes found                                                 |\n",
            "+-----------------------------------------------------------------------------+\n"
          ]
        }
      ]
    },
    {
      "cell_type": "markdown",
      "source": [
        "#Download the dataset from github"
      ],
      "metadata": {
        "id": "JoX9ooPKTqaM"
      }
    },
    {
      "cell_type": "code",
      "execution_count": 2,
      "metadata": {
        "colab": {
          "base_uri": "https://localhost:8080/"
        },
        "id": "h7d5eaoAPqkI",
        "outputId": "d0c8ef13-1883-4b14-d680-6fff3e47fa50"
      },
      "outputs": [
        {
          "output_type": "stream",
          "name": "stdout",
          "text": [
            "Cloning into 'pubmed-rct'...\n",
            "remote: Enumerating objects: 33, done.\u001b[K\n",
            "remote: Counting objects: 100% (8/8), done.\u001b[K\n",
            "remote: Compressing objects: 100% (3/3), done.\u001b[K\n",
            "remote: Total 33 (delta 5), reused 5 (delta 5), pack-reused 25\u001b[K\n",
            "Unpacking objects: 100% (33/33), done.\n",
            "Checking out files: 100% (13/13), done.\n"
          ]
        }
      ],
      "source": [
        "!git clone https://github.com/Franck-Dernoncourt/pubmed-rct.git"
      ]
    },
    {
      "cell_type": "markdown",
      "source": [
        "#Explore the data"
      ],
      "metadata": {
        "id": "INtUbimtTzxY"
      }
    },
    {
      "cell_type": "code",
      "source": [
        "!ls pubmed-rct"
      ],
      "metadata": {
        "colab": {
          "base_uri": "https://localhost:8080/"
        },
        "id": "lSBHCN6pT41V",
        "outputId": "5591785c-e70d-42f4-8483-fa718a35633e"
      },
      "execution_count": 3,
      "outputs": [
        {
          "output_type": "stream",
          "name": "stdout",
          "text": [
            "PubMed_200k_RCT\n",
            "PubMed_200k_RCT_numbers_replaced_with_at_sign\n",
            "PubMed_20k_RCT\n",
            "PubMed_20k_RCT_numbers_replaced_with_at_sign\n",
            "README.md\n"
          ]
        }
      ]
    },
    {
      "cell_type": "code",
      "source": [
        "!ls pubmed-rct/PubMed_20k_RCT_numbers_replaced_with_at_sign"
      ],
      "metadata": {
        "colab": {
          "base_uri": "https://localhost:8080/"
        },
        "id": "yJQHpwb4T6zZ",
        "outputId": "002c1033-fc1a-467e-d4cb-1411d26f61cc"
      },
      "execution_count": 4,
      "outputs": [
        {
          "output_type": "stream",
          "name": "stdout",
          "text": [
            "dev.txt  test.txt  train.txt\n"
          ]
        }
      ]
    },
    {
      "cell_type": "code",
      "source": [
        "# We use dataset under the directory 'pubmed-rct/PubMed_20k_RCT_numbers_replaced_with_at_sign' in this project\n",
        "train_dir = 'pubmed-rct/PubMed_20k_RCT_numbers_replaced_with_at_sign/train.txt'\n",
        "val_dir = 'pubmed-rct/PubMed_20k_RCT_numbers_replaced_with_at_sign/dev.txt'"
      ],
      "metadata": {
        "id": "DjZirT1aUE0i"
      },
      "execution_count": 5,
      "outputs": []
    },
    {
      "cell_type": "code",
      "source": [
        "with open(train_dir, 'r') as f:\n",
        "  train_data_raw = f.readlines()\n",
        "with open(val_dir, 'r') as f:\n",
        "  val_data_raw = f.readlines()\n",
        "# Raw data is in the form of list of strings\n",
        "# For each abstract, it would start with string as '###' + id + \\n, while end with a string of single \\n\n",
        "# In the middle, each sentence of the abstract was represented in the form of 'target class'(e.g. OBJECTIVE, METHOD) + original sentence\n",
        "train_data_raw[:15]"
      ],
      "metadata": {
        "colab": {
          "base_uri": "https://localhost:8080/"
        },
        "id": "07dXcAEgUowP",
        "outputId": "650afb3b-af98-4e49-834f-c7bb03e9ccf2"
      },
      "execution_count": 6,
      "outputs": [
        {
          "output_type": "execute_result",
          "data": {
            "text/plain": [
              "['###24293578\\n',\n",
              " 'OBJECTIVE\\tTo investigate the efficacy of @ weeks of daily low-dose oral prednisolone in improving pain , mobility , and systemic low-grade inflammation in the short term and whether the effect would be sustained at @ weeks in older adults with moderate to severe knee osteoarthritis ( OA ) .\\n',\n",
              " 'METHODS\\tA total of @ patients with primary knee OA were randomized @:@ ; @ received @ mg/day of prednisolone and @ received placebo for @ weeks .\\n',\n",
              " 'METHODS\\tOutcome measures included pain reduction and improvement in function scores and systemic inflammation markers .\\n',\n",
              " 'METHODS\\tPain was assessed using the visual analog pain scale ( @-@ mm ) .\\n',\n",
              " 'METHODS\\tSecondary outcome measures included the Western Ontario and McMaster Universities Osteoarthritis Index scores , patient global assessment ( PGA ) of the severity of knee OA , and @-min walk distance ( @MWD ) .\\n',\n",
              " 'METHODS\\tSerum levels of interleukin @ ( IL-@ ) , IL-@ , tumor necrosis factor ( TNF ) - , and high-sensitivity C-reactive protein ( hsCRP ) were measured .\\n',\n",
              " 'RESULTS\\tThere was a clinically relevant reduction in the intervention group compared to the placebo group for knee pain , physical function , PGA , and @MWD at @ weeks .\\n',\n",
              " 'RESULTS\\tThe mean difference between treatment arms ( @ % CI ) was @ ( @-@ @ ) , p < @ ; @ ( @-@ @ ) , p < @ ; @ ( @-@ @ ) , p < @ ; and @ ( @-@ @ ) , p < @ , respectively .\\n',\n",
              " 'RESULTS\\tFurther , there was a clinically relevant reduction in the serum levels of IL-@ , IL-@ , TNF - , and hsCRP at @ weeks in the intervention group when compared to the placebo group .\\n',\n",
              " 'RESULTS\\tThese differences remained significant at @ weeks .\\n',\n",
              " 'RESULTS\\tThe Outcome Measures in Rheumatology Clinical Trials-Osteoarthritis Research Society International responder rate was @ % in the intervention group and @ % in the placebo group ( p < @ ) .\\n',\n",
              " 'CONCLUSIONS\\tLow-dose oral prednisolone had both a short-term and a longer sustained effect resulting in less knee pain , better physical function , and attenuation of systemic inflammation in older patients with knee OA ( ClinicalTrials.gov identifier NCT@ ) .\\n',\n",
              " '\\n',\n",
              " '###24854809\\n']"
            ]
          },
          "metadata": {},
          "execution_count": 6
        }
      ]
    },
    {
      "cell_type": "markdown",
      "source": [
        "#Preprocess the data"
      ],
      "metadata": {
        "id": "Q6O5c_k9VODr"
      }
    },
    {
      "cell_type": "markdown",
      "source": [
        "## Seperate the list by each abstract "
      ],
      "metadata": {
        "id": "8bCFoSsCbydU"
      }
    },
    {
      "cell_type": "code",
      "source": [
        "\n",
        "def seperate_data_by_abstract(raw_data):\n",
        "  data_seperated = []\n",
        "  abstract = []\n",
        "  for row in raw_data:\n",
        "    if row.startswith('\\n'):\n",
        "      abstract.append(row)\n",
        "      data_seperated.append(abstract)\n",
        "      abstract = []     \n",
        "    else:\n",
        "      abstract.append(row)\n",
        "  return data_seperated"
      ],
      "metadata": {
        "id": "Sc1SddkaU6K_"
      },
      "execution_count": 7,
      "outputs": []
    },
    {
      "cell_type": "code",
      "source": [
        "train_data_seperated = seperate_data_by_abstract(train_data_raw)\n",
        "val_data_seperated = seperate_data_by_abstract(val_data_raw)\n",
        "train_data_seperated[:2]"
      ],
      "metadata": {
        "colab": {
          "base_uri": "https://localhost:8080/"
        },
        "id": "YxV1aDyXZ1Xv",
        "outputId": "38d500f0-b700-4a3c-ce50-fa9d12475208"
      },
      "execution_count": 8,
      "outputs": [
        {
          "output_type": "execute_result",
          "data": {
            "text/plain": [
              "[['###24293578\\n',\n",
              "  'OBJECTIVE\\tTo investigate the efficacy of @ weeks of daily low-dose oral prednisolone in improving pain , mobility , and systemic low-grade inflammation in the short term and whether the effect would be sustained at @ weeks in older adults with moderate to severe knee osteoarthritis ( OA ) .\\n',\n",
              "  'METHODS\\tA total of @ patients with primary knee OA were randomized @:@ ; @ received @ mg/day of prednisolone and @ received placebo for @ weeks .\\n',\n",
              "  'METHODS\\tOutcome measures included pain reduction and improvement in function scores and systemic inflammation markers .\\n',\n",
              "  'METHODS\\tPain was assessed using the visual analog pain scale ( @-@ mm ) .\\n',\n",
              "  'METHODS\\tSecondary outcome measures included the Western Ontario and McMaster Universities Osteoarthritis Index scores , patient global assessment ( PGA ) of the severity of knee OA , and @-min walk distance ( @MWD ) .\\n',\n",
              "  'METHODS\\tSerum levels of interleukin @ ( IL-@ ) , IL-@ , tumor necrosis factor ( TNF ) - , and high-sensitivity C-reactive protein ( hsCRP ) were measured .\\n',\n",
              "  'RESULTS\\tThere was a clinically relevant reduction in the intervention group compared to the placebo group for knee pain , physical function , PGA , and @MWD at @ weeks .\\n',\n",
              "  'RESULTS\\tThe mean difference between treatment arms ( @ % CI ) was @ ( @-@ @ ) , p < @ ; @ ( @-@ @ ) , p < @ ; @ ( @-@ @ ) , p < @ ; and @ ( @-@ @ ) , p < @ , respectively .\\n',\n",
              "  'RESULTS\\tFurther , there was a clinically relevant reduction in the serum levels of IL-@ , IL-@ , TNF - , and hsCRP at @ weeks in the intervention group when compared to the placebo group .\\n',\n",
              "  'RESULTS\\tThese differences remained significant at @ weeks .\\n',\n",
              "  'RESULTS\\tThe Outcome Measures in Rheumatology Clinical Trials-Osteoarthritis Research Society International responder rate was @ % in the intervention group and @ % in the placebo group ( p < @ ) .\\n',\n",
              "  'CONCLUSIONS\\tLow-dose oral prednisolone had both a short-term and a longer sustained effect resulting in less knee pain , better physical function , and attenuation of systemic inflammation in older patients with knee OA ( ClinicalTrials.gov identifier NCT@ ) .\\n',\n",
              "  '\\n'],\n",
              " ['###24854809\\n',\n",
              "  'BACKGROUND\\tEmotional eating is associated with overeating and the development of obesity .\\n',\n",
              "  'BACKGROUND\\tYet , empirical evidence for individual ( trait ) differences in emotional eating and cognitive mechanisms that contribute to eating during sad mood remain equivocal .\\n',\n",
              "  'OBJECTIVE\\tThe aim of this study was to test if attention bias for food moderates the effect of self-reported emotional eating during sad mood ( vs neutral mood ) on actual food intake .\\n',\n",
              "  'OBJECTIVE\\tIt was expected that emotional eating is predictive of elevated attention for food and higher food intake after an experimentally induced sad mood and that attentional maintenance on food predicts food intake during a sad versus a neutral mood .\\n',\n",
              "  'METHODS\\tParticipants ( N = @ ) were randomly assigned to one of the two experimental mood induction conditions ( sad/neutral ) .\\n',\n",
              "  'METHODS\\tAttentional biases for high caloric foods were measured by eye tracking during a visual probe task with pictorial food and neutral stimuli .\\n',\n",
              "  'METHODS\\tSelf-reported emotional eating was assessed with the Dutch Eating Behavior Questionnaire ( DEBQ ) and ad libitum food intake was tested by a disguised food offer .\\n',\n",
              "  'RESULTS\\tHierarchical multivariate regression modeling showed that self-reported emotional eating did not account for changes in attention allocation for food or food intake in either condition .\\n',\n",
              "  'RESULTS\\tYet , attention maintenance on food cues was significantly related to increased intake specifically in the neutral condition , but not in the sad mood condition .\\n',\n",
              "  'CONCLUSIONS\\tThe current findings show that self-reported emotional eating ( based on the DEBQ ) might not validly predict who overeats when sad , at least not in a laboratory setting with healthy women .\\n',\n",
              "  'CONCLUSIONS\\tResults further suggest that attention maintenance on food relates to eating motivation when in a neutral affective state , and might therefore be a cognitive mechanism contributing to increased food intake in general , but maybe not during sad mood .\\n',\n",
              "  '\\n']]"
            ]
          },
          "metadata": {},
          "execution_count": 8
        }
      ]
    },
    {
      "cell_type": "markdown",
      "source": [
        "## Create the pandas DataFrame for data input"
      ],
      "metadata": {
        "id": "4XGTJJQab3gI"
      }
    },
    {
      "cell_type": "code",
      "source": [
        "import pandas as pd\n",
        "\n",
        "def create_df_from_data(data_seperated):\n",
        "  datalist = []\n",
        "  for article in data_seperated:\n",
        "    article = article[1:len(article)-1]\n",
        "    sentence_list = []\n",
        "    for i, sentence in enumerate(article):\n",
        "      one_line = {}\n",
        "      one_line['line_numbers'] = i\n",
        "      one_line['target'] = sentence.split('\\t')[0]\n",
        "      one_line['text'] = sentence.split('\\t')[1][:-1]\n",
        "      one_line['total_lines'] =len(article)-1\n",
        "      sentence_list.append(one_line)\n",
        "    datalist.extend(sentence_list)\n",
        "\n",
        "  df = pd.DataFrame(datalist)\n",
        "  return df"
      ],
      "metadata": {
        "id": "vhRKCBLDZ0nJ"
      },
      "execution_count": 9,
      "outputs": []
    },
    {
      "cell_type": "code",
      "source": [
        "train_df = create_df_from_data(train_data_seperated)\n",
        "val_df = create_df_from_data(val_data_seperated)"
      ],
      "metadata": {
        "id": "Ihr6_jBkSLE8"
      },
      "execution_count": 10,
      "outputs": []
    },
    {
      "cell_type": "code",
      "source": [
        "train_df[:10]"
      ],
      "metadata": {
        "id": "jUiLBPCieYA1",
        "colab": {
          "base_uri": "https://localhost:8080/",
          "height": 363
        },
        "outputId": "eea3fb38-782f-4d8c-97fa-db152139c147"
      },
      "execution_count": 11,
      "outputs": [
        {
          "output_type": "execute_result",
          "data": {
            "text/plain": [
              "   line_numbers     target                                               text  \\\n",
              "0             0  OBJECTIVE  To investigate the efficacy of @ weeks of dail...   \n",
              "1             1    METHODS  A total of @ patients with primary knee OA wer...   \n",
              "2             2    METHODS  Outcome measures included pain reduction and i...   \n",
              "3             3    METHODS  Pain was assessed using the visual analog pain...   \n",
              "4             4    METHODS  Secondary outcome measures included the Wester...   \n",
              "5             5    METHODS  Serum levels of interleukin @ ( IL-@ ) , IL-@ ...   \n",
              "6             6    RESULTS  There was a clinically relevant reduction in t...   \n",
              "7             7    RESULTS  The mean difference between treatment arms ( @...   \n",
              "8             8    RESULTS  Further , there was a clinically relevant redu...   \n",
              "9             9    RESULTS  These differences remained significant at @ we...   \n",
              "\n",
              "   total_lines  \n",
              "0           11  \n",
              "1           11  \n",
              "2           11  \n",
              "3           11  \n",
              "4           11  \n",
              "5           11  \n",
              "6           11  \n",
              "7           11  \n",
              "8           11  \n",
              "9           11  "
            ],
            "text/html": [
              "\n",
              "  <div id=\"df-423c1100-6787-4b68-8c17-933ac2a86672\">\n",
              "    <div class=\"colab-df-container\">\n",
              "      <div>\n",
              "<style scoped>\n",
              "    .dataframe tbody tr th:only-of-type {\n",
              "        vertical-align: middle;\n",
              "    }\n",
              "\n",
              "    .dataframe tbody tr th {\n",
              "        vertical-align: top;\n",
              "    }\n",
              "\n",
              "    .dataframe thead th {\n",
              "        text-align: right;\n",
              "    }\n",
              "</style>\n",
              "<table border=\"1\" class=\"dataframe\">\n",
              "  <thead>\n",
              "    <tr style=\"text-align: right;\">\n",
              "      <th></th>\n",
              "      <th>line_numbers</th>\n",
              "      <th>target</th>\n",
              "      <th>text</th>\n",
              "      <th>total_lines</th>\n",
              "    </tr>\n",
              "  </thead>\n",
              "  <tbody>\n",
              "    <tr>\n",
              "      <th>0</th>\n",
              "      <td>0</td>\n",
              "      <td>OBJECTIVE</td>\n",
              "      <td>To investigate the efficacy of @ weeks of dail...</td>\n",
              "      <td>11</td>\n",
              "    </tr>\n",
              "    <tr>\n",
              "      <th>1</th>\n",
              "      <td>1</td>\n",
              "      <td>METHODS</td>\n",
              "      <td>A total of @ patients with primary knee OA wer...</td>\n",
              "      <td>11</td>\n",
              "    </tr>\n",
              "    <tr>\n",
              "      <th>2</th>\n",
              "      <td>2</td>\n",
              "      <td>METHODS</td>\n",
              "      <td>Outcome measures included pain reduction and i...</td>\n",
              "      <td>11</td>\n",
              "    </tr>\n",
              "    <tr>\n",
              "      <th>3</th>\n",
              "      <td>3</td>\n",
              "      <td>METHODS</td>\n",
              "      <td>Pain was assessed using the visual analog pain...</td>\n",
              "      <td>11</td>\n",
              "    </tr>\n",
              "    <tr>\n",
              "      <th>4</th>\n",
              "      <td>4</td>\n",
              "      <td>METHODS</td>\n",
              "      <td>Secondary outcome measures included the Wester...</td>\n",
              "      <td>11</td>\n",
              "    </tr>\n",
              "    <tr>\n",
              "      <th>5</th>\n",
              "      <td>5</td>\n",
              "      <td>METHODS</td>\n",
              "      <td>Serum levels of interleukin @ ( IL-@ ) , IL-@ ...</td>\n",
              "      <td>11</td>\n",
              "    </tr>\n",
              "    <tr>\n",
              "      <th>6</th>\n",
              "      <td>6</td>\n",
              "      <td>RESULTS</td>\n",
              "      <td>There was a clinically relevant reduction in t...</td>\n",
              "      <td>11</td>\n",
              "    </tr>\n",
              "    <tr>\n",
              "      <th>7</th>\n",
              "      <td>7</td>\n",
              "      <td>RESULTS</td>\n",
              "      <td>The mean difference between treatment arms ( @...</td>\n",
              "      <td>11</td>\n",
              "    </tr>\n",
              "    <tr>\n",
              "      <th>8</th>\n",
              "      <td>8</td>\n",
              "      <td>RESULTS</td>\n",
              "      <td>Further , there was a clinically relevant redu...</td>\n",
              "      <td>11</td>\n",
              "    </tr>\n",
              "    <tr>\n",
              "      <th>9</th>\n",
              "      <td>9</td>\n",
              "      <td>RESULTS</td>\n",
              "      <td>These differences remained significant at @ we...</td>\n",
              "      <td>11</td>\n",
              "    </tr>\n",
              "  </tbody>\n",
              "</table>\n",
              "</div>\n",
              "      <button class=\"colab-df-convert\" onclick=\"convertToInteractive('df-423c1100-6787-4b68-8c17-933ac2a86672')\"\n",
              "              title=\"Convert this dataframe to an interactive table.\"\n",
              "              style=\"display:none;\">\n",
              "        \n",
              "  <svg xmlns=\"http://www.w3.org/2000/svg\" height=\"24px\"viewBox=\"0 0 24 24\"\n",
              "       width=\"24px\">\n",
              "    <path d=\"M0 0h24v24H0V0z\" fill=\"none\"/>\n",
              "    <path d=\"M18.56 5.44l.94 2.06.94-2.06 2.06-.94-2.06-.94-.94-2.06-.94 2.06-2.06.94zm-11 1L8.5 8.5l.94-2.06 2.06-.94-2.06-.94L8.5 2.5l-.94 2.06-2.06.94zm10 10l.94 2.06.94-2.06 2.06-.94-2.06-.94-.94-2.06-.94 2.06-2.06.94z\"/><path d=\"M17.41 7.96l-1.37-1.37c-.4-.4-.92-.59-1.43-.59-.52 0-1.04.2-1.43.59L10.3 9.45l-7.72 7.72c-.78.78-.78 2.05 0 2.83L4 21.41c.39.39.9.59 1.41.59.51 0 1.02-.2 1.41-.59l7.78-7.78 2.81-2.81c.8-.78.8-2.07 0-2.86zM5.41 20L4 18.59l7.72-7.72 1.47 1.35L5.41 20z\"/>\n",
              "  </svg>\n",
              "      </button>\n",
              "      \n",
              "  <style>\n",
              "    .colab-df-container {\n",
              "      display:flex;\n",
              "      flex-wrap:wrap;\n",
              "      gap: 12px;\n",
              "    }\n",
              "\n",
              "    .colab-df-convert {\n",
              "      background-color: #E8F0FE;\n",
              "      border: none;\n",
              "      border-radius: 50%;\n",
              "      cursor: pointer;\n",
              "      display: none;\n",
              "      fill: #1967D2;\n",
              "      height: 32px;\n",
              "      padding: 0 0 0 0;\n",
              "      width: 32px;\n",
              "    }\n",
              "\n",
              "    .colab-df-convert:hover {\n",
              "      background-color: #E2EBFA;\n",
              "      box-shadow: 0px 1px 2px rgba(60, 64, 67, 0.3), 0px 1px 3px 1px rgba(60, 64, 67, 0.15);\n",
              "      fill: #174EA6;\n",
              "    }\n",
              "\n",
              "    [theme=dark] .colab-df-convert {\n",
              "      background-color: #3B4455;\n",
              "      fill: #D2E3FC;\n",
              "    }\n",
              "\n",
              "    [theme=dark] .colab-df-convert:hover {\n",
              "      background-color: #434B5C;\n",
              "      box-shadow: 0px 1px 3px 1px rgba(0, 0, 0, 0.15);\n",
              "      filter: drop-shadow(0px 1px 2px rgba(0, 0, 0, 0.3));\n",
              "      fill: #FFFFFF;\n",
              "    }\n",
              "  </style>\n",
              "\n",
              "      <script>\n",
              "        const buttonEl =\n",
              "          document.querySelector('#df-423c1100-6787-4b68-8c17-933ac2a86672 button.colab-df-convert');\n",
              "        buttonEl.style.display =\n",
              "          google.colab.kernel.accessAllowed ? 'block' : 'none';\n",
              "\n",
              "        async function convertToInteractive(key) {\n",
              "          const element = document.querySelector('#df-423c1100-6787-4b68-8c17-933ac2a86672');\n",
              "          const dataTable =\n",
              "            await google.colab.kernel.invokeFunction('convertToInteractive',\n",
              "                                                     [key], {});\n",
              "          if (!dataTable) return;\n",
              "\n",
              "          const docLinkHtml = 'Like what you see? Visit the ' +\n",
              "            '<a target=\"_blank\" href=https://colab.research.google.com/notebooks/data_table.ipynb>data table notebook</a>'\n",
              "            + ' to learn more about interactive tables.';\n",
              "          element.innerHTML = '';\n",
              "          dataTable['output_type'] = 'display_data';\n",
              "          await google.colab.output.renderOutput(dataTable, element);\n",
              "          const docLink = document.createElement('div');\n",
              "          docLink.innerHTML = docLinkHtml;\n",
              "          element.appendChild(docLink);\n",
              "        }\n",
              "      </script>\n",
              "    </div>\n",
              "  </div>\n",
              "  "
            ]
          },
          "metadata": {},
          "execution_count": 11
        }
      ]
    },
    {
      "cell_type": "code",
      "source": [
        "import random\n",
        "ran_index = random.randint(5, len(train_df))\n",
        "train_df[ran_index-5:ran_index]"
      ],
      "metadata": {
        "colab": {
          "base_uri": "https://localhost:8080/",
          "height": 206
        },
        "id": "3tTZSy9HUhDg",
        "outputId": "72f8db69-5938-4dc1-822e-420a7b07d2e1"
      },
      "execution_count": 12,
      "outputs": [
        {
          "output_type": "execute_result",
          "data": {
            "text/plain": [
              "       line_numbers       target  \\\n",
              "23722            11  CONCLUSIONS   \n",
              "23723            12  CONCLUSIONS   \n",
              "23724            13  CONCLUSIONS   \n",
              "23725            14   BACKGROUND   \n",
              "23726             0    OBJECTIVE   \n",
              "\n",
              "                                                    text  total_lines  \n",
              "23722  This study found a strong linear relationship ...           14  \n",
              "23723  The analysis of quantitative drug levels in ha...           14  \n",
              "23724  Hair measures for adherence monitoring may als...           14  \n",
              "23725                          ClinicalTrials.gov NCT@ .           14  \n",
              "23726  Talactoferrin alfa is a recombinant form of th...           12  "
            ],
            "text/html": [
              "\n",
              "  <div id=\"df-27c10e1b-c9ea-413b-87ec-3d82797929d9\">\n",
              "    <div class=\"colab-df-container\">\n",
              "      <div>\n",
              "<style scoped>\n",
              "    .dataframe tbody tr th:only-of-type {\n",
              "        vertical-align: middle;\n",
              "    }\n",
              "\n",
              "    .dataframe tbody tr th {\n",
              "        vertical-align: top;\n",
              "    }\n",
              "\n",
              "    .dataframe thead th {\n",
              "        text-align: right;\n",
              "    }\n",
              "</style>\n",
              "<table border=\"1\" class=\"dataframe\">\n",
              "  <thead>\n",
              "    <tr style=\"text-align: right;\">\n",
              "      <th></th>\n",
              "      <th>line_numbers</th>\n",
              "      <th>target</th>\n",
              "      <th>text</th>\n",
              "      <th>total_lines</th>\n",
              "    </tr>\n",
              "  </thead>\n",
              "  <tbody>\n",
              "    <tr>\n",
              "      <th>23722</th>\n",
              "      <td>11</td>\n",
              "      <td>CONCLUSIONS</td>\n",
              "      <td>This study found a strong linear relationship ...</td>\n",
              "      <td>14</td>\n",
              "    </tr>\n",
              "    <tr>\n",
              "      <th>23723</th>\n",
              "      <td>12</td>\n",
              "      <td>CONCLUSIONS</td>\n",
              "      <td>The analysis of quantitative drug levels in ha...</td>\n",
              "      <td>14</td>\n",
              "    </tr>\n",
              "    <tr>\n",
              "      <th>23724</th>\n",
              "      <td>13</td>\n",
              "      <td>CONCLUSIONS</td>\n",
              "      <td>Hair measures for adherence monitoring may als...</td>\n",
              "      <td>14</td>\n",
              "    </tr>\n",
              "    <tr>\n",
              "      <th>23725</th>\n",
              "      <td>14</td>\n",
              "      <td>BACKGROUND</td>\n",
              "      <td>ClinicalTrials.gov NCT@ .</td>\n",
              "      <td>14</td>\n",
              "    </tr>\n",
              "    <tr>\n",
              "      <th>23726</th>\n",
              "      <td>0</td>\n",
              "      <td>OBJECTIVE</td>\n",
              "      <td>Talactoferrin alfa is a recombinant form of th...</td>\n",
              "      <td>12</td>\n",
              "    </tr>\n",
              "  </tbody>\n",
              "</table>\n",
              "</div>\n",
              "      <button class=\"colab-df-convert\" onclick=\"convertToInteractive('df-27c10e1b-c9ea-413b-87ec-3d82797929d9')\"\n",
              "              title=\"Convert this dataframe to an interactive table.\"\n",
              "              style=\"display:none;\">\n",
              "        \n",
              "  <svg xmlns=\"http://www.w3.org/2000/svg\" height=\"24px\"viewBox=\"0 0 24 24\"\n",
              "       width=\"24px\">\n",
              "    <path d=\"M0 0h24v24H0V0z\" fill=\"none\"/>\n",
              "    <path d=\"M18.56 5.44l.94 2.06.94-2.06 2.06-.94-2.06-.94-.94-2.06-.94 2.06-2.06.94zm-11 1L8.5 8.5l.94-2.06 2.06-.94-2.06-.94L8.5 2.5l-.94 2.06-2.06.94zm10 10l.94 2.06.94-2.06 2.06-.94-2.06-.94-.94-2.06-.94 2.06-2.06.94z\"/><path d=\"M17.41 7.96l-1.37-1.37c-.4-.4-.92-.59-1.43-.59-.52 0-1.04.2-1.43.59L10.3 9.45l-7.72 7.72c-.78.78-.78 2.05 0 2.83L4 21.41c.39.39.9.59 1.41.59.51 0 1.02-.2 1.41-.59l7.78-7.78 2.81-2.81c.8-.78.8-2.07 0-2.86zM5.41 20L4 18.59l7.72-7.72 1.47 1.35L5.41 20z\"/>\n",
              "  </svg>\n",
              "      </button>\n",
              "      \n",
              "  <style>\n",
              "    .colab-df-container {\n",
              "      display:flex;\n",
              "      flex-wrap:wrap;\n",
              "      gap: 12px;\n",
              "    }\n",
              "\n",
              "    .colab-df-convert {\n",
              "      background-color: #E8F0FE;\n",
              "      border: none;\n",
              "      border-radius: 50%;\n",
              "      cursor: pointer;\n",
              "      display: none;\n",
              "      fill: #1967D2;\n",
              "      height: 32px;\n",
              "      padding: 0 0 0 0;\n",
              "      width: 32px;\n",
              "    }\n",
              "\n",
              "    .colab-df-convert:hover {\n",
              "      background-color: #E2EBFA;\n",
              "      box-shadow: 0px 1px 2px rgba(60, 64, 67, 0.3), 0px 1px 3px 1px rgba(60, 64, 67, 0.15);\n",
              "      fill: #174EA6;\n",
              "    }\n",
              "\n",
              "    [theme=dark] .colab-df-convert {\n",
              "      background-color: #3B4455;\n",
              "      fill: #D2E3FC;\n",
              "    }\n",
              "\n",
              "    [theme=dark] .colab-df-convert:hover {\n",
              "      background-color: #434B5C;\n",
              "      box-shadow: 0px 1px 3px 1px rgba(0, 0, 0, 0.15);\n",
              "      filter: drop-shadow(0px 1px 2px rgba(0, 0, 0, 0.3));\n",
              "      fill: #FFFFFF;\n",
              "    }\n",
              "  </style>\n",
              "\n",
              "      <script>\n",
              "        const buttonEl =\n",
              "          document.querySelector('#df-27c10e1b-c9ea-413b-87ec-3d82797929d9 button.colab-df-convert');\n",
              "        buttonEl.style.display =\n",
              "          google.colab.kernel.accessAllowed ? 'block' : 'none';\n",
              "\n",
              "        async function convertToInteractive(key) {\n",
              "          const element = document.querySelector('#df-27c10e1b-c9ea-413b-87ec-3d82797929d9');\n",
              "          const dataTable =\n",
              "            await google.colab.kernel.invokeFunction('convertToInteractive',\n",
              "                                                     [key], {});\n",
              "          if (!dataTable) return;\n",
              "\n",
              "          const docLinkHtml = 'Like what you see? Visit the ' +\n",
              "            '<a target=\"_blank\" href=https://colab.research.google.com/notebooks/data_table.ipynb>data table notebook</a>'\n",
              "            + ' to learn more about interactive tables.';\n",
              "          element.innerHTML = '';\n",
              "          dataTable['output_type'] = 'display_data';\n",
              "          await google.colab.output.renderOutput(dataTable, element);\n",
              "          const docLink = document.createElement('div');\n",
              "          docLink.innerHTML = docLinkHtml;\n",
              "          element.appendChild(docLink);\n",
              "        }\n",
              "      </script>\n",
              "    </div>\n",
              "  </div>\n",
              "  "
            ]
          },
          "metadata": {},
          "execution_count": 12
        }
      ]
    },
    {
      "cell_type": "code",
      "source": [
        "train_df['target'].value_counts()"
      ],
      "metadata": {
        "colab": {
          "base_uri": "https://localhost:8080/"
        },
        "id": "2-t6UHMDVBbX",
        "outputId": "17347a00-9fc8-4df8-8b9f-8519239ef709"
      },
      "execution_count": 13,
      "outputs": [
        {
          "output_type": "execute_result",
          "data": {
            "text/plain": [
              "METHODS        59353\n",
              "RESULTS        57953\n",
              "CONCLUSIONS    27168\n",
              "BACKGROUND     21727\n",
              "OBJECTIVE      13839\n",
              "Name: target, dtype: int64"
            ]
          },
          "metadata": {},
          "execution_count": 13
        }
      ]
    },
    {
      "cell_type": "code",
      "source": [
        "train_df['total_lines'].plot.hist(bins=20)"
      ],
      "metadata": {
        "colab": {
          "base_uri": "https://localhost:8080/",
          "height": 285
        },
        "id": "gpHc4EltVkWw",
        "outputId": "8aff1b5f-ed73-4752-8046-971c9fd6cc5a"
      },
      "execution_count": 14,
      "outputs": [
        {
          "output_type": "execute_result",
          "data": {
            "text/plain": [
              "<matplotlib.axes._subplots.AxesSubplot at 0x7fdd285af850>"
            ]
          },
          "metadata": {},
          "execution_count": 14
        },
        {
          "output_type": "display_data",
          "data": {
            "text/plain": [
              "<Figure size 432x288 with 1 Axes>"
            ],
            "image/png": "[encoded data removed]"
          },
          "metadata": {
            "needs_background": "light"
          }
        }
      ]
    },
    {
      "cell_type": "code",
      "source": [
        "import numpy as np\n",
        "\n",
        "np.percentile(train_df['total_lines'], 95)"
      ],
      "metadata": {
        "colab": {
          "base_uri": "https://localhost:8080/"
        },
        "id": "RegFuCvTVxWq",
        "outputId": "c7f7ac70-c435-4d07-ef7e-f8ef780c75d4"
      },
      "execution_count": 15,
      "outputs": [
        {
          "output_type": "execute_result",
          "data": {
            "text/plain": [
              "18.0"
            ]
          },
          "metadata": {},
          "execution_count": 15
        }
      ]
    },
    {
      "cell_type": "code",
      "source": [
        "train_text = train_df['text'].to_numpy() \n",
        "train_target = train_df['target'].to_numpy()\n",
        "train_line_numbers = train_df['line_numbers'].to_numpy()\n",
        "train_total_lines = train_df['total_lines'].to_numpy()"
      ],
      "metadata": {
        "id": "Fm1Us78zWXV9"
      },
      "execution_count": 16,
      "outputs": []
    },
    {
      "cell_type": "code",
      "source": [
        "val_text = val_df['text'].to_numpy() \n",
        "val_target = val_df['target'].to_numpy()\n",
        "val_line_numbers = val_df['line_numbers'].to_numpy()\n",
        "val_total_lines = val_df['total_lines'].to_numpy()"
      ],
      "metadata": {
        "id": "d4stfsFYXSGM"
      },
      "execution_count": 17,
      "outputs": []
    },
    {
      "cell_type": "code",
      "source": [
        "# Label encode the target category\n",
        "from sklearn.preprocessing import LabelEncoder\n",
        "label_encoder = LabelEncoder()\n",
        "train_target_le = label_encoder.fit_transform(train_target)\n",
        "val_target_le = label_encoder.transform(val_target)"
      ],
      "metadata": {
        "id": "aiVJXDhQXYkV"
      },
      "execution_count": 18,
      "outputs": []
    },
    {
      "cell_type": "code",
      "source": [
        "# Record class names in a list\n",
        "class_names = label_encoder.classes_\n",
        "class_names"
      ],
      "metadata": {
        "colab": {
          "base_uri": "https://localhost:8080/"
        },
        "id": "Fq8WuhUbhSfq",
        "outputId": "af41b88c-aa8f-4f9d-d932-2cd9f61c1d39"
      },
      "execution_count": 19,
      "outputs": [
        {
          "output_type": "execute_result",
          "data": {
            "text/plain": [
              "array(['BACKGROUND', 'CONCLUSIONS', 'METHODS', 'OBJECTIVE', 'RESULTS'],\n",
              "      dtype=object)"
            ]
          },
          "metadata": {},
          "execution_count": 19
        }
      ]
    },
    {
      "cell_type": "code",
      "source": [
        "import matplotlib.pyplot as plt\n",
        "\n",
        "plt.hist(train_target_le)"
      ],
      "metadata": {
        "colab": {
          "base_uri": "https://localhost:8080/",
          "height": 336
        },
        "id": "eo-1LUZ2YzNx",
        "outputId": "89fdcccc-253b-429c-bb1e-3537e263d64c"
      },
      "execution_count": 20,
      "outputs": [
        {
          "output_type": "execute_result",
          "data": {
            "text/plain": [
              "(array([21727.,     0., 27168.,     0.,     0., 59353.,     0., 13839.,\n",
              "            0., 57953.]),\n",
              " array([0. , 0.4, 0.8, 1.2, 1.6, 2. , 2.4, 2.8, 3.2, 3.6, 4. ]),\n",
              " <a list of 10 Patch objects>)"
            ]
          },
          "metadata": {},
          "execution_count": 20
        },
        {
          "output_type": "display_data",
          "data": {
            "text/plain": [
              "<Figure size 432x288 with 1 Axes>"
            ],
            "image/png": "[encoded data removed]"
          },
          "metadata": {
            "needs_background": "light"
          }
        }
      ]
    },
    {
      "cell_type": "code",
      "source": [
        "# One hot encode the target category\n",
        "from sklearn.preprocessing import OneHotEncoder\n",
        "one_hot_encoder = OneHotEncoder(sparse=False)\n",
        "train_target_one_hot = one_hot_encoder.fit_transform(train_target.reshape(-1, 1))\n",
        "val_target_one_hot = one_hot_encoder.transform(val_target.reshape(-1, 1))"
      ],
      "metadata": {
        "id": "q3z0sUs6X5hN"
      },
      "execution_count": 21,
      "outputs": []
    },
    {
      "cell_type": "code",
      "source": [
        "train_target_one_hot"
      ],
      "metadata": {
        "colab": {
          "base_uri": "https://localhost:8080/"
        },
        "id": "r4SWGL9cZfSJ",
        "outputId": "32e22d0d-4aad-4d1f-97a4-4602da470e0b"
      },
      "execution_count": 22,
      "outputs": [
        {
          "output_type": "execute_result",
          "data": {
            "text/plain": [
              "array([[0., 0., 0., 1., 0.],\n",
              "       [0., 0., 1., 0., 0.],\n",
              "       [0., 0., 1., 0., 0.],\n",
              "       ...,\n",
              "       [0., 0., 0., 0., 1.],\n",
              "       [0., 1., 0., 0., 0.],\n",
              "       [0., 1., 0., 0., 0.]])"
            ]
          },
          "metadata": {},
          "execution_count": 22
        }
      ]
    },
    {
      "cell_type": "markdown",
      "source": [
        "#Model 0: Non-deep baseline model"
      ],
      "metadata": {
        "id": "js9u0ByLWD34"
      }
    },
    {
      "cell_type": "code",
      "source": [
        "from sklearn.feature_extraction.text import TfidfVectorizer\n",
        "from sklearn.naive_bayes import MultinomialNB\n",
        "from sklearn.pipeline import Pipeline\n",
        "\n",
        "# Create a pipeline\n",
        "model_0 = Pipeline([\n",
        "  (\"tf-idf\", TfidfVectorizer()),\n",
        "  (\"clf\", MultinomialNB())\n",
        "])\n",
        "\n",
        "# Fit the pipeline to the training data\n",
        "model_0.fit(X=train_text, \n",
        "            y=train_target_le);"
      ],
      "metadata": {
        "id": "IBsJzhDDWSF1"
      },
      "execution_count": 23,
      "outputs": []
    },
    {
      "cell_type": "code",
      "source": [
        "model_0.score(val_text, val_target_le)"
      ],
      "metadata": {
        "colab": {
          "base_uri": "https://localhost:8080/"
        },
        "id": "sS0tM9gZZ6Fj",
        "outputId": "6d859c9f-866e-402f-b58b-24a0dbd7d4f3"
      },
      "execution_count": 24,
      "outputs": [
        {
          "output_type": "execute_result",
          "data": {
            "text/plain": [
              "0.7218323844829869"
            ]
          },
          "metadata": {},
          "execution_count": 24
        }
      ]
    },
    {
      "cell_type": "code",
      "source": [
        "model_0_pred = model_0.predict(val_text)"
      ],
      "metadata": {
        "id": "8wOKEhuBbCIj"
      },
      "execution_count": 25,
      "outputs": []
    },
    {
      "cell_type": "markdown",
      "source": [
        "# Build the evaluation method"
      ],
      "metadata": {
        "id": "vDEFhoNsaURv"
      }
    },
    {
      "cell_type": "code",
      "source": [
        "from sklearn.metrics import precision_recall_fscore_support\n",
        "from sklearn.metrics import accuracy_score\n",
        "\n",
        "def evaluate_results(y_true, y_pred):\n",
        "  model_accuracy = accuracy_score(y_true, y_pred)\n",
        "  model_precision, model_recall, model_fscore, _ = precision_recall_fscore_support(y_true, y_pred, average='weighted')\n",
        "  model_result = {'model_accuracy': model_accuracy,\n",
        "                  'model_precision': model_precision,\n",
        "                  'model_recall': model_recall,\n",
        "                  'model_fscore': model_fscore}\n",
        "  return model_result"
      ],
      "metadata": {
        "id": "jmJmPG9tab2t"
      },
      "execution_count": 26,
      "outputs": []
    },
    {
      "cell_type": "code",
      "source": [
        "model_0_score = evaluate_results(val_target_le, model_0_pred)\n",
        "model_0_score"
      ],
      "metadata": {
        "colab": {
          "base_uri": "https://localhost:8080/"
        },
        "id": "h9M8mHI3a8Va",
        "outputId": "75b0631a-b85e-4008-d988-eec7beabddb7"
      },
      "execution_count": 27,
      "outputs": [
        {
          "output_type": "execute_result",
          "data": {
            "text/plain": [
              "{'model_accuracy': 0.7218323844829869,\n",
              " 'model_fscore': 0.6989250353450294,\n",
              " 'model_precision': 0.7186466952323352,\n",
              " 'model_recall': 0.7218323844829869}"
            ]
          },
          "metadata": {},
          "execution_count": 27
        }
      ]
    },
    {
      "cell_type": "markdown",
      "source": [
        "# Model 1 Bidirectional LSTM"
      ],
      "metadata": {
        "id": "W_LHepCMbZDs"
      }
    },
    {
      "cell_type": "markdown",
      "source": [
        "## Text vectorization"
      ],
      "metadata": {
        "id": "d9uZYDFSbkdG"
      }
    },
    {
      "cell_type": "code",
      "source": [
        "import tensorflow as tf"
      ],
      "metadata": {
        "id": "Ael7PuvWcOIm"
      },
      "execution_count": 28,
      "outputs": []
    },
    {
      "cell_type": "code",
      "source": [
        "# How many words in each sentences\n",
        "text_length = [len(text) for text in train_text]\n",
        "max_len = int(np.percentile(text_length, 95))"
      ],
      "metadata": {
        "id": "G7H4F9xBc6yL"
      },
      "execution_count": 29,
      "outputs": []
    },
    {
      "cell_type": "code",
      "source": [
        "from tensorflow.keras import layers\n",
        "\n",
        "max_tokens = 68000 # Taken from the thesis\n",
        "vectorize_layer = layers.TextVectorization(\n",
        "    max_tokens=max_tokens,  # How many vocabulary\n",
        "    output_sequence_length=max_len) # Max length of each sentence\n",
        "vectorize_layer.adapt(train_text)"
      ],
      "metadata": {
        "id": "FoRV80KpcXJP"
      },
      "execution_count": 30,
      "outputs": []
    },
    {
      "cell_type": "code",
      "source": [
        "vectorize_layer.get_vocabulary()[:5]"
      ],
      "metadata": {
        "colab": {
          "base_uri": "https://localhost:8080/"
        },
        "id": "xP9TMN-UfPsf",
        "outputId": "69f9c1f1-c6bb-424b-f9bc-f3ee50c7c5fb"
      },
      "execution_count": 31,
      "outputs": [
        {
          "output_type": "execute_result",
          "data": {
            "text/plain": [
              "['', '[UNK]', 'the', 'and', 'of']"
            ]
          },
          "metadata": {},
          "execution_count": 31
        }
      ]
    },
    {
      "cell_type": "code",
      "source": [
        "vectorize_layer.get_vocabulary()[-5:]"
      ],
      "metadata": {
        "colab": {
          "base_uri": "https://localhost:8080/"
        },
        "id": "4VHiJ-_FfT0i",
        "outputId": "2a22bf95-c36b-436a-9f7a-e800d3ba81da"
      },
      "execution_count": 32,
      "outputs": [
        {
          "output_type": "execute_result",
          "data": {
            "text/plain": [
              "['aainduced', 'aaigroup', 'aachener', 'aachen', 'aaacp']"
            ]
          },
          "metadata": {},
          "execution_count": 32
        }
      ]
    },
    {
      "cell_type": "markdown",
      "source": [
        "##Text embedding"
      ],
      "metadata": {
        "id": "4pZ6VpYLig2P"
      }
    },
    {
      "cell_type": "code",
      "source": [
        "embedding_layer = layers.Embedding(\n",
        "    input_dim = len(vectorize_layer.get_vocabulary()), # How many vocabulary\n",
        "    output_dim = 128,  # Taken from the thesis\n",
        "    mask_zero = True\n",
        ")"
      ],
      "metadata": {
        "id": "R3UM9vrfcc3c"
      },
      "execution_count": 33,
      "outputs": []
    },
    {
      "cell_type": "markdown",
      "source": [
        "##Build the model"
      ],
      "metadata": {
        "id": "ZZ_Xy4q2igJ9"
      }
    },
    {
      "cell_type": "code",
      "source": [
        "LSTM_input = layers.Input(shape=(1,), dtype='string')\n",
        "token_vector = vectorize_layer(LSTM_input)\n",
        "token_embed = embedding_layer(token_vector)\n",
        "Bi_LSTM = layers.Bidirectional(layers.LSTM(units=64))(token_embed)\n",
        "LSTM_dropout = layers.Dropout(0.4)(Bi_LSTM)\n",
        "LSTM_output = layers.Dense(units=len(class_names), activation='softmax')(LSTM_dropout)\n",
        "\n",
        "model_1 = tf.keras.Model(LSTM_input, LSTM_output)"
      ],
      "metadata": {
        "id": "oSkNzbI5fiaY"
      },
      "execution_count": 34,
      "outputs": []
    },
    {
      "cell_type": "code",
      "source": [
        "model_1.summary()"
      ],
      "metadata": {
        "colab": {
          "base_uri": "https://localhost:8080/"
        },
        "id": "Z9xrCzyXlMTC",
        "outputId": "29cf1671-a515-44d6-ee79-7e02bbce4387"
      },
      "execution_count": 35,
      "outputs": [
        {
          "output_type": "stream",
          "name": "stdout",
          "text": [
            "Model: \"model\"\n",
            "_________________________________________________________________\n",
            " Layer (type)                Output Shape              Param #   \n",
            "=================================================================\n",
            " input_1 (InputLayer)        [(None, 1)]               0         \n",
            "                                                                 \n",
            " text_vectorization (TextVec  (None, 290)              0         \n",
            " torization)                                                     \n",
            "                                                                 \n",
            " embedding (Embedding)       (None, 290, 128)          8299648   \n",
            "                                                                 \n",
            " bidirectional (Bidirectiona  (None, 128)              98816     \n",
            " l)                                                              \n",
            "                                                                 \n",
            " dropout (Dropout)           (None, 128)               0         \n",
            "                                                                 \n",
            " dense (Dense)               (None, 5)                 645       \n",
            "                                                                 \n",
            "=================================================================\n",
            "Total params: 8,399,109\n",
            "Trainable params: 8,399,109\n",
            "Non-trainable params: 0\n",
            "_________________________________________________________________\n"
          ]
        }
      ]
    },
    {
      "cell_type": "markdown",
      "source": [
        "##Setup prefetched data input pipline"
      ],
      "metadata": {
        "id": "wsSZbPDOiW7a"
      }
    },
    {
      "cell_type": "code",
      "source": [
        "train_dataset = tf.data.Dataset.from_tensor_slices((train_text, train_target_one_hot)).batch(32).prefetch(tf.data.AUTOTUNE)\n",
        "val_dataset = tf.data.Dataset.from_tensor_slices((val_text, val_target_one_hot)).batch(32).prefetch(tf.data.AUTOTUNE)"
      ],
      "metadata": {
        "id": "5j_RAlFci42R"
      },
      "execution_count": 36,
      "outputs": []
    },
    {
      "cell_type": "markdown",
      "source": [
        "##Compile and fit the model"
      ],
      "metadata": {
        "id": "Yx3q97a7kQoJ"
      }
    },
    {
      "cell_type": "code",
      "source": [
        "model_1.compile(loss=tf.keras.losses.CategoricalCrossentropy(),\n",
        "                optimizer=tf.keras.optimizers.Adam(),\n",
        "                metrics=['accuracy'])"
      ],
      "metadata": {
        "id": "lew2YTGAjsux"
      },
      "execution_count": 37,
      "outputs": []
    },
    {
      "cell_type": "code",
      "source": [
        "history_1 = model_1.fit(train_dataset,\n",
        "                        epochs=3,\n",
        "                        steps_per_epoch=int(0.1*len(train_dataset)),\n",
        "                        validation_data=val_dataset,\n",
        "                        validation_steps=int(0.1*len(val_dataset)))"
      ],
      "metadata": {
        "colab": {
          "base_uri": "https://localhost:8080/"
        },
        "id": "3P2DRbEpj6EE",
        "outputId": "c30566ba-4e09-4b51-cb79-78a57e0e15e5"
      },
      "execution_count": 38,
      "outputs": [
        {
          "output_type": "stream",
          "name": "stdout",
          "text": [
            "Epoch 1/3\n",
            "562/562 [==============================] - 59s 58ms/step - loss: 0.7941 - accuracy: 0.6966 - val_loss: 0.5972 - val_accuracy: 0.7783\n",
            "Epoch 2/3\n",
            "562/562 [==============================] - 28s 49ms/step - loss: 0.5994 - accuracy: 0.7790 - val_loss: 0.5764 - val_accuracy: 0.7846\n",
            "Epoch 3/3\n",
            "562/562 [==============================] - 24s 43ms/step - loss: 0.5672 - accuracy: 0.7883 - val_loss: 0.5251 - val_accuracy: 0.8042\n"
          ]
        }
      ]
    },
    {
      "cell_type": "markdown",
      "source": [
        "##Evaluate the model"
      ],
      "metadata": {
        "id": "PEC0Ge6HkN1p"
      }
    },
    {
      "cell_type": "code",
      "source": [
        "model_1_pred_pro = model_1.predict(val_dataset)"
      ],
      "metadata": {
        "id": "MHe55DsUkWFi"
      },
      "execution_count": 39,
      "outputs": []
    },
    {
      "cell_type": "code",
      "source": [
        "model_1_pred = tf.argmax(model_1_pred_pro, axis=1)\n",
        "model_1_pred"
      ],
      "metadata": {
        "colab": {
          "base_uri": "https://localhost:8080/"
        },
        "id": "JXJpOlafkfF9",
        "outputId": "0d8d0f79-25e6-4aed-fbb6-92566e1541a8"
      },
      "execution_count": 40,
      "outputs": [
        {
          "output_type": "execute_result",
          "data": {
            "text/plain": [
              "<tf.Tensor: shape=(30212,), dtype=int64, numpy=array([3, 1, 3, ..., 4, 1, 1])>"
            ]
          },
          "metadata": {},
          "execution_count": 40
        }
      ]
    },
    {
      "cell_type": "code",
      "source": [
        "model_1_score = evaluate_results(val_target_le, model_1_pred)\n",
        "model_1_score"
      ],
      "metadata": {
        "colab": {
          "base_uri": "https://localhost:8080/"
        },
        "id": "wR_8amt1koIY",
        "outputId": "8637931b-4268-43bc-b993-0bb943f380e8"
      },
      "execution_count": 41,
      "outputs": [
        {
          "output_type": "execute_result",
          "data": {
            "text/plain": [
              "{'model_accuracy': 0.7989540579902026,\n",
              " 'model_fscore': 0.7981020616840248,\n",
              " 'model_precision': 0.7989693966363591,\n",
              " 'model_recall': 0.7989540579902026}"
            ]
          },
          "metadata": {},
          "execution_count": 41
        }
      ]
    },
    {
      "cell_type": "markdown",
      "source": [
        "#Model 2  Bi-LSTM with token embeddings + character embeddings + positional embeddings"
      ],
      "metadata": {
        "id": "0xVauqpRktcn"
      }
    },
    {
      "cell_type": "markdown",
      "source": [
        "## Preprocess the data for character embedding"
      ],
      "metadata": {
        "id": "Uhtf3mdPltMi"
      }
    },
    {
      "cell_type": "code",
      "source": [
        "train_text_char = [' '.join(sentence.replace(' ', '')) for sentence in train_text]\n",
        "val_text_char = [' '.join(sentence.replace(' ', '')) for sentence in val_text]\n",
        "train_text_char[:5]"
      ],
      "metadata": {
        "colab": {
          "base_uri": "https://localhost:8080/"
        },
        "id": "5JWh7oTHm1yX",
        "outputId": "e04c5093-7c3d-46b6-e912-522a50301664"
      },
      "execution_count": 42,
      "outputs": [
        {
          "output_type": "execute_result",
          "data": {
            "text/plain": [
              "['T o i n v e s t i g a t e t h e e f f i c a c y o f @ w e e k s o f d a i l y l o w - d o s e o r a l p r e d n i s o l o n e i n i m p r o v i n g p a i n , m o b i l i t y , a n d s y s t e m i c l o w - g r a d e i n f l a m m a t i o n i n t h e s h o r t t e r m a n d w h e t h e r t h e e f f e c t w o u l d b e s u s t a i n e d a t @ w e e k s i n o l d e r a d u l t s w i t h m o d e r a t e t o s e v e r e k n e e o s t e o a r t h r i t i s ( O A ) .',\n",
              " 'A t o t a l o f @ p a t i e n t s w i t h p r i m a r y k n e e O A w e r e r a n d o m i z e d @ : @ ; @ r e c e i v e d @ m g / d a y o f p r e d n i s o l o n e a n d @ r e c e i v e d p l a c e b o f o r @ w e e k s .',\n",
              " 'O u t c o m e m e a s u r e s i n c l u d e d p a i n r e d u c t i o n a n d i m p r o v e m e n t i n f u n c t i o n s c o r e s a n d s y s t e m i c i n f l a m m a t i o n m a r k e r s .',\n",
              " 'P a i n w a s a s s e s s e d u s i n g t h e v i s u a l a n a l o g p a i n s c a l e ( @ - @ m m ) .',\n",
              " 'S e c o n d a r y o u t c o m e m e a s u r e s i n c l u d e d t h e W e s t e r n O n t a r i o a n d M c M a s t e r U n i v e r s i t i e s O s t e o a r t h r i t i s I n d e x s c o r e s , p a t i e n t g l o b a l a s s e s s m e n t ( P G A ) o f t h e s e v e r i t y o f k n e e O A , a n d @ - m i n w a l k d i s t a n c e ( @ M W D ) .']"
            ]
          },
          "metadata": {},
          "execution_count": 42
        }
      ]
    },
    {
      "cell_type": "code",
      "source": [
        "# How many words in each sentences\n",
        "text_length_char = [len(text) for text in train_text_char]\n",
        "max_len_char = int(np.percentile(text_length_char, 95))"
      ],
      "metadata": {
        "id": "mpjOceCGno6d"
      },
      "execution_count": 43,
      "outputs": []
    },
    {
      "cell_type": "markdown",
      "source": [
        "##Character vectorization"
      ],
      "metadata": {
        "id": "akxfSM_1ojww"
      }
    },
    {
      "cell_type": "code",
      "source": [
        "from tensorflow.keras import layers\n",
        "\n",
        "vectorize_layer_char = layers.TextVectorization(\n",
        "    max_tokens=50,  # How many vocabulary\n",
        "    output_sequence_length=max_len_char) # Max length of each sentence\n",
        "vectorize_layer_char.adapt(train_text_char)"
      ],
      "metadata": {
        "id": "zjgUfJ9Roojd"
      },
      "execution_count": 44,
      "outputs": []
    },
    {
      "cell_type": "code",
      "source": [
        "vectorize_layer_char.get_vocabulary()[:5]"
      ],
      "metadata": {
        "colab": {
          "base_uri": "https://localhost:8080/"
        },
        "id": "qSgV6fj8oyJD",
        "outputId": "eb52bf0d-567f-4801-e9ac-75c7cbf1a57b"
      },
      "execution_count": 45,
      "outputs": [
        {
          "output_type": "execute_result",
          "data": {
            "text/plain": [
              "['', '[UNK]', 'e', 't', 'i']"
            ]
          },
          "metadata": {},
          "execution_count": 45
        }
      ]
    },
    {
      "cell_type": "code",
      "source": [
        "vectorize_layer_char.get_vocabulary()[-5:]"
      ],
      "metadata": {
        "colab": {
          "base_uri": "https://localhost:8080/"
        },
        "id": "VOV5nTGVo_ey",
        "outputId": "4687d62b-fe33-45a4-e49b-96e1cb6a1910"
      },
      "execution_count": 46,
      "outputs": [
        {
          "output_type": "execute_result",
          "data": {
            "text/plain": [
              "['k', 'x', 'z', 'q', 'j']"
            ]
          },
          "metadata": {},
          "execution_count": 46
        }
      ]
    },
    {
      "cell_type": "markdown",
      "source": [
        "##Character Embedding"
      ],
      "metadata": {
        "id": "0bCsXOnJpDdL"
      }
    },
    {
      "cell_type": "code",
      "source": [
        "embedding_layer_char = layers.Embedding(\n",
        "    input_dim = len(vectorize_layer_char.get_vocabulary()), # How many vocabulary\n",
        "    output_dim = 24,  # Taken from the thesis\n",
        "    mask_zero = True\n",
        ")"
      ],
      "metadata": {
        "id": "qdqhawXLpLuh"
      },
      "execution_count": 47,
      "outputs": []
    },
    {
      "cell_type": "markdown",
      "source": [
        "##Preprocess the data for positional embedding"
      ],
      "metadata": {
        "id": "kL9OoLBlptjr"
      }
    },
    {
      "cell_type": "code",
      "source": [
        "max_length_line_number = np.percentile(train_line_numbers, 95)\n",
        "max_length_total_lines = np.percentile(train_total_lines, 95)"
      ],
      "metadata": {
        "id": "zoBgYTJNqCdL"
      },
      "execution_count": 48,
      "outputs": []
    },
    {
      "cell_type": "code",
      "source": [
        "max_length_line_number, max_length_total_lines"
      ],
      "metadata": {
        "colab": {
          "base_uri": "https://localhost:8080/"
        },
        "id": "ELM5FhK83QE7",
        "outputId": "6b334237-2659-443c-b605-cd0aa15576cf"
      },
      "execution_count": 49,
      "outputs": [
        {
          "output_type": "execute_result",
          "data": {
            "text/plain": [
              "(13.0, 18.0)"
            ]
          },
          "metadata": {},
          "execution_count": 49
        }
      ]
    },
    {
      "cell_type": "code",
      "source": [
        "train_line_numbers_one_hot = tf.one_hot(train_line_numbers, depth=16)\n",
        "val_line_numbers_one_hot = tf.one_hot(val_line_numbers, depth=16)"
      ],
      "metadata": {
        "id": "7A2i1odX3ib8"
      },
      "execution_count": 50,
      "outputs": []
    },
    {
      "cell_type": "code",
      "source": [
        "train_total_lines_one_hot = tf.one_hot(train_total_lines, depth=20)\n",
        "val_total_lines_one_hot = tf.one_hot(val_total_lines, depth=20)"
      ],
      "metadata": {
        "id": "UP41GRBC6H9C"
      },
      "execution_count": 51,
      "outputs": []
    },
    {
      "cell_type": "code",
      "source": [
        "train_line_numbers_one_hot"
      ],
      "metadata": {
        "colab": {
          "base_uri": "https://localhost:8080/"
        },
        "id": "5TyeSuE15ldm",
        "outputId": "d6aa975f-b524-4b3d-bc00-32035d497bd0"
      },
      "execution_count": 52,
      "outputs": [
        {
          "output_type": "execute_result",
          "data": {
            "text/plain": [
              "<tf.Tensor: shape=(180040, 16), dtype=float32, numpy=\n",
              "array([[1., 0., 0., ..., 0., 0., 0.],\n",
              "       [0., 1., 0., ..., 0., 0., 0.],\n",
              "       [0., 0., 1., ..., 0., 0., 0.],\n",
              "       ...,\n",
              "       [0., 0., 0., ..., 0., 0., 0.],\n",
              "       [0., 0., 0., ..., 0., 0., 0.],\n",
              "       [0., 0., 0., ..., 0., 0., 0.]], dtype=float32)>"
            ]
          },
          "metadata": {},
          "execution_count": 52
        }
      ]
    },
    {
      "cell_type": "code",
      "source": [
        "train_total_lines_one_hot"
      ],
      "metadata": {
        "colab": {
          "base_uri": "https://localhost:8080/"
        },
        "id": "FakJbZr35-DC",
        "outputId": "1958c643-551e-4b34-d16b-dffd6b5c3ffc"
      },
      "execution_count": 53,
      "outputs": [
        {
          "output_type": "execute_result",
          "data": {
            "text/plain": [
              "<tf.Tensor: shape=(180040, 20), dtype=float32, numpy=\n",
              "array([[0., 0., 0., ..., 0., 0., 0.],\n",
              "       [0., 0., 0., ..., 0., 0., 0.],\n",
              "       [0., 0., 0., ..., 0., 0., 0.],\n",
              "       ...,\n",
              "       [0., 0., 0., ..., 0., 0., 0.],\n",
              "       [0., 0., 0., ..., 0., 0., 0.],\n",
              "       [0., 0., 0., ..., 0., 0., 0.]], dtype=float32)>"
            ]
          },
          "metadata": {},
          "execution_count": 53
        }
      ]
    },
    {
      "cell_type": "markdown",
      "source": [
        "##Build the model"
      ],
      "metadata": {
        "id": "Bd_Y6GcI6xAP"
      }
    },
    {
      "cell_type": "code",
      "source": [
        "char_inputs = layers.Input(shape=(1,), dtype='string')\n",
        "char_vector = vectorize_layer_char(char_inputs)\n",
        "char_embed = embedding_layer_char(char_vector)\n",
        "char_outputs = layers.Bidirectional(layers.LSTM(64))(char_embed)\n",
        "char_model = tf.keras.Model(char_inputs, char_outputs)\n",
        "\n",
        "token_inputs = layers.Input(shape=(1,), dtype='string')\n",
        "token_vector = vectorize_layer(token_inputs)\n",
        "token_embed = embedding_layer(token_vector)\n",
        "token_outputs = layers.Bidirectional(layers.LSTM(64))(token_embed)\n",
        "token_model = tf.keras.Model(token_inputs, token_outputs)\n",
        "\n",
        "line_number_inputs = layers.Input(shape=(16,), dtype=tf.float32)\n",
        "line_number_outputs = layers.Dense(32, activation='relu')(line_number_inputs)\n",
        "line_number_model = tf.keras.Model(line_number_inputs, line_number_outputs)\n",
        "\n",
        "total_line_inputs = layers.Input(shape=(20,), dtype=tf.float32)\n",
        "total_line_outputs = layers.Dense(32, activation='relu')(total_line_inputs)\n",
        "total_line_model = tf.keras.Model(total_line_inputs, total_line_outputs)\n",
        "\n",
        "token_char_concat = layers.Concatenate(name='token_char_concat')([char_model.output,\n",
        "                                                                  token_model.output])\n",
        "token_char_dense = layers.Dense(256, activation='relu')(token_char_concat)\n",
        "token_char_dropout = layers.Dropout(0.5)(token_char_dense)\n",
        "\n",
        "all_concat = layers.Concatenate(name='all_concat')([token_char_dropout,\n",
        "                                                    line_number_model.output,\n",
        "                                                    total_line_model.output])\n",
        "output_layer = layers.Dense(len(class_names), activation='softmax')(all_concat)\n",
        "\n",
        "model_2 = tf.keras.Model(inputs=[token_model.input,\n",
        "                                 char_model.input,\n",
        "                                 line_number_model.input,\n",
        "                                 total_line_model.input],\n",
        "                         outputs=output_layer)"
      ],
      "metadata": {
        "id": "rrcY16tV6nNy"
      },
      "execution_count": 54,
      "outputs": []
    },
    {
      "cell_type": "code",
      "source": [
        "from tensorflow.keras.utils import plot_model\n",
        "plot_model(model_2, show_shapes=True)"
      ],
      "metadata": {
        "colab": {
          "base_uri": "https://localhost:8080/",
          "height": 780
        },
        "id": "64R3fYSf_-lM",
        "outputId": "06aa429c-734b-41df-9a61-3fde4dfbe1ba"
      },
      "execution_count": 55,
      "outputs": [
        {
          "output_type": "execute_result",
          "data": {
            "text/plain": [
              "<IPython.core.display.Image object>"
            ],
            "image/png": "[encoded data removed]"
          },
          "metadata": {},
          "execution_count": 55
        }
      ]
    },
    {
      "cell_type": "markdown",
      "source": [
        "##Setup dataset input pipline"
      ],
      "metadata": {
        "id": "qhXNBeQ7DrD7"
      }
    },
    {
      "cell_type": "code",
      "source": [
        "train_concat_input = tf.data.Dataset.from_tensor_slices((train_text,\n",
        "                                                         train_text_char,\n",
        "                                                         train_line_numbers_one_hot,\n",
        "                                                         train_total_lines_one_hot))\n",
        "train_label = tf.data.Dataset.from_tensor_slices(train_target_one_hot)\n",
        "train_dataset_concat = tf.data.Dataset.zip((train_concat_input, train_label)).batch(32).prefetch(tf.data.AUTOTUNE)"
      ],
      "metadata": {
        "id": "DdBHIwgSDvOW"
      },
      "execution_count": 56,
      "outputs": []
    },
    {
      "cell_type": "code",
      "source": [
        "val_concat_input = tf.data.Dataset.from_tensor_slices((val_text,\n",
        "                                                       val_text_char,\n",
        "                                                       val_line_numbers_one_hot,\n",
        "                                                       val_total_lines_one_hot))\n",
        "val_label = tf.data.Dataset.from_tensor_slices(val_target_one_hot)\n",
        "val_dataset_concat = tf.data.Dataset.zip((val_concat_input, val_label)).batch(32).prefetch(tf.data.AUTOTUNE)"
      ],
      "metadata": {
        "id": "0bpNWZZoFXQQ"
      },
      "execution_count": 57,
      "outputs": []
    },
    {
      "cell_type": "code",
      "source": [
        "model_2.compile(loss=tf.keras.losses.CategoricalCrossentropy(label_smoothing=0.2),\n",
        "                optimizer=tf.keras.optimizers.Adam(),\n",
        "                metrics=['accuracy'])"
      ],
      "metadata": {
        "id": "nqnCKN4TBPOV"
      },
      "execution_count": 58,
      "outputs": []
    },
    {
      "cell_type": "code",
      "source": [
        "history_2 = model_2.fit(train_dataset_concat,\n",
        "                        epochs=3,\n",
        "                        steps_per_epoch=int(0.1*len(train_dataset_concat)),\n",
        "                        validation_data=val_dataset_concat,\n",
        "                        validation_steps=int(0.1*(len(val_dataset_concat))))"
      ],
      "metadata": {
        "colab": {
          "base_uri": "https://localhost:8080/"
        },
        "id": "tafKW-TfFgJp",
        "outputId": "9e0d0532-7bdb-4d7b-ebfc-892036321847"
      },
      "execution_count": 59,
      "outputs": [
        {
          "output_type": "stream",
          "name": "stdout",
          "text": [
            "Epoch 1/3\n",
            "562/562 [==============================] - 83s 110ms/step - loss: 0.9582 - accuracy: 0.8236 - val_loss: 0.9320 - val_accuracy: 0.8291\n",
            "Epoch 2/3\n",
            "562/562 [==============================] - 61s 108ms/step - loss: 0.8698 - accuracy: 0.8801 - val_loss: 0.9251 - val_accuracy: 0.8238\n",
            "Epoch 3/3\n",
            "562/562 [==============================] - 45s 80ms/step - loss: 0.8565 - accuracy: 0.8866 - val_loss: 0.9112 - val_accuracy: 0.8295\n"
          ]
        }
      ]
    },
    {
      "cell_type": "code",
      "source": [
        "model_2_pred_pro = model_2.predict(val_dataset_concat)"
      ],
      "metadata": {
        "id": "HdpXO3qfF8A_"
      },
      "execution_count": 60,
      "outputs": []
    },
    {
      "cell_type": "code",
      "source": [
        "model_2_pred = tf.argmax(model_2_pred_pro, axis=1)\n",
        "model_2_score = evaluate_results(val_target_le, model_2_pred)\n",
        "model_2_score"
      ],
      "metadata": {
        "colab": {
          "base_uri": "https://localhost:8080/"
        },
        "id": "49maFc_VGgjH",
        "outputId": "d12272c7-50a6-4e80-f776-f2da2309150f"
      },
      "execution_count": 61,
      "outputs": [
        {
          "output_type": "execute_result",
          "data": {
            "text/plain": [
              "{'model_accuracy': 0.8335429630610354,\n",
              " 'model_fscore': 0.8329436825645803,\n",
              " 'model_precision': 0.8357016081236963,\n",
              " 'model_recall': 0.8335429630610354}"
            ]
          },
          "metadata": {},
          "execution_count": 61
        }
      ]
    },
    {
      "cell_type": "markdown",
      "source": [
        "#Compare the results of each model"
      ],
      "metadata": {
        "id": "ZXpJHdqUHY63"
      }
    },
    {
      "cell_type": "code",
      "source": [
        "results_df = pd.DataFrame({'baseline_model': model_0_score,\n",
        "                          'Bi-LSTM model': model_1_score,\n",
        "                          'Concatenated model': model_2_score}).transpose()\n",
        "results_df                          "
      ],
      "metadata": {
        "colab": {
          "base_uri": "https://localhost:8080/",
          "height": 143
        },
        "id": "xcebcEEsHnLF",
        "outputId": "87331049-b4e4-4e95-b02b-2d9ba6d9c3ab"
      },
      "execution_count": 62,
      "outputs": [
        {
          "output_type": "execute_result",
          "data": {
            "text/plain": [
              "                    model_accuracy  model_precision  model_recall  \\\n",
              "baseline_model            0.721832         0.718647      0.721832   \n",
              "Bi-LSTM model             0.798954         0.798969      0.798954   \n",
              "Concatenated model        0.833543         0.835702      0.833543   \n",
              "\n",
              "                    model_fscore  \n",
              "baseline_model          0.698925  \n",
              "Bi-LSTM model           0.798102  \n",
              "Concatenated model      0.832944  "
            ],
            "text/html": [
              "\n",
              "  <div id=\"df-d565513b-0a75-40cf-85ab-0b231dffc049\">\n",
              "    <div class=\"colab-df-container\">\n",
              "      <div>\n",
              "<style scoped>\n",
              "    .dataframe tbody tr th:only-of-type {\n",
              "        vertical-align: middle;\n",
              "    }\n",
              "\n",
              "    .dataframe tbody tr th {\n",
              "        vertical-align: top;\n",
              "    }\n",
              "\n",
              "    .dataframe thead th {\n",
              "        text-align: right;\n",
              "    }\n",
              "</style>\n",
              "<table border=\"1\" class=\"dataframe\">\n",
              "  <thead>\n",
              "    <tr style=\"text-align: right;\">\n",
              "      <th></th>\n",
              "      <th>model_accuracy</th>\n",
              "      <th>model_precision</th>\n",
              "      <th>model_recall</th>\n",
              "      <th>model_fscore</th>\n",
              "    </tr>\n",
              "  </thead>\n",
              "  <tbody>\n",
              "    <tr>\n",
              "      <th>baseline_model</th>\n",
              "      <td>0.721832</td>\n",
              "      <td>0.718647</td>\n",
              "      <td>0.721832</td>\n",
              "      <td>0.698925</td>\n",
              "    </tr>\n",
              "    <tr>\n",
              "      <th>Bi-LSTM model</th>\n",
              "      <td>0.798954</td>\n",
              "      <td>0.798969</td>\n",
              "      <td>0.798954</td>\n",
              "      <td>0.798102</td>\n",
              "    </tr>\n",
              "    <tr>\n",
              "      <th>Concatenated model</th>\n",
              "      <td>0.833543</td>\n",
              "      <td>0.835702</td>\n",
              "      <td>0.833543</td>\n",
              "      <td>0.832944</td>\n",
              "    </tr>\n",
              "  </tbody>\n",
              "</table>\n",
              "</div>\n",
              "      <button class=\"colab-df-convert\" onclick=\"convertToInteractive('df-d565513b-0a75-40cf-85ab-0b231dffc049')\"\n",
              "              title=\"Convert this dataframe to an interactive table.\"\n",
              "              style=\"display:none;\">\n",
              "        \n",
              "  <svg xmlns=\"http://www.w3.org/2000/svg\" height=\"24px\"viewBox=\"0 0 24 24\"\n",
              "       width=\"24px\">\n",
              "    <path d=\"M0 0h24v24H0V0z\" fill=\"none\"/>\n",
              "    <path d=\"M18.56 5.44l.94 2.06.94-2.06 2.06-.94-2.06-.94-.94-2.06-.94 2.06-2.06.94zm-11 1L8.5 8.5l.94-2.06 2.06-.94-2.06-.94L8.5 2.5l-.94 2.06-2.06.94zm10 10l.94 2.06.94-2.06 2.06-.94-2.06-.94-.94-2.06-.94 2.06-2.06.94z\"/><path d=\"M17.41 7.96l-1.37-1.37c-.4-.4-.92-.59-1.43-.59-.52 0-1.04.2-1.43.59L10.3 9.45l-7.72 7.72c-.78.78-.78 2.05 0 2.83L4 21.41c.39.39.9.59 1.41.59.51 0 1.02-.2 1.41-.59l7.78-7.78 2.81-2.81c.8-.78.8-2.07 0-2.86zM5.41 20L4 18.59l7.72-7.72 1.47 1.35L5.41 20z\"/>\n",
              "  </svg>\n",
              "      </button>\n",
              "      \n",
              "  <style>\n",
              "    .colab-df-container {\n",
              "      display:flex;\n",
              "      flex-wrap:wrap;\n",
              "      gap: 12px;\n",
              "    }\n",
              "\n",
              "    .colab-df-convert {\n",
              "      background-color: #E8F0FE;\n",
              "      border: none;\n",
              "      border-radius: 50%;\n",
              "      cursor: pointer;\n",
              "      display: none;\n",
              "      fill: #1967D2;\n",
              "      height: 32px;\n",
              "      padding: 0 0 0 0;\n",
              "      width: 32px;\n",
              "    }\n",
              "\n",
              "    .colab-df-convert:hover {\n",
              "      background-color: #E2EBFA;\n",
              "      box-shadow: 0px 1px 2px rgba(60, 64, 67, 0.3), 0px 1px 3px 1px rgba(60, 64, 67, 0.15);\n",
              "      fill: #174EA6;\n",
              "    }\n",
              "\n",
              "    [theme=dark] .colab-df-convert {\n",
              "      background-color: #3B4455;\n",
              "      fill: #D2E3FC;\n",
              "    }\n",
              "\n",
              "    [theme=dark] .colab-df-convert:hover {\n",
              "      background-color: #434B5C;\n",
              "      box-shadow: 0px 1px 3px 1px rgba(0, 0, 0, 0.15);\n",
              "      filter: drop-shadow(0px 1px 2px rgba(0, 0, 0, 0.3));\n",
              "      fill: #FFFFFF;\n",
              "    }\n",
              "  </style>\n",
              "\n",
              "      <script>\n",
              "        const buttonEl =\n",
              "          document.querySelector('#df-d565513b-0a75-40cf-85ab-0b231dffc049 button.colab-df-convert');\n",
              "        buttonEl.style.display =\n",
              "          google.colab.kernel.accessAllowed ? 'block' : 'none';\n",
              "\n",
              "        async function convertToInteractive(key) {\n",
              "          const element = document.querySelector('#df-d565513b-0a75-40cf-85ab-0b231dffc049');\n",
              "          const dataTable =\n",
              "            await google.colab.kernel.invokeFunction('convertToInteractive',\n",
              "                                                     [key], {});\n",
              "          if (!dataTable) return;\n",
              "\n",
              "          const docLinkHtml = 'Like what you see? Visit the ' +\n",
              "            '<a target=\"_blank\" href=https://colab.research.google.com/notebooks/data_table.ipynb>data table notebook</a>'\n",
              "            + ' to learn more about interactive tables.';\n",
              "          element.innerHTML = '';\n",
              "          dataTable['output_type'] = 'display_data';\n",
              "          await google.colab.output.renderOutput(dataTable, element);\n",
              "          const docLink = document.createElement('div');\n",
              "          docLink.innerHTML = docLinkHtml;\n",
              "          element.appendChild(docLink);\n",
              "        }\n",
              "      </script>\n",
              "    </div>\n",
              "  </div>\n",
              "  "
            ]
          },
          "metadata": {},
          "execution_count": 62
        }
      ]
    },
    {
      "cell_type": "code",
      "source": [
        "results_df.plot(kind='bar').legend(bbox_to_anchor=(1.0, 1.0))"
      ],
      "metadata": {
        "colab": {
          "base_uri": "https://localhost:8080/",
          "height": 377
        },
        "id": "ijdZhBWcIPtm",
        "outputId": "bfba01ef-2a47-4a63-850a-c7af25b6da38"
      },
      "execution_count": 63,
      "outputs": [
        {
          "output_type": "execute_result",
          "data": {
            "text/plain": [
              "<matplotlib.legend.Legend at 0x7fdbacc8e9d0>"
            ]
          },
          "metadata": {},
          "execution_count": 63
        },
        {
          "output_type": "display_data",
          "data": {
            "text/plain": [
              "<Figure size 432x288 with 1 Axes>"
            ],
            "image/png": "[encoded data removed]"
          },
          "metadata": {
            "needs_background": "light"
          }
        }
      ]
    },
    {
      "cell_type": "markdown",
      "source": [
        "#Save the best model"
      ],
      "metadata": {
        "id": "qIAHnoRVIqpK"
      }
    },
    {
      "cell_type": "code",
      "source": [
        "#model_2.save('my_model.h5')\n",
        "#model_2.save('my_model')\n",
        "#loaded_model = tf.keras.models.load_model('my_model.h5', custom_objects={\"KerasLayer\": hub.KerasLayer})"
      ],
      "metadata": {
        "id": "h9lVVVSAJbgp"
      },
      "execution_count": 64,
      "outputs": []
    },
    {
      "cell_type": "markdown",
      "source": [
        "#Visualize the most wrong predictions"
      ],
      "metadata": {
        "id": "75AE9-YYLOzF"
      }
    },
    {
      "cell_type": "code",
      "source": [
        "pred_df = pd.DataFrame({'target': val_target,\n",
        "                        'text': val_text,\n",
        "                        'line number': val_line_numbers,\n",
        "                        'total lines': val_total_lines,\n",
        "                        'predicted target': label_encoder.classes_[model_2_pred],\n",
        "                        'predicted probability': tf.math.reduce_max(model_2_pred_pro, axis=1)})\n",
        "pred_df.head()"
      ],
      "metadata": {
        "colab": {
          "base_uri": "https://localhost:8080/",
          "height": 206
        },
        "id": "cPpS9MUG6drp",
        "outputId": "43b04542-7b38-47ea-db6f-0e2f9631e39a"
      },
      "execution_count": 70,
      "outputs": [
        {
          "output_type": "execute_result",
          "data": {
            "text/plain": [
              "       target                                               text  line number  \\\n",
              "0  BACKGROUND  IgE sensitization to Aspergillus fumigatus and...            0   \n",
              "1  BACKGROUND  It is not clear whether these patients would b...            1   \n",
              "2   OBJECTIVE  We sought to determine whether a @-month cours...            2   \n",
              "3     METHODS  Asthmatic patients who were IgE sensitized to ...            3   \n",
              "4     METHODS  Primary outcomes were improvement in quality o...            4   \n",
              "\n",
              "   total lines predicted target  predicted probability  \n",
              "0            9        OBJECTIVE               0.587012  \n",
              "1            9        OBJECTIVE               0.463653  \n",
              "2            9        OBJECTIVE               0.657592  \n",
              "3            9          METHODS               0.839161  \n",
              "4            9          METHODS               0.759036  "
            ],
            "text/html": [
              "\n",
              "  <div id=\"df-b14d093a-5e6b-437e-8018-d63364bf908e\">\n",
              "    <div class=\"colab-df-container\">\n",
              "      <div>\n",
              "<style scoped>\n",
              "    .dataframe tbody tr th:only-of-type {\n",
              "        vertical-align: middle;\n",
              "    }\n",
              "\n",
              "    .dataframe tbody tr th {\n",
              "        vertical-align: top;\n",
              "    }\n",
              "\n",
              "    .dataframe thead th {\n",
              "        text-align: right;\n",
              "    }\n",
              "</style>\n",
              "<table border=\"1\" class=\"dataframe\">\n",
              "  <thead>\n",
              "    <tr style=\"text-align: right;\">\n",
              "      <th></th>\n",
              "      <th>target</th>\n",
              "      <th>text</th>\n",
              "      <th>line number</th>\n",
              "      <th>total lines</th>\n",
              "      <th>predicted target</th>\n",
              "      <th>predicted probability</th>\n",
              "    </tr>\n",
              "  </thead>\n",
              "  <tbody>\n",
              "    <tr>\n",
              "      <th>0</th>\n",
              "      <td>BACKGROUND</td>\n",
              "      <td>IgE sensitization to Aspergillus fumigatus and...</td>\n",
              "      <td>0</td>\n",
              "      <td>9</td>\n",
              "      <td>OBJECTIVE</td>\n",
              "      <td>0.587012</td>\n",
              "    </tr>\n",
              "    <tr>\n",
              "      <th>1</th>\n",
              "      <td>BACKGROUND</td>\n",
              "      <td>It is not clear whether these patients would b...</td>\n",
              "      <td>1</td>\n",
              "      <td>9</td>\n",
              "      <td>OBJECTIVE</td>\n",
              "      <td>0.463653</td>\n",
              "    </tr>\n",
              "    <tr>\n",
              "      <th>2</th>\n",
              "      <td>OBJECTIVE</td>\n",
              "      <td>We sought to determine whether a @-month cours...</td>\n",
              "      <td>2</td>\n",
              "      <td>9</td>\n",
              "      <td>OBJECTIVE</td>\n",
              "      <td>0.657592</td>\n",
              "    </tr>\n",
              "    <tr>\n",
              "      <th>3</th>\n",
              "      <td>METHODS</td>\n",
              "      <td>Asthmatic patients who were IgE sensitized to ...</td>\n",
              "      <td>3</td>\n",
              "      <td>9</td>\n",
              "      <td>METHODS</td>\n",
              "      <td>0.839161</td>\n",
              "    </tr>\n",
              "    <tr>\n",
              "      <th>4</th>\n",
              "      <td>METHODS</td>\n",
              "      <td>Primary outcomes were improvement in quality o...</td>\n",
              "      <td>4</td>\n",
              "      <td>9</td>\n",
              "      <td>METHODS</td>\n",
              "      <td>0.759036</td>\n",
              "    </tr>\n",
              "  </tbody>\n",
              "</table>\n",
              "</div>\n",
              "      <button class=\"colab-df-convert\" onclick=\"convertToInteractive('df-b14d093a-5e6b-437e-8018-d63364bf908e')\"\n",
              "              title=\"Convert this dataframe to an interactive table.\"\n",
              "              style=\"display:none;\">\n",
              "        \n",
              "  <svg xmlns=\"http://www.w3.org/2000/svg\" height=\"24px\"viewBox=\"0 0 24 24\"\n",
              "       width=\"24px\">\n",
              "    <path d=\"M0 0h24v24H0V0z\" fill=\"none\"/>\n",
              "    <path d=\"M18.56 5.44l.94 2.06.94-2.06 2.06-.94-2.06-.94-.94-2.06-.94 2.06-2.06.94zm-11 1L8.5 8.5l.94-2.06 2.06-.94-2.06-.94L8.5 2.5l-.94 2.06-2.06.94zm10 10l.94 2.06.94-2.06 2.06-.94-2.06-.94-.94-2.06-.94 2.06-2.06.94z\"/><path d=\"M17.41 7.96l-1.37-1.37c-.4-.4-.92-.59-1.43-.59-.52 0-1.04.2-1.43.59L10.3 9.45l-7.72 7.72c-.78.78-.78 2.05 0 2.83L4 21.41c.39.39.9.59 1.41.59.51 0 1.02-.2 1.41-.59l7.78-7.78 2.81-2.81c.8-.78.8-2.07 0-2.86zM5.41 20L4 18.59l7.72-7.72 1.47 1.35L5.41 20z\"/>\n",
              "  </svg>\n",
              "      </button>\n",
              "      \n",
              "  <style>\n",
              "    .colab-df-container {\n",
              "      display:flex;\n",
              "      flex-wrap:wrap;\n",
              "      gap: 12px;\n",
              "    }\n",
              "\n",
              "    .colab-df-convert {\n",
              "      background-color: #E8F0FE;\n",
              "      border: none;\n",
              "      border-radius: 50%;\n",
              "      cursor: pointer;\n",
              "      display: none;\n",
              "      fill: #1967D2;\n",
              "      height: 32px;\n",
              "      padding: 0 0 0 0;\n",
              "      width: 32px;\n",
              "    }\n",
              "\n",
              "    .colab-df-convert:hover {\n",
              "      background-color: #E2EBFA;\n",
              "      box-shadow: 0px 1px 2px rgba(60, 64, 67, 0.3), 0px 1px 3px 1px rgba(60, 64, 67, 0.15);\n",
              "      fill: #174EA6;\n",
              "    }\n",
              "\n",
              "    [theme=dark] .colab-df-convert {\n",
              "      background-color: #3B4455;\n",
              "      fill: #D2E3FC;\n",
              "    }\n",
              "\n",
              "    [theme=dark] .colab-df-convert:hover {\n",
              "      background-color: #434B5C;\n",
              "      box-shadow: 0px 1px 3px 1px rgba(0, 0, 0, 0.15);\n",
              "      filter: drop-shadow(0px 1px 2px rgba(0, 0, 0, 0.3));\n",
              "      fill: #FFFFFF;\n",
              "    }\n",
              "  </style>\n",
              "\n",
              "      <script>\n",
              "        const buttonEl =\n",
              "          document.querySelector('#df-b14d093a-5e6b-437e-8018-d63364bf908e button.colab-df-convert');\n",
              "        buttonEl.style.display =\n",
              "          google.colab.kernel.accessAllowed ? 'block' : 'none';\n",
              "\n",
              "        async function convertToInteractive(key) {\n",
              "          const element = document.querySelector('#df-b14d093a-5e6b-437e-8018-d63364bf908e');\n",
              "          const dataTable =\n",
              "            await google.colab.kernel.invokeFunction('convertToInteractive',\n",
              "                                                     [key], {});\n",
              "          if (!dataTable) return;\n",
              "\n",
              "          const docLinkHtml = 'Like what you see? Visit the ' +\n",
              "            '<a target=\"_blank\" href=https://colab.research.google.com/notebooks/data_table.ipynb>data table notebook</a>'\n",
              "            + ' to learn more about interactive tables.';\n",
              "          element.innerHTML = '';\n",
              "          dataTable['output_type'] = 'display_data';\n",
              "          await google.colab.output.renderOutput(dataTable, element);\n",
              "          const docLink = document.createElement('div');\n",
              "          docLink.innerHTML = docLinkHtml;\n",
              "          element.appendChild(docLink);\n",
              "        }\n",
              "      </script>\n",
              "    </div>\n",
              "  </div>\n",
              "  "
            ]
          },
          "metadata": {},
          "execution_count": 70
        }
      ]
    },
    {
      "cell_type": "code",
      "source": [
        "pred_wrong_df = pred_df.loc[pred_df['target'] != pred_df['predicted target']].sort_values(by=['predicted probability'], ascending=False)\n",
        "pred_wrong_df.head(10)"
      ],
      "metadata": {
        "colab": {
          "base_uri": "https://localhost:8080/",
          "height": 363
        },
        "id": "pgbhu8Gj8K59",
        "outputId": "9049d8c0-cb6e-4889-aafa-aeb983fe388d"
      },
      "execution_count": 78,
      "outputs": [
        {
          "output_type": "execute_result",
          "data": {
            "text/plain": [
              "           target                                               text  \\\n",
              "7300   BACKGROUND  To examine the effects of complex cognitive ( ...   \n",
              "18208  BACKGROUND  To compare pain response outcomes for patients...   \n",
              "4575      RESULTS  The primary end point was combined cardiac dea...   \n",
              "25079   OBJECTIVE  DESIGN , SUBJECTS , INTERVENTION , OUTCOME MEA...   \n",
              "15279  BACKGROUND  To assess the short-term efficacy and safety o...   \n",
              "315    BACKGROUND  To evaluate the efficacy of the surgical fat-f...   \n",
              "27491     RESULTS  Primary end point was the percentage of patien...   \n",
              "5947   BACKGROUND  To investigate if the cramp threshold frequenc...   \n",
              "14111     RESULTS  After a @-week placebo baseline period , @ pat...   \n",
              "7392      RESULTS  Sixty patients with chronic ischaemic heart di...   \n",
              "\n",
              "       line number  total lines predicted target  predicted probability  \n",
              "7300             0           10        OBJECTIVE               0.917142  \n",
              "18208            0           10        OBJECTIVE               0.914787  \n",
              "4575             4           12          METHODS               0.903554  \n",
              "25079            2           13          METHODS               0.901152  \n",
              "15279            0           14        OBJECTIVE               0.900024  \n",
              "315              0           10        OBJECTIVE               0.898835  \n",
              "27491            4           13          METHODS               0.898376  \n",
              "5947             0           10        OBJECTIVE               0.896110  \n",
              "14111            3           14          METHODS               0.896017  \n",
              "7392             2           14          METHODS               0.895911  "
            ],
            "text/html": [
              "\n",
              "  <div id=\"df-f518af1e-2789-4f00-8d74-5dbc6a95da74\">\n",
              "    <div class=\"colab-df-container\">\n",
              "      <div>\n",
              "<style scoped>\n",
              "    .dataframe tbody tr th:only-of-type {\n",
              "        vertical-align: middle;\n",
              "    }\n",
              "\n",
              "    .dataframe tbody tr th {\n",
              "        vertical-align: top;\n",
              "    }\n",
              "\n",
              "    .dataframe thead th {\n",
              "        text-align: right;\n",
              "    }\n",
              "</style>\n",
              "<table border=\"1\" class=\"dataframe\">\n",
              "  <thead>\n",
              "    <tr style=\"text-align: right;\">\n",
              "      <th></th>\n",
              "      <th>target</th>\n",
              "      <th>text</th>\n",
              "      <th>line number</th>\n",
              "      <th>total lines</th>\n",
              "      <th>predicted target</th>\n",
              "      <th>predicted probability</th>\n",
              "    </tr>\n",
              "  </thead>\n",
              "  <tbody>\n",
              "    <tr>\n",
              "      <th>7300</th>\n",
              "      <td>BACKGROUND</td>\n",
              "      <td>To examine the effects of complex cognitive ( ...</td>\n",
              "      <td>0</td>\n",
              "      <td>10</td>\n",
              "      <td>OBJECTIVE</td>\n",
              "      <td>0.917142</td>\n",
              "    </tr>\n",
              "    <tr>\n",
              "      <th>18208</th>\n",
              "      <td>BACKGROUND</td>\n",
              "      <td>To compare pain response outcomes for patients...</td>\n",
              "      <td>0</td>\n",
              "      <td>10</td>\n",
              "      <td>OBJECTIVE</td>\n",
              "      <td>0.914787</td>\n",
              "    </tr>\n",
              "    <tr>\n",
              "      <th>4575</th>\n",
              "      <td>RESULTS</td>\n",
              "      <td>The primary end point was combined cardiac dea...</td>\n",
              "      <td>4</td>\n",
              "      <td>12</td>\n",
              "      <td>METHODS</td>\n",
              "      <td>0.903554</td>\n",
              "    </tr>\n",
              "    <tr>\n",
              "      <th>25079</th>\n",
              "      <td>OBJECTIVE</td>\n",
              "      <td>DESIGN , SUBJECTS , INTERVENTION , OUTCOME MEA...</td>\n",
              "      <td>2</td>\n",
              "      <td>13</td>\n",
              "      <td>METHODS</td>\n",
              "      <td>0.901152</td>\n",
              "    </tr>\n",
              "    <tr>\n",
              "      <th>15279</th>\n",
              "      <td>BACKGROUND</td>\n",
              "      <td>To assess the short-term efficacy and safety o...</td>\n",
              "      <td>0</td>\n",
              "      <td>14</td>\n",
              "      <td>OBJECTIVE</td>\n",
              "      <td>0.900024</td>\n",
              "    </tr>\n",
              "    <tr>\n",
              "      <th>315</th>\n",
              "      <td>BACKGROUND</td>\n",
              "      <td>To evaluate the efficacy of the surgical fat-f...</td>\n",
              "      <td>0</td>\n",
              "      <td>10</td>\n",
              "      <td>OBJECTIVE</td>\n",
              "      <td>0.898835</td>\n",
              "    </tr>\n",
              "    <tr>\n",
              "      <th>27491</th>\n",
              "      <td>RESULTS</td>\n",
              "      <td>Primary end point was the percentage of patien...</td>\n",
              "      <td>4</td>\n",
              "      <td>13</td>\n",
              "      <td>METHODS</td>\n",
              "      <td>0.898376</td>\n",
              "    </tr>\n",
              "    <tr>\n",
              "      <th>5947</th>\n",
              "      <td>BACKGROUND</td>\n",
              "      <td>To investigate if the cramp threshold frequenc...</td>\n",
              "      <td>0</td>\n",
              "      <td>10</td>\n",
              "      <td>OBJECTIVE</td>\n",
              "      <td>0.896110</td>\n",
              "    </tr>\n",
              "    <tr>\n",
              "      <th>14111</th>\n",
              "      <td>RESULTS</td>\n",
              "      <td>After a @-week placebo baseline period , @ pat...</td>\n",
              "      <td>3</td>\n",
              "      <td>14</td>\n",
              "      <td>METHODS</td>\n",
              "      <td>0.896017</td>\n",
              "    </tr>\n",
              "    <tr>\n",
              "      <th>7392</th>\n",
              "      <td>RESULTS</td>\n",
              "      <td>Sixty patients with chronic ischaemic heart di...</td>\n",
              "      <td>2</td>\n",
              "      <td>14</td>\n",
              "      <td>METHODS</td>\n",
              "      <td>0.895911</td>\n",
              "    </tr>\n",
              "  </tbody>\n",
              "</table>\n",
              "</div>\n",
              "      <button class=\"colab-df-convert\" onclick=\"convertToInteractive('df-f518af1e-2789-4f00-8d74-5dbc6a95da74')\"\n",
              "              title=\"Convert this dataframe to an interactive table.\"\n",
              "              style=\"display:none;\">\n",
              "        \n",
              "  <svg xmlns=\"http://www.w3.org/2000/svg\" height=\"24px\"viewBox=\"0 0 24 24\"\n",
              "       width=\"24px\">\n",
              "    <path d=\"M0 0h24v24H0V0z\" fill=\"none\"/>\n",
              "    <path d=\"M18.56 5.44l.94 2.06.94-2.06 2.06-.94-2.06-.94-.94-2.06-.94 2.06-2.06.94zm-11 1L8.5 8.5l.94-2.06 2.06-.94-2.06-.94L8.5 2.5l-.94 2.06-2.06.94zm10 10l.94 2.06.94-2.06 2.06-.94-2.06-.94-.94-2.06-.94 2.06-2.06.94z\"/><path d=\"M17.41 7.96l-1.37-1.37c-.4-.4-.92-.59-1.43-.59-.52 0-1.04.2-1.43.59L10.3 9.45l-7.72 7.72c-.78.78-.78 2.05 0 2.83L4 21.41c.39.39.9.59 1.41.59.51 0 1.02-.2 1.41-.59l7.78-7.78 2.81-2.81c.8-.78.8-2.07 0-2.86zM5.41 20L4 18.59l7.72-7.72 1.47 1.35L5.41 20z\"/>\n",
              "  </svg>\n",
              "      </button>\n",
              "      \n",
              "  <style>\n",
              "    .colab-df-container {\n",
              "      display:flex;\n",
              "      flex-wrap:wrap;\n",
              "      gap: 12px;\n",
              "    }\n",
              "\n",
              "    .colab-df-convert {\n",
              "      background-color: #E8F0FE;\n",
              "      border: none;\n",
              "      border-radius: 50%;\n",
              "      cursor: pointer;\n",
              "      display: none;\n",
              "      fill: #1967D2;\n",
              "      height: 32px;\n",
              "      padding: 0 0 0 0;\n",
              "      width: 32px;\n",
              "    }\n",
              "\n",
              "    .colab-df-convert:hover {\n",
              "      background-color: #E2EBFA;\n",
              "      box-shadow: 0px 1px 2px rgba(60, 64, 67, 0.3), 0px 1px 3px 1px rgba(60, 64, 67, 0.15);\n",
              "      fill: #174EA6;\n",
              "    }\n",
              "\n",
              "    [theme=dark] .colab-df-convert {\n",
              "      background-color: #3B4455;\n",
              "      fill: #D2E3FC;\n",
              "    }\n",
              "\n",
              "    [theme=dark] .colab-df-convert:hover {\n",
              "      background-color: #434B5C;\n",
              "      box-shadow: 0px 1px 3px 1px rgba(0, 0, 0, 0.15);\n",
              "      filter: drop-shadow(0px 1px 2px rgba(0, 0, 0, 0.3));\n",
              "      fill: #FFFFFF;\n",
              "    }\n",
              "  </style>\n",
              "\n",
              "      <script>\n",
              "        const buttonEl =\n",
              "          document.querySelector('#df-f518af1e-2789-4f00-8d74-5dbc6a95da74 button.colab-df-convert');\n",
              "        buttonEl.style.display =\n",
              "          google.colab.kernel.accessAllowed ? 'block' : 'none';\n",
              "\n",
              "        async function convertToInteractive(key) {\n",
              "          const element = document.querySelector('#df-f518af1e-2789-4f00-8d74-5dbc6a95da74');\n",
              "          const dataTable =\n",
              "            await google.colab.kernel.invokeFunction('convertToInteractive',\n",
              "                                                     [key], {});\n",
              "          if (!dataTable) return;\n",
              "\n",
              "          const docLinkHtml = 'Like what you see? Visit the ' +\n",
              "            '<a target=\"_blank\" href=https://colab.research.google.com/notebooks/data_table.ipynb>data table notebook</a>'\n",
              "            + ' to learn more about interactive tables.';\n",
              "          element.innerHTML = '';\n",
              "          dataTable['output_type'] = 'display_data';\n",
              "          await google.colab.output.renderOutput(dataTable, element);\n",
              "          const docLink = document.createElement('div');\n",
              "          docLink.innerHTML = docLinkHtml;\n",
              "          element.appendChild(docLink);\n",
              "        }\n",
              "      </script>\n",
              "    </div>\n",
              "  </div>\n",
              "  "
            ]
          },
          "metadata": {},
          "execution_count": 78
        }
      ]
    },
    {
      "cell_type": "code",
      "source": [
        ""
      ],
      "metadata": {
        "id": "taSK98yp97Vn"
      },
      "execution_count": null,
      "outputs": []
    }
  ]
}