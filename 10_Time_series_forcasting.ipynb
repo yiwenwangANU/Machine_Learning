{
  "nbformat": 4,
  "nbformat_minor": 0,
  "metadata": {
    "colab": {
      "name": "10_Time_series_forcasting.ipynb",
      "provenance": [],
      "collapsed_sections": [
        "5FPpDio7COKw",
        "oDnudUjwI4o3",
        "Q23ITOKKI8I2",
        "WAp6DSn6JCjz",
        "NZIR85ZXJGGs",
        "Tpx1QU3lGbms",
        "bC9ja2nyQdsA",
        "FaM1TPA7k4i7",
        "Exv4_JGIC_29",
        "JGbT2ltcou37",
        "Om1rRJmDTXo2"
      ],
      "authorship_tag": "ABX9TyOYzeRnWZTaYj8tg6sfMgn3",
      "include_colab_link": true
    },
    "kernelspec": {
      "name": "python3",
      "display_name": "Python 3"
    },
    "language_info": {
      "name": "python"
    }
  },
  "cells": [
    {
      "cell_type": "markdown",
      "metadata": {
        "id": "view-in-github",
        "colab_type": "text"
      },
      "source": [
        "<a href=\"https://colab.research.google.com/github/yiwenwangANU/Machine_Learning/blob/main/10_Time_series_forcasting.ipynb\" target=\"_parent\"><img src=\"https://colab.research.google.com/assets/colab-badge.svg\" alt=\"Open In Colab\"/></a>"
      ]
    },
    {
      "cell_type": "markdown",
      "source": [
        "#Import modules"
      ],
      "metadata": {
        "id": "5FPpDio7COKw"
      }
    },
    {
      "cell_type": "code",
      "source": [
        "import tensorflow as tf\n",
        "import numpy as np\n",
        "import pandas as pd\n",
        "import matplotlib.pyplot as plt"
      ],
      "metadata": {
        "id": "GiXBGbn5B8vK"
      },
      "execution_count": 1,
      "outputs": []
    },
    {
      "cell_type": "markdown",
      "source": [
        "#Download dataset"
      ],
      "metadata": {
        "id": "oDnudUjwI4o3"
      }
    },
    {
      "cell_type": "code",
      "execution_count": 2,
      "metadata": {
        "colab": {
          "base_uri": "https://localhost:8080/"
        },
        "id": "OaSXSYFG8TkC",
        "outputId": "681b9ba1-d875-42d1-af83-c9762322c388"
      },
      "outputs": [
        {
          "output_type": "stream",
          "name": "stdout",
          "text": [
            "--2022-06-18 01:54:22--  https://raw.githubusercontent.com/mrdbourke/tensorflow-deep-learning/main/extras/BTC_USD_2013-10-01_2021-05-18-CoinDesk.csv\n",
            "Resolving raw.githubusercontent.com (raw.githubusercontent.com)... 185.199.110.133, 185.199.111.133, 185.199.108.133, ...\n",
            "Connecting to raw.githubusercontent.com (raw.githubusercontent.com)|185.199.110.133|:443... connected.\n",
            "HTTP request sent, awaiting response... 200 OK\n",
            "Length: 178509 (174K) [text/plain]\n",
            "Saving to: ‘BTC_USD_2013-10-01_2021-05-18-CoinDesk.csv’\n",
            "\n",
            "BTC_USD_2013-10-01_ 100%[===================>] 174.33K  --.-KB/s    in 0.03s   \n",
            "\n",
            "2022-06-18 01:54:22 (5.97 MB/s) - ‘BTC_USD_2013-10-01_2021-05-18-CoinDesk.csv’ saved [178509/178509]\n",
            "\n"
          ]
        }
      ],
      "source": [
        "!wget https://raw.githubusercontent.com/mrdbourke/tensorflow-deep-learning/main/extras/BTC_USD_2013-10-01_2021-05-18-CoinDesk.csv"
      ]
    },
    {
      "cell_type": "markdown",
      "source": [
        "#Explore the data"
      ],
      "metadata": {
        "id": "Q23ITOKKI8I2"
      }
    },
    {
      "cell_type": "code",
      "source": [
        "import pandas as pd\n",
        "\n",
        "raw_df = pd.read_csv('BTC_USD_2013-10-01_2021-05-18-CoinDesk.csv')\n",
        "raw_df"
      ],
      "metadata": {
        "colab": {
          "base_uri": "https://localhost:8080/",
          "height": 424
        },
        "id": "k28hZqUM9V0m",
        "outputId": "a8078813-f194-4b29-8400-f9a23012085d"
      },
      "execution_count": 3,
      "outputs": [
        {
          "output_type": "execute_result",
          "data": {
            "text/plain": [
              "     Currency        Date  Closing Price (USD)  24h Open (USD)  \\\n",
              "0         BTC  2013-10-01           123.654990      124.304660   \n",
              "1         BTC  2013-10-02           125.455000      123.654990   \n",
              "2         BTC  2013-10-03           108.584830      125.455000   \n",
              "3         BTC  2013-10-04           118.674660      108.584830   \n",
              "4         BTC  2013-10-05           121.338660      118.674660   \n",
              "...       ...         ...                  ...             ...   \n",
              "2782      BTC  2021-05-14         49764.132082    49596.778891   \n",
              "2783      BTC  2021-05-15         50032.693137    49717.354353   \n",
              "2784      BTC  2021-05-16         47885.625255    49926.035067   \n",
              "2785      BTC  2021-05-17         45604.615754    46805.537852   \n",
              "2786      BTC  2021-05-18         43144.471291    46439.336570   \n",
              "\n",
              "      24h High (USD)  24h Low (USD)  \n",
              "0         124.751660     122.563490  \n",
              "1         125.758500     123.633830  \n",
              "2         125.665660      83.328330  \n",
              "3         118.675000     107.058160  \n",
              "4         121.936330     118.005660  \n",
              "...              ...            ...  \n",
              "2782    51448.798576   46294.720180  \n",
              "2783    51578.312545   48944.346536  \n",
              "2784    50690.802950   47005.102292  \n",
              "2785    49670.414174   43868.638969  \n",
              "2786    46622.853437   42102.346430  \n",
              "\n",
              "[2787 rows x 6 columns]"
            ],
            "text/html": [
              "\n",
              "  <div id=\"df-486ae4a7-9637-4cb5-a7a8-e6c1370bdb9e\">\n",
              "    <div class=\"colab-df-container\">\n",
              "      <div>\n",
              "<style scoped>\n",
              "    .dataframe tbody tr th:only-of-type {\n",
              "        vertical-align: middle;\n",
              "    }\n",
              "\n",
              "    .dataframe tbody tr th {\n",
              "        vertical-align: top;\n",
              "    }\n",
              "\n",
              "    .dataframe thead th {\n",
              "        text-align: right;\n",
              "    }\n",
              "</style>\n",
              "<table border=\"1\" class=\"dataframe\">\n",
              "  <thead>\n",
              "    <tr style=\"text-align: right;\">\n",
              "      <th></th>\n",
              "      <th>Currency</th>\n",
              "      <th>Date</th>\n",
              "      <th>Closing Price (USD)</th>\n",
              "      <th>24h Open (USD)</th>\n",
              "      <th>24h High (USD)</th>\n",
              "      <th>24h Low (USD)</th>\n",
              "    </tr>\n",
              "  </thead>\n",
              "  <tbody>\n",
              "    <tr>\n",
              "      <th>0</th>\n",
              "      <td>BTC</td>\n",
              "      <td>2013-10-01</td>\n",
              "      <td>123.654990</td>\n",
              "      <td>124.304660</td>\n",
              "      <td>124.751660</td>\n",
              "      <td>122.563490</td>\n",
              "    </tr>\n",
              "    <tr>\n",
              "      <th>1</th>\n",
              "      <td>BTC</td>\n",
              "      <td>2013-10-02</td>\n",
              "      <td>125.455000</td>\n",
              "      <td>123.654990</td>\n",
              "      <td>125.758500</td>\n",
              "      <td>123.633830</td>\n",
              "    </tr>\n",
              "    <tr>\n",
              "      <th>2</th>\n",
              "      <td>BTC</td>\n",
              "      <td>2013-10-03</td>\n",
              "      <td>108.584830</td>\n",
              "      <td>125.455000</td>\n",
              "      <td>125.665660</td>\n",
              "      <td>83.328330</td>\n",
              "    </tr>\n",
              "    <tr>\n",
              "      <th>3</th>\n",
              "      <td>BTC</td>\n",
              "      <td>2013-10-04</td>\n",
              "      <td>118.674660</td>\n",
              "      <td>108.584830</td>\n",
              "      <td>118.675000</td>\n",
              "      <td>107.058160</td>\n",
              "    </tr>\n",
              "    <tr>\n",
              "      <th>4</th>\n",
              "      <td>BTC</td>\n",
              "      <td>2013-10-05</td>\n",
              "      <td>121.338660</td>\n",
              "      <td>118.674660</td>\n",
              "      <td>121.936330</td>\n",
              "      <td>118.005660</td>\n",
              "    </tr>\n",
              "    <tr>\n",
              "      <th>...</th>\n",
              "      <td>...</td>\n",
              "      <td>...</td>\n",
              "      <td>...</td>\n",
              "      <td>...</td>\n",
              "      <td>...</td>\n",
              "      <td>...</td>\n",
              "    </tr>\n",
              "    <tr>\n",
              "      <th>2782</th>\n",
              "      <td>BTC</td>\n",
              "      <td>2021-05-14</td>\n",
              "      <td>49764.132082</td>\n",
              "      <td>49596.778891</td>\n",
              "      <td>51448.798576</td>\n",
              "      <td>46294.720180</td>\n",
              "    </tr>\n",
              "    <tr>\n",
              "      <th>2783</th>\n",
              "      <td>BTC</td>\n",
              "      <td>2021-05-15</td>\n",
              "      <td>50032.693137</td>\n",
              "      <td>49717.354353</td>\n",
              "      <td>51578.312545</td>\n",
              "      <td>48944.346536</td>\n",
              "    </tr>\n",
              "    <tr>\n",
              "      <th>2784</th>\n",
              "      <td>BTC</td>\n",
              "      <td>2021-05-16</td>\n",
              "      <td>47885.625255</td>\n",
              "      <td>49926.035067</td>\n",
              "      <td>50690.802950</td>\n",
              "      <td>47005.102292</td>\n",
              "    </tr>\n",
              "    <tr>\n",
              "      <th>2785</th>\n",
              "      <td>BTC</td>\n",
              "      <td>2021-05-17</td>\n",
              "      <td>45604.615754</td>\n",
              "      <td>46805.537852</td>\n",
              "      <td>49670.414174</td>\n",
              "      <td>43868.638969</td>\n",
              "    </tr>\n",
              "    <tr>\n",
              "      <th>2786</th>\n",
              "      <td>BTC</td>\n",
              "      <td>2021-05-18</td>\n",
              "      <td>43144.471291</td>\n",
              "      <td>46439.336570</td>\n",
              "      <td>46622.853437</td>\n",
              "      <td>42102.346430</td>\n",
              "    </tr>\n",
              "  </tbody>\n",
              "</table>\n",
              "<p>2787 rows × 6 columns</p>\n",
              "</div>\n",
              "      <button class=\"colab-df-convert\" onclick=\"convertToInteractive('df-486ae4a7-9637-4cb5-a7a8-e6c1370bdb9e')\"\n",
              "              title=\"Convert this dataframe to an interactive table.\"\n",
              "              style=\"display:none;\">\n",
              "        \n",
              "  <svg xmlns=\"http://www.w3.org/2000/svg\" height=\"24px\"viewBox=\"0 0 24 24\"\n",
              "       width=\"24px\">\n",
              "    <path d=\"M0 0h24v24H0V0z\" fill=\"none\"/>\n",
              "    <path d=\"M18.56 5.44l.94 2.06.94-2.06 2.06-.94-2.06-.94-.94-2.06-.94 2.06-2.06.94zm-11 1L8.5 8.5l.94-2.06 2.06-.94-2.06-.94L8.5 2.5l-.94 2.06-2.06.94zm10 10l.94 2.06.94-2.06 2.06-.94-2.06-.94-.94-2.06-.94 2.06-2.06.94z\"/><path d=\"M17.41 7.96l-1.37-1.37c-.4-.4-.92-.59-1.43-.59-.52 0-1.04.2-1.43.59L10.3 9.45l-7.72 7.72c-.78.78-.78 2.05 0 2.83L4 21.41c.39.39.9.59 1.41.59.51 0 1.02-.2 1.41-.59l7.78-7.78 2.81-2.81c.8-.78.8-2.07 0-2.86zM5.41 20L4 18.59l7.72-7.72 1.47 1.35L5.41 20z\"/>\n",
              "  </svg>\n",
              "      </button>\n",
              "      \n",
              "  <style>\n",
              "    .colab-df-container {\n",
              "      display:flex;\n",
              "      flex-wrap:wrap;\n",
              "      gap: 12px;\n",
              "    }\n",
              "\n",
              "    .colab-df-convert {\n",
              "      background-color: #E8F0FE;\n",
              "      border: none;\n",
              "      border-radius: 50%;\n",
              "      cursor: pointer;\n",
              "      display: none;\n",
              "      fill: #1967D2;\n",
              "      height: 32px;\n",
              "      padding: 0 0 0 0;\n",
              "      width: 32px;\n",
              "    }\n",
              "\n",
              "    .colab-df-convert:hover {\n",
              "      background-color: #E2EBFA;\n",
              "      box-shadow: 0px 1px 2px rgba(60, 64, 67, 0.3), 0px 1px 3px 1px rgba(60, 64, 67, 0.15);\n",
              "      fill: #174EA6;\n",
              "    }\n",
              "\n",
              "    [theme=dark] .colab-df-convert {\n",
              "      background-color: #3B4455;\n",
              "      fill: #D2E3FC;\n",
              "    }\n",
              "\n",
              "    [theme=dark] .colab-df-convert:hover {\n",
              "      background-color: #434B5C;\n",
              "      box-shadow: 0px 1px 3px 1px rgba(0, 0, 0, 0.15);\n",
              "      filter: drop-shadow(0px 1px 2px rgba(0, 0, 0, 0.3));\n",
              "      fill: #FFFFFF;\n",
              "    }\n",
              "  </style>\n",
              "\n",
              "      <script>\n",
              "        const buttonEl =\n",
              "          document.querySelector('#df-486ae4a7-9637-4cb5-a7a8-e6c1370bdb9e button.colab-df-convert');\n",
              "        buttonEl.style.display =\n",
              "          google.colab.kernel.accessAllowed ? 'block' : 'none';\n",
              "\n",
              "        async function convertToInteractive(key) {\n",
              "          const element = document.querySelector('#df-486ae4a7-9637-4cb5-a7a8-e6c1370bdb9e');\n",
              "          const dataTable =\n",
              "            await google.colab.kernel.invokeFunction('convertToInteractive',\n",
              "                                                     [key], {});\n",
              "          if (!dataTable) return;\n",
              "\n",
              "          const docLinkHtml = 'Like what you see? Visit the ' +\n",
              "            '<a target=\"_blank\" href=https://colab.research.google.com/notebooks/data_table.ipynb>data table notebook</a>'\n",
              "            + ' to learn more about interactive tables.';\n",
              "          element.innerHTML = '';\n",
              "          dataTable['output_type'] = 'display_data';\n",
              "          await google.colab.output.renderOutput(dataTable, element);\n",
              "          const docLink = document.createElement('div');\n",
              "          docLink.innerHTML = docLinkHtml;\n",
              "          element.appendChild(docLink);\n",
              "        }\n",
              "      </script>\n",
              "    </div>\n",
              "  </div>\n",
              "  "
            ]
          },
          "metadata": {},
          "execution_count": 3
        }
      ]
    },
    {
      "cell_type": "code",
      "source": [
        "data_df = raw_df[{'Date', 'Closing Price (USD)'}]\n",
        "data_df"
      ],
      "metadata": {
        "colab": {
          "base_uri": "https://localhost:8080/",
          "height": 424
        },
        "id": "Z_XXOGKZ9ju3",
        "outputId": "d232e29d-35a1-4f63-ebec-c0160be5e642"
      },
      "execution_count": 4,
      "outputs": [
        {
          "output_type": "execute_result",
          "data": {
            "text/plain": [
              "            Date  Closing Price (USD)\n",
              "0     2013-10-01           123.654990\n",
              "1     2013-10-02           125.455000\n",
              "2     2013-10-03           108.584830\n",
              "3     2013-10-04           118.674660\n",
              "4     2013-10-05           121.338660\n",
              "...          ...                  ...\n",
              "2782  2021-05-14         49764.132082\n",
              "2783  2021-05-15         50032.693137\n",
              "2784  2021-05-16         47885.625255\n",
              "2785  2021-05-17         45604.615754\n",
              "2786  2021-05-18         43144.471291\n",
              "\n",
              "[2787 rows x 2 columns]"
            ],
            "text/html": [
              "\n",
              "  <div id=\"df-f2c48bd2-162d-456a-8229-aebd3d3004b7\">\n",
              "    <div class=\"colab-df-container\">\n",
              "      <div>\n",
              "<style scoped>\n",
              "    .dataframe tbody tr th:only-of-type {\n",
              "        vertical-align: middle;\n",
              "    }\n",
              "\n",
              "    .dataframe tbody tr th {\n",
              "        vertical-align: top;\n",
              "    }\n",
              "\n",
              "    .dataframe thead th {\n",
              "        text-align: right;\n",
              "    }\n",
              "</style>\n",
              "<table border=\"1\" class=\"dataframe\">\n",
              "  <thead>\n",
              "    <tr style=\"text-align: right;\">\n",
              "      <th></th>\n",
              "      <th>Date</th>\n",
              "      <th>Closing Price (USD)</th>\n",
              "    </tr>\n",
              "  </thead>\n",
              "  <tbody>\n",
              "    <tr>\n",
              "      <th>0</th>\n",
              "      <td>2013-10-01</td>\n",
              "      <td>123.654990</td>\n",
              "    </tr>\n",
              "    <tr>\n",
              "      <th>1</th>\n",
              "      <td>2013-10-02</td>\n",
              "      <td>125.455000</td>\n",
              "    </tr>\n",
              "    <tr>\n",
              "      <th>2</th>\n",
              "      <td>2013-10-03</td>\n",
              "      <td>108.584830</td>\n",
              "    </tr>\n",
              "    <tr>\n",
              "      <th>3</th>\n",
              "      <td>2013-10-04</td>\n",
              "      <td>118.674660</td>\n",
              "    </tr>\n",
              "    <tr>\n",
              "      <th>4</th>\n",
              "      <td>2013-10-05</td>\n",
              "      <td>121.338660</td>\n",
              "    </tr>\n",
              "    <tr>\n",
              "      <th>...</th>\n",
              "      <td>...</td>\n",
              "      <td>...</td>\n",
              "    </tr>\n",
              "    <tr>\n",
              "      <th>2782</th>\n",
              "      <td>2021-05-14</td>\n",
              "      <td>49764.132082</td>\n",
              "    </tr>\n",
              "    <tr>\n",
              "      <th>2783</th>\n",
              "      <td>2021-05-15</td>\n",
              "      <td>50032.693137</td>\n",
              "    </tr>\n",
              "    <tr>\n",
              "      <th>2784</th>\n",
              "      <td>2021-05-16</td>\n",
              "      <td>47885.625255</td>\n",
              "    </tr>\n",
              "    <tr>\n",
              "      <th>2785</th>\n",
              "      <td>2021-05-17</td>\n",
              "      <td>45604.615754</td>\n",
              "    </tr>\n",
              "    <tr>\n",
              "      <th>2786</th>\n",
              "      <td>2021-05-18</td>\n",
              "      <td>43144.471291</td>\n",
              "    </tr>\n",
              "  </tbody>\n",
              "</table>\n",
              "<p>2787 rows × 2 columns</p>\n",
              "</div>\n",
              "      <button class=\"colab-df-convert\" onclick=\"convertToInteractive('df-f2c48bd2-162d-456a-8229-aebd3d3004b7')\"\n",
              "              title=\"Convert this dataframe to an interactive table.\"\n",
              "              style=\"display:none;\">\n",
              "        \n",
              "  <svg xmlns=\"http://www.w3.org/2000/svg\" height=\"24px\"viewBox=\"0 0 24 24\"\n",
              "       width=\"24px\">\n",
              "    <path d=\"M0 0h24v24H0V0z\" fill=\"none\"/>\n",
              "    <path d=\"M18.56 5.44l.94 2.06.94-2.06 2.06-.94-2.06-.94-.94-2.06-.94 2.06-2.06.94zm-11 1L8.5 8.5l.94-2.06 2.06-.94-2.06-.94L8.5 2.5l-.94 2.06-2.06.94zm10 10l.94 2.06.94-2.06 2.06-.94-2.06-.94-.94-2.06-.94 2.06-2.06.94z\"/><path d=\"M17.41 7.96l-1.37-1.37c-.4-.4-.92-.59-1.43-.59-.52 0-1.04.2-1.43.59L10.3 9.45l-7.72 7.72c-.78.78-.78 2.05 0 2.83L4 21.41c.39.39.9.59 1.41.59.51 0 1.02-.2 1.41-.59l7.78-7.78 2.81-2.81c.8-.78.8-2.07 0-2.86zM5.41 20L4 18.59l7.72-7.72 1.47 1.35L5.41 20z\"/>\n",
              "  </svg>\n",
              "      </button>\n",
              "      \n",
              "  <style>\n",
              "    .colab-df-container {\n",
              "      display:flex;\n",
              "      flex-wrap:wrap;\n",
              "      gap: 12px;\n",
              "    }\n",
              "\n",
              "    .colab-df-convert {\n",
              "      background-color: #E8F0FE;\n",
              "      border: none;\n",
              "      border-radius: 50%;\n",
              "      cursor: pointer;\n",
              "      display: none;\n",
              "      fill: #1967D2;\n",
              "      height: 32px;\n",
              "      padding: 0 0 0 0;\n",
              "      width: 32px;\n",
              "    }\n",
              "\n",
              "    .colab-df-convert:hover {\n",
              "      background-color: #E2EBFA;\n",
              "      box-shadow: 0px 1px 2px rgba(60, 64, 67, 0.3), 0px 1px 3px 1px rgba(60, 64, 67, 0.15);\n",
              "      fill: #174EA6;\n",
              "    }\n",
              "\n",
              "    [theme=dark] .colab-df-convert {\n",
              "      background-color: #3B4455;\n",
              "      fill: #D2E3FC;\n",
              "    }\n",
              "\n",
              "    [theme=dark] .colab-df-convert:hover {\n",
              "      background-color: #434B5C;\n",
              "      box-shadow: 0px 1px 3px 1px rgba(0, 0, 0, 0.15);\n",
              "      filter: drop-shadow(0px 1px 2px rgba(0, 0, 0, 0.3));\n",
              "      fill: #FFFFFF;\n",
              "    }\n",
              "  </style>\n",
              "\n",
              "      <script>\n",
              "        const buttonEl =\n",
              "          document.querySelector('#df-f2c48bd2-162d-456a-8229-aebd3d3004b7 button.colab-df-convert');\n",
              "        buttonEl.style.display =\n",
              "          google.colab.kernel.accessAllowed ? 'block' : 'none';\n",
              "\n",
              "        async function convertToInteractive(key) {\n",
              "          const element = document.querySelector('#df-f2c48bd2-162d-456a-8229-aebd3d3004b7');\n",
              "          const dataTable =\n",
              "            await google.colab.kernel.invokeFunction('convertToInteractive',\n",
              "                                                     [key], {});\n",
              "          if (!dataTable) return;\n",
              "\n",
              "          const docLinkHtml = 'Like what you see? Visit the ' +\n",
              "            '<a target=\"_blank\" href=https://colab.research.google.com/notebooks/data_table.ipynb>data table notebook</a>'\n",
              "            + ' to learn more about interactive tables.';\n",
              "          element.innerHTML = '';\n",
              "          dataTable['output_type'] = 'display_data';\n",
              "          await google.colab.output.renderOutput(dataTable, element);\n",
              "          const docLink = document.createElement('div');\n",
              "          docLink.innerHTML = docLinkHtml;\n",
              "          element.appendChild(docLink);\n",
              "        }\n",
              "      </script>\n",
              "    </div>\n",
              "  </div>\n",
              "  "
            ]
          },
          "metadata": {},
          "execution_count": 4
        }
      ]
    },
    {
      "cell_type": "code",
      "source": [
        "data_df.info()"
      ],
      "metadata": {
        "colab": {
          "base_uri": "https://localhost:8080/"
        },
        "id": "p8WgLg0d-CBq",
        "outputId": "120536a5-86e0-45cf-9eff-d2bfd84582f2"
      },
      "execution_count": 5,
      "outputs": [
        {
          "output_type": "stream",
          "name": "stdout",
          "text": [
            "<class 'pandas.core.frame.DataFrame'>\n",
            "RangeIndex: 2787 entries, 0 to 2786\n",
            "Data columns (total 2 columns):\n",
            " #   Column               Non-Null Count  Dtype  \n",
            "---  ------               --------------  -----  \n",
            " 0   Date                 2787 non-null   object \n",
            " 1   Closing Price (USD)  2787 non-null   float64\n",
            "dtypes: float64(1), object(1)\n",
            "memory usage: 43.7+ KB\n"
          ]
        }
      ]
    },
    {
      "cell_type": "markdown",
      "source": [
        "#Preprocess the data"
      ],
      "metadata": {
        "id": "WAp6DSn6JCjz"
      }
    },
    {
      "cell_type": "code",
      "source": [
        "data_df['Date'] = pd.to_datetime(data_df['Date'])\n",
        "data_df.info()"
      ],
      "metadata": {
        "colab": {
          "base_uri": "https://localhost:8080/"
        },
        "id": "3wCUvI_zBSqO",
        "outputId": "c98539b8-98f2-4224-c203-d7bbfbe8c44d"
      },
      "execution_count": 6,
      "outputs": [
        {
          "output_type": "stream",
          "name": "stdout",
          "text": [
            "<class 'pandas.core.frame.DataFrame'>\n",
            "RangeIndex: 2787 entries, 0 to 2786\n",
            "Data columns (total 2 columns):\n",
            " #   Column               Non-Null Count  Dtype         \n",
            "---  ------               --------------  -----         \n",
            " 0   Date                 2787 non-null   datetime64[ns]\n",
            " 1   Closing Price (USD)  2787 non-null   float64       \n",
            "dtypes: datetime64[ns](1), float64(1)\n",
            "memory usage: 43.7 KB\n"
          ]
        },
        {
          "output_type": "stream",
          "name": "stderr",
          "text": [
            "/usr/local/lib/python3.7/dist-packages/ipykernel_launcher.py:1: SettingWithCopyWarning: \n",
            "A value is trying to be set on a copy of a slice from a DataFrame.\n",
            "Try using .loc[row_indexer,col_indexer] = value instead\n",
            "\n",
            "See the caveats in the documentation: https://pandas.pydata.org/pandas-docs/stable/user_guide/indexing.html#returning-a-view-versus-a-copy\n",
            "  \"\"\"Entry point for launching an IPython kernel.\n"
          ]
        }
      ]
    },
    {
      "cell_type": "code",
      "source": [
        "data_df = data_df.set_index('Date')"
      ],
      "metadata": {
        "id": "vjHZ1bJX-5cj"
      },
      "execution_count": 7,
      "outputs": []
    },
    {
      "cell_type": "code",
      "source": [
        "data_df"
      ],
      "metadata": {
        "colab": {
          "base_uri": "https://localhost:8080/",
          "height": 455
        },
        "id": "O6PWEMb0BAxv",
        "outputId": "8573029e-2092-4b88-9e88-8adce0512517"
      },
      "execution_count": 8,
      "outputs": [
        {
          "output_type": "execute_result",
          "data": {
            "text/plain": [
              "            Closing Price (USD)\n",
              "Date                           \n",
              "2013-10-01           123.654990\n",
              "2013-10-02           125.455000\n",
              "2013-10-03           108.584830\n",
              "2013-10-04           118.674660\n",
              "2013-10-05           121.338660\n",
              "...                         ...\n",
              "2021-05-14         49764.132082\n",
              "2021-05-15         50032.693137\n",
              "2021-05-16         47885.625255\n",
              "2021-05-17         45604.615754\n",
              "2021-05-18         43144.471291\n",
              "\n",
              "[2787 rows x 1 columns]"
            ],
            "text/html": [
              "\n",
              "  <div id=\"df-d78c0273-72f5-4edc-9e59-2b374cbb8ff8\">\n",
              "    <div class=\"colab-df-container\">\n",
              "      <div>\n",
              "<style scoped>\n",
              "    .dataframe tbody tr th:only-of-type {\n",
              "        vertical-align: middle;\n",
              "    }\n",
              "\n",
              "    .dataframe tbody tr th {\n",
              "        vertical-align: top;\n",
              "    }\n",
              "\n",
              "    .dataframe thead th {\n",
              "        text-align: right;\n",
              "    }\n",
              "</style>\n",
              "<table border=\"1\" class=\"dataframe\">\n",
              "  <thead>\n",
              "    <tr style=\"text-align: right;\">\n",
              "      <th></th>\n",
              "      <th>Closing Price (USD)</th>\n",
              "    </tr>\n",
              "    <tr>\n",
              "      <th>Date</th>\n",
              "      <th></th>\n",
              "    </tr>\n",
              "  </thead>\n",
              "  <tbody>\n",
              "    <tr>\n",
              "      <th>2013-10-01</th>\n",
              "      <td>123.654990</td>\n",
              "    </tr>\n",
              "    <tr>\n",
              "      <th>2013-10-02</th>\n",
              "      <td>125.455000</td>\n",
              "    </tr>\n",
              "    <tr>\n",
              "      <th>2013-10-03</th>\n",
              "      <td>108.584830</td>\n",
              "    </tr>\n",
              "    <tr>\n",
              "      <th>2013-10-04</th>\n",
              "      <td>118.674660</td>\n",
              "    </tr>\n",
              "    <tr>\n",
              "      <th>2013-10-05</th>\n",
              "      <td>121.338660</td>\n",
              "    </tr>\n",
              "    <tr>\n",
              "      <th>...</th>\n",
              "      <td>...</td>\n",
              "    </tr>\n",
              "    <tr>\n",
              "      <th>2021-05-14</th>\n",
              "      <td>49764.132082</td>\n",
              "    </tr>\n",
              "    <tr>\n",
              "      <th>2021-05-15</th>\n",
              "      <td>50032.693137</td>\n",
              "    </tr>\n",
              "    <tr>\n",
              "      <th>2021-05-16</th>\n",
              "      <td>47885.625255</td>\n",
              "    </tr>\n",
              "    <tr>\n",
              "      <th>2021-05-17</th>\n",
              "      <td>45604.615754</td>\n",
              "    </tr>\n",
              "    <tr>\n",
              "      <th>2021-05-18</th>\n",
              "      <td>43144.471291</td>\n",
              "    </tr>\n",
              "  </tbody>\n",
              "</table>\n",
              "<p>2787 rows × 1 columns</p>\n",
              "</div>\n",
              "      <button class=\"colab-df-convert\" onclick=\"convertToInteractive('df-d78c0273-72f5-4edc-9e59-2b374cbb8ff8')\"\n",
              "              title=\"Convert this dataframe to an interactive table.\"\n",
              "              style=\"display:none;\">\n",
              "        \n",
              "  <svg xmlns=\"http://www.w3.org/2000/svg\" height=\"24px\"viewBox=\"0 0 24 24\"\n",
              "       width=\"24px\">\n",
              "    <path d=\"M0 0h24v24H0V0z\" fill=\"none\"/>\n",
              "    <path d=\"M18.56 5.44l.94 2.06.94-2.06 2.06-.94-2.06-.94-.94-2.06-.94 2.06-2.06.94zm-11 1L8.5 8.5l.94-2.06 2.06-.94-2.06-.94L8.5 2.5l-.94 2.06-2.06.94zm10 10l.94 2.06.94-2.06 2.06-.94-2.06-.94-.94-2.06-.94 2.06-2.06.94z\"/><path d=\"M17.41 7.96l-1.37-1.37c-.4-.4-.92-.59-1.43-.59-.52 0-1.04.2-1.43.59L10.3 9.45l-7.72 7.72c-.78.78-.78 2.05 0 2.83L4 21.41c.39.39.9.59 1.41.59.51 0 1.02-.2 1.41-.59l7.78-7.78 2.81-2.81c.8-.78.8-2.07 0-2.86zM5.41 20L4 18.59l7.72-7.72 1.47 1.35L5.41 20z\"/>\n",
              "  </svg>\n",
              "      </button>\n",
              "      \n",
              "  <style>\n",
              "    .colab-df-container {\n",
              "      display:flex;\n",
              "      flex-wrap:wrap;\n",
              "      gap: 12px;\n",
              "    }\n",
              "\n",
              "    .colab-df-convert {\n",
              "      background-color: #E8F0FE;\n",
              "      border: none;\n",
              "      border-radius: 50%;\n",
              "      cursor: pointer;\n",
              "      display: none;\n",
              "      fill: #1967D2;\n",
              "      height: 32px;\n",
              "      padding: 0 0 0 0;\n",
              "      width: 32px;\n",
              "    }\n",
              "\n",
              "    .colab-df-convert:hover {\n",
              "      background-color: #E2EBFA;\n",
              "      box-shadow: 0px 1px 2px rgba(60, 64, 67, 0.3), 0px 1px 3px 1px rgba(60, 64, 67, 0.15);\n",
              "      fill: #174EA6;\n",
              "    }\n",
              "\n",
              "    [theme=dark] .colab-df-convert {\n",
              "      background-color: #3B4455;\n",
              "      fill: #D2E3FC;\n",
              "    }\n",
              "\n",
              "    [theme=dark] .colab-df-convert:hover {\n",
              "      background-color: #434B5C;\n",
              "      box-shadow: 0px 1px 3px 1px rgba(0, 0, 0, 0.15);\n",
              "      filter: drop-shadow(0px 1px 2px rgba(0, 0, 0, 0.3));\n",
              "      fill: #FFFFFF;\n",
              "    }\n",
              "  </style>\n",
              "\n",
              "      <script>\n",
              "        const buttonEl =\n",
              "          document.querySelector('#df-d78c0273-72f5-4edc-9e59-2b374cbb8ff8 button.colab-df-convert');\n",
              "        buttonEl.style.display =\n",
              "          google.colab.kernel.accessAllowed ? 'block' : 'none';\n",
              "\n",
              "        async function convertToInteractive(key) {\n",
              "          const element = document.querySelector('#df-d78c0273-72f5-4edc-9e59-2b374cbb8ff8');\n",
              "          const dataTable =\n",
              "            await google.colab.kernel.invokeFunction('convertToInteractive',\n",
              "                                                     [key], {});\n",
              "          if (!dataTable) return;\n",
              "\n",
              "          const docLinkHtml = 'Like what you see? Visit the ' +\n",
              "            '<a target=\"_blank\" href=https://colab.research.google.com/notebooks/data_table.ipynb>data table notebook</a>'\n",
              "            + ' to learn more about interactive tables.';\n",
              "          element.innerHTML = '';\n",
              "          dataTable['output_type'] = 'display_data';\n",
              "          await google.colab.output.renderOutput(dataTable, element);\n",
              "          const docLink = document.createElement('div');\n",
              "          docLink.innerHTML = docLinkHtml;\n",
              "          element.appendChild(docLink);\n",
              "        }\n",
              "      </script>\n",
              "    </div>\n",
              "  </div>\n",
              "  "
            ]
          },
          "metadata": {},
          "execution_count": 8
        }
      ]
    },
    {
      "cell_type": "code",
      "source": [
        "import matplotlib.pyplot as plt\n",
        "plt.figure(figsize=(10, 7))\n",
        "plt.plot(data_df['Closing Price (USD)'])"
      ],
      "metadata": {
        "colab": {
          "base_uri": "https://localhost:8080/",
          "height": 446
        },
        "id": "4SvZk3kPAwhI",
        "outputId": "cdf65892-b770-402b-eda5-8eb1fac486d1"
      },
      "execution_count": 9,
      "outputs": [
        {
          "output_type": "execute_result",
          "data": {
            "text/plain": [
              "[<matplotlib.lines.Line2D at 0x7f6753d150d0>]"
            ]
          },
          "metadata": {},
          "execution_count": 9
        },
        {
          "output_type": "display_data",
          "data": {
            "text/plain": [
              "<Figure size 720x504 with 1 Axes>"
            ],
            "image/png": "[encoded data removed]"
          },
          "metadata": {
            "needs_background": "light"
          }
        }
      ]
    },
    {
      "cell_type": "code",
      "source": [
        "date_list = data_df.index.to_numpy()\n",
        "price_list = data_df['Closing Price (USD)'].to_numpy()"
      ],
      "metadata": {
        "id": "sOiv0PUGHIL8"
      },
      "execution_count": 10,
      "outputs": []
    },
    {
      "cell_type": "markdown",
      "source": [
        "#Seperate the training and test set"
      ],
      "metadata": {
        "id": "NZIR85ZXJGGs"
      }
    },
    {
      "cell_type": "code",
      "source": [
        "X_train = date_list[:int(0.8*(len(date_list)))]\n",
        "y_train = price_list[:int(0.8*(len(price_list)))]\n",
        "\n",
        "X_test = date_list[int(0.8*(len(date_list))):]\n",
        "y_test = price_list[int(0.8*(len(price_list))):]"
      ],
      "metadata": {
        "id": "ik_lcxhdA0x6"
      },
      "execution_count": 11,
      "outputs": []
    },
    {
      "cell_type": "code",
      "source": [
        "plt.figure(figsize=(10, 7))\n",
        "plt.plot(X_train, y_train, '.')\n",
        "plt.plot(X_test, y_test, '.')\n",
        "plt.grid('True')"
      ],
      "metadata": {
        "colab": {
          "base_uri": "https://localhost:8080/",
          "height": 54
        },
        "id": "bEGrCTY4GaPr",
        "outputId": "9aa079c3-4495-49cc-8579-0fda9b6669ad"
      },
      "execution_count": 12,
      "outputs": [
        {
          "output_type": "display_data",
          "data": {
            "text/plain": [
              "<Figure size 720x504 with 1 Axes>"
            ],
            "image/png": "[encoded data removed]"
          },
          "metadata": {
            "needs_background": "light"
          }
        }
      ]
    },
    {
      "cell_type": "markdown",
      "source": [
        "#Create plot helper function"
      ],
      "metadata": {
        "id": "Tpx1QU3lGbms"
      }
    },
    {
      "cell_type": "code",
      "source": [
        "def plot_time_series(timesteps, values, format='.', start=0, end=None, label=None):\n",
        "  plt.plot(timesteps[start:end],\n",
        "           values[start:end],\n",
        "           format,\n",
        "           label=label)\n",
        "  \n",
        "  if label != None:\n",
        "    plt.legend(prop={'size': 15})\n",
        "  plt.xlabel('Time')\n",
        "  plt.ylabel('BTC Price')\n",
        "  plt.grid(True)"
      ],
      "metadata": {
        "id": "-Kcyi0YDJRZh"
      },
      "execution_count": 13,
      "outputs": []
    },
    {
      "cell_type": "code",
      "source": [
        "plt.figure(figsize=(10, 7))\n",
        "plot_time_series(X_train, y_train, label='Train')\n",
        "plot_time_series(X_test, y_test, label='Test')"
      ],
      "metadata": {
        "colab": {
          "base_uri": "https://localhost:8080/",
          "height": 54
        },
        "id": "xj9qSFOxO45D",
        "outputId": "f2dd2d69-2ad0-4486-fb11-4af99c5e505d"
      },
      "execution_count": 14,
      "outputs": [
        {
          "output_type": "display_data",
          "data": {
            "text/plain": [
              "<Figure size 720x504 with 1 Axes>"
            ],
            "image/png": "[encoded data removed]"
          },
          "metadata": {
            "needs_background": "light"
          }
        }
      ]
    },
    {
      "cell_type": "code",
      "source": [
        "plt.figure(figsize=(10, 7))\n",
        "plot_time_series(X_train, y_train, start=1000, end=1500, label='Train')"
      ],
      "metadata": {
        "colab": {
          "base_uri": "https://localhost:8080/",
          "height": 54
        },
        "id": "XVGOj6TdPDpq",
        "outputId": "821c6559-8075-414b-bfb4-385f76bdc31d"
      },
      "execution_count": 15,
      "outputs": [
        {
          "output_type": "display_data",
          "data": {
            "text/plain": [
              "<Figure size 720x504 with 1 Axes>"
            ],
            "image/png": "[encoded data removed]"
          },
          "metadata": {
            "needs_background": "light"
          }
        }
      ]
    },
    {
      "cell_type": "markdown",
      "source": [
        "#Model 0: Naïve forecast (baseline)"
      ],
      "metadata": {
        "id": "bC9ja2nyQdsA"
      }
    },
    {
      "cell_type": "code",
      "source": [
        "naive_forcast = y_test[:-1] "
      ],
      "metadata": {
        "id": "495MTi-ZXwoh"
      },
      "execution_count": null,
      "outputs": []
    },
    {
      "cell_type": "code",
      "source": [
        "plt.figure(figsize=(10, 7))\n",
        "plot_time_series(X_train, y_train, format='.', label='Train')\n",
        "plot_time_series(X_test, y_test, format='.', label='Test')\n",
        "plot_time_series(X_test[1:], naive_forcast, format='-', label='Naive Forcast')"
      ],
      "metadata": {
        "colab": {
          "base_uri": "https://localhost:8080/",
          "height": 442
        },
        "id": "JWVP08oOYrXS",
        "outputId": "faaf098a-a117-4d8d-8bd8-6985538b3a08"
      },
      "execution_count": null,
      "outputs": [
        {
          "output_type": "display_data",
          "data": {
            "text/plain": [
              "<Figure size 720x504 with 1 Axes>"
            ],
            "image/png": "[encoded data removed]"
          },
          "metadata": {
            "needs_background": "light"
          }
        }
      ]
    },
    {
      "cell_type": "code",
      "source": [
        "offset = 300\n",
        "plt.figure(figsize=(10, 7))\n",
        "plot_time_series(X_test, y_test, start=offset, format='.', label='Test')\n",
        "plot_time_series(X_test[1:], naive_forcast, start=offset, format='-', label='Naive Forcast')"
      ],
      "metadata": {
        "colab": {
          "base_uri": "https://localhost:8080/",
          "height": 442
        },
        "id": "F8iYTfrVYydz",
        "outputId": "63dfdb21-5423-4db4-bb87-9dfce8c42922"
      },
      "execution_count": null,
      "outputs": [
        {
          "output_type": "display_data",
          "data": {
            "text/plain": [
              "<Figure size 720x504 with 1 Axes>"
            ],
            "image/png": "[encoded data removed]"
          },
          "metadata": {
            "needs_background": "light"
          }
        }
      ]
    },
    {
      "cell_type": "markdown",
      "source": [
        "#Create evaluation metrics"
      ],
      "metadata": {
        "id": "FaM1TPA7k4i7"
      }
    },
    {
      "cell_type": "code",
      "source": [
        "import tensorflow as tf\n",
        "\n",
        "def evaluate_preds(y_true, y_pred):\n",
        "  y_true = tf.cast(y_true, tf.float32)\n",
        "  y_pred = tf.cast(y_pred, tf.float32)\n",
        "\n",
        "  mae = tf.keras.metrics.mean_absolute_error(y_true, y_pred)\n",
        "  mse = tf.keras.metrics.mean_squared_error(y_true, y_pred)\n",
        "  rmse = tf.sqrt(mse)\n",
        "  mape = tf.keras.metrics.mean_absolute_percentage_error(y_true, y_pred)\n",
        "  mae_naive_no_season = tf.keras.metrics.mean_absolute_error(y_true[1:], y_true[:-1])\n",
        "  mase = tf.reduce_mean(mae) / tf.reduce_mean(mae_naive_no_season)\n",
        "\n",
        "  if(y_pred.ndim > 0):\n",
        "    mae = tf.reduce_mean(mae)\n",
        "    mse = tf.reduce_mean(mse)\n",
        "    rmse = tf.sqrt(mse)\n",
        "    mape = tf.reduce_mean(mape)\n",
        "    \n",
        "  return {'mae': mae.numpy(), 'mse': mse.numpy(), 'rmse': rmse.numpy(), \n",
        "          'mape': mape.numpy(), 'mase': mase.numpy()}"
      ],
      "metadata": {
        "id": "WPyh7IKNk-NM"
      },
      "execution_count": 16,
      "outputs": []
    },
    {
      "cell_type": "code",
      "source": [
        "# Evaluate the prediction of model 0\n",
        "naive_results = evaluate_preds(y_true=y_test[1:], y_pred=y_test[:-1])\n",
        "naive_results"
      ],
      "metadata": {
        "colab": {
          "base_uri": "https://localhost:8080/"
        },
        "id": "spRFmEiuqhqP",
        "outputId": "e395ab79-8670-4419-9eb4-aa8c059cebb3"
      },
      "execution_count": 17,
      "outputs": [
        {
          "output_type": "execute_result",
          "data": {
            "text/plain": [
              "{'mae': 567.9802,\n",
              " 'mape': 2.5165248,\n",
              " 'mase': 0.99957,\n",
              " 'mse': 1147547.0,\n",
              " 'rmse': 1071.2362}"
            ]
          },
          "metadata": {},
          "execution_count": 17
        }
      ]
    },
    {
      "cell_type": "markdown",
      "source": [
        "#Model 1: Dense model (window = 7, horizon = 1)"
      ],
      "metadata": {
        "id": "IDHOhKHBRjb4"
      }
    },
    {
      "cell_type": "markdown",
      "source": [
        "##Create new windowing dataset"
      ],
      "metadata": {
        "id": "4nQ0kqqI-S16"
      }
    },
    {
      "cell_type": "code",
      "source": [
        "import numpy as np\n",
        "tf.random.set_seed(42)"
      ],
      "metadata": {
        "id": "lGl-0RzIIDBL"
      },
      "execution_count": 18,
      "outputs": []
    },
    {
      "cell_type": "code",
      "source": [
        "def make_windows(input_list, window_size, horizon):\n",
        "  index_x = np.arange(window_size+horizon)\n",
        "  index_y = np.arange(len(input_list)-(window_size+horizon)+1)[:, np.newaxis]\n",
        "  output = input_list[index_x + index_y]\n",
        "  return output[:, :-horizon], output[:, -horizon:]\n",
        "\n",
        "#make_windows_index(np.arange(101, 120))"
      ],
      "metadata": {
        "id": "KW_BIOlawJmv"
      },
      "execution_count": 19,
      "outputs": []
    },
    {
      "cell_type": "code",
      "source": [
        "def make_train_test_splits(windows, labels, test_split=0.2):\n",
        "  \"\"\"\n",
        "  Splits matching pairs of windows and labels into train and test splits.\n",
        "  \"\"\"\n",
        "  split_size = int(len(windows) * (1-test_split)) # this will default to 80% train/20% test\n",
        "  train_windows = windows[:split_size]\n",
        "  train_labels = labels[:split_size]\n",
        "  test_windows = windows[split_size:]\n",
        "  test_labels = labels[split_size:]\n",
        "  return train_windows, test_windows, train_labels, test_labels"
      ],
      "metadata": {
        "id": "i78Ly4AqFM2X"
      },
      "execution_count": 20,
      "outputs": []
    },
    {
      "cell_type": "code",
      "source": [
        "WIN_SIZE = 7\n",
        "HORIZON = 1"
      ],
      "metadata": {
        "id": "qrrtlnZWSl4B"
      },
      "execution_count": 21,
      "outputs": []
    },
    {
      "cell_type": "code",
      "source": [
        "full_windows, full_labels = make_windows(price_list, window_size=WIN_SIZE, horizon=HORIZON)\n",
        "train_windows, test_windows, train_labels, test_labels = make_train_test_splits(full_windows, full_labels)"
      ],
      "metadata": {
        "id": "VzQS_opONNjy"
      },
      "execution_count": 22,
      "outputs": []
    },
    {
      "cell_type": "code",
      "source": [
        "train_windows.shape, train_labels.shape"
      ],
      "metadata": {
        "colab": {
          "base_uri": "https://localhost:8080/"
        },
        "id": "3Hvb8jIxF63F",
        "outputId": "4a1b5f05-4651-49c2-c254-2ea7906eda0b"
      },
      "execution_count": 23,
      "outputs": [
        {
          "output_type": "execute_result",
          "data": {
            "text/plain": [
              "((2224, 7), (2224, 1))"
            ]
          },
          "metadata": {},
          "execution_count": 23
        }
      ]
    },
    {
      "cell_type": "code",
      "source": [
        "# def make_windows_tf(input_list, window_size, horizon):\n",
        "#   input_dataset = tf.keras.preprocessing.timeseries_dataset_from_array(\n",
        "#       data = input_list[:-horizon],\n",
        "#       targets = None,\n",
        "#       sequence_length=window_size,\n",
        "#       batch_size=128)\n",
        "#   target_dataset = tf.keras.preprocessing.timeseries_dataset_from_array(\n",
        "#       data = input_list[window_size:],\n",
        "#       targets = None,\n",
        "#       sequence_length=horizon,\n",
        "#       batch_size=128)\n",
        "#   dataset = tf.data.Dataset.zip((input_dataset, target_dataset))\n",
        "#   return dataset"
      ],
      "metadata": {
        "id": "LSbKuFnm-aSf"
      },
      "execution_count": 24,
      "outputs": []
    },
    {
      "cell_type": "code",
      "source": [
        "# train_ds = make_windows_tf(y_train, WIN_SIZE, HORIZON).shuffle(buffer_size=10000).prefetch(tf.data.AUTOTUNE)\n",
        "# test_ds = make_windows_tf(y_test, WIN_SIZE, HORIZON)"
      ],
      "metadata": {
        "id": "H2rk9kTO4DIe"
      },
      "execution_count": 25,
      "outputs": []
    },
    {
      "cell_type": "code",
      "source": [
        "# it = iter(train_ds)\n",
        "# it.next()"
      ],
      "metadata": {
        "id": "KWZSrJLA57Zm"
      },
      "execution_count": 26,
      "outputs": []
    },
    {
      "cell_type": "markdown",
      "source": [
        "##Create model checkpoint callbacks"
      ],
      "metadata": {
        "id": "754pxPYQRNYD"
      }
    },
    {
      "cell_type": "code",
      "source": [
        "import os"
      ],
      "metadata": {
        "id": "fheKgP0hRSyy"
      },
      "execution_count": 27,
      "outputs": []
    },
    {
      "cell_type": "code",
      "source": [
        "def create_model_checkpoint(model_name, save_path=\"model_checkpoints\"):\n",
        "  return tf.keras.callbacks.ModelCheckpoint(filepath=os.path.join(save_path, model_name), \n",
        "                                            verbose=0, \n",
        "                                            save_weights_only=True,\n",
        "                                            save_best_only=True) "
      ],
      "metadata": {
        "id": "0Cu5zpqrRPwp"
      },
      "execution_count": 28,
      "outputs": []
    },
    {
      "cell_type": "code",
      "source": [
        "from tensorflow.keras import layers\n",
        "\n",
        "inputs = layers.Input(shape=(WIN_SIZE,), dtype=tf.float64)\n",
        "x = layers.Dense(128, activation='relu')(inputs)\n",
        "outputs = layers.Dense(HORIZON)(x)\n",
        "\n",
        "model_1 = tf.keras.Model(inputs, outputs, name='model_1_dense')"
      ],
      "metadata": {
        "id": "lKE3hw53RoH7"
      },
      "execution_count": 29,
      "outputs": []
    },
    {
      "cell_type": "markdown",
      "source": [
        "##Fit model_1"
      ],
      "metadata": {
        "id": "Exv4_JGIC_29"
      }
    },
    {
      "cell_type": "code",
      "source": [
        "model_1.compile(loss=tf.keras.losses.mae,\n",
        "                optimizer=tf.keras.optimizers.Adam(),\n",
        "                metrics=['mae', 'mse'])"
      ],
      "metadata": {
        "id": "0Cb9ot_BTBJf"
      },
      "execution_count": 30,
      "outputs": []
    },
    {
      "cell_type": "code",
      "source": [
        "history_1 = model_1.fit(train_windows,\n",
        "                        train_labels,\n",
        "                        epochs=100,\n",
        "                        batch_size=128,\n",
        "                        validation_data=(test_windows, test_labels),\n",
        "                        callbacks=[create_model_checkpoint(model_name=model_1.name)])"
      ],
      "metadata": {
        "id": "iXfkTUvlTYGn"
      },
      "execution_count": null,
      "outputs": []
    },
    {
      "cell_type": "code",
      "source": [
        "# history_1 = model_1.fit(train_ds,\n",
        "#                         epochs=100,\n",
        "#                         validation_data=test_ds,\n",
        "#                         callbacks=[create_model_checkpoint(model_name=model_1.name)])"
      ],
      "metadata": {
        "id": "oKvrdE_H8mvF"
      },
      "execution_count": 32,
      "outputs": []
    },
    {
      "cell_type": "code",
      "source": [
        "model_1.load_weights(\"model_checkpoints/model_1_dense\")\n",
        "model_1.compile(loss=tf.keras.losses.mae,\n",
        "                optimizer=tf.keras.optimizers.Adam(),\n",
        "                metrics=['mae', 'mse'])\n",
        "model_1.evaluate(test_windows, test_labels)"
      ],
      "metadata": {
        "colab": {
          "base_uri": "https://localhost:8080/"
        },
        "id": "Jme3eQ2xT9mF",
        "outputId": "541e9d76-9a53-47b0-ccda-7fcbc3df92f0"
      },
      "execution_count": 33,
      "outputs": [
        {
          "output_type": "stream",
          "name": "stdout",
          "text": [
            "18/18 [==============================] - 0s 2ms/step - loss: 568.5499 - mae: 568.5499 - mse: 1172587.7500\n"
          ]
        },
        {
          "output_type": "execute_result",
          "data": {
            "text/plain": [
              "[568.5498657226562, 568.5498657226562, 1172587.75]"
            ]
          },
          "metadata": {},
          "execution_count": 33
        }
      ]
    },
    {
      "cell_type": "code",
      "source": [
        "test_labels = tf.cast(test_labels, tf.float32)\n",
        "test_labels = tf.squeeze(test_labels)\n",
        "\n",
        "y_pred_1 = model_1.predict(test_windows)\n",
        "y_pred_1 = tf.squeeze(y_pred_1)"
      ],
      "metadata": {
        "id": "iLIbe1IPw2sA"
      },
      "execution_count": 34,
      "outputs": []
    },
    {
      "cell_type": "code",
      "source": [
        "model_1_results = evaluate_preds(y_true = test_labels,\n",
        "                                 y_pred = y_pred_1)"
      ],
      "metadata": {
        "id": "IZJ9oWU7Wb3y"
      },
      "execution_count": 35,
      "outputs": []
    },
    {
      "cell_type": "code",
      "source": [
        "offset = 300\n",
        "plt.figure(figsize=(10, 7))\n",
        "#plot_time_series(X_test, y_test, start=offset, format='.', label='Test')\n",
        "plot_time_series(X_test[-len(test_labels):], test_labels, start=offset, label=\"Test_data\")\n",
        "plot_time_series(X_test[-len(test_labels):], y_pred_1, start=offset, format='-', label='Dense Model 1')"
      ],
      "metadata": {
        "id": "LGup_tu5tk04",
        "colab": {
          "base_uri": "https://localhost:8080/",
          "height": 442
        },
        "outputId": "8dffc1a5-ade2-49dd-d114-47de38ada6e1"
      },
      "execution_count": 38,
      "outputs": [
        {
          "output_type": "display_data",
          "data": {
            "text/plain": [
              "<Figure size 720x504 with 1 Axes>"
            ],
            "image/png": "[encoded data removed]"
          },
          "metadata": {
            "needs_background": "light"
          }
        }
      ]
    },
    {
      "cell_type": "code",
      "source": [
        "test_labels.shape, y_pred_1.shape"
      ],
      "metadata": {
        "id": "Ufwfr2rruQAI",
        "colab": {
          "base_uri": "https://localhost:8080/"
        },
        "outputId": "cc206662-dcf5-4c22-d54b-afd99734922b"
      },
      "execution_count": 39,
      "outputs": [
        {
          "output_type": "execute_result",
          "data": {
            "text/plain": [
              "(TensorShape([556]), TensorShape([556]))"
            ]
          },
          "metadata": {},
          "execution_count": 39
        }
      ]
    },
    {
      "cell_type": "markdown",
      "source": [
        "#Model 2: Dense model (window = 30, horizon = 1)"
      ],
      "metadata": {
        "id": "Yn-krHh_gaF9"
      }
    },
    {
      "cell_type": "code",
      "source": [
        "WIN_SIZE = 30\n",
        "HORIZON = 1"
      ],
      "metadata": {
        "id": "Xh4MTbGYoO3S"
      },
      "execution_count": null,
      "outputs": []
    },
    {
      "cell_type": "code",
      "source": [
        "full_windows, full_labels = make_windows(price_list, window_size=WIN_SIZE, horizon=HORIZON)\n",
        "train_windows, test_windows, train_labels, test_labels = make_train_test_splits(full_windows, full_labels)"
      ],
      "metadata": {
        "id": "Ep1kbFA5oRhu"
      },
      "execution_count": null,
      "outputs": []
    },
    {
      "cell_type": "code",
      "source": [
        "from tensorflow.keras import layers\n",
        "\n",
        "inputs = layers.Input(shape=(WIN_SIZE,), dtype=tf.float64)\n",
        "x = layers.Dense(128, activation='relu')(inputs)\n",
        "outputs = layers.Dense(HORIZON)(x)\n",
        "\n",
        "model_2 = tf.keras.Model(inputs, outputs, name='model_2_dense')"
      ],
      "metadata": {
        "id": "A3-6Ah84oT-o"
      },
      "execution_count": null,
      "outputs": []
    },
    {
      "cell_type": "code",
      "source": [
        "model_2.compile(loss=tf.keras.losses.mae,\n",
        "                optimizer=tf.keras.optimizers.Adam(),\n",
        "                metrics=['mae', 'mse'])"
      ],
      "metadata": {
        "id": "adnQg6AfocSm"
      },
      "execution_count": null,
      "outputs": []
    },
    {
      "cell_type": "code",
      "source": [
        "history_2 = model_2.fit(train_windows,\n",
        "                        train_labels,\n",
        "                        epochs=100,\n",
        "                        batch_size=128,\n",
        "                        validation_data=(test_windows, test_labels),\n",
        "                        callbacks=[create_model_checkpoint(model_name=model_2.name)])"
      ],
      "metadata": {
        "id": "kD6RSXq8oeff"
      },
      "execution_count": null,
      "outputs": []
    },
    {
      "cell_type": "code",
      "source": [
        "model_2.load_weights(\"model_checkpoints/model_2_dense\")\n",
        "model_2.compile(loss=tf.keras.losses.mae,\n",
        "                optimizer=tf.keras.optimizers.Adam(),\n",
        "                metrics=['mae', 'mse'])\n",
        "model_2.evaluate(test_windows, test_labels)"
      ],
      "metadata": {
        "colab": {
          "base_uri": "https://localhost:8080/"
        },
        "id": "eXTaZm0kojLy",
        "outputId": "22b223d5-c11f-496e-cb3b-cdd098d5b8fd"
      },
      "execution_count": null,
      "outputs": [
        {
          "output_type": "stream",
          "name": "stdout",
          "text": [
            "18/18 [==============================] - 0s 2ms/step - loss: 591.4724 - mae: 591.4724 - mse: 1202957.1250\n"
          ]
        },
        {
          "output_type": "execute_result",
          "data": {
            "text/plain": [
              "[591.4723510742188, 591.4723510742188, 1202957.125]"
            ]
          },
          "metadata": {},
          "execution_count": 412
        }
      ]
    },
    {
      "cell_type": "code",
      "source": [
        "test_labels = tf.cast(test_labels, tf.float32)\n",
        "test_labels = tf.squeeze(test_labels)\n",
        "\n",
        "y_pred_2 = model_2.predict(test_windows)\n",
        "y_pred_2 = tf.squeeze(y_pred_2)"
      ],
      "metadata": {
        "id": "qKkCqSSiooVr"
      },
      "execution_count": null,
      "outputs": []
    },
    {
      "cell_type": "code",
      "source": [
        "model_2_results = evaluate_preds(y_true = tf.squeeze(test_labels),\n",
        "                                 y_pred = tf.squeeze(y_pred_2))"
      ],
      "metadata": {
        "id": "Cflsli_H-Bif"
      },
      "execution_count": null,
      "outputs": []
    },
    {
      "cell_type": "code",
      "source": [
        "offsoffset = 300\n",
        "plt.figure(figsize=(10, 7))\n",
        "plot_time_series(X_test[-len(test_labels):], test_labels, start=offset, format='.', label='Test')\n",
        "plot_time_series(X_test[-len(test_labels):], y_pred_2, start=offset, format='-', label='Dense Model 2')"
      ],
      "metadata": {
        "colab": {
          "base_uri": "https://localhost:8080/",
          "height": 442
        },
        "id": "lCHA8llP-FZs",
        "outputId": "1d9f550c-4109-4251-a57f-e1756f153f78"
      },
      "execution_count": null,
      "outputs": [
        {
          "output_type": "display_data",
          "data": {
            "text/plain": [
              "<Figure size 720x504 with 1 Axes>"
            ],
            "image/png": "[encoded data removed]"
          },
          "metadata": {
            "needs_background": "light"
          }
        }
      ]
    },
    {
      "cell_type": "markdown",
      "source": [
        "#Model 3: Dense model (window = 30, horizon = 7)"
      ],
      "metadata": {
        "id": "JGbT2ltcou37"
      }
    },
    {
      "cell_type": "code",
      "source": [
        "WIN_SIZE = 30\n",
        "HORIZON = 7"
      ],
      "metadata": {
        "id": "U4LE8ciZpZUv"
      },
      "execution_count": null,
      "outputs": []
    },
    {
      "cell_type": "code",
      "source": [
        "full_windows, full_labels = make_windows(price_list, window_size=WIN_SIZE, horizon=HORIZON)\n",
        "train_windows, test_windows, train_labels, test_labels = make_train_test_splits(full_windows, full_labels)"
      ],
      "metadata": {
        "id": "7Z7ecXiApbsS"
      },
      "execution_count": null,
      "outputs": []
    },
    {
      "cell_type": "code",
      "source": [
        "train_windows[:3], train_labels[:3]"
      ],
      "metadata": {
        "colab": {
          "base_uri": "https://localhost:8080/"
        },
        "id": "hm5NWvt8peMV",
        "outputId": "d68a1790-6eb1-4d63-999f-7691d5650110"
      },
      "execution_count": null,
      "outputs": [
        {
          "output_type": "execute_result",
          "data": {
            "text/plain": [
              "(array([[123.65499, 125.455  , 108.58483, 118.67466, 121.33866, 120.65533,\n",
              "         121.795  , 123.033  , 124.049  , 125.96116, 125.27966, 125.9275 ,\n",
              "         126.38333, 135.24199, 133.20333, 142.76333, 137.92333, 142.95166,\n",
              "         152.55183, 160.33883, 164.31499, 177.63333, 188.29716, 200.70166,\n",
              "         180.355  , 175.03166, 177.6965 , 187.15983, 192.75666, 197.4    ],\n",
              "        [125.455  , 108.58483, 118.67466, 121.33866, 120.65533, 121.795  ,\n",
              "         123.033  , 124.049  , 125.96116, 125.27966, 125.9275 , 126.38333,\n",
              "         135.24199, 133.20333, 142.76333, 137.92333, 142.95166, 152.55183,\n",
              "         160.33883, 164.31499, 177.63333, 188.29716, 200.70166, 180.355  ,\n",
              "         175.03166, 177.6965 , 187.15983, 192.75666, 197.4    , 196.02499],\n",
              "        [108.58483, 118.67466, 121.33866, 120.65533, 121.795  , 123.033  ,\n",
              "         124.049  , 125.96116, 125.27966, 125.9275 , 126.38333, 135.24199,\n",
              "         133.20333, 142.76333, 137.92333, 142.95166, 152.55183, 160.33883,\n",
              "         164.31499, 177.63333, 188.29716, 200.70166, 180.355  , 175.03166,\n",
              "         177.6965 , 187.15983, 192.75666, 197.4    , 196.02499, 198.04883]]),\n",
              " array([[196.02499, 198.04883, 198.93233, 200.543  , 210.3075 , 225.02   ,\n",
              "         248.25333],\n",
              "        [198.04883, 198.93233, 200.543  , 210.3075 , 225.02   , 248.25333,\n",
              "         262.32666],\n",
              "        [198.93233, 200.543  , 210.3075 , 225.02   , 248.25333, 262.32666,\n",
              "         294.48699]]))"
            ]
          },
          "metadata": {},
          "execution_count": 418
        }
      ]
    },
    {
      "cell_type": "code",
      "source": [
        "from tensorflow.keras import layers\n",
        "\n",
        "inputs = layers.Input(shape=(WIN_SIZE,), dtype=tf.float64)\n",
        "x = layers.Dense(128, activation='relu')(inputs)\n",
        "outputs = layers.Dense(HORIZON)(x)\n",
        "\n",
        "model_3 = tf.keras.Model(inputs, outputs, name='model_3_dense')"
      ],
      "metadata": {
        "id": "AeWeODaTpjME"
      },
      "execution_count": null,
      "outputs": []
    },
    {
      "cell_type": "code",
      "source": [
        "model_3.compile(loss=tf.keras.losses.mae,\n",
        "                optimizer=tf.keras.optimizers.Adam(),\n",
        "                metrics=['mae', 'mse'])"
      ],
      "metadata": {
        "id": "oun8R8vqpzmi"
      },
      "execution_count": null,
      "outputs": []
    },
    {
      "cell_type": "code",
      "source": [
        "history_3 = model_3.fit(train_windows,\n",
        "                        train_labels,\n",
        "                        epochs=100,\n",
        "                        batch_size=128,\n",
        "                        validation_data=(test_windows, test_labels),\n",
        "                        callbacks=[create_model_checkpoint(model_name=model_3.name)])"
      ],
      "metadata": {
        "id": "2DxIRYOQp2wl"
      },
      "execution_count": null,
      "outputs": []
    },
    {
      "cell_type": "code",
      "source": [
        "model_3.load_weights(\"model_checkpoints/model_3_dense\")\n",
        "model_3.compile(loss=tf.keras.losses.mae,\n",
        "                optimizer=tf.keras.optimizers.Adam(),\n",
        "                metrics=['mae', 'mse'])\n",
        "model_3.evaluate(test_windows, test_labels)"
      ],
      "metadata": {
        "colab": {
          "base_uri": "https://localhost:8080/"
        },
        "id": "_jhhoOxOp6Pc",
        "outputId": "0bcebb68-544d-4038-b141-5c8c9293093b"
      },
      "execution_count": null,
      "outputs": [
        {
          "output_type": "stream",
          "name": "stdout",
          "text": [
            "18/18 [==============================] - 0s 2ms/step - loss: 1247.9972 - mae: 1247.9972 - mse: 5503063.0000\n"
          ]
        },
        {
          "output_type": "execute_result",
          "data": {
            "text/plain": [
              "[1247.9971923828125, 1247.9971923828125, 5503063.0]"
            ]
          },
          "metadata": {},
          "execution_count": 422
        }
      ]
    },
    {
      "cell_type": "code",
      "source": [
        "y_pred_3 = model_3.predict(test_windows)\n",
        "model_3_results = evaluate_preds(y_true = tf.squeeze(test_labels), \n",
        "                                 y_pred = tf.squeeze(y_pred_3))"
      ],
      "metadata": {
        "id": "gOT1cIcCqAKv"
      },
      "execution_count": null,
      "outputs": []
    },
    {
      "cell_type": "code",
      "source": [
        "offsoffset = 300\n",
        "plt.figure(figsize=(10, 7))\n",
        "plot_time_series(X_test[-len(test_labels):], test_labels[:, 0], start=offset, format='.', label='Test')\n",
        "plot_time_series(X_test[-len(test_labels):], tf.reduce_mean(y_pred_3, axis=1), start=offset, format='-', label='Dense Model 3')"
      ],
      "metadata": {
        "colab": {
          "base_uri": "https://localhost:8080/",
          "height": 442
        },
        "id": "rkx9GtJSsRXL",
        "outputId": "980c0d72-afc1-4056-eadc-869c47494f9b"
      },
      "execution_count": null,
      "outputs": [
        {
          "output_type": "display_data",
          "data": {
            "text/plain": [
              "<Figure size 720x504 with 1 Axes>"
            ],
            "image/png": "[encoded data removed]"
          },
          "metadata": {
            "needs_background": "light"
          }
        }
      ]
    },
    {
      "cell_type": "code",
      "source": [
        "import pandas as pd\n",
        "import matplotlib.pyplot as plt\n",
        "\n",
        "df = pd.DataFrame({'Naive Forcast': naive_results,\n",
        "                   'Model 1': model_1_results,\n",
        "                   'Model 2': model_2_results,\n",
        "                   'Model 3': model_3_results}).T\n",
        "df = df.drop('mse', 1)\n",
        "df.plot(kind='bar', logy=True)"
      ],
      "metadata": {
        "colab": {
          "base_uri": "https://localhost:8080/",
          "height": 396
        },
        "id": "FB7VJ6WH-4nZ",
        "outputId": "92425e43-3943-4cb5-8075-61472b664fba"
      },
      "execution_count": null,
      "outputs": [
        {
          "output_type": "stream",
          "name": "stderr",
          "text": [
            "/usr/local/lib/python3.7/dist-packages/ipykernel_launcher.py:8: FutureWarning: In a future version of pandas all arguments of DataFrame.drop except for the argument 'labels' will be keyword-only\n",
            "  \n"
          ]
        },
        {
          "output_type": "execute_result",
          "data": {
            "text/plain": [
              "<matplotlib.axes._subplots.AxesSubplot at 0x7fcae25d1dd0>"
            ]
          },
          "metadata": {},
          "execution_count": 440
        },
        {
          "output_type": "display_data",
          "data": {
            "text/plain": [
              "<Figure size 432x288 with 1 Axes>"
            ],
            "image/png": "[encoded data removed]"
          },
          "metadata": {
            "needs_background": "light"
          }
        }
      ]
    },
    {
      "cell_type": "markdown",
      "source": [
        "#Model 4: Conv1D model (window = 7, horizon = 1)"
      ],
      "metadata": {
        "id": "Om1rRJmDTXo2"
      }
    },
    {
      "cell_type": "code",
      "source": [
        "WIN_SIZE = 7\n",
        "HORIZON = 1"
      ],
      "metadata": {
        "id": "plJP6SlqqMuz"
      },
      "execution_count": null,
      "outputs": []
    },
    {
      "cell_type": "code",
      "source": [
        "full_windows, full_labels = make_windows(price_list, window_size=WIN_SIZE, horizon=HORIZON)\n",
        "train_windows, test_windows, train_labels, test_labels = make_train_test_splits(full_windows, full_labels)"
      ],
      "metadata": {
        "id": "yeog4YNgqTnV"
      },
      "execution_count": null,
      "outputs": []
    },
    {
      "cell_type": "code",
      "source": [
        "expand_dim_layer = layers.Lambda(lambda x: tf.expand_dims(x, axis=1))"
      ],
      "metadata": {
        "id": "XYVHej1eqj5U"
      },
      "execution_count": null,
      "outputs": []
    },
    {
      "cell_type": "code",
      "source": [
        "expand_dim_layer(train_windows[0])"
      ],
      "metadata": {
        "colab": {
          "base_uri": "https://localhost:8080/"
        },
        "id": "rwGyK29Yq_3v",
        "outputId": "2f6ae378-9f30-42a3-c0bc-839626590a85"
      },
      "execution_count": null,
      "outputs": [
        {
          "output_type": "execute_result",
          "data": {
            "text/plain": [
              "<tf.Tensor: shape=(7, 1), dtype=float32, numpy=\n",
              "array([[123.65499],\n",
              "       [125.455  ],\n",
              "       [108.58483],\n",
              "       [118.67466],\n",
              "       [121.33866],\n",
              "       [120.65533],\n",
              "       [121.795  ]], dtype=float32)>"
            ]
          },
          "metadata": {},
          "execution_count": 449
        }
      ]
    },
    {
      "cell_type": "code",
      "source": [
        "model_4 = tf.keras.Sequential([\n",
        "    layers.Lambda(lambda x: tf.expand_dims(x, axis=1)),\n",
        "    layers.Conv1D(filters=128, kernel_size=5, padding='causal', activation='relu'),\n",
        "    layers.Dense(HORIZON)\n",
        "], name='model_4_conv1D')"
      ],
      "metadata": {
        "id": "BwSrd71ErEOh"
      },
      "execution_count": null,
      "outputs": []
    },
    {
      "cell_type": "code",
      "source": [
        "model_4.compile(loss=tf.keras.losses.mae,\n",
        "                optimizer=tf.keras.optimizers.Adam())"
      ],
      "metadata": {
        "id": "MOMqLSvvsT9g"
      },
      "execution_count": null,
      "outputs": []
    },
    {
      "cell_type": "code",
      "source": [
        "history_4 = model_4.fit(train_windows, train_labels,\n",
        "                        validation_data=(test_windows, test_labels),\n",
        "                        epochs=100, batch_size=128,\n",
        "                        callbacks=[create_model_checkpoint(model_4.name)])"
      ],
      "metadata": {
        "id": "Qg6fTLebvDYa"
      },
      "execution_count": null,
      "outputs": []
    },
    {
      "cell_type": "code",
      "source": [
        "model_4.load_weights(\"model_checkpoints/model_4_conv1D\")\n",
        "model_4.compile(loss=tf.keras.losses.mae,\n",
        "                optimizer=tf.keras.optimizers.Adam(),\n",
        "                metrics=['mae', 'mse'])\n",
        "model_4.evaluate(test_windows, test_labels)"
      ],
      "metadata": {
        "colab": {
          "base_uri": "https://localhost:8080/"
        },
        "id": "GnvkURdCvemV",
        "outputId": "d599f454-8f51-404d-ad14-de568086b02b"
      },
      "execution_count": null,
      "outputs": [
        {
          "output_type": "stream",
          "name": "stdout",
          "text": [
            "18/18 [==============================] - 1s 5ms/step - loss: 566.6888 - mae: 566.6888 - mse: 1172699.5000\n"
          ]
        },
        {
          "output_type": "execute_result",
          "data": {
            "text/plain": [
              "[566.6888427734375, 566.6888427734375, 1172699.5]"
            ]
          },
          "metadata": {},
          "execution_count": 464
        }
      ]
    },
    {
      "cell_type": "code",
      "source": [
        "test_labels = tf.cast(test_labels, tf.float32)\n",
        "test_labels = tf.squeeze(test_labels)\n",
        "\n",
        "y_pred_4 = model_4.predict(test_windows)\n",
        "y_pred_4 = tf.squeeze(y_pred_4)"
      ],
      "metadata": {
        "id": "TgW-dO7nv6kj"
      },
      "execution_count": null,
      "outputs": []
    },
    {
      "cell_type": "code",
      "source": [
        "model_4_results = evaluate_preds(y_true = tf.squeeze(test_labels), \n",
        "                                 y_pred = tf.squeeze(y_pred_4))"
      ],
      "metadata": {
        "id": "Kg_0y3MEwNhT"
      },
      "execution_count": null,
      "outputs": []
    },
    {
      "cell_type": "code",
      "source": [
        "offsoffset = 300\n",
        "plt.figure(figsize=(10, 7))\n",
        "plot_time_series(X_test[-len(test_labels):], test_labels[:], start=offset, format='.', label='Test')\n",
        "plot_time_series(X_test[-len(test_labels):], y_pred_4, start=offset, format='-', label='Dense Model 4')"
      ],
      "metadata": {
        "colab": {
          "base_uri": "https://localhost:8080/",
          "height": 442
        },
        "id": "O16LGIwwwVK4",
        "outputId": "2baa5007-dd1e-4354-c2fe-53737d081c46"
      },
      "execution_count": null,
      "outputs": [
        {
          "output_type": "display_data",
          "data": {
            "text/plain": [
              "<Figure size 720x504 with 1 Axes>"
            ],
            "image/png": "[encoded data removed]"
          },
          "metadata": {
            "needs_background": "light"
          }
        }
      ]
    },
    {
      "cell_type": "markdown",
      "source": [
        "#Model 5: LSTM Model"
      ],
      "metadata": {
        "id": "zsXYxpSLwnUc"
      }
    },
    {
      "cell_type": "code",
      "source": [
        "inputs = layers.Input(shape=(WIN_SIZE))\n",
        "x = layers.Lambda(lambda x: tf.expand_dims(x, axis=1))(inputs)\n",
        "x = layers.LSTM(128, activation='relu')(x)\n",
        "outputs = layers.Dense(HORIZON)(x)\n",
        "\n",
        "model_5 = tf.keras.Model(inputs, outputs, name='model_5_LSTM')"
      ],
      "metadata": {
        "id": "IdkzKwGyzTOF"
      },
      "execution_count": null,
      "outputs": []
    },
    {
      "cell_type": "code",
      "source": [
        "model_5.compile(loss=tf.keras.losses.mae,\n",
        "                optimizer=tf.keras.optimizers.Adam())"
      ],
      "metadata": {
        "id": "ZSfUpBeVzmKH"
      },
      "execution_count": null,
      "outputs": []
    },
    {
      "cell_type": "code",
      "source": [
        "history_5 = model_5.fit(train_windows, train_labels,\n",
        "                        validation_data=(test_windows, test_labels),\n",
        "                        epochs=100, batch_size=128,\n",
        "                        callbacks=[create_model_checkpoint(model_5.name)])"
      ],
      "metadata": {
        "id": "k3kbPn_Nz9Nl"
      },
      "execution_count": null,
      "outputs": []
    },
    {
      "cell_type": "code",
      "source": [
        "model_5.load_weights(\"model_checkpoints/model_5_LSTM\")\n",
        "model_5.compile(loss=tf.keras.losses.mae,\n",
        "                optimizer=tf.keras.optimizers.Adam(),\n",
        "                metrics=['mae', 'mse'])\n",
        "model_5.evaluate(test_windows, test_labels)"
      ],
      "metadata": {
        "colab": {
          "base_uri": "https://localhost:8080/"
        },
        "id": "WxAUTrMK0RXb",
        "outputId": "5ee9cd41-9af9-469a-c893-1fc4f83cb7c2"
      },
      "execution_count": null,
      "outputs": [
        {
          "output_type": "stream",
          "name": "stdout",
          "text": [
            "18/18 [==============================] - 0s 3ms/step - loss: 593.9558 - mae: 593.9558 - mse: 1258652.5000\n"
          ]
        },
        {
          "output_type": "execute_result",
          "data": {
            "text/plain": [
              "[593.955810546875, 593.955810546875, 1258652.5]"
            ]
          },
          "metadata": {},
          "execution_count": 492
        }
      ]
    },
    {
      "cell_type": "code",
      "source": [
        "test_labels = tf.cast(test_labels, tf.float32)\n",
        "test_labels = tf.squeeze(test_labels)\n",
        "\n",
        "y_pred_5 = model_5.predict(test_windows)\n",
        "y_pred_5 = tf.squeeze(y_pred_5)"
      ],
      "metadata": {
        "id": "DMeQxmoL0Euw"
      },
      "execution_count": null,
      "outputs": []
    },
    {
      "cell_type": "code",
      "source": [
        "model_5_results = evaluate_preds(y_true = tf.squeeze(test_labels), \n",
        "                                 y_pred = tf.squeeze(y_pred_5))"
      ],
      "metadata": {
        "id": "ZIixpLvF0LHJ"
      },
      "execution_count": null,
      "outputs": []
    },
    {
      "cell_type": "code",
      "source": [
        "offsoffset = 300\n",
        "plt.figure(figsize=(10, 7))\n",
        "plot_time_series(X_test[-len(test_labels):], test_labels[:], start=offset, format='.', label='Test')\n",
        "plot_time_series(X_test[-len(test_labels):], y_pred_5, start=offset, format='-', label='Dense Model 5')"
      ],
      "metadata": {
        "colab": {
          "base_uri": "https://localhost:8080/",
          "height": 442
        },
        "id": "DunAH8sI0bUm",
        "outputId": "4236bc22-becd-46c3-d93b-e9e1ec69aafe"
      },
      "execution_count": null,
      "outputs": [
        {
          "output_type": "display_data",
          "data": {
            "text/plain": [
              "<Figure size 720x504 with 1 Axes>"
            ],
            "image/png": "[encoded data removed]"
          },
          "metadata": {
            "needs_background": "light"
          }
        }
      ]
    },
    {
      "cell_type": "markdown",
      "source": [
        "#Create windowed data by pandas DataFrame shift"
      ],
      "metadata": {
        "id": "g6tshnmBDueu"
      }
    },
    {
      "cell_type": "code",
      "source": [
        "windowed_data_df = data_df.copy()"
      ],
      "metadata": {
        "id": "HQVC6R-4DGuF"
      },
      "execution_count": 40,
      "outputs": []
    },
    {
      "cell_type": "code",
      "source": [
        "for i in range(WIN_SIZE):\n",
        "  windowed_data_df[f'Price+{i+1}'] = windowed_data_df['Closing Price (USD)'].shift(periods=i+1, axis=0)\n",
        "windowed_data_df = windowed_data_df.dropna()"
      ],
      "metadata": {
        "id": "DTqcDABOD6Ex"
      },
      "execution_count": 41,
      "outputs": []
    },
    {
      "cell_type": "code",
      "source": [
        "windowed_data_df"
      ],
      "metadata": {
        "colab": {
          "base_uri": "https://localhost:8080/",
          "height": 455
        },
        "id": "_7Vdzd6yENiq",
        "outputId": "2e6350c9-eed6-493c-8c8d-1f37a4a3c2bf"
      },
      "execution_count": 42,
      "outputs": [
        {
          "output_type": "execute_result",
          "data": {
            "text/plain": [
              "            Closing Price (USD)       Price+1       Price+2       Price+3  \\\n",
              "Date                                                                        \n",
              "2013-10-08           123.033000    121.795000    120.655330    121.338660   \n",
              "2013-10-09           124.049000    123.033000    121.795000    120.655330   \n",
              "2013-10-10           125.961160    124.049000    123.033000    121.795000   \n",
              "2013-10-11           125.279660    125.961160    124.049000    123.033000   \n",
              "2013-10-12           125.927500    125.279660    125.961160    124.049000   \n",
              "...                         ...           ...           ...           ...   \n",
              "2021-05-14         49764.132082  52147.821187  56573.555472  55715.546651   \n",
              "2021-05-15         50032.693137  49764.132082  52147.821187  56573.555472   \n",
              "2021-05-16         47885.625255  50032.693137  49764.132082  52147.821187   \n",
              "2021-05-17         45604.615754  47885.625255  50032.693137  49764.132082   \n",
              "2021-05-18         43144.471291  45604.615754  47885.625255  50032.693137   \n",
              "\n",
              "                 Price+4       Price+5       Price+6       Price+7  \n",
              "Date                                                                \n",
              "2013-10-08    118.674660    108.584830    125.455000    123.654990  \n",
              "2013-10-09    121.338660    118.674660    108.584830    125.455000  \n",
              "2013-10-10    120.655330    121.338660    118.674660    108.584830  \n",
              "2013-10-11    121.795000    120.655330    121.338660    118.674660  \n",
              "2013-10-12    123.033000    121.795000    120.655330    121.338660  \n",
              "...                  ...           ...           ...           ...  \n",
              "2021-05-14  58102.191426  58788.209679  57107.120672  56583.849879  \n",
              "2021-05-15  55715.546651  58102.191426  58788.209679  57107.120672  \n",
              "2021-05-16  56573.555472  55715.546651  58102.191426  58788.209679  \n",
              "2021-05-17  52147.821187  56573.555472  55715.546651  58102.191426  \n",
              "2021-05-18  49764.132082  52147.821187  56573.555472  55715.546651  \n",
              "\n",
              "[2780 rows x 8 columns]"
            ],
            "text/html": [
              "\n",
              "  <div id=\"df-e1c2b9ce-3a4c-4a80-b41a-3b1814ad7722\">\n",
              "    <div class=\"colab-df-container\">\n",
              "      <div>\n",
              "<style scoped>\n",
              "    .dataframe tbody tr th:only-of-type {\n",
              "        vertical-align: middle;\n",
              "    }\n",
              "\n",
              "    .dataframe tbody tr th {\n",
              "        vertical-align: top;\n",
              "    }\n",
              "\n",
              "    .dataframe thead th {\n",
              "        text-align: right;\n",
              "    }\n",
              "</style>\n",
              "<table border=\"1\" class=\"dataframe\">\n",
              "  <thead>\n",
              "    <tr style=\"text-align: right;\">\n",
              "      <th></th>\n",
              "      <th>Closing Price (USD)</th>\n",
              "      <th>Price+1</th>\n",
              "      <th>Price+2</th>\n",
              "      <th>Price+3</th>\n",
              "      <th>Price+4</th>\n",
              "      <th>Price+5</th>\n",
              "      <th>Price+6</th>\n",
              "      <th>Price+7</th>\n",
              "    </tr>\n",
              "    <tr>\n",
              "      <th>Date</th>\n",
              "      <th></th>\n",
              "      <th></th>\n",
              "      <th></th>\n",
              "      <th></th>\n",
              "      <th></th>\n",
              "      <th></th>\n",
              "      <th></th>\n",
              "      <th></th>\n",
              "    </tr>\n",
              "  </thead>\n",
              "  <tbody>\n",
              "    <tr>\n",
              "      <th>2013-10-08</th>\n",
              "      <td>123.033000</td>\n",
              "      <td>121.795000</td>\n",
              "      <td>120.655330</td>\n",
              "      <td>121.338660</td>\n",
              "      <td>118.674660</td>\n",
              "      <td>108.584830</td>\n",
              "      <td>125.455000</td>\n",
              "      <td>123.654990</td>\n",
              "    </tr>\n",
              "    <tr>\n",
              "      <th>2013-10-09</th>\n",
              "      <td>124.049000</td>\n",
              "      <td>123.033000</td>\n",
              "      <td>121.795000</td>\n",
              "      <td>120.655330</td>\n",
              "      <td>121.338660</td>\n",
              "      <td>118.674660</td>\n",
              "      <td>108.584830</td>\n",
              "      <td>125.455000</td>\n",
              "    </tr>\n",
              "    <tr>\n",
              "      <th>2013-10-10</th>\n",
              "      <td>125.961160</td>\n",
              "      <td>124.049000</td>\n",
              "      <td>123.033000</td>\n",
              "      <td>121.795000</td>\n",
              "      <td>120.655330</td>\n",
              "      <td>121.338660</td>\n",
              "      <td>118.674660</td>\n",
              "      <td>108.584830</td>\n",
              "    </tr>\n",
              "    <tr>\n",
              "      <th>2013-10-11</th>\n",
              "      <td>125.279660</td>\n",
              "      <td>125.961160</td>\n",
              "      <td>124.049000</td>\n",
              "      <td>123.033000</td>\n",
              "      <td>121.795000</td>\n",
              "      <td>120.655330</td>\n",
              "      <td>121.338660</td>\n",
              "      <td>118.674660</td>\n",
              "    </tr>\n",
              "    <tr>\n",
              "      <th>2013-10-12</th>\n",
              "      <td>125.927500</td>\n",
              "      <td>125.279660</td>\n",
              "      <td>125.961160</td>\n",
              "      <td>124.049000</td>\n",
              "      <td>123.033000</td>\n",
              "      <td>121.795000</td>\n",
              "      <td>120.655330</td>\n",
              "      <td>121.338660</td>\n",
              "    </tr>\n",
              "    <tr>\n",
              "      <th>...</th>\n",
              "      <td>...</td>\n",
              "      <td>...</td>\n",
              "      <td>...</td>\n",
              "      <td>...</td>\n",
              "      <td>...</td>\n",
              "      <td>...</td>\n",
              "      <td>...</td>\n",
              "      <td>...</td>\n",
              "    </tr>\n",
              "    <tr>\n",
              "      <th>2021-05-14</th>\n",
              "      <td>49764.132082</td>\n",
              "      <td>52147.821187</td>\n",
              "      <td>56573.555472</td>\n",
              "      <td>55715.546651</td>\n",
              "      <td>58102.191426</td>\n",
              "      <td>58788.209679</td>\n",
              "      <td>57107.120672</td>\n",
              "      <td>56583.849879</td>\n",
              "    </tr>\n",
              "    <tr>\n",
              "      <th>2021-05-15</th>\n",
              "      <td>50032.693137</td>\n",
              "      <td>49764.132082</td>\n",
              "      <td>52147.821187</td>\n",
              "      <td>56573.555472</td>\n",
              "      <td>55715.546651</td>\n",
              "      <td>58102.191426</td>\n",
              "      <td>58788.209679</td>\n",
              "      <td>57107.120672</td>\n",
              "    </tr>\n",
              "    <tr>\n",
              "      <th>2021-05-16</th>\n",
              "      <td>47885.625255</td>\n",
              "      <td>50032.693137</td>\n",
              "      <td>49764.132082</td>\n",
              "      <td>52147.821187</td>\n",
              "      <td>56573.555472</td>\n",
              "      <td>55715.546651</td>\n",
              "      <td>58102.191426</td>\n",
              "      <td>58788.209679</td>\n",
              "    </tr>\n",
              "    <tr>\n",
              "      <th>2021-05-17</th>\n",
              "      <td>45604.615754</td>\n",
              "      <td>47885.625255</td>\n",
              "      <td>50032.693137</td>\n",
              "      <td>49764.132082</td>\n",
              "      <td>52147.821187</td>\n",
              "      <td>56573.555472</td>\n",
              "      <td>55715.546651</td>\n",
              "      <td>58102.191426</td>\n",
              "    </tr>\n",
              "    <tr>\n",
              "      <th>2021-05-18</th>\n",
              "      <td>43144.471291</td>\n",
              "      <td>45604.615754</td>\n",
              "      <td>47885.625255</td>\n",
              "      <td>50032.693137</td>\n",
              "      <td>49764.132082</td>\n",
              "      <td>52147.821187</td>\n",
              "      <td>56573.555472</td>\n",
              "      <td>55715.546651</td>\n",
              "    </tr>\n",
              "  </tbody>\n",
              "</table>\n",
              "<p>2780 rows × 8 columns</p>\n",
              "</div>\n",
              "      <button class=\"colab-df-convert\" onclick=\"convertToInteractive('df-e1c2b9ce-3a4c-4a80-b41a-3b1814ad7722')\"\n",
              "              title=\"Convert this dataframe to an interactive table.\"\n",
              "              style=\"display:none;\">\n",
              "        \n",
              "  <svg xmlns=\"http://www.w3.org/2000/svg\" height=\"24px\"viewBox=\"0 0 24 24\"\n",
              "       width=\"24px\">\n",
              "    <path d=\"M0 0h24v24H0V0z\" fill=\"none\"/>\n",
              "    <path d=\"M18.56 5.44l.94 2.06.94-2.06 2.06-.94-2.06-.94-.94-2.06-.94 2.06-2.06.94zm-11 1L8.5 8.5l.94-2.06 2.06-.94-2.06-.94L8.5 2.5l-.94 2.06-2.06.94zm10 10l.94 2.06.94-2.06 2.06-.94-2.06-.94-.94-2.06-.94 2.06-2.06.94z\"/><path d=\"M17.41 7.96l-1.37-1.37c-.4-.4-.92-.59-1.43-.59-.52 0-1.04.2-1.43.59L10.3 9.45l-7.72 7.72c-.78.78-.78 2.05 0 2.83L4 21.41c.39.39.9.59 1.41.59.51 0 1.02-.2 1.41-.59l7.78-7.78 2.81-2.81c.8-.78.8-2.07 0-2.86zM5.41 20L4 18.59l7.72-7.72 1.47 1.35L5.41 20z\"/>\n",
              "  </svg>\n",
              "      </button>\n",
              "      \n",
              "  <style>\n",
              "    .colab-df-container {\n",
              "      display:flex;\n",
              "      flex-wrap:wrap;\n",
              "      gap: 12px;\n",
              "    }\n",
              "\n",
              "    .colab-df-convert {\n",
              "      background-color: #E8F0FE;\n",
              "      border: none;\n",
              "      border-radius: 50%;\n",
              "      cursor: pointer;\n",
              "      display: none;\n",
              "      fill: #1967D2;\n",
              "      height: 32px;\n",
              "      padding: 0 0 0 0;\n",
              "      width: 32px;\n",
              "    }\n",
              "\n",
              "    .colab-df-convert:hover {\n",
              "      background-color: #E2EBFA;\n",
              "      box-shadow: 0px 1px 2px rgba(60, 64, 67, 0.3), 0px 1px 3px 1px rgba(60, 64, 67, 0.15);\n",
              "      fill: #174EA6;\n",
              "    }\n",
              "\n",
              "    [theme=dark] .colab-df-convert {\n",
              "      background-color: #3B4455;\n",
              "      fill: #D2E3FC;\n",
              "    }\n",
              "\n",
              "    [theme=dark] .colab-df-convert:hover {\n",
              "      background-color: #434B5C;\n",
              "      box-shadow: 0px 1px 3px 1px rgba(0, 0, 0, 0.15);\n",
              "      filter: drop-shadow(0px 1px 2px rgba(0, 0, 0, 0.3));\n",
              "      fill: #FFFFFF;\n",
              "    }\n",
              "  </style>\n",
              "\n",
              "      <script>\n",
              "        const buttonEl =\n",
              "          document.querySelector('#df-e1c2b9ce-3a4c-4a80-b41a-3b1814ad7722 button.colab-df-convert');\n",
              "        buttonEl.style.display =\n",
              "          google.colab.kernel.accessAllowed ? 'block' : 'none';\n",
              "\n",
              "        async function convertToInteractive(key) {\n",
              "          const element = document.querySelector('#df-e1c2b9ce-3a4c-4a80-b41a-3b1814ad7722');\n",
              "          const dataTable =\n",
              "            await google.colab.kernel.invokeFunction('convertToInteractive',\n",
              "                                                     [key], {});\n",
              "          if (!dataTable) return;\n",
              "\n",
              "          const docLinkHtml = 'Like what you see? Visit the ' +\n",
              "            '<a target=\"_blank\" href=https://colab.research.google.com/notebooks/data_table.ipynb>data table notebook</a>'\n",
              "            + ' to learn more about interactive tables.';\n",
              "          element.innerHTML = '';\n",
              "          dataTable['output_type'] = 'display_data';\n",
              "          await google.colab.output.renderOutput(dataTable, element);\n",
              "          const docLink = document.createElement('div');\n",
              "          docLink.innerHTML = docLinkHtml;\n",
              "          element.appendChild(docLink);\n",
              "        }\n",
              "      </script>\n",
              "    </div>\n",
              "  </div>\n",
              "  "
            ]
          },
          "metadata": {},
          "execution_count": 42
        }
      ]
    },
    {
      "cell_type": "markdown",
      "source": [
        "#Model 6: Multivariate Model(Feature Engineering)"
      ],
      "metadata": {
        "id": "knTzRsIh0gq7"
      }
    },
    {
      "cell_type": "markdown",
      "source": [
        "##Add new feature block reward"
      ],
      "metadata": {
        "id": "mQcDD5lghvaV"
      }
    },
    {
      "cell_type": "code",
      "source": [
        "# Block reward values\n",
        "block_reward_1 = 50 # 3 January 2009 (2009-01-03) - this block reward isn't in our dataset (it starts from 01 October 2013)\n",
        "block_reward_2 = 25 # 28 November 2012 \n",
        "block_reward_3 = 12.5 # 9 July 2016\n",
        "block_reward_4 = 6.25 # 11 May 2020\n",
        "\n",
        "# Block reward dates (datetime form of the above date stamps)\n",
        "block_reward_2_datetime = np.datetime64(\"2012-11-28\")\n",
        "block_reward_3_datetime = np.datetime64(\"2016-07-09\")\n",
        "block_reward_4_datetime = np.datetime64(\"2020-05-11\")"
      ],
      "metadata": {
        "id": "F0jvF0-4BvK-"
      },
      "execution_count": 43,
      "outputs": []
    },
    {
      "cell_type": "code",
      "source": [
        "block_reward_2_days = (block_reward_3_datetime - windowed_data_df.index[0]).days\n",
        "block_reward_3_days = (block_reward_4_datetime - windowed_data_df.index[0]).days"
      ],
      "metadata": {
        "id": "ffsAGsZrDVDx"
      },
      "execution_count": 45,
      "outputs": []
    },
    {
      "cell_type": "code",
      "source": [
        "block_reward_2_days, block_reward_3_days"
      ],
      "metadata": {
        "colab": {
          "base_uri": "https://localhost:8080/"
        },
        "id": "6sE--cnchf6I",
        "outputId": "71214ee3-3af9-4b0a-ce7d-0b184753009f"
      },
      "execution_count": 46,
      "outputs": [
        {
          "output_type": "execute_result",
          "data": {
            "text/plain": [
              "(1005, 2407)"
            ]
          },
          "metadata": {},
          "execution_count": 46
        }
      ]
    },
    {
      "cell_type": "code",
      "source": [
        "windowed_data_df['block_reward'] = None\n",
        "\n",
        "windowed_data_df.iloc[: block_reward_2_days, -1] = block_reward_2\n",
        "windowed_data_df.iloc[block_reward_2_days:block_reward_3_days, -1] = block_reward_3\n",
        "windowed_data_df.iloc[block_reward_3_days:, -1] = block_reward_4"
      ],
      "metadata": {
        "id": "zbQrLQenhtEG"
      },
      "execution_count": 49,
      "outputs": []
    },
    {
      "cell_type": "code",
      "source": [
        "windowed_data_df"
      ],
      "metadata": {
        "colab": {
          "base_uri": "https://localhost:8080/",
          "height": 455
        },
        "id": "03-8yf-LlLQC",
        "outputId": "5ae41424-7b69-4223-ad9b-b566e4c4052d"
      },
      "execution_count": 51,
      "outputs": [
        {
          "output_type": "execute_result",
          "data": {
            "text/plain": [
              "            Closing Price (USD)       Price+1       Price+2       Price+3  \\\n",
              "Date                                                                        \n",
              "2013-10-08           123.033000    121.795000    120.655330    121.338660   \n",
              "2013-10-09           124.049000    123.033000    121.795000    120.655330   \n",
              "2013-10-10           125.961160    124.049000    123.033000    121.795000   \n",
              "2013-10-11           125.279660    125.961160    124.049000    123.033000   \n",
              "2013-10-12           125.927500    125.279660    125.961160    124.049000   \n",
              "...                         ...           ...           ...           ...   \n",
              "2021-05-14         49764.132082  52147.821187  56573.555472  55715.546651   \n",
              "2021-05-15         50032.693137  49764.132082  52147.821187  56573.555472   \n",
              "2021-05-16         47885.625255  50032.693137  49764.132082  52147.821187   \n",
              "2021-05-17         45604.615754  47885.625255  50032.693137  49764.132082   \n",
              "2021-05-18         43144.471291  45604.615754  47885.625255  50032.693137   \n",
              "\n",
              "                 Price+4       Price+5       Price+6       Price+7  \\\n",
              "Date                                                                 \n",
              "2013-10-08    118.674660    108.584830    125.455000    123.654990   \n",
              "2013-10-09    121.338660    118.674660    108.584830    125.455000   \n",
              "2013-10-10    120.655330    121.338660    118.674660    108.584830   \n",
              "2013-10-11    121.795000    120.655330    121.338660    118.674660   \n",
              "2013-10-12    123.033000    121.795000    120.655330    121.338660   \n",
              "...                  ...           ...           ...           ...   \n",
              "2021-05-14  58102.191426  58788.209679  57107.120672  56583.849879   \n",
              "2021-05-15  55715.546651  58102.191426  58788.209679  57107.120672   \n",
              "2021-05-16  56573.555472  55715.546651  58102.191426  58788.209679   \n",
              "2021-05-17  52147.821187  56573.555472  55715.546651  58102.191426   \n",
              "2021-05-18  49764.132082  52147.821187  56573.555472  55715.546651   \n",
              "\n",
              "           block_reward  \n",
              "Date                     \n",
              "2013-10-08           25  \n",
              "2013-10-09           25  \n",
              "2013-10-10           25  \n",
              "2013-10-11           25  \n",
              "2013-10-12           25  \n",
              "...                 ...  \n",
              "2021-05-14         6.25  \n",
              "2021-05-15         6.25  \n",
              "2021-05-16         6.25  \n",
              "2021-05-17         6.25  \n",
              "2021-05-18         6.25  \n",
              "\n",
              "[2780 rows x 9 columns]"
            ],
            "text/html": [
              "\n",
              "  <div id=\"df-10d8a2a3-054d-42ef-af9b-4f8410ce8797\">\n",
              "    <div class=\"colab-df-container\">\n",
              "      <div>\n",
              "<style scoped>\n",
              "    .dataframe tbody tr th:only-of-type {\n",
              "        vertical-align: middle;\n",
              "    }\n",
              "\n",
              "    .dataframe tbody tr th {\n",
              "        vertical-align: top;\n",
              "    }\n",
              "\n",
              "    .dataframe thead th {\n",
              "        text-align: right;\n",
              "    }\n",
              "</style>\n",
              "<table border=\"1\" class=\"dataframe\">\n",
              "  <thead>\n",
              "    <tr style=\"text-align: right;\">\n",
              "      <th></th>\n",
              "      <th>Closing Price (USD)</th>\n",
              "      <th>Price+1</th>\n",
              "      <th>Price+2</th>\n",
              "      <th>Price+3</th>\n",
              "      <th>Price+4</th>\n",
              "      <th>Price+5</th>\n",
              "      <th>Price+6</th>\n",
              "      <th>Price+7</th>\n",
              "      <th>block_reward</th>\n",
              "    </tr>\n",
              "    <tr>\n",
              "      <th>Date</th>\n",
              "      <th></th>\n",
              "      <th></th>\n",
              "      <th></th>\n",
              "      <th></th>\n",
              "      <th></th>\n",
              "      <th></th>\n",
              "      <th></th>\n",
              "      <th></th>\n",
              "      <th></th>\n",
              "    </tr>\n",
              "  </thead>\n",
              "  <tbody>\n",
              "    <tr>\n",
              "      <th>2013-10-08</th>\n",
              "      <td>123.033000</td>\n",
              "      <td>121.795000</td>\n",
              "      <td>120.655330</td>\n",
              "      <td>121.338660</td>\n",
              "      <td>118.674660</td>\n",
              "      <td>108.584830</td>\n",
              "      <td>125.455000</td>\n",
              "      <td>123.654990</td>\n",
              "      <td>25</td>\n",
              "    </tr>\n",
              "    <tr>\n",
              "      <th>2013-10-09</th>\n",
              "      <td>124.049000</td>\n",
              "      <td>123.033000</td>\n",
              "      <td>121.795000</td>\n",
              "      <td>120.655330</td>\n",
              "      <td>121.338660</td>\n",
              "      <td>118.674660</td>\n",
              "      <td>108.584830</td>\n",
              "      <td>125.455000</td>\n",
              "      <td>25</td>\n",
              "    </tr>\n",
              "    <tr>\n",
              "      <th>2013-10-10</th>\n",
              "      <td>125.961160</td>\n",
              "      <td>124.049000</td>\n",
              "      <td>123.033000</td>\n",
              "      <td>121.795000</td>\n",
              "      <td>120.655330</td>\n",
              "      <td>121.338660</td>\n",
              "      <td>118.674660</td>\n",
              "      <td>108.584830</td>\n",
              "      <td>25</td>\n",
              "    </tr>\n",
              "    <tr>\n",
              "      <th>2013-10-11</th>\n",
              "      <td>125.279660</td>\n",
              "      <td>125.961160</td>\n",
              "      <td>124.049000</td>\n",
              "      <td>123.033000</td>\n",
              "      <td>121.795000</td>\n",
              "      <td>120.655330</td>\n",
              "      <td>121.338660</td>\n",
              "      <td>118.674660</td>\n",
              "      <td>25</td>\n",
              "    </tr>\n",
              "    <tr>\n",
              "      <th>2013-10-12</th>\n",
              "      <td>125.927500</td>\n",
              "      <td>125.279660</td>\n",
              "      <td>125.961160</td>\n",
              "      <td>124.049000</td>\n",
              "      <td>123.033000</td>\n",
              "      <td>121.795000</td>\n",
              "      <td>120.655330</td>\n",
              "      <td>121.338660</td>\n",
              "      <td>25</td>\n",
              "    </tr>\n",
              "    <tr>\n",
              "      <th>...</th>\n",
              "      <td>...</td>\n",
              "      <td>...</td>\n",
              "      <td>...</td>\n",
              "      <td>...</td>\n",
              "      <td>...</td>\n",
              "      <td>...</td>\n",
              "      <td>...</td>\n",
              "      <td>...</td>\n",
              "      <td>...</td>\n",
              "    </tr>\n",
              "    <tr>\n",
              "      <th>2021-05-14</th>\n",
              "      <td>49764.132082</td>\n",
              "      <td>52147.821187</td>\n",
              "      <td>56573.555472</td>\n",
              "      <td>55715.546651</td>\n",
              "      <td>58102.191426</td>\n",
              "      <td>58788.209679</td>\n",
              "      <td>57107.120672</td>\n",
              "      <td>56583.849879</td>\n",
              "      <td>6.25</td>\n",
              "    </tr>\n",
              "    <tr>\n",
              "      <th>2021-05-15</th>\n",
              "      <td>50032.693137</td>\n",
              "      <td>49764.132082</td>\n",
              "      <td>52147.821187</td>\n",
              "      <td>56573.555472</td>\n",
              "      <td>55715.546651</td>\n",
              "      <td>58102.191426</td>\n",
              "      <td>58788.209679</td>\n",
              "      <td>57107.120672</td>\n",
              "      <td>6.25</td>\n",
              "    </tr>\n",
              "    <tr>\n",
              "      <th>2021-05-16</th>\n",
              "      <td>47885.625255</td>\n",
              "      <td>50032.693137</td>\n",
              "      <td>49764.132082</td>\n",
              "      <td>52147.821187</td>\n",
              "      <td>56573.555472</td>\n",
              "      <td>55715.546651</td>\n",
              "      <td>58102.191426</td>\n",
              "      <td>58788.209679</td>\n",
              "      <td>6.25</td>\n",
              "    </tr>\n",
              "    <tr>\n",
              "      <th>2021-05-17</th>\n",
              "      <td>45604.615754</td>\n",
              "      <td>47885.625255</td>\n",
              "      <td>50032.693137</td>\n",
              "      <td>49764.132082</td>\n",
              "      <td>52147.821187</td>\n",
              "      <td>56573.555472</td>\n",
              "      <td>55715.546651</td>\n",
              "      <td>58102.191426</td>\n",
              "      <td>6.25</td>\n",
              "    </tr>\n",
              "    <tr>\n",
              "      <th>2021-05-18</th>\n",
              "      <td>43144.471291</td>\n",
              "      <td>45604.615754</td>\n",
              "      <td>47885.625255</td>\n",
              "      <td>50032.693137</td>\n",
              "      <td>49764.132082</td>\n",
              "      <td>52147.821187</td>\n",
              "      <td>56573.555472</td>\n",
              "      <td>55715.546651</td>\n",
              "      <td>6.25</td>\n",
              "    </tr>\n",
              "  </tbody>\n",
              "</table>\n",
              "<p>2780 rows × 9 columns</p>\n",
              "</div>\n",
              "      <button class=\"colab-df-convert\" onclick=\"convertToInteractive('df-10d8a2a3-054d-42ef-af9b-4f8410ce8797')\"\n",
              "              title=\"Convert this dataframe to an interactive table.\"\n",
              "              style=\"display:none;\">\n",
              "        \n",
              "  <svg xmlns=\"http://www.w3.org/2000/svg\" height=\"24px\"viewBox=\"0 0 24 24\"\n",
              "       width=\"24px\">\n",
              "    <path d=\"M0 0h24v24H0V0z\" fill=\"none\"/>\n",
              "    <path d=\"M18.56 5.44l.94 2.06.94-2.06 2.06-.94-2.06-.94-.94-2.06-.94 2.06-2.06.94zm-11 1L8.5 8.5l.94-2.06 2.06-.94-2.06-.94L8.5 2.5l-.94 2.06-2.06.94zm10 10l.94 2.06.94-2.06 2.06-.94-2.06-.94-.94-2.06-.94 2.06-2.06.94z\"/><path d=\"M17.41 7.96l-1.37-1.37c-.4-.4-.92-.59-1.43-.59-.52 0-1.04.2-1.43.59L10.3 9.45l-7.72 7.72c-.78.78-.78 2.05 0 2.83L4 21.41c.39.39.9.59 1.41.59.51 0 1.02-.2 1.41-.59l7.78-7.78 2.81-2.81c.8-.78.8-2.07 0-2.86zM5.41 20L4 18.59l7.72-7.72 1.47 1.35L5.41 20z\"/>\n",
              "  </svg>\n",
              "      </button>\n",
              "      \n",
              "  <style>\n",
              "    .colab-df-container {\n",
              "      display:flex;\n",
              "      flex-wrap:wrap;\n",
              "      gap: 12px;\n",
              "    }\n",
              "\n",
              "    .colab-df-convert {\n",
              "      background-color: #E8F0FE;\n",
              "      border: none;\n",
              "      border-radius: 50%;\n",
              "      cursor: pointer;\n",
              "      display: none;\n",
              "      fill: #1967D2;\n",
              "      height: 32px;\n",
              "      padding: 0 0 0 0;\n",
              "      width: 32px;\n",
              "    }\n",
              "\n",
              "    .colab-df-convert:hover {\n",
              "      background-color: #E2EBFA;\n",
              "      box-shadow: 0px 1px 2px rgba(60, 64, 67, 0.3), 0px 1px 3px 1px rgba(60, 64, 67, 0.15);\n",
              "      fill: #174EA6;\n",
              "    }\n",
              "\n",
              "    [theme=dark] .colab-df-convert {\n",
              "      background-color: #3B4455;\n",
              "      fill: #D2E3FC;\n",
              "    }\n",
              "\n",
              "    [theme=dark] .colab-df-convert:hover {\n",
              "      background-color: #434B5C;\n",
              "      box-shadow: 0px 1px 3px 1px rgba(0, 0, 0, 0.15);\n",
              "      filter: drop-shadow(0px 1px 2px rgba(0, 0, 0, 0.3));\n",
              "      fill: #FFFFFF;\n",
              "    }\n",
              "  </style>\n",
              "\n",
              "      <script>\n",
              "        const buttonEl =\n",
              "          document.querySelector('#df-10d8a2a3-054d-42ef-af9b-4f8410ce8797 button.colab-df-convert');\n",
              "        buttonEl.style.display =\n",
              "          google.colab.kernel.accessAllowed ? 'block' : 'none';\n",
              "\n",
              "        async function convertToInteractive(key) {\n",
              "          const element = document.querySelector('#df-10d8a2a3-054d-42ef-af9b-4f8410ce8797');\n",
              "          const dataTable =\n",
              "            await google.colab.kernel.invokeFunction('convertToInteractive',\n",
              "                                                     [key], {});\n",
              "          if (!dataTable) return;\n",
              "\n",
              "          const docLinkHtml = 'Like what you see? Visit the ' +\n",
              "            '<a target=\"_blank\" href=https://colab.research.google.com/notebooks/data_table.ipynb>data table notebook</a>'\n",
              "            + ' to learn more about interactive tables.';\n",
              "          element.innerHTML = '';\n",
              "          dataTable['output_type'] = 'display_data';\n",
              "          await google.colab.output.renderOutput(dataTable, element);\n",
              "          const docLink = document.createElement('div');\n",
              "          docLink.innerHTML = docLinkHtml;\n",
              "          element.appendChild(docLink);\n",
              "        }\n",
              "      </script>\n",
              "    </div>\n",
              "  </div>\n",
              "  "
            ]
          },
          "metadata": {},
          "execution_count": 51
        }
      ]
    },
    {
      "cell_type": "code",
      "source": [
        "windowed_data_df.plot(y=['Closing Price (USD)', 'block_reward'])"
      ],
      "metadata": {
        "colab": {
          "base_uri": "https://localhost:8080/",
          "height": 297
        },
        "id": "E9JDtbncmOVS",
        "outputId": "20cd03fa-66f8-4f0f-8383-788e7c4639e6"
      },
      "execution_count": 65,
      "outputs": [
        {
          "output_type": "execute_result",
          "data": {
            "text/plain": [
              "<matplotlib.axes._subplots.AxesSubplot at 0x7f674ad029d0>"
            ]
          },
          "metadata": {},
          "execution_count": 65
        },
        {
          "output_type": "display_data",
          "data": {
            "text/plain": [
              "<Figure size 432x288 with 1 Axes>"
            ],
            "image/png": "[encoded data removed]"
          },
          "metadata": {
            "needs_background": "light"
          }
        }
      ]
    },
    {
      "cell_type": "code",
      "source": [
        "plt.figure()\n",
        "windowed_data_df['Closing Price (USD)'].plot(label='Prices')\n",
        "windowed_data_df['block_reward'].plot(secondary_y=True)\n",
        "plt.show()"
      ],
      "metadata": {
        "colab": {
          "base_uri": "https://localhost:8080/",
          "height": 279
        },
        "id": "TgfKpFgCodK7",
        "outputId": "b39494cd-1ac1-40a0-b024-28e5a3fd521f"
      },
      "execution_count": 89,
      "outputs": [
        {
          "output_type": "display_data",
          "data": {
            "text/plain": [
              "<Figure size 432x288 with 2 Axes>"
            ],
            "image/png": "[encoded data removed]"
          },
          "metadata": {
            "needs_background": "light"
          }
        }
      ]
    },
    {
      "cell_type": "markdown",
      "source": [
        "##Train, test split"
      ],
      "metadata": {
        "id": "kHMZJ6oZj1Ii"
      }
    },
    {
      "cell_type": "code",
      "source": [
        "full_windows = windowed_data_df.drop(['Closing Price (USD)', 'block_reward'], axis=1).astype(np.float32)\n",
        "full_block_rewards = windowed_data_df['block_reward'].astype(np.float32)\n",
        "full_labels = windowed_data_df['Closing Price (USD)'].astype(np.float32)"
      ],
      "metadata": {
        "id": "5Gu9Fk_Kv2X_"
      },
      "execution_count": 108,
      "outputs": []
    },
    {
      "cell_type": "code",
      "source": [
        "len(full_windows), len(full_labels)"
      ],
      "metadata": {
        "colab": {
          "base_uri": "https://localhost:8080/"
        },
        "id": "33fEAyY7xO8l",
        "outputId": "f53bade5-4337-4ee8-a3a8-93d1571d529c"
      },
      "execution_count": 96,
      "outputs": [
        {
          "output_type": "execute_result",
          "data": {
            "text/plain": [
              "(2780, 2780)"
            ]
          },
          "metadata": {},
          "execution_count": 96
        }
      ]
    },
    {
      "cell_type": "code",
      "source": [
        "split_size = int(len(full_windows) * 0.8)\n",
        "\n",
        "train_windows = full_windows[:split_size]\n",
        "train_labels  = full_labels[:split_size]\n",
        "train_block_rewards = full_block_rewards[:split_size]\n",
        "\n",
        "test_windows = full_windows[split_size:]\n",
        "test_labels  = full_labels[split_size:]\n",
        "test_block_rewards = full_block_rewards[split_size:]"
      ],
      "metadata": {
        "id": "Kl-dupZtkPai"
      },
      "execution_count": 109,
      "outputs": []
    },
    {
      "cell_type": "code",
      "source": [
        "len(train_windows), len(test_windows)"
      ],
      "metadata": {
        "colab": {
          "base_uri": "https://localhost:8080/"
        },
        "id": "2HDa4oJ9xpqt",
        "outputId": "6a81ab64-f4f9-4b79-d8e0-5f25fc1f4766"
      },
      "execution_count": 110,
      "outputs": [
        {
          "output_type": "execute_result",
          "data": {
            "text/plain": [
              "(2224, 556)"
            ]
          },
          "metadata": {},
          "execution_count": 110
        }
      ]
    },
    {
      "cell_type": "code",
      "source": [
        "train_windows.info()"
      ],
      "metadata": {
        "colab": {
          "base_uri": "https://localhost:8080/"
        },
        "id": "EhyuSeZPydkk",
        "outputId": "7850a244-fa08-4c38-d2d7-e0603033795e"
      },
      "execution_count": 111,
      "outputs": [
        {
          "output_type": "stream",
          "name": "stdout",
          "text": [
            "<class 'pandas.core.frame.DataFrame'>\n",
            "DatetimeIndex: 2224 entries, 2013-10-08 to 2019-11-09\n",
            "Data columns (total 7 columns):\n",
            " #   Column   Non-Null Count  Dtype  \n",
            "---  ------   --------------  -----  \n",
            " 0   Price+1  2224 non-null   float32\n",
            " 1   Price+2  2224 non-null   float32\n",
            " 2   Price+3  2224 non-null   float32\n",
            " 3   Price+4  2224 non-null   float32\n",
            " 4   Price+5  2224 non-null   float32\n",
            " 5   Price+6  2224 non-null   float32\n",
            " 6   Price+7  2224 non-null   float32\n",
            "dtypes: float32(7)\n",
            "memory usage: 78.2 KB\n"
          ]
        }
      ]
    },
    {
      "cell_type": "markdown",
      "source": [
        "##Build the model"
      ],
      "metadata": {
        "id": "u2OP_UjmyShB"
      }
    },
    {
      "cell_type": "code",
      "source": [
        "price_inputs = layers.Input(shape=(7,), dtype=tf.float32)\n",
        "price_outputs = layers.Dense(128, activation='relu')(price_inputs)\n",
        "price_model = tf.keras.Model(price_inputs, price_outputs)\n",
        "\n",
        "block_reward_inputs = layers.Input(shape=(1,), dtype=tf.float32)\n",
        "block_reward_outputs = layers.Dense(32, activation='relu')(block_reward_inputs)\n",
        "block_reward_model = tf.keras.Model(block_reward_inputs, block_reward_outputs)\n",
        "\n",
        "concat_layer = layers.Concatenate()([price_model.output,\n",
        "                                     block_reward_model.output])\n",
        "output_layer = layers.Dense(1)(concat_layer)\n",
        "\n",
        "model_6 = tf.keras.Model(inputs=[price_model.input,\n",
        "                                 block_reward_model.input],\n",
        "                         outputs=output_layer,\n",
        "                         name='model_6_multi')"
      ],
      "metadata": {
        "id": "QXeROvHvyDR5"
      },
      "execution_count": 121,
      "outputs": []
    },
    {
      "cell_type": "code",
      "source": [
        "from tensorflow.keras.utils import plot_model\n",
        "plot_model(model_6, show_shapes=True)"
      ],
      "metadata": {
        "colab": {
          "base_uri": "https://localhost:8080/",
          "height": 422
        },
        "id": "uQMKhbS712zi",
        "outputId": "7379fada-0071-4356-cee9-4028ca27b9dc"
      },
      "execution_count": 116,
      "outputs": [
        {
          "output_type": "execute_result",
          "data": {
            "text/plain": [
              "<IPython.core.display.Image object>"
            ],
            "image/png": "[encoded data removed]"
          },
          "metadata": {},
          "execution_count": 116
        }
      ]
    },
    {
      "cell_type": "code",
      "source": [
        "model_6.compile(loss=tf.keras.losses.mae,\n",
        "                optimizer=tf.keras.optimizers.Adam())"
      ],
      "metadata": {
        "id": "8dzEP_Ad2A8C"
      },
      "execution_count": 122,
      "outputs": []
    },
    {
      "cell_type": "code",
      "source": [
        "history_6 = model_6.fit((train_windows, train_block_rewards),\n",
        "                        train_labels,\n",
        "                        validation_data=((test_windows, test_block_rewards), test_labels),\n",
        "                        epochs=100, batch_size=128,\n",
        "                        callbacks=[create_model_checkpoint(model_6.name)])"
      ],
      "metadata": {
        "id": "HgH5cHib2eDz"
      },
      "execution_count": null,
      "outputs": []
    },
    {
      "cell_type": "code",
      "source": [
        "model_6.load_weights(\"model_checkpoints/model_6_multi\")\n",
        "model_6.compile(loss=tf.keras.losses.mae,\n",
        "                optimizer=tf.keras.optimizers.Adam(),\n",
        "                metrics=['mae', 'mse'])\n",
        "model_6.evaluate((test_windows, test_block_rewards), test_labels)"
      ],
      "metadata": {
        "colab": {
          "base_uri": "https://localhost:8080/"
        },
        "id": "lJaR6PdY3Rxq",
        "outputId": "1769653b-6931-4b8f-e84c-1da011cc6e98"
      },
      "execution_count": 124,
      "outputs": [
        {
          "output_type": "stream",
          "name": "stdout",
          "text": [
            "18/18 [==============================] - 0s 2ms/step - loss: 565.1095 - mae: 565.1095 - mse: 1156455.3750\n"
          ]
        },
        {
          "output_type": "execute_result",
          "data": {
            "text/plain": [
              "[565.1094970703125, 565.1094970703125, 1156455.375]"
            ]
          },
          "metadata": {},
          "execution_count": 124
        }
      ]
    },
    {
      "cell_type": "code",
      "source": [
        "test_labels = tf.squeeze(test_labels)\n",
        "\n",
        "y_pred_6 = model_6.predict((test_windows, test_block_rewards))\n",
        "y_pred_6 = tf.squeeze(y_pred_6)"
      ],
      "metadata": {
        "id": "QmnZnEkV3gx2"
      },
      "execution_count": 125,
      "outputs": []
    },
    {
      "cell_type": "code",
      "source": [
        "model_6_results = evaluate_preds(y_true = tf.squeeze(test_labels), \n",
        "                                 y_pred = tf.squeeze(y_pred_6))\n",
        "model_6_results"
      ],
      "metadata": {
        "colab": {
          "base_uri": "https://localhost:8080/"
        },
        "id": "na-JXQLO8flO",
        "outputId": "f312ad80-c2c4-4701-cd67-c22d904cda0a"
      },
      "execution_count": 127,
      "outputs": [
        {
          "output_type": "execute_result",
          "data": {
            "text/plain": [
              "{'mae': 565.10944,\n",
              " 'mape': 2.5221102,\n",
              " 'mase': 0.99274075,\n",
              " 'mse': 1156455.2,\n",
              " 'rmse': 1075.3861}"
            ]
          },
          "metadata": {},
          "execution_count": 127
        }
      ]
    },
    {
      "cell_type": "code",
      "source": [
        ""
      ],
      "metadata": {
        "id": "A3kEUX9X8nZ-"
      },
      "execution_count": null,
      "outputs": []
    }
  ]
}