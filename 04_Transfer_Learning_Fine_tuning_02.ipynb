{
  "nbformat": 4,
  "nbformat_minor": 0,
  "metadata": {
    "colab": {
      "name": "04_Transfer Learning Fine tuning 02.ipynb",
      "provenance": [],
      "authorship_tag": "ABX9TyNICjE/0irsUMM7Q4HTzt2O",
      "include_colab_link": true
    },
    "kernelspec": {
      "name": "python3",
      "display_name": "Python 3"
    },
    "language_info": {
      "name": "python"
    },
    "accelerator": "GPU"
  },
  "cells": [
    {
      "cell_type": "markdown",
      "metadata": {
        "id": "view-in-github",
        "colab_type": "text"
      },
      "source": [
        "<a href=\"https://colab.research.google.com/github/yiwenwangANU/Machine_Learning/blob/main/04_Transfer_Learning_Fine_tuning_02.ipynb\" target=\"_parent\"><img src=\"https://colab.research.google.com/assets/colab-badge.svg\" alt=\"Open In Colab\"/></a>"
      ]
    },
    {
      "cell_type": "code",
      "execution_count": null,
      "metadata": {
        "colab": {
          "base_uri": "https://localhost:8080/"
        },
        "id": "ATCj__8D76p_",
        "outputId": "c5526d7d-e22f-4516-e82f-ee29d2fa765b"
      },
      "outputs": [
        {
          "output_type": "stream",
          "name": "stdout",
          "text": [
            "--2022-05-26 02:38:49--  https://storage.googleapis.com/ztm_tf_course/food_vision/10_food_classes_10_percent.zip\n",
            "Resolving storage.googleapis.com (storage.googleapis.com)... 74.125.195.128, 173.194.202.128, 74.125.199.128, ...\n",
            "Connecting to storage.googleapis.com (storage.googleapis.com)|74.125.195.128|:443... connected.\n",
            "HTTP request sent, awaiting response... 200 OK\n",
            "Length: 168546183 (161M) [application/zip]\n",
            "Saving to: ‘10_food_classes_10_percent.zip.1’\n",
            "\n",
            "10_food_classes_10_ 100%[===================>] 160.74M   305MB/s    in 0.5s    \n",
            "\n",
            "2022-05-26 02:38:49 (305 MB/s) - ‘10_food_classes_10_percent.zip.1’ saved [168546183/168546183]\n",
            "\n",
            "--2022-05-26 02:38:50--  https://raw.githubusercontent.com/yiwenwangANU/MachineLearningTools/master/helperfunctions.py\n",
            "Resolving raw.githubusercontent.com (raw.githubusercontent.com)... 185.199.110.133, 185.199.108.133, 185.199.111.133, ...\n",
            "Connecting to raw.githubusercontent.com (raw.githubusercontent.com)|185.199.110.133|:443... connected.\n",
            "HTTP request sent, awaiting response... 200 OK\n",
            "Length: 3007 (2.9K) [text/plain]\n",
            "Saving to: ‘helperfunctions.py.1’\n",
            "\n",
            "helperfunctions.py. 100%[===================>]   2.94K  --.-KB/s    in 0s      \n",
            "\n",
            "2022-05-26 02:38:50 (43.7 MB/s) - ‘helperfunctions.py.1’ saved [3007/3007]\n",
            "\n"
          ]
        }
      ],
      "source": [
        "!wget https://storage.googleapis.com/ztm_tf_course/food_vision/10_food_classes_10_percent.zip\n",
        "!wget https://raw.githubusercontent.com/yiwenwangANU/MachineLearningTools/master/helperfunctions.py\n",
        "\n",
        "from helperfunctions import unzip_data, walk_through_dir, plot_random_image, create_tensorboard_callback, plot_loss_curve\n",
        "unzip_data(\"10_food_classes_10_percent.zip\")"
      ]
    },
    {
      "cell_type": "code",
      "source": [
        "walk_through_dir(\"10_food_classes_10_percent\")"
      ],
      "metadata": {
        "colab": {
          "base_uri": "https://localhost:8080/"
        },
        "id": "ln6ZLHhW82LV",
        "outputId": "127b834e-ab1f-4882-ff34-27dd273f2522"
      },
      "execution_count": null,
      "outputs": [
        {
          "output_type": "stream",
          "name": "stdout",
          "text": [
            "Current directory: 10_food_classes_10_percent, number of sub-directories: 2, number of files: 0\n",
            "Current directory: 10_food_classes_10_percent/train, number of sub-directories: 10, number of files: 0\n",
            "Current directory: 10_food_classes_10_percent/train/fried_rice, number of sub-directories: 0, number of files: 75\n",
            "Current directory: 10_food_classes_10_percent/train/hamburger, number of sub-directories: 0, number of files: 75\n",
            "Current directory: 10_food_classes_10_percent/train/pizza, number of sub-directories: 0, number of files: 75\n",
            "Current directory: 10_food_classes_10_percent/train/sushi, number of sub-directories: 0, number of files: 75\n",
            "Current directory: 10_food_classes_10_percent/train/steak, number of sub-directories: 0, number of files: 75\n",
            "Current directory: 10_food_classes_10_percent/train/ramen, number of sub-directories: 0, number of files: 75\n",
            "Current directory: 10_food_classes_10_percent/train/chicken_curry, number of sub-directories: 0, number of files: 75\n",
            "Current directory: 10_food_classes_10_percent/train/grilled_salmon, number of sub-directories: 0, number of files: 75\n",
            "Current directory: 10_food_classes_10_percent/train/chicken_wings, number of sub-directories: 0, number of files: 75\n",
            "Current directory: 10_food_classes_10_percent/train/ice_cream, number of sub-directories: 0, number of files: 75\n",
            "Current directory: 10_food_classes_10_percent/test, number of sub-directories: 10, number of files: 0\n",
            "Current directory: 10_food_classes_10_percent/test/fried_rice, number of sub-directories: 0, number of files: 250\n",
            "Current directory: 10_food_classes_10_percent/test/hamburger, number of sub-directories: 0, number of files: 250\n",
            "Current directory: 10_food_classes_10_percent/test/pizza, number of sub-directories: 0, number of files: 250\n",
            "Current directory: 10_food_classes_10_percent/test/sushi, number of sub-directories: 0, number of files: 250\n",
            "Current directory: 10_food_classes_10_percent/test/steak, number of sub-directories: 0, number of files: 250\n",
            "Current directory: 10_food_classes_10_percent/test/ramen, number of sub-directories: 0, number of files: 250\n",
            "Current directory: 10_food_classes_10_percent/test/chicken_curry, number of sub-directories: 0, number of files: 250\n",
            "Current directory: 10_food_classes_10_percent/test/grilled_salmon, number of sub-directories: 0, number of files: 250\n",
            "Current directory: 10_food_classes_10_percent/test/chicken_wings, number of sub-directories: 0, number of files: 250\n",
            "Current directory: 10_food_classes_10_percent/test/ice_cream, number of sub-directories: 0, number of files: 250\n"
          ]
        }
      ]
    },
    {
      "cell_type": "code",
      "source": [
        "import tensorflow as tf\n",
        "\n",
        "train_dir = \"10_food_classes_10_percent/train\"\n",
        "test_dir = \"10_food_classes_10_percent/test\"\n",
        "BATCH_SIZE = 32\n",
        "IMG_SIZE = (224, 224)"
      ],
      "metadata": {
        "id": "tW-pLu0_9S4v"
      },
      "execution_count": null,
      "outputs": []
    },
    {
      "cell_type": "code",
      "source": [
        "train_data_10_percent = tf.keras.preprocessing.image_dataset_from_directory(train_dir,\n",
        "                                                                            batch_size=BATCH_SIZE,\n",
        "                                                                            label_mode='categorical',\n",
        "                                                                            image_size=IMG_SIZE)\n",
        "test_data = tf.keras.preprocessing.image_dataset_from_directory(test_dir,\n",
        "                                                                batch_size=BATCH_SIZE,\n",
        "                                                                image_size=IMG_SIZE,\n",
        "                                                                label_mode='categorical')"
      ],
      "metadata": {
        "colab": {
          "base_uri": "https://localhost:8080/"
        },
        "id": "s47q_fHX9rbO",
        "outputId": "d5f273c0-fd18-4739-8f76-94658e987eab"
      },
      "execution_count": null,
      "outputs": [
        {
          "output_type": "stream",
          "name": "stdout",
          "text": [
            "Found 750 files belonging to 10 classes.\n",
            "Found 2500 files belonging to 10 classes.\n"
          ]
        }
      ]
    },
    {
      "cell_type": "code",
      "source": [
        "base_model = tf.keras.applications.EfficientNetB0(include_top=False)\n",
        "base_model.trainable = False"
      ],
      "metadata": {
        "id": "7o_j4bkc-dG-"
      },
      "execution_count": null,
      "outputs": []
    },
    {
      "cell_type": "code",
      "source": [
        "from tensorflow.keras.layers.experimental import preprocessing\n",
        "data_augmented = tf.keras.Sequential([\n",
        "  preprocessing.RandomFlip(\"horizontal\"),\n",
        "  preprocessing.RandomHeight(0.2),\n",
        "  preprocessing.RandomWidth(0.2),\n",
        "  preprocessing.RandomRotation(0.2),\n",
        "  preprocessing.RandomZoom(0.2)\n",
        "])"
      ],
      "metadata": {
        "id": "4NM347uuCMjJ"
      },
      "execution_count": null,
      "outputs": []
    },
    {
      "cell_type": "code",
      "source": [
        "checkpoint_path = \"10_percent_model_checkpoints_weights/checkpoint.ckpt\"\n",
        "checkpoint_callback = tf.keras.callbacks.ModelCheckpoint(filepath=checkpoint_path,\n",
        "                                                         save_weights_only=True,\n",
        "                                                         verbose=1)"
      ],
      "metadata": {
        "id": "ZJ61spsjExYr"
      },
      "execution_count": null,
      "outputs": []
    },
    {
      "cell_type": "code",
      "source": [
        "input_layer = tf.keras.layers.Input(shape=(224, 224, 3))\n",
        "x = data_augmented(input_layer)\n",
        "x = base_model(x, training=False)\n",
        "x = tf.keras.layers.GlobalAveragePooling2D()(x)\n",
        "output_layer = tf.keras.layers.Dense(10, activation=\"softmax\")(x)\n",
        "model_2 = tf.keras.Model(input_layer, output_layer)"
      ],
      "metadata": {
        "id": "Y-POyFJ4-vuX"
      },
      "execution_count": null,
      "outputs": []
    },
    {
      "cell_type": "code",
      "source": [
        "model_2.compile(loss=tf.keras.losses.CategoricalCrossentropy(),\n",
        "                optimizer=tf.keras.optimizers.Adam(),\n",
        "                metrics=[\"accuracy\"])\n",
        "history_10_percent_data_aug = model_2.fit(train_data_10_percent,\n",
        "                              epochs=5,\n",
        "                              validation_data=test_data,\n",
        "                              steps_per_epoch=len(train_data_10_percent),\n",
        "                              validation_steps=len(test_data),\n",
        "                              callbacks=[create_tensorboard_callback(\"Transfer_Learning\",\n",
        "                                                                    \"10_percent_augmented\"),\n",
        "                                        checkpoint_callback])"
      ],
      "metadata": {
        "colab": {
          "base_uri": "https://localhost:8080/"
        },
        "id": "DL9zfwL3Abw_",
        "outputId": "63235cdf-6cf8-4146-85ba-5ea8f7acc224"
      },
      "execution_count": null,
      "outputs": [
        {
          "output_type": "stream",
          "name": "stdout",
          "text": [
            "Saving TensorBoard log files to: Transfer_Learning/10_percent_augmented/20220526-023855\n",
            "Epoch 1/5\n",
            "24/24 [==============================] - ETA: 0s - loss: 2.0280 - accuracy: 0.2853\n",
            "Epoch 1: saving model to 10_percent_model_checkpoints_weights/checkpoint.ckpt\n",
            "24/24 [==============================] - 20s 583ms/step - loss: 2.0280 - accuracy: 0.2853 - val_loss: 1.4975 - val_accuracy: 0.6496\n",
            "Epoch 2/5\n",
            "24/24 [==============================] - ETA: 0s - loss: 1.4104 - accuracy: 0.6667\n",
            "Epoch 2: saving model to 10_percent_model_checkpoints_weights/checkpoint.ckpt\n",
            "24/24 [==============================] - 12s 494ms/step - loss: 1.4104 - accuracy: 0.6667 - val_loss: 1.0714 - val_accuracy: 0.7568\n",
            "Epoch 3/5\n",
            "24/24 [==============================] - ETA: 0s - loss: 1.1077 - accuracy: 0.7040\n",
            "Epoch 3: saving model to 10_percent_model_checkpoints_weights/checkpoint.ckpt\n",
            "24/24 [==============================] - 12s 476ms/step - loss: 1.1077 - accuracy: 0.7040 - val_loss: 0.8696 - val_accuracy: 0.7948\n",
            "Epoch 4/5\n",
            "24/24 [==============================] - ETA: 0s - loss: 0.9280 - accuracy: 0.7693\n",
            "Epoch 4: saving model to 10_percent_model_checkpoints_weights/checkpoint.ckpt\n",
            "24/24 [==============================] - 12s 513ms/step - loss: 0.9280 - accuracy: 0.7693 - val_loss: 0.7664 - val_accuracy: 0.8096\n",
            "Epoch 5/5\n",
            "24/24 [==============================] - ETA: 0s - loss: 0.8282 - accuracy: 0.7840\n",
            "Epoch 5: saving model to 10_percent_model_checkpoints_weights/checkpoint.ckpt\n",
            "24/24 [==============================] - 11s 449ms/step - loss: 0.8282 - accuracy: 0.7840 - val_loss: 0.6994 - val_accuracy: 0.8172\n"
          ]
        }
      ]
    },
    {
      "cell_type": "code",
      "source": [
        "result_10_percent_data_aug = model_2.evaluate(test_data)\n",
        "result_10_percent_data_aug"
      ],
      "metadata": {
        "colab": {
          "base_uri": "https://localhost:8080/"
        },
        "id": "Y1lxMIT-Fje6",
        "outputId": "a4af0e4f-069c-4f49-a0e5-3a9866ff72cb"
      },
      "execution_count": null,
      "outputs": [
        {
          "output_type": "stream",
          "name": "stdout",
          "text": [
            "79/79 [==============================] - 7s 77ms/step - loss: 0.6994 - accuracy: 0.8172\n"
          ]
        },
        {
          "output_type": "execute_result",
          "data": {
            "text/plain": [
              "[0.6994085311889648, 0.8172000050544739]"
            ]
          },
          "metadata": {},
          "execution_count": 26
        }
      ]
    },
    {
      "cell_type": "code",
      "source": [
        "plot_loss_curve(history_10_percent_data_aug)"
      ],
      "metadata": {
        "colab": {
          "base_uri": "https://localhost:8080/",
          "height": 379
        },
        "id": "J6GfTPStGQ7m",
        "outputId": "1fcfbf0a-9cdc-4c89-c083-6c4b608a30e4"
      },
      "execution_count": null,
      "outputs": [
        {
          "output_type": "display_data",
          "data": {
            "text/plain": [
              "<Figure size 1440x504 with 2 Axes>"
            ],
            "image/png": "[encoded data removed]"
          },
          "metadata": {
            "needs_background": "light"
          }
        }
      ]
    },
    {
      "cell_type": "code",
      "source": [
        "for i, layer in enumerate(base_model.layers):\n",
        "  print(i, layer.name, layer.trainable)"
      ],
      "metadata": {
        "id": "pkHqVaf7GU6S"
      },
      "execution_count": null,
      "outputs": []
    },
    {
      "cell_type": "code",
      "source": [
        "for layer in base_model.layers[-10:]:\n",
        "  layer.trainable = True\n",
        "\n",
        "for i, layer in enumerate(base_model.layers):\n",
        "  print(i, layer.name, layer.trainable)"
      ],
      "metadata": {
        "id": "v3V0htHsHiQ-"
      },
      "execution_count": null,
      "outputs": []
    },
    {
      "cell_type": "code",
      "source": [
        "model_2.compile(loss=tf.keras.losses.CategoricalCrossentropy(),\n",
        "                optimizer=tf.keras.optimizers.Adam(),\n",
        "                metrics=[\"accuracy\"])"
      ],
      "metadata": {
        "id": "Nyh0V_4wIHx3"
      },
      "execution_count": null,
      "outputs": []
    },
    {
      "cell_type": "code",
      "source": [
        "initial_epochs = 5\n",
        "fine_tune_epochs = initial_epochs + 5\n",
        "\n",
        "history_10_percent_fine_tune = model_2.fit(train_data_10_percent,\n",
        "                                          epochs=fine_tune_epochs,\n",
        "                                          initial_epoch=history_10_percent_data_aug.epoch[-1],\n",
        "                                          validation_data=test_data,\n",
        "                                          steps_per_epoch=len(train_data_10_percent),\n",
        "                                          validation_steps=len(test_data),\n",
        "                                          callbacks=[create_tensorboard_callback(\"Transfer_Learning\",\n",
        "                                                                                 \"10_percent_fine_tune\"),\n",
        "                                                     checkpoint_callback])"
      ],
      "metadata": {
        "colab": {
          "base_uri": "https://localhost:8080/"
        },
        "id": "aHzpYvNMJXM6",
        "outputId": "89a3efc2-1d6c-4b4f-97d8-a3889d3479ec"
      },
      "execution_count": null,
      "outputs": [
        {
          "output_type": "stream",
          "name": "stdout",
          "text": [
            "Saving TensorBoard log files to: Transfer_Learning/10_percent_fine_tune/20220526-024018\n",
            "Epoch 5/10\n",
            "24/24 [==============================] - ETA: 0s - loss: 0.7620 - accuracy: 0.7933\n",
            "Epoch 5: saving model to 10_percent_model_checkpoints_weights/checkpoint.ckpt\n",
            "24/24 [==============================] - 22s 521ms/step - loss: 0.7620 - accuracy: 0.7933 - val_loss: 0.6415 - val_accuracy: 0.8244\n",
            "Epoch 6/10\n",
            "24/24 [==============================] - ETA: 0s - loss: 0.6816 - accuracy: 0.8227\n",
            "Epoch 6: saving model to 10_percent_model_checkpoints_weights/checkpoint.ckpt\n",
            "24/24 [==============================] - 12s 493ms/step - loss: 0.6816 - accuracy: 0.8227 - val_loss: 0.6069 - val_accuracy: 0.8272\n",
            "Epoch 7/10\n",
            "24/24 [==============================] - ETA: 0s - loss: 0.6130 - accuracy: 0.8253\n",
            "Epoch 7: saving model to 10_percent_model_checkpoints_weights/checkpoint.ckpt\n",
            "24/24 [==============================] - 12s 507ms/step - loss: 0.6130 - accuracy: 0.8253 - val_loss: 0.5697 - val_accuracy: 0.8396\n",
            "Epoch 8/10\n",
            "24/24 [==============================] - ETA: 0s - loss: 0.5591 - accuracy: 0.8520\n",
            "Epoch 8: saving model to 10_percent_model_checkpoints_weights/checkpoint.ckpt\n",
            "24/24 [==============================] - 12s 478ms/step - loss: 0.5591 - accuracy: 0.8520 - val_loss: 0.5597 - val_accuracy: 0.8368\n",
            "Epoch 9/10\n",
            "24/24 [==============================] - ETA: 0s - loss: 0.5290 - accuracy: 0.8667\n",
            "Epoch 9: saving model to 10_percent_model_checkpoints_weights/checkpoint.ckpt\n",
            "24/24 [==============================] - 12s 471ms/step - loss: 0.5290 - accuracy: 0.8667 - val_loss: 0.5432 - val_accuracy: 0.8388\n",
            "Epoch 10/10\n",
            "24/24 [==============================] - ETA: 0s - loss: 0.4972 - accuracy: 0.8693\n",
            "Epoch 10: saving model to 10_percent_model_checkpoints_weights/checkpoint.ckpt\n",
            "24/24 [==============================] - 12s 484ms/step - loss: 0.4972 - accuracy: 0.8693 - val_loss: 0.5251 - val_accuracy: 0.8436\n"
          ]
        }
      ]
    },
    {
      "cell_type": "code",
      "source": [
        "result_10_percent_fine_tune = model_2.evaluate(test_data)"
      ],
      "metadata": {
        "colab": {
          "base_uri": "https://localhost:8080/"
        },
        "id": "VzfbI2TQLKSn",
        "outputId": "b432eede-4389-4266-f512-8455f37ac1c3"
      },
      "execution_count": null,
      "outputs": [
        {
          "output_type": "stream",
          "name": "stdout",
          "text": [
            "79/79 [==============================] - 6s 72ms/step - loss: 0.5251 - accuracy: 0.8436\n"
          ]
        }
      ]
    },
    {
      "cell_type": "code",
      "source": [
        "import matplotlib.pyplot as plt\n",
        "\n",
        "def plot_fine_turn_loss(original_history, new_history, initial_epochs): \n",
        "  loss = original_history.history[\"loss\"] + new_history.history[\"loss\"]\n",
        "  val_loss = original_history.history[\"val_loss\"] + new_history.history[\"val_loss\"]\n",
        "  accuracy = original_history.history[\"accuracy\"] + new_history.history[\"accuracy\"]\n",
        "  val_accuracy = original_history.history[\"val_accuracy\"] + new_history.history[\"val_accuracy\"]\n",
        "  plt.figure(figsize=(10, 7))\n",
        "  plt.subplot(2, 1, 1)\n",
        "  plt.plot(loss, label=\"loss\")\n",
        "  plt.plot(val_loss, label=\"val_loss\")\n",
        "  plt.plot([initial_epochs-1, initial_epochs-1], plt.ylim(), label=\"Start Fine Tune\")\n",
        "  plt.legend()\n",
        "  plt.subplot(2, 1, 2)\n",
        "  plt.plot(accuracy, label=\"accuracy\")\n",
        "  plt.plot(val_accuracy, label=\"val_accuracy\")\n",
        "  plt.plot([initial_epochs-1, initial_epochs-1], plt.ylim(), label=\"Start Fine Tune\")\n",
        "  plt.legend()"
      ],
      "metadata": {
        "id": "c-8wZWUtMbVq"
      },
      "execution_count": null,
      "outputs": []
    },
    {
      "cell_type": "code",
      "source": [
        "plot_fine_turn_loss(history_10_percent_data_aug, history_10_percent_fine_tune, 5)"
      ],
      "metadata": {
        "colab": {
          "base_uri": "https://localhost:8080/",
          "height": 428
        },
        "id": "oxIjcgVLQynv",
        "outputId": "bb9c162d-55f5-4865-92b3-98c300e63d69"
      },
      "execution_count": null,
      "outputs": [
        {
          "output_type": "display_data",
          "data": {
            "text/plain": [
              "<Figure size 720x504 with 2 Axes>"
            ],
            "image/png": "[encoded data removed]"
          },
          "metadata": {
            "needs_background": "light"
          }
        }
      ]
    },
    {
      "cell_type": "code",
      "source": [
        "!wget https://storage.googleapis.com/ztm_tf_course/food_vision/10_food_classes_all_data.zip\n",
        "\n",
        "unzip_data(\"10_food_classes_all_data.zip\")"
      ],
      "metadata": {
        "colab": {
          "base_uri": "https://localhost:8080/"
        },
        "id": "2KMmYCmmQ7Au",
        "outputId": "00988aae-0d93-47c7-d21f-0eace33c7e25"
      },
      "execution_count": null,
      "outputs": [
        {
          "output_type": "stream",
          "name": "stdout",
          "text": [
            "--2022-05-26 02:55:12--  https://storage.googleapis.com/ztm_tf_course/food_vision/10_food_classes_all_data.zip\n",
            "Resolving storage.googleapis.com (storage.googleapis.com)... 142.250.99.128, 173.194.202.128, 108.177.98.128, ...\n",
            "Connecting to storage.googleapis.com (storage.googleapis.com)|142.250.99.128|:443... connected.\n",
            "HTTP request sent, awaiting response... 200 OK\n",
            "Length: 519183241 (495M) [application/zip]\n",
            "Saving to: ‘10_food_classes_all_data.zip’\n",
            "\n",
            "10_food_classes_all 100%[===================>] 495.13M   269MB/s    in 1.8s    \n",
            "\n",
            "2022-05-26 02:55:14 (269 MB/s) - ‘10_food_classes_all_data.zip’ saved [519183241/519183241]\n",
            "\n"
          ]
        }
      ]
    },
    {
      "cell_type": "code",
      "source": [
        "train_dir_all = \"10_food_classes_all_data/train\"\n",
        "test_dir_all = \"10_food_classes_all_data/test\""
      ],
      "metadata": {
        "id": "5eNHOF9IStfB"
      },
      "execution_count": null,
      "outputs": []
    },
    {
      "cell_type": "code",
      "source": [
        "train_data_all = tf.keras.preprocessing.image_dataset_from_directory(train_dir_all,\n",
        "                                                                     label_mode='categorical',\n",
        "                                                                     image_size=IMG_SIZE)\n",
        "test_data_all = tf.keras.preprocessing.image_dataset_from_directory(test_dir_all,\n",
        "                                                                    label_mode='categorical',\n",
        "                                                                    image_size=IMG_SIZE)"
      ],
      "metadata": {
        "colab": {
          "base_uri": "https://localhost:8080/"
        },
        "id": "99CmI0RuSiOh",
        "outputId": "f8ac7707-2e42-4744-e1c7-a9112e02352a"
      },
      "execution_count": null,
      "outputs": [
        {
          "output_type": "stream",
          "name": "stdout",
          "text": [
            "Found 7500 files belonging to 10 classes.\n",
            "Found 2500 files belonging to 10 classes.\n"
          ]
        }
      ]
    },
    {
      "cell_type": "code",
      "source": [
        "from tensorflow.keras.layers.experimental import preprocessing\n",
        "\n",
        "data_augmented = tf.keras.Sequential([\n",
        "  preprocessing.RandomFlip(\"horizontal\"),\n",
        "  preprocessing.RandomHeight(0.2),\n",
        "  preprocessing.RandomWidth(0.2),\n",
        "  preprocessing.RandomRotation(0.2),\n",
        "  preprocessing.RandomZoom(0.2)\n",
        "])"
      ],
      "metadata": {
        "id": "C5en3H-9TTH7"
      },
      "execution_count": null,
      "outputs": []
    },
    {
      "cell_type": "code",
      "source": [
        "base_model = tf.keras.applications.EfficientNetB0(include_top=False)\n",
        "base_model.trainable=False"
      ],
      "metadata": {
        "id": "OS5BZ_PqUbh8"
      },
      "execution_count": null,
      "outputs": []
    },
    {
      "cell_type": "code",
      "source": [
        "input_layer = tf.keras.layers.Input(shape=(224, 224, 3))\n",
        "x = data_augmented(input_layer)\n",
        "x = base_model(x, training=False)\n",
        "x = tf.keras.layers.GlobalAveragePooling2D()(x)\n",
        "output_layer = tf.keras.layers.Dense(10, activation=\"softmax\")(x)\n",
        "model_4 = tf.keras.Model(input_layer, output_layer)"
      ],
      "metadata": {
        "id": "HpcIORhwUGUJ"
      },
      "execution_count": null,
      "outputs": []
    },
    {
      "cell_type": "code",
      "source": [
        "model_4.compile(loss=tf.keras.losses.CategoricalCrossentropy(),\n",
        "                optimizer=tf.keras.optimizers.Adam(),\n",
        "                metrics=[\"accuracy\"])"
      ],
      "metadata": {
        "id": "M8bKXnJOU-yO"
      },
      "execution_count": null,
      "outputs": []
    },
    {
      "cell_type": "code",
      "source": [
        "initial_epochs=5\n",
        "\n",
        "history_all_data_aug = model_4.fit(train_data_all,\n",
        "                                   epochs=initial_epochs,\n",
        "                                   validation_data=test_data_all,\n",
        "                                   steps_per_epoch=len(train_data_all),\n",
        "                                   validation_steps=int(0.25*len(test_data_all)),\n",
        "                                   callbacks=[create_tensorboard_callback(\"Transfer_Learning\",\n",
        "                                                                          \"all_augmented\"),\n",
        "                                              checkpoint_callback])"
      ],
      "metadata": {
        "colab": {
          "base_uri": "https://localhost:8080/"
        },
        "id": "Xoq-7OogVNxR",
        "outputId": "015ca5b4-b585-4aec-d9de-5f0f1d59487b"
      },
      "execution_count": null,
      "outputs": [
        {
          "output_type": "stream",
          "name": "stdout",
          "text": [
            "Saving TensorBoard log files to: Transfer_Learning/all_augmented/20220526-031243\n",
            "Epoch 1/5\n",
            "235/235 [==============================] - ETA: 0s - loss: 1.1009 - accuracy: 0.6776\n",
            "Epoch 1: saving model to 10_percent_model_checkpoints_weights/checkpoint.ckpt\n",
            "235/235 [==============================] - 54s 204ms/step - loss: 1.1009 - accuracy: 0.6776 - val_loss: 0.4885 - val_accuracy: 0.8849\n",
            "Epoch 2/5\n",
            "235/235 [==============================] - ETA: 0s - loss: 0.7005 - accuracy: 0.7859\n",
            "Epoch 2: saving model to 10_percent_model_checkpoints_weights/checkpoint.ckpt\n",
            "235/235 [==============================] - 45s 188ms/step - loss: 0.7005 - accuracy: 0.7859 - val_loss: 0.4384 - val_accuracy: 0.8651\n",
            "Epoch 3/5\n",
            "235/235 [==============================] - ETA: 0s - loss: 0.6178 - accuracy: 0.8045\n",
            "Epoch 3: saving model to 10_percent_model_checkpoints_weights/checkpoint.ckpt\n",
            "235/235 [==============================] - 42s 177ms/step - loss: 0.6178 - accuracy: 0.8045 - val_loss: 0.3600 - val_accuracy: 0.8914\n",
            "Epoch 4/5\n",
            "235/235 [==============================] - ETA: 0s - loss: 0.5871 - accuracy: 0.8171\n",
            "Epoch 4: saving model to 10_percent_model_checkpoints_weights/checkpoint.ckpt\n",
            "235/235 [==============================] - 40s 167ms/step - loss: 0.5871 - accuracy: 0.8171 - val_loss: 0.3728 - val_accuracy: 0.8865\n",
            "Epoch 5/5\n",
            "235/235 [==============================] - ETA: 0s - loss: 0.5434 - accuracy: 0.8301\n",
            "Epoch 5: saving model to 10_percent_model_checkpoints_weights/checkpoint.ckpt\n",
            "235/235 [==============================] - 39s 166ms/step - loss: 0.5434 - accuracy: 0.8301 - val_loss: 0.3174 - val_accuracy: 0.8980\n"
          ]
        }
      ]
    },
    {
      "cell_type": "code",
      "source": [
        "for layer in base_model.layers:\n",
        "  layer.trainable=False\n",
        "\n",
        "for layer in base_model.layers[-10:]:\n",
        "  layer.trainable=True\n",
        "\n",
        "for i, layer in enumerate(base_model.layers):\n",
        "  print(1, layer.name, layer.trainable)"
      ],
      "metadata": {
        "id": "ItKtJg3GWgKS"
      },
      "execution_count": null,
      "outputs": []
    },
    {
      "cell_type": "code",
      "source": [
        "model_4.compile(loss=tf.keras.losses.CategoricalCrossentropy(),\n",
        "                optimizer=tf.keras.optimizers.Adam(lr=0.0001),\n",
        "                metrics=[\"accuracy\"])"
      ],
      "metadata": {
        "colab": {
          "base_uri": "https://localhost:8080/"
        },
        "id": "9KwbOalNXiic",
        "outputId": "2521fc57-c0fb-4029-96a1-d5fc8b07bca7"
      },
      "execution_count": null,
      "outputs": [
        {
          "output_type": "stream",
          "name": "stderr",
          "text": [
            "/usr/local/lib/python3.7/dist-packages/keras/optimizer_v2/adam.py:105: UserWarning: The `lr` argument is deprecated, use `learning_rate` instead.\n",
            "  super(Adam, self).__init__(name, **kwargs)\n"
          ]
        }
      ]
    },
    {
      "cell_type": "code",
      "source": [
        "history_all_fine_tune = model_4.fit(train_data_all,\n",
        "                                    epochs=initial_epochs+5,\n",
        "                                    initial_epoch=history_all_data_aug.epoch[-1],\n",
        "                                    validation_data=test_data_all,\n",
        "                                    steps_per_epoch=len(train_data_all),\n",
        "                                    validation_steps=int(0.25*len(test_data_all)),\n",
        "                                    callbacks=[create_tensorboard_callback(\"Transfer_Learning\",\n",
        "                                                                           \"all_fine_tune\"),\n",
        "                                               checkpoint_callback])"
      ],
      "metadata": {
        "colab": {
          "base_uri": "https://localhost:8080/"
        },
        "id": "qA_BCbHiYBeD",
        "outputId": "a8966587-2e0a-4a64-c817-1b76f7691d99"
      },
      "execution_count": null,
      "outputs": [
        {
          "output_type": "stream",
          "name": "stdout",
          "text": [
            "Saving TensorBoard log files to: Transfer_Learning/all_fine_tune/20220526-032559\n",
            "Epoch 5/10\n",
            "235/235 [==============================] - ETA: 0s - loss: 0.5113 - accuracy: 0.8447\n",
            "Epoch 5: saving model to 10_percent_model_checkpoints_weights/checkpoint.ckpt\n",
            "235/235 [==============================] - 44s 162ms/step - loss: 0.5113 - accuracy: 0.8447 - val_loss: 0.3744 - val_accuracy: 0.8816\n",
            "Epoch 6/10\n",
            "235/235 [==============================] - ETA: 0s - loss: 0.5131 - accuracy: 0.8411\n",
            "Epoch 6: saving model to 10_percent_model_checkpoints_weights/checkpoint.ckpt\n",
            "235/235 [==============================] - 35s 146ms/step - loss: 0.5131 - accuracy: 0.8411 - val_loss: 0.3763 - val_accuracy: 0.8816\n",
            "Epoch 7/10\n",
            "235/235 [==============================] - ETA: 0s - loss: 0.5106 - accuracy: 0.8401\n",
            "Epoch 7: saving model to 10_percent_model_checkpoints_weights/checkpoint.ckpt\n",
            "235/235 [==============================] - 34s 143ms/step - loss: 0.5106 - accuracy: 0.8401 - val_loss: 0.3745 - val_accuracy: 0.8898\n",
            "Epoch 8/10\n",
            "235/235 [==============================] - ETA: 0s - loss: 0.5111 - accuracy: 0.8400\n",
            "Epoch 8: saving model to 10_percent_model_checkpoints_weights/checkpoint.ckpt\n",
            "235/235 [==============================] - 31s 132ms/step - loss: 0.5111 - accuracy: 0.8400 - val_loss: 0.3623 - val_accuracy: 0.8865\n",
            "Epoch 9/10\n",
            "235/235 [==============================] - ETA: 0s - loss: 0.5015 - accuracy: 0.8431\n",
            "Epoch 9: saving model to 10_percent_model_checkpoints_weights/checkpoint.ckpt\n",
            "235/235 [==============================] - 30s 126ms/step - loss: 0.5015 - accuracy: 0.8431 - val_loss: 0.3419 - val_accuracy: 0.8931\n",
            "Epoch 10/10\n",
            "235/235 [==============================] - ETA: 0s - loss: 0.5029 - accuracy: 0.8396\n",
            "Epoch 10: saving model to 10_percent_model_checkpoints_weights/checkpoint.ckpt\n",
            "235/235 [==============================] - 31s 129ms/step - loss: 0.5029 - accuracy: 0.8396 - val_loss: 0.3782 - val_accuracy: 0.8882\n"
          ]
        }
      ]
    },
    {
      "cell_type": "code",
      "source": [
        "plot_fine_turn_loss(history_all_data_aug, history_all_fine_tune, 5)"
      ],
      "metadata": {
        "colab": {
          "base_uri": "https://localhost:8080/",
          "height": 428
        },
        "id": "OIPARLcCZXsM",
        "outputId": "a3508c1e-8123-442d-8235-d6d11694aecd"
      },
      "execution_count": null,
      "outputs": [
        {
          "output_type": "display_data",
          "data": {
            "text/plain": [
              "<Figure size 720x504 with 2 Axes>"
            ],
            "image/png": "[encoded data removed]"
          },
          "metadata": {
            "needs_background": "light"
          }
        }
      ]
    },
    {
      "cell_type": "code",
      "source": [
        ""
      ],
      "metadata": {
        "id": "bEAePKiXZtMf"
      },
      "execution_count": null,
      "outputs": []
    }
  ]
}