{
  "nbformat": 4,
  "nbformat_minor": 0,
  "metadata": {
    "colab": {
      "name": "04_Transfer Learning Scaling Up.ipynb",
      "provenance": [],
      "mount_file_id": "1G3hLM6_cn8lbchNtkI1DtUvdLnHyF_Qf",
      "authorship_tag": "ABX9TyPyCY8OGH1hzOi++fCHbCcg",
      "include_colab_link": true
    },
    "kernelspec": {
      "name": "python3",
      "display_name": "Python 3"
    },
    "language_info": {
      "name": "python"
    },
    "accelerator": "GPU"
  },
  "cells": [
    {
      "cell_type": "markdown",
      "metadata": {
        "id": "view-in-github",
        "colab_type": "text"
      },
      "source": [
        "<a href=\"https://colab.research.google.com/github/yiwenwangANU/Machine_Learning/blob/main/04_Transfer_Learning_Scaling_Up.ipynb\" target=\"_parent\"><img src=\"https://colab.research.google.com/assets/colab-badge.svg\" alt=\"Open In Colab\"/></a>"
      ]
    },
    {
      "cell_type": "code",
      "execution_count": null,
      "metadata": {
        "colab": {
          "base_uri": "https://localhost:8080/"
        },
        "id": "4KHlnZXtCBGq",
        "outputId": "86a968fe-a0ce-45ff-85c6-4cb5e9d8ec90"
      },
      "outputs": [
        {
          "output_type": "stream",
          "name": "stdout",
          "text": [
            "--2022-05-27 01:04:01--  https://storage.googleapis.com/ztm_tf_course/food_vision/101_food_classes_10_percent.zip\n",
            "Resolving storage.googleapis.com (storage.googleapis.com)... 74.125.135.128, 74.125.195.128, 74.125.20.128, ...\n",
            "Connecting to storage.googleapis.com (storage.googleapis.com)|74.125.135.128|:443... connected.\n",
            "HTTP request sent, awaiting response... 200 OK\n",
            "Length: 1625420029 (1.5G) [application/zip]\n",
            "Saving to: ‘101_food_classes_10_percent.zip.1’\n",
            "\n",
            "101_food_classes_10 100%[===================>]   1.51G   227MB/s    in 6.1s    \n",
            "\n",
            "2022-05-27 01:04:07 (253 MB/s) - ‘101_food_classes_10_percent.zip.1’ saved [1625420029/1625420029]\n",
            "\n"
          ]
        }
      ],
      "source": [
        "import zipfile\n",
        "\n",
        "!wget https://storage.googleapis.com/ztm_tf_course/food_vision/101_food_classes_10_percent.zip\n",
        "\n",
        "zip_ref = zipfile.ZipFile(\"101_food_classes_10_percent.zip\", 'r')\n",
        "zip_ref.extractall()\n",
        "zip_ref.close()"
      ]
    },
    {
      "cell_type": "code",
      "source": [
        "import os\n",
        "\n",
        "for path, dirname, filename in os.walk(\"101_food_classes_10_percent\"):\n",
        "  print(f\"Current directory: {path}, number of sub-dirs: {len(dirname)}, \\\n",
        "  number of files: {len(filename)}\")"
      ],
      "metadata": {
        "id": "8rCMNiEhCjgE"
      },
      "execution_count": null,
      "outputs": []
    },
    {
      "cell_type": "code",
      "source": [
        "train_data_10_percent_dir = \"101_food_classes_10_percent/train\"\n",
        "test_data_10_percent_dir = \"101_food_classes_10_percent/test\""
      ],
      "metadata": {
        "id": "K9tEwsdSDG6j"
      },
      "execution_count": null,
      "outputs": []
    },
    {
      "cell_type": "code",
      "source": [
        "import tensorflow as tf"
      ],
      "metadata": {
        "id": "d2ce0B_cDpWd"
      },
      "execution_count": null,
      "outputs": []
    },
    {
      "cell_type": "code",
      "source": [
        "train_data_10_percent = tf.keras.preprocessing.image_dataset_from_directory(\n",
        "    train_data_10_percent_dir,\n",
        "    label_mode='categorical',\n",
        "    image_size=(224, 224)\n",
        ")\n",
        "test_data_10_percent = tf.keras.preprocessing.image_dataset_from_directory(\n",
        "    test_data_10_percent_dir,\n",
        "    label_mode='categorical',\n",
        "    image_size=(224, 224)\n",
        ")"
      ],
      "metadata": {
        "colab": {
          "base_uri": "https://localhost:8080/"
        },
        "id": "OAJJVq_5Day4",
        "outputId": "a44e9fb6-8bf5-472e-fb76-9a6fde924694"
      },
      "execution_count": null,
      "outputs": [
        {
          "output_type": "stream",
          "name": "stdout",
          "text": [
            "Found 7575 files belonging to 101 classes.\n",
            "Found 25250 files belonging to 101 classes.\n"
          ]
        }
      ]
    },
    {
      "cell_type": "code",
      "source": [
        "import datetime\n",
        "def create_tensorboard_callback(path, filename):\n",
        "  log_dir = os.path.join(path, filename, datetime.datetime.now().strftime(\"%Y%m%d-%H%M%S\"))\n",
        "  callback = tf.keras.callbacks.TensorBoard(log_dir)\n",
        "  return callback"
      ],
      "metadata": {
        "id": "MlRkCoRGEHHc"
      },
      "execution_count": null,
      "outputs": []
    },
    {
      "cell_type": "code",
      "source": [
        "def create_modelcheckpoint_callback(path, filename):\n",
        "  filepath = os.path.join(path, filename)\n",
        "  callback = tf.keras.callbacks.ModelCheckpoint(filepath, verbose=1, \n",
        "                                                save_weights_only=True)\n",
        "  return callback"
      ],
      "metadata": {
        "id": "qaAenSBzFR6v"
      },
      "execution_count": null,
      "outputs": []
    },
    {
      "cell_type": "code",
      "source": [
        "base_model = tf.keras.applications.EfficientNetB0(include_top=False)\n",
        "base_model.trainable = False"
      ],
      "metadata": {
        "colab": {
          "base_uri": "https://localhost:8080/"
        },
        "id": "z5pvTgLNF51w",
        "outputId": "8ab8a0d1-000a-4edc-8280-839e727e6778"
      },
      "execution_count": null,
      "outputs": [
        {
          "output_type": "stream",
          "name": "stdout",
          "text": [
            "Downloading data from https://storage.googleapis.com/keras-applications/efficientnetb0_notop.h5\n",
            "16711680/16705208 [==============================] - 0s 0us/step\n",
            "16719872/16705208 [==============================] - 0s 0us/step\n"
          ]
        }
      ]
    },
    {
      "cell_type": "code",
      "source": [
        "from tensorflow.keras.layers.experimental import preprocessing\n",
        "\n",
        "augment_layers = tf.keras.Sequential([\n",
        "  preprocessing.RandomFlip('horizontal'),\n",
        "  preprocessing.RandomHeight(0.2),\n",
        "  preprocessing.RandomWidth(0.2),\n",
        "  preprocessing.RandomZoom(0.2),\n",
        "  preprocessing.RandomRotation(0.2)\n",
        "])"
      ],
      "metadata": {
        "id": "ZsWtzrHVGWyJ"
      },
      "execution_count": null,
      "outputs": []
    },
    {
      "cell_type": "code",
      "source": [
        "input_layer = tf.keras.layers.Input(shape=(224, 224, 3))\n",
        "x = augment_layers(input_layer)\n",
        "x = base_model(x, training=False)\n",
        "x = tf.keras.layers.GlobalAveragePooling2D()(x)\n",
        "output_layer = tf.keras.layers.Dense(len(train_data_10_percent.class_names), \n",
        "                                     activation='softmax')(x)\n",
        "model_0 = tf.keras.Model(input_layer, output_layer)"
      ],
      "metadata": {
        "id": "t8onzdV0HAfN"
      },
      "execution_count": null,
      "outputs": []
    },
    {
      "cell_type": "code",
      "source": [
        "model_0.compile(loss=tf.keras.losses.CategoricalCrossentropy(),\n",
        "                optimizer=tf.keras.optimizers.Adam(),\n",
        "                metrics=['accuracy'])"
      ],
      "metadata": {
        "id": "i5cXA2TxHy2f"
      },
      "execution_count": null,
      "outputs": []
    },
    {
      "cell_type": "code",
      "source": [
        "initial_epochs = 5\n",
        "history_10_percent_FE = model_0.fit(train_data_10_percent,\n",
        "                                    epochs=initial_epochs,\n",
        "                                    validation_data=test_data_10_percent,\n",
        "                                    validation_steps=int(0.15*len(test_data_10_percent)),\n",
        "                                    batch_size=32,\n",
        "                                    callbacks=[create_tensorboard_callback(\"Transfer_Learning\",\n",
        "                                                                           \"10_percent_feature_extraction\"),\n",
        "                                               create_modelcheckpoint_callback(\"Model_Checkpoint\",\n",
        "                                                                               \"10_percent_feature_extraction\")])"
      ],
      "metadata": {
        "colab": {
          "base_uri": "https://localhost:8080/"
        },
        "id": "hS63LlH9IJ65",
        "outputId": "697dc8d0-4122-491b-9a4a-1afc7a8c76c9"
      },
      "execution_count": null,
      "outputs": [
        {
          "output_type": "stream",
          "name": "stdout",
          "text": [
            "Epoch 1/5\n",
            "237/237 [==============================] - ETA: 0s - loss: 3.4857 - accuracy: 0.2448\n",
            "Epoch 1: saving model to Model_Checkpoint/10_percent_feature_extraction\n",
            "237/237 [==============================] - 90s 308ms/step - loss: 3.4857 - accuracy: 0.2448 - val_loss: 2.4742 - val_accuracy: 0.4338\n",
            "Epoch 2/5\n",
            "237/237 [==============================] - ETA: 0s - loss: 2.3731 - accuracy: 0.4550\n",
            "Epoch 2: saving model to Model_Checkpoint/10_percent_feature_extraction\n",
            "237/237 [==============================] - 63s 265ms/step - loss: 2.3731 - accuracy: 0.4550 - val_loss: 2.0391 - val_accuracy: 0.4984\n",
            "Epoch 3/5\n",
            "237/237 [==============================] - ETA: 0s - loss: 2.0163 - accuracy: 0.5178\n",
            "Epoch 3: saving model to Model_Checkpoint/10_percent_feature_extraction\n",
            "237/237 [==============================] - 55s 231ms/step - loss: 2.0163 - accuracy: 0.5178 - val_loss: 1.8699 - val_accuracy: 0.5257\n",
            "Epoch 4/5\n",
            "237/237 [==============================] - ETA: 0s - loss: 1.7895 - accuracy: 0.5708\n",
            "Epoch 4: saving model to Model_Checkpoint/10_percent_feature_extraction\n",
            "237/237 [==============================] - 53s 221ms/step - loss: 1.7895 - accuracy: 0.5708 - val_loss: 1.7952 - val_accuracy: 0.5342\n",
            "Epoch 5/5\n",
            "237/237 [==============================] - ETA: 0s - loss: 1.6487 - accuracy: 0.5956\n",
            "Epoch 5: saving model to Model_Checkpoint/10_percent_feature_extraction\n",
            "237/237 [==============================] - 50s 209ms/step - loss: 1.6487 - accuracy: 0.5956 - val_loss: 1.7369 - val_accuracy: 0.5437\n"
          ]
        }
      ]
    },
    {
      "cell_type": "code",
      "source": [
        "result_10_percent_FE = model_0.evaluate(test_data_10_percent)\n",
        "result_10_percent_FE"
      ],
      "metadata": {
        "colab": {
          "base_uri": "https://localhost:8080/"
        },
        "id": "fhd6bhp3MiL7",
        "outputId": "5eac7063-ec74-4c1a-e010-ba85bda1cf5f"
      },
      "execution_count": null,
      "outputs": [
        {
          "output_type": "stream",
          "name": "stdout",
          "text": [
            "790/790 [==============================] - 59s 74ms/step - loss: 1.7369 - accuracy: 0.5444\n"
          ]
        },
        {
          "output_type": "execute_result",
          "data": {
            "text/plain": [
              "[1.7368522882461548, 0.5443564653396606]"
            ]
          },
          "metadata": {},
          "execution_count": 34
        }
      ]
    },
    {
      "cell_type": "code",
      "source": [
        "import numpy as np\n",
        "import matplotlib.pyplot as plt\n",
        "\n",
        "\n",
        "def plot_loss_curve(history):\n",
        "    \"\"\"\n",
        "    plot the loss curve and accuracy curve during the model training\n",
        "\n",
        "    :param history: a history file that records loss, val_loss, accuracy and val_accuracy during the model training\n",
        "    :return: None\n",
        "    \"\"\"\n",
        "    plt.figure(figsize=(20, 7))\n",
        "    plt.subplot(1, 2, 1)\n",
        "    plt.plot(np.arange(len(history.history) + 1), history.history[\"loss\"], label=\"loss\")\n",
        "    plt.plot(np.arange(len(history.history) + 1), history.history[\"val_loss\"], label=\"val_loss\")\n",
        "    plt.legend()\n",
        "    plt.subplot(1, 2, 2)\n",
        "    plt.plot(np.arange(len(history.history) + 1), history.history[\"accuracy\"], label=\"accuracy\")\n",
        "    plt.plot(np.arange(len(history.history) + 1), history.history[\"val_accuracy\"], label=\"val_accuracy\")\n",
        "    plt.legend()"
      ],
      "metadata": {
        "id": "JG1tbr_NJVtV"
      },
      "execution_count": null,
      "outputs": []
    },
    {
      "cell_type": "code",
      "source": [
        "plot_loss_curve(history_10_percent_FE)"
      ],
      "metadata": {
        "colab": {
          "base_uri": "https://localhost:8080/",
          "height": 405
        },
        "id": "vr8Jtx6VKae5",
        "outputId": "d6e0625f-27d8-4a8d-d445-1cbfe0e71832"
      },
      "execution_count": null,
      "outputs": [
        {
          "output_type": "display_data",
          "data": {
            "text/plain": [
              "<Figure size 1440x504 with 2 Axes>"
            ],
            "image/png": "[encoded data removed]"
          },
          "metadata": {
            "needs_background": "light"
          }
        }
      ]
    },
    {
      "cell_type": "code",
      "source": [
        "for layer in base_model.layers[-10:]:\n",
        "  layer.trainable = True\n",
        "\n",
        "for i, layer in enumerate(base_model.layers):\n",
        "  print(i, layer.name, layer.trainable)"
      ],
      "metadata": {
        "id": "rpW2uJhAKfBa"
      },
      "execution_count": null,
      "outputs": []
    },
    {
      "cell_type": "code",
      "source": [
        "model_0.compile(loss=tf.keras.losses.CategoricalCrossentropy(),\n",
        "                optimizer=tf.keras.optimizers.Adam(lr=10e-4),\n",
        "                metrics=(['accuracy']))"
      ],
      "metadata": {
        "colab": {
          "base_uri": "https://localhost:8080/"
        },
        "id": "-9FoKuxlLI0G",
        "outputId": "2f91a213-3383-42ad-e713-b75f11b71874"
      },
      "execution_count": null,
      "outputs": [
        {
          "output_type": "stream",
          "name": "stderr",
          "text": [
            "/usr/local/lib/python3.7/dist-packages/keras/optimizer_v2/adam.py:105: UserWarning: The `lr` argument is deprecated, use `learning_rate` instead.\n",
            "  super(Adam, self).__init__(name, **kwargs)\n"
          ]
        }
      ]
    },
    {
      "cell_type": "code",
      "source": [
        "history_10_percent_FT = model_0.fit(train_data_10_percent,\n",
        "                                    epochs=initial_epochs+ 5,\n",
        "                                    initial_epoch=history_10_percent_FE.epoch[-1],\n",
        "                                    validation_data=test_data_10_percent,\n",
        "                                    validation_steps=int(0.15*len(test_data_10_percent)),\n",
        "                                    batch_size=32,\n",
        "                                    callbacks=[create_tensorboard_callback(\"Transfer_Learning\",\n",
        "                                                                           \"10_percent_fine_tune\"),\n",
        "                                               create_modelcheckpoint_callback(\"Model_Checkpoint\",\n",
        "                                                                               \"10_percent_fine_tune\")])"
      ],
      "metadata": {
        "colab": {
          "base_uri": "https://localhost:8080/"
        },
        "id": "RJ7BwrhHLq0n",
        "outputId": "ec88c3d0-aff1-4a0f-917a-5bf25f103d2b"
      },
      "execution_count": null,
      "outputs": [
        {
          "output_type": "stream",
          "name": "stdout",
          "text": [
            "Epoch 5/10\n",
            "237/237 [==============================] - ETA: 0s - loss: 1.5152 - accuracy: 0.6197\n",
            "Epoch 5: saving model to Model_Checkpoint/10_percent_fine_tune\n",
            "237/237 [==============================] - 45s 185ms/step - loss: 1.5152 - accuracy: 0.6197 - val_loss: 1.7109 - val_accuracy: 0.5508\n",
            "Epoch 6/10\n",
            "237/237 [==============================] - ETA: 0s - loss: 1.4053 - accuracy: 0.6570\n",
            "Epoch 6: saving model to Model_Checkpoint/10_percent_fine_tune\n",
            "237/237 [==============================] - 43s 179ms/step - loss: 1.4053 - accuracy: 0.6570 - val_loss: 1.6770 - val_accuracy: 0.5516\n",
            "Epoch 7/10\n",
            "237/237 [==============================] - ETA: 0s - loss: 1.3069 - accuracy: 0.6767\n",
            "Epoch 7: saving model to Model_Checkpoint/10_percent_fine_tune\n",
            "237/237 [==============================] - 42s 175ms/step - loss: 1.3069 - accuracy: 0.6767 - val_loss: 1.6762 - val_accuracy: 0.5580\n",
            "Epoch 8/10\n",
            "237/237 [==============================] - ETA: 0s - loss: 1.2344 - accuracy: 0.6970\n",
            "Epoch 8: saving model to Model_Checkpoint/10_percent_fine_tune\n",
            "237/237 [==============================] - 44s 183ms/step - loss: 1.2344 - accuracy: 0.6970 - val_loss: 1.6630 - val_accuracy: 0.5601\n",
            "Epoch 9/10\n",
            "237/237 [==============================] - ETA: 0s - loss: 1.1757 - accuracy: 0.7072\n",
            "Epoch 9: saving model to Model_Checkpoint/10_percent_fine_tune\n",
            "237/237 [==============================] - 43s 179ms/step - loss: 1.1757 - accuracy: 0.7072 - val_loss: 1.6544 - val_accuracy: 0.5583\n",
            "Epoch 10/10\n",
            "237/237 [==============================] - ETA: 0s - loss: 1.1119 - accuracy: 0.7244\n",
            "Epoch 10: saving model to Model_Checkpoint/10_percent_fine_tune\n",
            "237/237 [==============================] - 39s 163ms/step - loss: 1.1119 - accuracy: 0.7244 - val_loss: 1.6512 - val_accuracy: 0.5644\n"
          ]
        }
      ]
    },
    {
      "cell_type": "code",
      "source": [
        "result_10_percent_FT = model_0.evaluate(test_data_10_percent)"
      ],
      "metadata": {
        "colab": {
          "base_uri": "https://localhost:8080/"
        },
        "id": "hTaiHWXTOJq6",
        "outputId": "c9141f90-f596-4940-ca0f-d0f39a0d44a9"
      },
      "execution_count": null,
      "outputs": [
        {
          "output_type": "stream",
          "name": "stdout",
          "text": [
            "790/790 [==============================] - 57s 71ms/step - loss: 1.6372 - accuracy: 0.5625\n"
          ]
        }
      ]
    },
    {
      "cell_type": "code",
      "source": [
        "def plot_fine_turn_loss(original_history, new_history, initial_epochs): \n",
        "  loss = original_history.history[\"loss\"] + new_history.history[\"loss\"]\n",
        "  val_loss = original_history.history[\"val_loss\"] + new_history.history[\"val_loss\"]\n",
        "  accuracy = original_history.history[\"accuracy\"] + new_history.history[\"accuracy\"]\n",
        "  val_accuracy = original_history.history[\"val_accuracy\"] + new_history.history[\"val_accuracy\"]\n",
        "  plt.figure(figsize=(10, 7))\n",
        "  plt.subplot(2, 1, 1)\n",
        "  plt.plot(loss, label=\"loss\")\n",
        "  plt.plot(val_loss, label=\"val_loss\")\n",
        "  plt.plot([initial_epochs-1, initial_epochs-1], plt.ylim(), label=\"Start Fine Tune\")\n",
        "  plt.legend()\n",
        "  plt.subplot(2, 1, 2)\n",
        "  plt.plot(accuracy, label=\"accuracy\")\n",
        "  plt.plot(val_accuracy, label=\"val_accuracy\")\n",
        "  plt.plot([initial_epochs-1, initial_epochs-1], plt.ylim(), label=\"Start Fine Tune\")\n",
        "  plt.legend()"
      ],
      "metadata": {
        "id": "vkc0kbTHNCWq"
      },
      "execution_count": null,
      "outputs": []
    },
    {
      "cell_type": "code",
      "source": [
        "plot_fine_turn_loss(history_10_percent_FE, history_10_percent_FT, 5)"
      ],
      "metadata": {
        "colab": {
          "base_uri": "https://localhost:8080/",
          "height": 428
        },
        "id": "QqgCvQJDOHoP",
        "outputId": "e7d5b8f7-7351-4391-f077-9257a39113f5"
      },
      "execution_count": null,
      "outputs": [
        {
          "output_type": "display_data",
          "data": {
            "text/plain": [
              "<Figure size 720x504 with 2 Axes>"
            ],
            "image/png": "[encoded data removed]"
          },
          "metadata": {
            "needs_background": "light"
          }
        }
      ]
    },
    {
      "cell_type": "code",
      "source": [
        "model_0.save(\"content/101_food_class_10_percent_saved_big_dog_model\")"
      ],
      "metadata": {
        "colab": {
          "base_uri": "https://localhost:8080/"
        },
        "id": "1p4EJ0G4OYpO",
        "outputId": "583af890-45e5-4bd7-a1e0-80d0a490e0b4"
      },
      "execution_count": null,
      "outputs": [
        {
          "output_type": "stream",
          "name": "stdout",
          "text": [
            "INFO:tensorflow:Assets written to: content/101_food_class_10_percent_saved_big_dog_model/assets\n"
          ]
        }
      ]
    },
    {
      "cell_type": "code",
      "source": [
        "model_0.save(\"drive/My Drive/tensorflow_course/101_food_class_10_percent_saved_big_dog_model\")"
      ],
      "metadata": {
        "colab": {
          "base_uri": "https://localhost:8080/"
        },
        "id": "HXzP5LA7PIIq",
        "outputId": "98bc946b-1ce7-4c80-b6a3-9f730cef61fb"
      },
      "execution_count": null,
      "outputs": [
        {
          "output_type": "stream",
          "name": "stdout",
          "text": [
            "INFO:tensorflow:Assets written to: drive/My Drive/tensorflow_course/101_food_class_10_percent_saved_big_dog_model/assets\n"
          ]
        }
      ]
    },
    {
      "cell_type": "code",
      "source": [
        "model_1 = tf.keras.models.load_model(\"drive/My Drive/tensorflow_course/101_food_class_10_percent_saved_big_dog_model\")"
      ],
      "metadata": {
        "id": "bjyBhl7_Rfc_"
      },
      "execution_count": null,
      "outputs": []
    },
    {
      "cell_type": "code",
      "source": [
        "model_1.evaluate(test_data_10_percent)"
      ],
      "metadata": {
        "colab": {
          "base_uri": "https://localhost:8080/"
        },
        "id": "uC8ojBYnSCsZ",
        "outputId": "95e62a76-2237-455b-fa06-1a48fd515391"
      },
      "execution_count": null,
      "outputs": [
        {
          "output_type": "stream",
          "name": "stdout",
          "text": [
            "790/790 [==============================] - 61s 74ms/step - loss: 1.6372 - accuracy: 0.5625\n"
          ]
        },
        {
          "output_type": "execute_result",
          "data": {
            "text/plain": [
              "[1.637180209159851, 0.5624554753303528]"
            ]
          },
          "metadata": {},
          "execution_count": 48
        }
      ]
    },
    {
      "cell_type": "code",
      "source": [
        ""
      ],
      "metadata": {
        "id": "bw2syPNvSOoR"
      },
      "execution_count": null,
      "outputs": []
    }
  ]
}